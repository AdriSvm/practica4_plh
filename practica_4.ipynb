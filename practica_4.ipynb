{
 "cells": [
  {
   "cell_type": "markdown",
   "metadata": {
    "id": "_C6R8Swq8m7f"
   },
   "source": [
    "# Pràctica 4\n",
    "### Part I : Entrenament de models Word2vec"
   ]
  },
  {
   "cell_type": "code",
   "execution_count": 1,
   "metadata": {
    "ExecuteTime": {
     "end_time": "2023-05-31T17:08:44.005084Z",
     "start_time": "2023-05-31T17:00:30.215642Z"
    },
    "colab": {
     "referenced_widgets": [
      "3402ce7ea5f0473f8108e63ba971528e",
      "6318e79f477945a58838d50befe19df4",
      "915c1f7c98f74035983a90dc0e2c0ab7",
      "facac4f52c1045dda49157cbf06c76cf",
      "6031330d7a6c40aea7adbea8c2c2801c"
     ]
    },
    "id": "Q1Hp82XD8m7h",
    "outputId": "298e65da-3ee9-45a8-e8f0-2b53da3612f7"
   },
   "outputs": [],
   "source": [
    "## Imports necessaris\n",
    "#!py -m spacy download ca_core_news_md\n",
    "#!py -m spacy download ca_core_news_trf\n",
    "\n",
    "##!python3 -m pip install spacy-transformers\n",
    "##!python3 -m pip install sentence_transformers\n",
    "\n",
    "# Requisitos\n",
    "\n",
    "from gensim.models import TfidfModel, KeyedVectors, word2vec\n",
    "from gensim.utils import simple_preprocess\n",
    "from gensim.corpora import Dictionary\n",
    "import numpy as np\n",
    "# Tipado\n",
    "from typing import Tuple, List, Optional\n",
    "import spacy\n",
    "import tensorflow as tf\n",
    "from scipy.stats import pearsonr\n",
    "import matplotlib.pyplot as plt\n",
    "from transformers import pipeline, AutoTokenizer\n",
    "from scipy.special import logit\n",
    "from datasets import load_dataset\n",
    "from sklearn.metrics import classification_report"
   ]
  },
  {
   "cell_type": "code",
   "execution_count": null,
   "metadata": {},
   "outputs": [],
   "source": [
    "dataset = load_dataset(\"projecte-aina/catalan_general_crawling\")"
   ]
  },
  {
   "cell_type": "code",
   "execution_count": null,
   "metadata": {
    "id": "e1ZN0P-78m7i"
   },
   "outputs": [],
   "source": [
    "with open('data/ca_gen_crwlng.txt','w',encoding='UTF-8') as f:\n",
    "    for i in dataset['train']['text']:\n",
    "        f.write(i)"
   ]
  },
  {
   "cell_type": "code",
   "execution_count": null,
   "metadata": {
    "id": "JibG27ST8m7i"
   },
   "outputs": [],
   "source": [
    "STOPWORDS_CA = {\"a\", \"al\", \"el\", \"la\", \"els\", \"les\", \"de\", \"un\", \"una\", \"algun\", \"alguna\", }\n",
    "\n",
    "\n",
    "def preprocess(sentence: str) -> List[str]:\n",
    "    preprocessed = simple_preprocess(sentence)\n",
    "    preprocessed = [token for token in preprocessed if token not in STOPWORDS_CA]\n",
    "    return preprocessed"
   ]
  },
  {
   "cell_type": "code",
   "execution_count": null,
   "metadata": {
    "id": "tAXGuZpa8m7i"
   },
   "outputs": [],
   "source": [
    "def obtain_words(filepath:str) -> List[List[str]]:\n",
    "    if filepath[-4:] != '.txt':\n",
    "        raise Exception('Incorrect file path/name')\n",
    "\n",
    "    txt_crps = []\n",
    "    with open(filepath,'r',encoding='UTF-8') as f:\n",
    "        lines = f.readlines()\n",
    "        for l in lines:\n",
    "            txt_crps.append(preprocess(l))\n",
    "\n",
    "    return txt_crps"
   ]
  },
  {
   "cell_type": "code",
   "execution_count": null,
   "metadata": {
    "id": "1oqMe-N-8m7i"
   },
   "outputs": [],
   "source": [
    "txt_crps100 = obtain_words('data/ca_gen_crwlng100M.txt')\n",
    "txt_crps500 = obtain_words('data/ca_gen_crwlng500M.txt')"
   ]
  },
  {
   "cell_type": "markdown",
   "metadata": {
    "id": "t8W_BLi98m7j"
   },
   "source": [
    "##### Create Word2Vec models with the 2 sizes"
   ]
  },
  {
   "cell_type": "code",
   "execution_count": null,
   "metadata": {
    "id": "RfD2XYGF8m7j"
   },
   "outputs": [],
   "source": [
    "model100 = word2vec.Word2Vec(txt_crps100 , vector_size=100, window=5, min_count=10, workers=4, epochs=25, sg=1)\n",
    "model500 = word2vec.Word2Vec(txt_crps500 , vector_size=100, window=5, min_count=10, workers=4, epochs=25, sg=1)"
   ]
  },
  {
   "cell_type": "markdown",
   "metadata": {
    "id": "CJ1y6zRK8m7j"
   },
   "source": [
    "##### Save the models to easy load"
   ]
  },
  {
   "cell_type": "code",
   "execution_count": null,
   "metadata": {
    "id": "sAGj-0Hq8m7j"
   },
   "outputs": [],
   "source": [
    "model100.wv.save_word2vec_format('data/word2vec100.bin', binary=True)\n",
    "model500.wv.save_word2vec_format('data/word2vec500.bin', binary=True)"
   ]
  },
  {
   "cell_type": "code",
   "execution_count": 10,
   "metadata": {
    "id": "w_wGX5HP8m7j"
   },
   "outputs": [],
   "source": [
    "wv100 = KeyedVectors.load_word2vec_format('data/word2vec100.bin', binary=True)\n",
    "wv500 = KeyedVectors.load_word2vec_format('data/word2vec500.bin', binary=True)"
   ]
  },
  {
   "cell_type": "markdown",
   "metadata": {
    "collapsed": false,
    "id": "OXa5_sMn8m7k"
   },
   "source": [
    "## Text similarity training and comparison"
   ]
  },
  {
   "cell_type": "markdown",
   "metadata": {
    "id": "zhDnDtW18m7k"
   },
   "source": [
    "### Obtain the corpus"
   ]
  },
  {
   "cell_type": "code",
   "execution_count": 1,
   "metadata": {
    "colab": {
     "referenced_widgets": [
      "d16735db18c34f5ba67e95abe726bf1c"
     ]
    },
    "id": "BgyI7KRR8m7k",
    "outputId": "46280675-b159-42c5-c063-3ec93caff855"
   },
   "outputs": [
    {
     "name": "stderr",
     "output_type": "stream",
     "text": [
      "Found cached dataset sts-ca (C:/Users/pelot/.cache/huggingface/datasets/projecte-aina___sts-ca/StsCa/1.0.2/bad37fb7fb0f06f3d2316e29637293b25160a93a24f36f1974f21313ac2f3342)\n"
     ]
    },
    {
     "data": {
      "application/vnd.jupyter.widget-view+json": {
       "model_id": "00f3be5ce4b64247b2d057a0fd54a5fd",
       "version_major": 2,
       "version_minor": 0
      },
      "text/plain": [
       "  0%|          | 0/3 [00:00<?, ?it/s]"
      ]
     },
     "metadata": {},
     "output_type": "display_data"
    }
   ],
   "source": [
    "dataset = load_dataset(\"projecte-aina/sts-ca\")"
   ]
  },
  {
   "cell_type": "markdown",
   "metadata": {
    "collapsed": false,
    "id": "PBlhu8Eg8m7k"
   },
   "source": [
    "### Obtain the Baseline model"
   ]
  },
  {
   "attachments": {},
   "cell_type": "markdown",
   "metadata": {},
   "source": [
    "En aquest codi el que fem es crear el nostre diccionari a partir de les oracions del nostre corpus. A més a més, parametritzem la funció map_pairs per poder utilitzar els embeddings demanats a cada part."
   ]
  },
  {
   "cell_type": "code",
   "execution_count": 3,
   "metadata": {
    "id": "jPqAOO7h8m7l",
    "outputId": "a7b96f2c-6c12-409f-908d-e75c5c31df32"
   },
   "outputs": [],
   "source": [
    "# Cargar stopwords en Catalan\n",
    "# STOPWORDS_CA = {\"a\", \"abans\", \"ací\", \"ah\", \"així\", \"això\", \"al\", \"aleshores\", \"algun\", \"alguna\", \"algunes\", \"alguns\", \"alhora\", \"allà\", \"allí\", \"allò\", \"als\", \"altra\", \"altre\", \"altres\", \"amb\", \"ambdues\", \"ambdós\", \"anar\", \"ans\", \"apa\", \"aquell\", \"aquella\", \"aquelles\", \"aquells\", \"aquest\", \"aquesta\", \"aquestes\", \"aquests\", \"aquí\", \"baix\", \"bastant\", \"bé\", \"cada\", \"cadascuna\", \"cadascunes\", \"cadascuns\", \"cadascú\", \"com\", \"consegueixo\", \"conseguim\", \"conseguir\", \"consigueix\", \"consigueixen\", \"consigueixes\", \"contra\", \"d'un\", \"d'una\", \"d'unes\", \"d'uns\", \"dalt\", \"de\", \"del\", \"dels\", \"des\", \"des de\", \"després\", \"dins\", \"dintre\", \"donat\", \"doncs\", \"durant\", \"e\", \"eh\", \"el\", \"elles\", \"ells\", \"els\", \"em\", \"en\", \"encara\", \"ens\", \"entre\", \"era\", \"erem\", \"eren\", \"eres\", \"es\", \"esta\", \"estan\", \"estat\", \"estava\", \"estaven\", \"estem\", \"esteu\", \"estic\", \"està\", \"estàvem\", \"estàveu\", \"et\", \"etc\", \"ets\", \"fa\", \"faig\", \"fan\", \"fas\", \"fem\", \"fer\", \"feu\", \"fi\", \"fins\", \"fora\", \"gairebé\", \"ha\", \"han\", \"has\", \"haver\", \"havia\", \"he\", \"hem\", \"heu\", \"hi\", \"ho\", \"i\", \"igual\", \"iguals\", \"inclòs\", \"ja\", \"jo\", \"l'hi\", \"la\", \"les\", \"li\", \"li'n\", \"llarg\", \"llavors\", \"m'he\", \"ma\", \"mal\", \"malgrat\", \"mateix\", \"mateixa\", \"mateixes\", \"mateixos\", \"me\", \"mentre\", \"meu\", \"meus\", \"meva\", \"meves\", \"mode\", \"molt\", \"molta\", \"moltes\", \"molts\", \"mon\", \"mons\", \"més\", \"n'he\", \"n'hi\", \"ne\", \"ni\", \"no\", \"nogensmenys\", \"només\", \"nosaltres\", \"nostra\", \"nostre\", \"nostres\", \"o\", \"oh\", \"oi\", \"on\", \"pas\", \"pel\", \"pels\", \"per\", \"per que\", \"perquè\", \"però\", \"poc\", \"poca\", \"pocs\", \"podem\", \"poden\", \"poder\", \"podeu\", \"poques\", \"potser\", \"primer\", \"propi\", \"puc\", \"qual\", \"quals\", \"quan\", \"quant\", \"que\", \"quelcom\", \"qui\", \"quin\", \"quina\", \"quines\", \"quins\", \"què\", \"s'ha\", \"s'han\", \"sa\", \"sabem\", \"saben\", \"saber\", \"sabeu\", \"sap\", \"saps\", \"semblant\", \"semblants\", \"sense\", \"ser\", \"ses\", \"seu\", \"seus\", \"seva\", \"seves\", \"si\", \"sobre\", \"sobretot\", \"soc\", \"solament\", \"sols\", \"som\", \"son\", \"sons\", \"sota\", \"sou\", \"sóc\", \"són\", \"t'ha\", \"t'han\", \"t'he\", \"ta\", \"tal\", \"també\", \"tampoc\", \"tan\", \"tant\", \"tanta\", \"tantes\", \"te\", \"tene\", \"tenim\", \"tenir\", \"teniu\", \"teu\", \"teus\", \"teva\", \"teves\", \"tinc\", \"ton\", \"tons\", \"tot\", \"tota\", \"totes\", \"tots\", \"un\", \"una\", \"unes\", \"uns\", \"us\", \"va\", \"vaig\", \"vam\", \"van\", \"vas\", \"veu\", \"vosaltres\", \"vostra\", \"vostre\", \"vostres\", \"érem\", \"éreu\", \"és\", \"éssent\", \"últim\", \"ús\"}\n",
    "STOPWORDS_CA = {\"a\", \"al\", \"el\", \"la\", \"els\", \"les\", \"de\", \"un\", \"una\", \"algun\", \"alguna\", }\n",
    "\n",
    "# Definir función de pre-procesado\n",
    "def preprocess(sentence: str) -> List[str]:\n",
    "    preprocessed = simple_preprocess(sentence)\n",
    "    preprocessed = [token for token in preprocessed if token not in STOPWORDS_CA]\n",
    "    return preprocessed\n",
    "\n",
    "## Introducir los datos de train y de validación\n",
    "input_pairs = list(zip(dataset[\"train\"][\"sentence1\"], dataset[\"train\"][\"sentence2\"], dataset[\"train\"][\"label\"]))\n",
    "input_pairs_val = list(zip(dataset[\"validation\"][\"sentence1\"], dataset[\"validation\"][\"sentence2\"], dataset[\"validation\"][\"label\"]))\n",
    "\n",
    "\n",
    "# Preprocesamiento de las oraciones y creación del diccionario\n",
    "sentences_1_preproc = [preprocess(sentence_1) for sentence_1, _, _ in input_pairs]\n",
    "sentences_2_preproc = [preprocess(sentence_2) for _, sentence_2, _ in input_pairs]\n",
    "sentence_pairs = list(zip(sentences_1_preproc, sentences_2_preproc))\n",
    "# Versión aplanada para poder entrenar el modelo\n",
    "sentences_pairs_flattened = sentences_1_preproc + sentences_2_preproc\n",
    "\n",
    "diccionario = Dictionary(sentences_pairs_flattened)\n",
    "\n",
    "corpus = [diccionario.doc2bow(sent) for sent in sentences_pairs_flattened]\n",
    "modelo_tfidf = TfidfModel(corpus)\n",
    "\n",
    "def creacio_one_hot(sentence, diccionario:Dictionary):\n",
    "    diccionario.filter_extremes(no_below=5, no_above=0.5, keep_n=100)\n",
    "    vector1 = np.zeros(len(diccionario.token2id), dtype=np.float)\n",
    "    bow1 = diccionario.doc2bow(sentence)\n",
    "    for index, count in bow1:\n",
    "        vector1[index] = count\n",
    "\n",
    "    return vector1\n",
    "\n",
    "def map_tf_idf(sentence_preproc: List[str], dictionary: Dictionary, tf_idf_model: TfidfModel, wv_model) -> Tuple[List[np.ndarray], List[float]]:\n",
    "    bow = dictionary.doc2bow(sentence_preproc)\n",
    "    tf_idf = tf_idf_model[bow]\n",
    "    vectors, weights = [], []\n",
    "    for word_index, weight in tf_idf:\n",
    "        word = dictionary.get(word_index)\n",
    "        if word in wv_model:\n",
    "            vectors.append(wv_model[word])\n",
    "            weights.append(weight)\n",
    "    return vectors, weights\n",
    "\n",
    "def map_pairs(\n",
    "        sentence_pairs: List[Tuple[str, str, float]],\n",
    "        dictionary: Dictionary = None,\n",
    "        tf_idf_model: TfidfModel = None,\n",
    "        one_hot: bool = None,\n",
    "        Spasii : bool = None,\n",
    "        RobertA: bool = None,\n",
    "        RobertA_Mean: bool = None,\n",
    "        wv100: bool = None,\n",
    "        wv500: bool = None,\n",
    "        w2v_pre_mean: bool = None\n",
    ") -> List[Tuple[Tuple[np.ndarray, np.ndarray], float]]:\n",
    "    \"\"\"\n",
    "    Mapea los tripletes de oraciones a listas de (x, y), (pares de vectores, score)\n",
    "    :param sentence_pairs:\n",
    "    :param dictionary:\n",
    "    :param tf_idf_model:\n",
    "    :return:\n",
    "    \"\"\"\n",
    "    if one_hot:\n",
    "        dictionary2 = Dictionary(sentences_pairs_flattened, prune_at=300)\n",
    "\n",
    "    if Spasii:\n",
    "        nlp = spacy.load(\"ca_core_news_md\")\n",
    "    if RobertA or RobertA_Mean:\n",
    "        nlp = spacy.load(\"ca_core_news_trf\")\n",
    "\n",
    "    if wv100:\n",
    "        wv_model = KeyedVectors.load_word2vec_format(\"data/word2vec100.bin\", binary = True)\n",
    "\n",
    "    if wv500:\n",
    "        wv_model = KeyedVectors.load_word2vec_format(\"data/word2vec500.bin\", binary = True)\n",
    "\n",
    "    if w2v_pre_mean or tf_idf_model:\n",
    "        wv_model = KeyedVectors.load_word2vec_format(\"data/model.bin\", binary = True)\n",
    "\n",
    "\n",
    "    # Mapeo de los pares de oraciones a pares de vectores\n",
    "    pares_vectores = []\n",
    "    for i, (sentence_1, sentence_2, similitud) in enumerate(sentence_pairs):\n",
    "        sentence_1_preproc = preprocess(sentence_1)\n",
    "        sentence_2_preproc = preprocess(sentence_2)\n",
    "        # Si usamos TF-IDF\n",
    "        if tf_idf_model is not None:\n",
    "            # Cálculo del promedio ponderado por TF-IDF de los word embeddings\n",
    "            vectors1, weights1 = map_tf_idf(sentence_1_preproc, dictionary=dictionary, tf_idf_model=tf_idf_model, wv_model=wv_model )\n",
    "            vectors2, weights2 = map_tf_idf(sentence_2_preproc, dictionary=dictionary, tf_idf_model=tf_idf_model,wv_model=wv_model )\n",
    "            vector1 = np.average(vectors1, weights=weights1, axis=0, )\n",
    "            vector2 = np.average(vectors2, weights=weights2, axis=0, )\n",
    "\n",
    "        elif wv100 is not None:\n",
    "            vectors1 = [wv_model[word] for word in sentence_1_preproc if word in wv_model]\n",
    "            vectors2 = [wv_model[word] for word in sentence_2_preproc if word in wv_model]\n",
    "            vector1 = np.mean(vectors1, axis=0)\n",
    "            vector2 = np.mean(vectors2, axis=0)\n",
    "\n",
    "        elif wv500 is not None:\n",
    "            vectors1 = [wv_model[word] for word in sentence_1_preproc if word in wv_model]\n",
    "            vectors2 = [wv_model[word] for word in sentence_2_preproc if word in wv_model]\n",
    "            vector1 = np.mean(vectors1, axis=0)\n",
    "            vector2 = np.mean(vectors2, axis=0)\n",
    "\n",
    "        elif one_hot is not None:\n",
    "            vector1 = creacio_one_hot(sentence=sentence_1_preproc, diccionario=dictionary2)\n",
    "            vector2 = creacio_one_hot(sentence=sentence_2_preproc, diccionario= dictionary2)\n",
    "            \n",
    "        elif Spasii is not None:\n",
    "            vector1 = nlp(\" \".join(sentence_1_preproc)).vector\n",
    "            vector2 = nlp(\" \".join(sentence_2_preproc)).vector\n",
    "\n",
    "        elif RobertA is not None:\n",
    "            vector1 = nlp(\" \".join(sentence_1_preproc))._.trf_data.tensors[-1]\n",
    "            vector2 = nlp(\" \".join(sentence_2_preproc))._.trf_data.tensors[-1]\n",
    "            vector1 = tf.squeeze(vector1)\n",
    "            vector2 = tf.squeeze(vector2)\n",
    "\n",
    "        elif RobertA_Mean is not None:\n",
    "            vectors1 = nlp(\" \".join(sentence_1_preproc))._.trf_data.tensors[-1]\n",
    "            vectors2 = nlp(\" \".join(sentence_2_preproc))._.trf_data.tensors[-1]\n",
    "            vector1 = np.average(vectors1, axis=0)\n",
    "            vector2 = np.average(vectors2, axis=0)\n",
    "            \n",
    "        elif w2v_pre_mean is not None:\n",
    "            # Cálculo del promedio de los word embeddings\n",
    "            vectors1 = [wv_model[word] for word in sentence_1_preproc if word in wv_model]\n",
    "            vectors2 = [wv_model[word] for word in sentence_2_preproc if word in wv_model]\n",
    "            vector1 = np.mean(vectors1, axis=0)\n",
    "            vector2 = np.mean(vectors2, axis=0)\n",
    "        # Añadir a la lista\n",
    "        pares_vectores.append(((vector1, vector2), similitud))\n",
    "    return pares_vectores"
   ]
  },
  {
   "attachments": {},
   "cell_type": "markdown",
   "metadata": {
    "id": "kqBiQ_7R8m7l"
   },
   "source": [
    "A continuació, fem la funció de la creació del model y dels hiperparámetres"
   ]
  },
  {
   "cell_type": "code",
   "execution_count": 4,
   "metadata": {
    "id": "KyNL-8mQ8m7m"
   },
   "outputs": [],
   "source": [
    "def build_and_compile_model(hidden_size: int = 128, embedding_size: int = 300, learning_rate: float = 0.001) -> tf.keras.Model:\n",
    "    # Capa de entrada para los pares de vectores\n",
    "    input_1 = tf.keras.Input(shape=(embedding_size,))\n",
    "    input_2 = tf.keras.Input(shape=(embedding_size,))\n",
    "\n",
    "    # Capa oculta\n",
    "    first_projection = tf.keras.layers.Dense(\n",
    "        embedding_size,\n",
    "        # activation='tanh',\n",
    "        kernel_initializer=tf.keras.initializers.Identity(),\n",
    "        bias_initializer=tf.keras.initializers.Zeros(),\n",
    "    )\n",
    "    projected_1 = first_projection(input_1)\n",
    "    projected_2 = first_projection(input_2)\n",
    "\n",
    "    # Compute the cosine distance\n",
    "    projected_1 = tf.linalg.l2_normalize(projected_1, axis=1, )\n",
    "    projected_2 = tf.linalg.l2_normalize(projected_2, axis=1, )\n",
    "    output = 2.5 * (1.0 + tf.reduce_sum(projected_1 * projected_2, axis=1, ))\n",
    "\n",
    "    # Definir el modelo con las capas de entrada y salida\n",
    "    model = tf.keras.Model(inputs=[input_1, input_2], outputs=output)\n",
    "\n",
    "    # Compilar el modelo\n",
    "    model.compile(loss='mean_absolute_error', metrics=tf.keras.metrics.mean_squared_error,\n",
    "                  optimizer=tf.keras.optimizers.Adam(learning_rate))\n",
    "\n",
    "    return model\n",
    "\n",
    "def plot_training_curve(history):\n",
    "    # Plot the training and validation loss and accuracy\n",
    "    fig, ax = plt.subplots(2, 1, figsize=(8, 8))\n",
    "    ax[0].plot(history.history['loss'], label='train_loss')\n",
    "    ax[0].plot(history.history['val_loss'], label='val_loss')\n",
    "    ax[0].set_xlabel('Epoch')\n",
    "    ax[0].set_ylabel('Loss')\n",
    "    ax[0].set_title('Training and Validation Loss')\n",
    "    ax[0].grid(True)\n",
    "    ax[0].legend()\n",
    "    ax[1].plot(history.history['mean_squared_error'], label='mean_squared_error')\n",
    "    ax[1].plot(history.history['val_mean_squared_error'], label='val_mean_squared_error')\n",
    "    ax[1].set_xlabel('Epoch')\n",
    "    ax[1].set_ylabel('Loss')\n",
    "    ax[1].set_title('Training and Validation correlation')\n",
    "    ax[1].grid(True)\n",
    "    ax[1].legend()\n",
    "    plt.show()\n",
    "\n",
    "# Definir constantes de entrenamiento\n",
    "batch_size: int = 64\n",
    "num_epochs: int = 64\n",
    "\n",
    "def pair_list_to_x_y(pair_list: List[Tuple[Tuple[np.ndarray, np.ndarray], int]]) -> Tuple[Tuple[np.ndarray, np.ndarray], np.ndarray]:\n",
    "    \"\"\"\n",
    "    Otiene las matrices X_1 (N x d) , X_2 (N x d), e Y (n) a partir de listas de parejas de vectores de oraciones - Listas de (d, d, 1)\n",
    "    :param pair_list:\n",
    "    :return:\n",
    "    \"\"\"\n",
    "    _x, _y = zip(*pair_list)\n",
    "    _x_1, _x_2 = zip(*_x)\n",
    "    return (np.array(_x_1), np.array(_x_2)), np.array(_y, dtype=np.float32, )\n",
    "\n",
    "\n",
    "def create_and_train_and_evaluate_model(mapped, mapped_val,embedding_size:int=100):\n",
    "    # Obtener las listas de train y test\n",
    "    x_train, y_train = pair_list_to_x_y(mapped)\n",
    "    x_val, y_val = pair_list_to_x_y(mapped_val)\n",
    "\n",
    "    # Preparar los conjuntos de datos de entrenamiento y validación\n",
    "    train_dataset = tf.data.Dataset.from_tensor_slices((x_train, y_train))\n",
    "    train_dataset = train_dataset.shuffle(buffer_size=len(x_train)).batch(batch_size)\n",
    "\n",
    "    val_dataset = tf.data.Dataset.from_tensor_slices((x_val, y_val))\n",
    "    val_dataset = val_dataset.batch(batch_size)\n",
    "\n",
    "    # Construir y compilar el modelo\n",
    "    model = build_and_compile_model(embedding_size=embedding_size)\n",
    "    # tf.keras.utils.plot_model(model, show_shapes=True, show_layer_activations=True, )\n",
    "    print(model.summary())\n",
    "    # Entrenar el modelo\n",
    "    history = model.fit(train_dataset, epochs=num_epochs, validation_data=val_dataset)\n",
    "\n",
    "    plot_training_curve(history)\n",
    "\n",
    "    y_pred: tf.RaggedTensor = model.predict(x_val)\n",
    "    # Calcular la correlación de Pearson entre las predicciones y los datos de prueba\n",
    "    correlation, _ = pearsonr(y_pred.flatten(), y_val.flatten())\n",
    "    # Imprimir el coeficiente de correlación de Pearson\n",
    "    print(f\"Correlación de Pearson: {correlation}\")\n",
    "\n",
    "    return model"
   ]
  },
  {
   "cell_type": "markdown",
   "metadata": {
    "collapsed": false,
    "id": "zvHCfM7_8m7m"
   },
   "source": [
    "### Compare results with different word embeddings"
   ]
  },
  {
   "cell_type": "markdown",
   "metadata": {
    "id": "OqZtqXFR8m7m"
   },
   "source": [
    "#### 0. Model de Word2Vec entrenats per nosaltres"
   ]
  },
  {
   "cell_type": "markdown",
   "metadata": {
    "id": "2A3IweZK8m7m"
   },
   "source": [
    "##### 0.1. Model amb 100 MB"
   ]
  },
  {
   "cell_type": "code",
   "execution_count": 5,
   "metadata": {
    "id": "ZENU8kuc8m7m"
   },
   "outputs": [],
   "source": [
    "mapped = map_pairs(input_pairs, wv100=True, dictionary=diccionario )\n",
    "mapped_val = map_pairs(input_pairs_val, wv100=True, dictionary=diccionario)"
   ]
  },
  {
   "cell_type": "code",
   "execution_count": 50,
   "metadata": {
    "id": "1n7zMRP38m7n"
   },
   "outputs": [
    {
     "name": "stdout",
     "output_type": "stream",
     "text": [
      "Model: \"model_15\"\n",
      "__________________________________________________________________________________________________\n",
      " Layer (type)                   Output Shape         Param #     Connected to                     \n",
      "==================================================================================================\n",
      " input_31 (InputLayer)          [(None, 100)]        0           []                               \n",
      "                                                                                                  \n",
      " input_32 (InputLayer)          [(None, 100)]        0           []                               \n",
      "                                                                                                  \n",
      " dense_9 (Dense)                (None, 100)          10100       ['input_31[0][0]',               \n",
      "                                                                  'input_32[0][0]']               \n",
      "                                                                                                  \n",
      " tf.math.l2_normalize_30 (TFOpL  (None, 100)         0           ['dense_9[0][0]']                \n",
      " ambda)                                                                                           \n",
      "                                                                                                  \n",
      " tf.math.l2_normalize_31 (TFOpL  (None, 100)         0           ['dense_9[1][0]']                \n",
      " ambda)                                                                                           \n",
      "                                                                                                  \n",
      " tf.math.multiply_30 (TFOpLambd  (None, 100)         0           ['tf.math.l2_normalize_30[0][0]',\n",
      " a)                                                               'tf.math.l2_normalize_31[0][0]']\n",
      "                                                                                                  \n",
      " tf.math.reduce_sum_15 (TFOpLam  (None,)             0           ['tf.math.multiply_30[0][0]']    \n",
      " bda)                                                                                             \n",
      "                                                                                                  \n",
      " tf.__operators__.add_15 (TFOpL  (None,)             0           ['tf.math.reduce_sum_15[0][0]']  \n",
      " ambda)                                                                                           \n",
      "                                                                                                  \n",
      " tf.math.multiply_31 (TFOpLambd  (None,)             0           ['tf.__operators__.add_15[0][0]']\n",
      " a)                                                                                               \n",
      "                                                                                                  \n",
      "==================================================================================================\n",
      "Total params: 10,100\n",
      "Trainable params: 10,100\n",
      "Non-trainable params: 0\n",
      "__________________________________________________________________________________________________\n",
      "None\n",
      "Epoch 1/64\n",
      "33/33 [==============================] - 2s 8ms/step - loss: 1.9694 - mean_squared_error: 4.4348 - val_loss: 1.8219 - val_mean_squared_error: 3.8503\n",
      "Epoch 2/64\n",
      "33/33 [==============================] - 0s 5ms/step - loss: 1.7980 - mean_squared_error: 3.7377 - val_loss: 1.7358 - val_mean_squared_error: 3.5260\n",
      "Epoch 3/64\n",
      "33/33 [==============================] - 0s 4ms/step - loss: 1.7127 - mean_squared_error: 3.4257 - val_loss: 1.6808 - val_mean_squared_error: 3.3286\n",
      "Epoch 4/64\n",
      "33/33 [==============================] - 0s 4ms/step - loss: 1.6536 - mean_squared_error: 3.2189 - val_loss: 1.6444 - val_mean_squared_error: 3.2000\n",
      "Epoch 5/64\n",
      "33/33 [==============================] - 0s 4ms/step - loss: 1.6086 - mean_squared_error: 3.0673 - val_loss: 1.6171 - val_mean_squared_error: 3.1052\n",
      "Epoch 6/64\n",
      "33/33 [==============================] - 0s 6ms/step - loss: 1.5715 - mean_squared_error: 2.9498 - val_loss: 1.5952 - val_mean_squared_error: 3.0315\n",
      "Epoch 7/64\n",
      "33/33 [==============================] - 0s 3ms/step - loss: 1.5396 - mean_squared_error: 2.8504 - val_loss: 1.5773 - val_mean_squared_error: 2.9732\n",
      "Epoch 8/64\n",
      "33/33 [==============================] - 0s 4ms/step - loss: 1.5116 - mean_squared_error: 2.7712 - val_loss: 1.5638 - val_mean_squared_error: 2.9292\n",
      "Epoch 9/64\n",
      "33/33 [==============================] - 0s 6ms/step - loss: 1.4874 - mean_squared_error: 2.7025 - val_loss: 1.5520 - val_mean_squared_error: 2.8933\n",
      "Epoch 10/64\n",
      "33/33 [==============================] - 0s 6ms/step - loss: 1.4653 - mean_squared_error: 2.6396 - val_loss: 1.5430 - val_mean_squared_error: 2.8651\n",
      "Epoch 11/64\n",
      "33/33 [==============================] - 0s 6ms/step - loss: 1.4461 - mean_squared_error: 2.5894 - val_loss: 1.5352 - val_mean_squared_error: 2.8417\n",
      "Epoch 12/64\n",
      "33/33 [==============================] - 0s 6ms/step - loss: 1.4276 - mean_squared_error: 2.5430 - val_loss: 1.5284 - val_mean_squared_error: 2.8217\n",
      "Epoch 13/64\n",
      "33/33 [==============================] - 0s 3ms/step - loss: 1.4117 - mean_squared_error: 2.5024 - val_loss: 1.5225 - val_mean_squared_error: 2.8035\n",
      "Epoch 14/64\n",
      "33/33 [==============================] - 0s 5ms/step - loss: 1.3965 - mean_squared_error: 2.4625 - val_loss: 1.5180 - val_mean_squared_error: 2.7916\n",
      "Epoch 15/64\n",
      "33/33 [==============================] - 0s 6ms/step - loss: 1.3820 - mean_squared_error: 2.4283 - val_loss: 1.5130 - val_mean_squared_error: 2.7758\n",
      "Epoch 16/64\n",
      "33/33 [==============================] - 0s 6ms/step - loss: 1.3695 - mean_squared_error: 2.3990 - val_loss: 1.5085 - val_mean_squared_error: 2.7648\n",
      "Epoch 17/64\n",
      "33/33 [==============================] - 0s 6ms/step - loss: 1.3567 - mean_squared_error: 2.3650 - val_loss: 1.5047 - val_mean_squared_error: 2.7530\n",
      "Epoch 18/64\n",
      "33/33 [==============================] - 0s 6ms/step - loss: 1.3445 - mean_squared_error: 2.3373 - val_loss: 1.5018 - val_mean_squared_error: 2.7456\n",
      "Epoch 19/64\n",
      "33/33 [==============================] - 0s 6ms/step - loss: 1.3348 - mean_squared_error: 2.3158 - val_loss: 1.4974 - val_mean_squared_error: 2.7349\n",
      "Epoch 20/64\n",
      "33/33 [==============================] - 0s 6ms/step - loss: 1.3240 - mean_squared_error: 2.2911 - val_loss: 1.4946 - val_mean_squared_error: 2.7262\n",
      "Epoch 21/64\n",
      "33/33 [==============================] - 0s 6ms/step - loss: 1.3143 - mean_squared_error: 2.2673 - val_loss: 1.4920 - val_mean_squared_error: 2.7204\n",
      "Epoch 22/64\n",
      "33/33 [==============================] - 0s 4ms/step - loss: 1.3050 - mean_squared_error: 2.2477 - val_loss: 1.4906 - val_mean_squared_error: 2.7167\n",
      "Epoch 23/64\n",
      "33/33 [==============================] - 0s 5ms/step - loss: 1.2973 - mean_squared_error: 2.2312 - val_loss: 1.4887 - val_mean_squared_error: 2.7144\n",
      "Epoch 24/64\n",
      "33/33 [==============================] - 0s 3ms/step - loss: 1.2874 - mean_squared_error: 2.2089 - val_loss: 1.4839 - val_mean_squared_error: 2.6995\n",
      "Epoch 25/64\n",
      "33/33 [==============================] - 0s 5ms/step - loss: 1.2807 - mean_squared_error: 2.1963 - val_loss: 1.4824 - val_mean_squared_error: 2.6968\n",
      "Epoch 26/64\n",
      "33/33 [==============================] - 0s 3ms/step - loss: 1.2735 - mean_squared_error: 2.1803 - val_loss: 1.4806 - val_mean_squared_error: 2.6926\n",
      "Epoch 27/64\n",
      "33/33 [==============================] - 0s 3ms/step - loss: 1.2668 - mean_squared_error: 2.1683 - val_loss: 1.4797 - val_mean_squared_error: 2.6936\n",
      "Epoch 28/64\n",
      "33/33 [==============================] - 0s 3ms/step - loss: 1.2593 - mean_squared_error: 2.1523 - val_loss: 1.4767 - val_mean_squared_error: 2.6830\n",
      "Epoch 29/64\n",
      "33/33 [==============================] - 0s 3ms/step - loss: 1.2531 - mean_squared_error: 2.1405 - val_loss: 1.4772 - val_mean_squared_error: 2.6899\n",
      "Epoch 30/64\n",
      "33/33 [==============================] - 0s 3ms/step - loss: 1.2471 - mean_squared_error: 2.1324 - val_loss: 1.4746 - val_mean_squared_error: 2.6835\n",
      "Epoch 31/64\n",
      "33/33 [==============================] - 0s 3ms/step - loss: 1.2417 - mean_squared_error: 2.1183 - val_loss: 1.4724 - val_mean_squared_error: 2.6784\n",
      "Epoch 32/64\n",
      "33/33 [==============================] - 0s 4ms/step - loss: 1.2357 - mean_squared_error: 2.1061 - val_loss: 1.4698 - val_mean_squared_error: 2.6725\n",
      "Epoch 33/64\n",
      "33/33 [==============================] - 0s 3ms/step - loss: 1.2308 - mean_squared_error: 2.0961 - val_loss: 1.4715 - val_mean_squared_error: 2.6788\n",
      "Epoch 34/64\n",
      "33/33 [==============================] - 0s 3ms/step - loss: 1.2264 - mean_squared_error: 2.0910 - val_loss: 1.4697 - val_mean_squared_error: 2.6754\n",
      "Epoch 35/64\n",
      "33/33 [==============================] - 0s 3ms/step - loss: 1.2214 - mean_squared_error: 2.0799 - val_loss: 1.4683 - val_mean_squared_error: 2.6756\n",
      "Epoch 36/64\n",
      "33/33 [==============================] - 0s 3ms/step - loss: 1.2177 - mean_squared_error: 2.0748 - val_loss: 1.4648 - val_mean_squared_error: 2.6642\n",
      "Epoch 37/64\n",
      "33/33 [==============================] - 0s 3ms/step - loss: 1.2128 - mean_squared_error: 2.0636 - val_loss: 1.4668 - val_mean_squared_error: 2.6734\n",
      "Epoch 38/64\n",
      "33/33 [==============================] - 0s 3ms/step - loss: 1.2101 - mean_squared_error: 2.0597 - val_loss: 1.4664 - val_mean_squared_error: 2.6745\n",
      "Epoch 39/64\n",
      "33/33 [==============================] - 0s 5ms/step - loss: 1.2058 - mean_squared_error: 2.0536 - val_loss: 1.4629 - val_mean_squared_error: 2.6645\n",
      "Epoch 40/64\n",
      "33/33 [==============================] - 0s 5ms/step - loss: 1.2010 - mean_squared_error: 2.0430 - val_loss: 1.4618 - val_mean_squared_error: 2.6631\n",
      "Epoch 41/64\n",
      "33/33 [==============================] - 0s 4ms/step - loss: 1.1969 - mean_squared_error: 2.0370 - val_loss: 1.4628 - val_mean_squared_error: 2.6682\n",
      "Epoch 42/64\n",
      "33/33 [==============================] - 0s 6ms/step - loss: 1.1946 - mean_squared_error: 2.0323 - val_loss: 1.4633 - val_mean_squared_error: 2.6733\n",
      "Epoch 43/64\n",
      "33/33 [==============================] - 0s 6ms/step - loss: 1.1911 - mean_squared_error: 2.0267 - val_loss: 1.4606 - val_mean_squared_error: 2.6650\n",
      "Epoch 44/64\n",
      "33/33 [==============================] - 0s 6ms/step - loss: 1.1888 - mean_squared_error: 2.0238 - val_loss: 1.4610 - val_mean_squared_error: 2.6667\n",
      "Epoch 45/64\n",
      "33/33 [==============================] - 0s 6ms/step - loss: 1.1846 - mean_squared_error: 2.0136 - val_loss: 1.4625 - val_mean_squared_error: 2.6747\n",
      "Epoch 46/64\n",
      "33/33 [==============================] - 0s 6ms/step - loss: 1.1840 - mean_squared_error: 2.0132 - val_loss: 1.4585 - val_mean_squared_error: 2.6618\n",
      "Epoch 47/64\n",
      "33/33 [==============================] - 0s 6ms/step - loss: 1.1796 - mean_squared_error: 2.0058 - val_loss: 1.4589 - val_mean_squared_error: 2.6649\n",
      "Epoch 48/64\n",
      "33/33 [==============================] - 0s 6ms/step - loss: 1.1765 - mean_squared_error: 2.0021 - val_loss: 1.4597 - val_mean_squared_error: 2.6703\n",
      "Epoch 49/64\n",
      "33/33 [==============================] - 0s 6ms/step - loss: 1.1757 - mean_squared_error: 1.9970 - val_loss: 1.4581 - val_mean_squared_error: 2.6647\n",
      "Epoch 50/64\n",
      "33/33 [==============================] - 0s 6ms/step - loss: 1.1725 - mean_squared_error: 1.9929 - val_loss: 1.4547 - val_mean_squared_error: 2.6572\n",
      "Epoch 51/64\n",
      "33/33 [==============================] - 0s 5ms/step - loss: 1.1683 - mean_squared_error: 1.9865 - val_loss: 1.4579 - val_mean_squared_error: 2.6671\n",
      "Epoch 52/64\n",
      "33/33 [==============================] - 0s 5ms/step - loss: 1.1682 - mean_squared_error: 1.9847 - val_loss: 1.4566 - val_mean_squared_error: 2.6646\n",
      "Epoch 53/64\n",
      "33/33 [==============================] - 0s 4ms/step - loss: 1.1645 - mean_squared_error: 1.9795 - val_loss: 1.4537 - val_mean_squared_error: 2.6580\n",
      "Epoch 54/64\n",
      "33/33 [==============================] - 0s 5ms/step - loss: 1.1628 - mean_squared_error: 1.9773 - val_loss: 1.4553 - val_mean_squared_error: 2.6619\n",
      "Epoch 55/64\n",
      "33/33 [==============================] - 0s 5ms/step - loss: 1.1626 - mean_squared_error: 1.9775 - val_loss: 1.4506 - val_mean_squared_error: 2.6509\n",
      "Epoch 56/64\n",
      "33/33 [==============================] - 0s 5ms/step - loss: 1.1580 - mean_squared_error: 1.9733 - val_loss: 1.4527 - val_mean_squared_error: 2.6575\n",
      "Epoch 57/64\n",
      "33/33 [==============================] - 0s 5ms/step - loss: 1.1563 - mean_squared_error: 1.9661 - val_loss: 1.4557 - val_mean_squared_error: 2.6675\n",
      "Epoch 58/64\n",
      "33/33 [==============================] - 0s 5ms/step - loss: 1.1566 - mean_squared_error: 1.9655 - val_loss: 1.4528 - val_mean_squared_error: 2.6600\n",
      "Epoch 59/64\n",
      "33/33 [==============================] - 0s 6ms/step - loss: 1.1528 - mean_squared_error: 1.9616 - val_loss: 1.4487 - val_mean_squared_error: 2.6478\n",
      "Epoch 60/64\n",
      "33/33 [==============================] - 0s 6ms/step - loss: 1.1513 - mean_squared_error: 1.9582 - val_loss: 1.4528 - val_mean_squared_error: 2.6641\n",
      "Epoch 61/64\n",
      "33/33 [==============================] - 0s 6ms/step - loss: 1.1491 - mean_squared_error: 1.9537 - val_loss: 1.4534 - val_mean_squared_error: 2.6643\n",
      "Epoch 62/64\n",
      "33/33 [==============================] - 0s 6ms/step - loss: 1.1485 - mean_squared_error: 1.9543 - val_loss: 1.4498 - val_mean_squared_error: 2.6555\n",
      "Epoch 63/64\n",
      "33/33 [==============================] - 0s 6ms/step - loss: 1.1462 - mean_squared_error: 1.9518 - val_loss: 1.4507 - val_mean_squared_error: 2.6609\n",
      "Epoch 64/64\n",
      "33/33 [==============================] - 0s 4ms/step - loss: 1.1444 - mean_squared_error: 1.9468 - val_loss: 1.4502 - val_mean_squared_error: 2.6587\n"
     ]
    },
    {
     "data": {
      "image/png": "[encoded data removed]",
      "text/plain": [
       "<Figure size 576x576 with 2 Axes>"
      ]
     },
     "metadata": {
      "needs_background": "light"
     },
     "output_type": "display_data"
    },
    {
     "name": "stdout",
     "output_type": "stream",
     "text": [
      "16/16 [==============================] - 0s 3ms/step\n",
      "Correlación de Pearson: 0.44599953275335824\n"
     ]
    }
   ],
   "source": [
    "model = create_and_train_and_evaluate_model(mapped, mapped_val,embedding_size=100)"
   ]
  },
  {
   "cell_type": "markdown",
   "metadata": {
    "id": "tW-pSYQe8m7n"
   },
   "source": [
    "##### 0.2. Model amb 500 MB"
   ]
  },
  {
   "cell_type": "code",
   "execution_count": 51,
   "metadata": {
    "id": "xxx6u1Ig8m7n"
   },
   "outputs": [],
   "source": [
    "mapped = map_pairs(input_pairs, wv500=True, dictionary=diccionario )\n",
    "mapped_val = map_pairs(input_pairs_val, wv500=True, dictionary=diccionario)"
   ]
  },
  {
   "cell_type": "code",
   "execution_count": 52,
   "metadata": {
    "id": "SmOYMJ048m7n"
   },
   "outputs": [
    {
     "name": "stdout",
     "output_type": "stream",
     "text": [
      "Model: \"model_16\"\n",
      "__________________________________________________________________________________________________\n",
      " Layer (type)                   Output Shape         Param #     Connected to                     \n",
      "==================================================================================================\n",
      " input_33 (InputLayer)          [(None, 100)]        0           []                               \n",
      "                                                                                                  \n",
      " input_34 (InputLayer)          [(None, 100)]        0           []                               \n",
      "                                                                                                  \n",
      " dense_10 (Dense)               (None, 100)          10100       ['input_33[0][0]',               \n",
      "                                                                  'input_34[0][0]']               \n",
      "                                                                                                  \n",
      " tf.math.l2_normalize_32 (TFOpL  (None, 100)         0           ['dense_10[0][0]']               \n",
      " ambda)                                                                                           \n",
      "                                                                                                  \n",
      " tf.math.l2_normalize_33 (TFOpL  (None, 100)         0           ['dense_10[1][0]']               \n",
      " ambda)                                                                                           \n",
      "                                                                                                  \n",
      " tf.math.multiply_32 (TFOpLambd  (None, 100)         0           ['tf.math.l2_normalize_32[0][0]',\n",
      " a)                                                               'tf.math.l2_normalize_33[0][0]']\n",
      "                                                                                                  \n",
      " tf.math.reduce_sum_16 (TFOpLam  (None,)             0           ['tf.math.multiply_32[0][0]']    \n",
      " bda)                                                                                             \n",
      "                                                                                                  \n",
      " tf.__operators__.add_16 (TFOpL  (None,)             0           ['tf.math.reduce_sum_16[0][0]']  \n",
      " ambda)                                                                                           \n",
      "                                                                                                  \n",
      " tf.math.multiply_33 (TFOpLambd  (None,)             0           ['tf.__operators__.add_16[0][0]']\n",
      " a)                                                                                               \n",
      "                                                                                                  \n",
      "==================================================================================================\n",
      "Total params: 10,100\n",
      "Trainable params: 10,100\n",
      "Non-trainable params: 0\n",
      "__________________________________________________________________________________________________\n",
      "None\n",
      "Epoch 1/64\n",
      "33/33 [==============================] - 1s 15ms/step - loss: 2.0263 - mean_squared_error: 4.6504 - val_loss: 1.8946 - val_mean_squared_error: 4.1205\n",
      "Epoch 2/64\n",
      "33/33 [==============================] - 0s 5ms/step - loss: 1.8696 - mean_squared_error: 3.9986 - val_loss: 1.8066 - val_mean_squared_error: 3.7784\n",
      "Epoch 3/64\n",
      "33/33 [==============================] - 0s 4ms/step - loss: 1.7837 - mean_squared_error: 3.6703 - val_loss: 1.7460 - val_mean_squared_error: 3.5579\n",
      "Epoch 4/64\n",
      "33/33 [==============================] - 0s 4ms/step - loss: 1.7201 - mean_squared_error: 3.4422 - val_loss: 1.7020 - val_mean_squared_error: 3.4067\n",
      "Epoch 5/64\n",
      "33/33 [==============================] - 0s 3ms/step - loss: 1.6694 - mean_squared_error: 3.2710 - val_loss: 1.6675 - val_mean_squared_error: 3.2952\n",
      "Epoch 6/64\n",
      "33/33 [==============================] - 0s 5ms/step - loss: 1.6265 - mean_squared_error: 3.1313 - val_loss: 1.6379 - val_mean_squared_error: 3.2062\n",
      "Epoch 7/64\n",
      "33/33 [==============================] - 0s 4ms/step - loss: 1.5902 - mean_squared_error: 3.0195 - val_loss: 1.6145 - val_mean_squared_error: 3.1407\n",
      "Epoch 8/64\n",
      "33/33 [==============================] - 0s 3ms/step - loss: 1.5587 - mean_squared_error: 2.9285 - val_loss: 1.5955 - val_mean_squared_error: 3.0886\n",
      "Epoch 9/64\n",
      "33/33 [==============================] - 0s 4ms/step - loss: 1.5322 - mean_squared_error: 2.8536 - val_loss: 1.5824 - val_mean_squared_error: 3.0524\n",
      "Epoch 10/64\n",
      "33/33 [==============================] - 0s 4ms/step - loss: 1.5084 - mean_squared_error: 2.7907 - val_loss: 1.5714 - val_mean_squared_error: 3.0216\n",
      "Epoch 11/64\n",
      "33/33 [==============================] - 0s 3ms/step - loss: 1.4873 - mean_squared_error: 2.7373 - val_loss: 1.5618 - val_mean_squared_error: 2.9972\n",
      "Epoch 12/64\n",
      "33/33 [==============================] - 0s 5ms/step - loss: 1.4679 - mean_squared_error: 2.6848 - val_loss: 1.5524 - val_mean_squared_error: 2.9711\n",
      "Epoch 13/64\n",
      "33/33 [==============================] - 0s 3ms/step - loss: 1.4508 - mean_squared_error: 2.6450 - val_loss: 1.5457 - val_mean_squared_error: 2.9555\n",
      "Epoch 14/64\n",
      "33/33 [==============================] - 0s 3ms/step - loss: 1.4345 - mean_squared_error: 2.6015 - val_loss: 1.5381 - val_mean_squared_error: 2.9351\n",
      "Epoch 15/64\n",
      "33/33 [==============================] - 0s 3ms/step - loss: 1.4198 - mean_squared_error: 2.5662 - val_loss: 1.5327 - val_mean_squared_error: 2.9238\n",
      "Epoch 16/64\n",
      "33/33 [==============================] - 0s 4ms/step - loss: 1.4059 - mean_squared_error: 2.5362 - val_loss: 1.5267 - val_mean_squared_error: 2.9069\n",
      "Epoch 17/64\n",
      "33/33 [==============================] - 0s 5ms/step - loss: 1.3938 - mean_squared_error: 2.5042 - val_loss: 1.5249 - val_mean_squared_error: 2.9045\n",
      "Epoch 18/64\n",
      "33/33 [==============================] - 0s 6ms/step - loss: 1.3820 - mean_squared_error: 2.4762 - val_loss: 1.5192 - val_mean_squared_error: 2.8874\n",
      "Epoch 19/64\n",
      "33/33 [==============================] - 0s 5ms/step - loss: 1.3714 - mean_squared_error: 2.4554 - val_loss: 1.5166 - val_mean_squared_error: 2.8819\n",
      "Epoch 20/64\n",
      "33/33 [==============================] - 0s 4ms/step - loss: 1.3610 - mean_squared_error: 2.4275 - val_loss: 1.5144 - val_mean_squared_error: 2.8759\n",
      "Epoch 21/64\n",
      "33/33 [==============================] - 0s 3ms/step - loss: 1.3515 - mean_squared_error: 2.4084 - val_loss: 1.5096 - val_mean_squared_error: 2.8612\n",
      "Epoch 22/64\n",
      "33/33 [==============================] - 0s 3ms/step - loss: 1.3425 - mean_squared_error: 2.3869 - val_loss: 1.5086 - val_mean_squared_error: 2.8590\n",
      "Epoch 23/64\n",
      "33/33 [==============================] - 0s 3ms/step - loss: 1.3337 - mean_squared_error: 2.3673 - val_loss: 1.5048 - val_mean_squared_error: 2.8493\n",
      "Epoch 24/64\n",
      "33/33 [==============================] - 0s 4ms/step - loss: 1.3260 - mean_squared_error: 2.3497 - val_loss: 1.5021 - val_mean_squared_error: 2.8394\n",
      "Epoch 25/64\n",
      "33/33 [==============================] - 0s 5ms/step - loss: 1.3190 - mean_squared_error: 2.3345 - val_loss: 1.5013 - val_mean_squared_error: 2.8393\n",
      "Epoch 26/64\n",
      "33/33 [==============================] - 0s 5ms/step - loss: 1.3104 - mean_squared_error: 2.3142 - val_loss: 1.4990 - val_mean_squared_error: 2.8350\n",
      "Epoch 27/64\n",
      "33/33 [==============================] - 0s 3ms/step - loss: 1.3040 - mean_squared_error: 2.2995 - val_loss: 1.4942 - val_mean_squared_error: 2.8219\n",
      "Epoch 28/64\n",
      "33/33 [==============================] - 0s 3ms/step - loss: 1.2979 - mean_squared_error: 2.2850 - val_loss: 1.4923 - val_mean_squared_error: 2.8159\n",
      "Epoch 29/64\n",
      "33/33 [==============================] - 0s 3ms/step - loss: 1.2918 - mean_squared_error: 2.2706 - val_loss: 1.4926 - val_mean_squared_error: 2.8183\n",
      "Epoch 30/64\n",
      "33/33 [==============================] - 0s 4ms/step - loss: 1.2850 - mean_squared_error: 2.2569 - val_loss: 1.4871 - val_mean_squared_error: 2.8054\n",
      "Epoch 31/64\n",
      "33/33 [==============================] - 0s 4ms/step - loss: 1.2792 - mean_squared_error: 2.2439 - val_loss: 1.4876 - val_mean_squared_error: 2.8075\n",
      "Epoch 32/64\n",
      "33/33 [==============================] - 0s 5ms/step - loss: 1.2733 - mean_squared_error: 2.2319 - val_loss: 1.4852 - val_mean_squared_error: 2.8010\n",
      "Epoch 33/64\n",
      "33/33 [==============================] - 0s 5ms/step - loss: 1.2672 - mean_squared_error: 2.2191 - val_loss: 1.4825 - val_mean_squared_error: 2.7958\n",
      "Epoch 34/64\n",
      "33/33 [==============================] - 0s 5ms/step - loss: 1.2628 - mean_squared_error: 2.2098 - val_loss: 1.4806 - val_mean_squared_error: 2.7910\n",
      "Epoch 35/64\n",
      "33/33 [==============================] - 0s 6ms/step - loss: 1.2578 - mean_squared_error: 2.2010 - val_loss: 1.4776 - val_mean_squared_error: 2.7823\n",
      "Epoch 36/64\n",
      "33/33 [==============================] - 0s 6ms/step - loss: 1.2532 - mean_squared_error: 2.1894 - val_loss: 1.4780 - val_mean_squared_error: 2.7856\n",
      "Epoch 37/64\n",
      "33/33 [==============================] - 0s 6ms/step - loss: 1.2477 - mean_squared_error: 2.1775 - val_loss: 1.4753 - val_mean_squared_error: 2.7798\n",
      "Epoch 38/64\n",
      "33/33 [==============================] - 0s 6ms/step - loss: 1.2441 - mean_squared_error: 2.1731 - val_loss: 1.4726 - val_mean_squared_error: 2.7721\n",
      "Epoch 39/64\n",
      "33/33 [==============================] - 0s 6ms/step - loss: 1.2393 - mean_squared_error: 2.1629 - val_loss: 1.4712 - val_mean_squared_error: 2.7684\n",
      "Epoch 40/64\n",
      "33/33 [==============================] - 0s 4ms/step - loss: 1.2345 - mean_squared_error: 2.1516 - val_loss: 1.4720 - val_mean_squared_error: 2.7703\n",
      "Epoch 41/64\n",
      "33/33 [==============================] - 0s 6ms/step - loss: 1.2311 - mean_squared_error: 2.1456 - val_loss: 1.4683 - val_mean_squared_error: 2.7626\n",
      "Epoch 42/64\n",
      "33/33 [==============================] - 0s 6ms/step - loss: 1.2284 - mean_squared_error: 2.1400 - val_loss: 1.4694 - val_mean_squared_error: 2.7682\n",
      "Epoch 43/64\n",
      "33/33 [==============================] - 0s 6ms/step - loss: 1.2225 - mean_squared_error: 2.1267 - val_loss: 1.4664 - val_mean_squared_error: 2.7613\n",
      "Epoch 44/64\n",
      "33/33 [==============================] - 0s 6ms/step - loss: 1.2197 - mean_squared_error: 2.1234 - val_loss: 1.4670 - val_mean_squared_error: 2.7626\n",
      "Epoch 45/64\n",
      "33/33 [==============================] - 0s 6ms/step - loss: 1.2162 - mean_squared_error: 2.1174 - val_loss: 1.4639 - val_mean_squared_error: 2.7566\n",
      "Epoch 46/64\n",
      "33/33 [==============================] - 0s 6ms/step - loss: 1.2146 - mean_squared_error: 2.1130 - val_loss: 1.4638 - val_mean_squared_error: 2.7578\n",
      "Epoch 47/64\n",
      "33/33 [==============================] - 0s 6ms/step - loss: 1.2098 - mean_squared_error: 2.1048 - val_loss: 1.4640 - val_mean_squared_error: 2.7580\n",
      "Epoch 48/64\n",
      "33/33 [==============================] - 0s 5ms/step - loss: 1.2066 - mean_squared_error: 2.0986 - val_loss: 1.4632 - val_mean_squared_error: 2.7544\n",
      "Epoch 49/64\n",
      "33/33 [==============================] - 0s 6ms/step - loss: 1.2057 - mean_squared_error: 2.0960 - val_loss: 1.4602 - val_mean_squared_error: 2.7486\n",
      "Epoch 50/64\n",
      "33/33 [==============================] - 0s 6ms/step - loss: 1.2015 - mean_squared_error: 2.0939 - val_loss: 1.4607 - val_mean_squared_error: 2.7511\n",
      "Epoch 51/64\n",
      "33/33 [==============================] - 0s 6ms/step - loss: 1.1989 - mean_squared_error: 2.0835 - val_loss: 1.4598 - val_mean_squared_error: 2.7505\n",
      "Epoch 52/64\n",
      "33/33 [==============================] - 0s 5ms/step - loss: 1.1970 - mean_squared_error: 2.0819 - val_loss: 1.4591 - val_mean_squared_error: 2.7490\n",
      "Epoch 53/64\n",
      "33/33 [==============================] - 0s 6ms/step - loss: 1.1962 - mean_squared_error: 2.0791 - val_loss: 1.4589 - val_mean_squared_error: 2.7491\n",
      "Epoch 54/64\n",
      "33/33 [==============================] - 0s 6ms/step - loss: 1.1906 - mean_squared_error: 2.0692 - val_loss: 1.4562 - val_mean_squared_error: 2.7408\n",
      "Epoch 55/64\n",
      "33/33 [==============================] - 0s 6ms/step - loss: 1.1899 - mean_squared_error: 2.0683 - val_loss: 1.4571 - val_mean_squared_error: 2.7450\n",
      "Epoch 56/64\n",
      "33/33 [==============================] - 0s 6ms/step - loss: 1.1896 - mean_squared_error: 2.0703 - val_loss: 1.4610 - val_mean_squared_error: 2.7582\n",
      "Epoch 57/64\n",
      "33/33 [==============================] - 0s 6ms/step - loss: 1.1873 - mean_squared_error: 2.0640 - val_loss: 1.4578 - val_mean_squared_error: 2.7470\n",
      "Epoch 58/64\n",
      "33/33 [==============================] - 0s 6ms/step - loss: 1.1835 - mean_squared_error: 2.0561 - val_loss: 1.4547 - val_mean_squared_error: 2.7421\n",
      "Epoch 59/64\n",
      "33/33 [==============================] - 0s 6ms/step - loss: 1.1804 - mean_squared_error: 2.0507 - val_loss: 1.4551 - val_mean_squared_error: 2.7416\n",
      "Epoch 60/64\n",
      "33/33 [==============================] - 0s 6ms/step - loss: 1.1789 - mean_squared_error: 2.0483 - val_loss: 1.4578 - val_mean_squared_error: 2.7496\n",
      "Epoch 61/64\n",
      "33/33 [==============================] - 0s 6ms/step - loss: 1.1800 - mean_squared_error: 2.0501 - val_loss: 1.4564 - val_mean_squared_error: 2.7456\n",
      "Epoch 62/64\n",
      "33/33 [==============================] - 0s 6ms/step - loss: 1.1767 - mean_squared_error: 2.0432 - val_loss: 1.4520 - val_mean_squared_error: 2.7305\n",
      "Epoch 63/64\n",
      "33/33 [==============================] - 0s 4ms/step - loss: 1.1738 - mean_squared_error: 2.0394 - val_loss: 1.4540 - val_mean_squared_error: 2.7393\n",
      "Epoch 64/64\n",
      "33/33 [==============================] - 0s 6ms/step - loss: 1.1731 - mean_squared_error: 2.0392 - val_loss: 1.4577 - val_mean_squared_error: 2.7533\n"
     ]
    },
    {
     "data": {
      "image/png": "[encoded data removed]",
      "text/plain": [
       "<Figure size 576x576 with 2 Axes>"
      ]
     },
     "metadata": {
      "needs_background": "light"
     },
     "output_type": "display_data"
    },
    {
     "name": "stdout",
     "output_type": "stream",
     "text": [
      "16/16 [==============================] - 0s 3ms/step\n",
      "Correlación de Pearson: 0.35885052472452256\n"
     ]
    }
   ],
   "source": [
    "model = create_and_train_and_evaluate_model(mapped, mapped_val,embedding_size=100)"
   ]
  },
  {
   "cell_type": "markdown",
   "metadata": {
    "collapsed": false,
    "id": "QF0EG-AD8m7n"
   },
   "source": [
    "#### 1. One Hot encoding"
   ]
  },
  {
   "cell_type": "code",
   "execution_count": 57,
   "metadata": {
    "id": "7Z55O8jG8m7n"
   },
   "outputs": [
    {
     "name": "stderr",
     "output_type": "stream",
     "text": [
      "C:\\Users\\pelot\\AppData\\Local\\Packages\\PythonSoftwareFoundation.Python.3.7_qbz5n2kfra8p0\\LocalCache\\local-packages\\Python37\\site-packages\\ipykernel_launcher.py:30: DeprecationWarning: `np.float` is a deprecated alias for the builtin `float`. To silence this warning, use `float` by itself. Doing this will not modify any behavior and is safe. If you specifically wanted the numpy scalar type, use `np.float64` here.\n",
      "Deprecated in NumPy 1.20; for more details and guidance: https://numpy.org/devdocs/release/1.20.0-notes.html#deprecations\n"
     ]
    }
   ],
   "source": [
    "mapped = map_pairs(input_pairs, one_hot=True, dictionary=diccionario )\n",
    "mapped_val = map_pairs(input_pairs_val, one_hot=True, dictionary=diccionario)"
   ]
  },
  {
   "cell_type": "code",
   "execution_count": 58,
   "metadata": {
    "id": "JoNQhiIg8m7n"
   },
   "outputs": [
    {
     "name": "stdout",
     "output_type": "stream",
     "text": [
      "Model: \"model_18\"\n",
      "__________________________________________________________________________________________________\n",
      " Layer (type)                   Output Shape         Param #     Connected to                     \n",
      "==================================================================================================\n",
      " input_37 (InputLayer)          [(None, 100)]        0           []                               \n",
      "                                                                                                  \n",
      " input_38 (InputLayer)          [(None, 100)]        0           []                               \n",
      "                                                                                                  \n",
      " dense_12 (Dense)               (None, 100)          10100       ['input_37[0][0]',               \n",
      "                                                                  'input_38[0][0]']               \n",
      "                                                                                                  \n",
      " tf.math.l2_normalize_36 (TFOpL  (None, 100)         0           ['dense_12[0][0]']               \n",
      " ambda)                                                                                           \n",
      "                                                                                                  \n",
      " tf.math.l2_normalize_37 (TFOpL  (None, 100)         0           ['dense_12[1][0]']               \n",
      " ambda)                                                                                           \n",
      "                                                                                                  \n",
      " tf.math.multiply_36 (TFOpLambd  (None, 100)         0           ['tf.math.l2_normalize_36[0][0]',\n",
      " a)                                                               'tf.math.l2_normalize_37[0][0]']\n",
      "                                                                                                  \n",
      " tf.math.reduce_sum_18 (TFOpLam  (None,)             0           ['tf.math.multiply_36[0][0]']    \n",
      " bda)                                                                                             \n",
      "                                                                                                  \n",
      " tf.__operators__.add_18 (TFOpL  (None,)             0           ['tf.math.reduce_sum_18[0][0]']  \n",
      " ambda)                                                                                           \n",
      "                                                                                                  \n",
      " tf.math.multiply_37 (TFOpLambd  (None,)             0           ['tf.__operators__.add_18[0][0]']\n",
      " a)                                                                                               \n",
      "                                                                                                  \n",
      "==================================================================================================\n",
      "Total params: 10,100\n",
      "Trainable params: 10,100\n",
      "Non-trainable params: 0\n",
      "__________________________________________________________________________________________________\n",
      "None\n",
      "Epoch 1/64\n",
      "33/33 [==============================] - 1s 10ms/step - loss: 1.5671 - mean_squared_error: 3.1716 - val_loss: 1.5126 - val_mean_squared_error: 3.0705\n",
      "Epoch 2/64\n",
      "33/33 [==============================] - 0s 6ms/step - loss: 1.5198 - mean_squared_error: 3.0450 - val_loss: 1.4934 - val_mean_squared_error: 3.0126\n",
      "Epoch 3/64\n",
      "33/33 [==============================] - 0s 6ms/step - loss: 1.4851 - mean_squared_error: 2.9566 - val_loss: 1.4799 - val_mean_squared_error: 2.9706\n",
      "Epoch 4/64\n",
      "33/33 [==============================] - 0s 6ms/step - loss: 1.4553 - mean_squared_error: 2.8799 - val_loss: 1.4691 - val_mean_squared_error: 2.9374\n",
      "Epoch 5/64\n",
      "33/33 [==============================] - 0s 4ms/step - loss: 1.4283 - mean_squared_error: 2.8110 - val_loss: 1.4601 - val_mean_squared_error: 2.9113\n",
      "Epoch 6/64\n",
      "33/33 [==============================] - 0s 4ms/step - loss: 1.4045 - mean_squared_error: 2.7525 - val_loss: 1.4521 - val_mean_squared_error: 2.8885\n",
      "Epoch 7/64\n",
      "33/33 [==============================] - 0s 4ms/step - loss: 1.3826 - mean_squared_error: 2.6981 - val_loss: 1.4455 - val_mean_squared_error: 2.8699\n",
      "Epoch 8/64\n",
      "33/33 [==============================] - 0s 4ms/step - loss: 1.3624 - mean_squared_error: 2.6502 - val_loss: 1.4401 - val_mean_squared_error: 2.8546\n",
      "Epoch 9/64\n",
      "33/33 [==============================] - 0s 5ms/step - loss: 1.3437 - mean_squared_error: 2.6050 - val_loss: 1.4342 - val_mean_squared_error: 2.8394\n",
      "Epoch 10/64\n",
      "33/33 [==============================] - 0s 3ms/step - loss: 1.3268 - mean_squared_error: 2.5686 - val_loss: 1.4294 - val_mean_squared_error: 2.8280\n",
      "Epoch 11/64\n",
      "33/33 [==============================] - 0s 5ms/step - loss: 1.3115 - mean_squared_error: 2.5350 - val_loss: 1.4258 - val_mean_squared_error: 2.8188\n",
      "Epoch 12/64\n",
      "33/33 [==============================] - 0s 4ms/step - loss: 1.2977 - mean_squared_error: 2.5047 - val_loss: 1.4224 - val_mean_squared_error: 2.8124\n",
      "Epoch 13/64\n",
      "33/33 [==============================] - 0s 4ms/step - loss: 1.2846 - mean_squared_error: 2.4778 - val_loss: 1.4195 - val_mean_squared_error: 2.8085\n",
      "Epoch 14/64\n",
      "33/33 [==============================] - 0s 5ms/step - loss: 1.2730 - mean_squared_error: 2.4535 - val_loss: 1.4174 - val_mean_squared_error: 2.8043\n",
      "Epoch 15/64\n",
      "33/33 [==============================] - 0s 6ms/step - loss: 1.2624 - mean_squared_error: 2.4325 - val_loss: 1.4160 - val_mean_squared_error: 2.8027\n",
      "Epoch 16/64\n",
      "33/33 [==============================] - 0s 6ms/step - loss: 1.2523 - mean_squared_error: 2.4122 - val_loss: 1.4133 - val_mean_squared_error: 2.8014\n",
      "Epoch 17/64\n",
      "33/33 [==============================] - 0s 6ms/step - loss: 1.2431 - mean_squared_error: 2.3938 - val_loss: 1.4134 - val_mean_squared_error: 2.8035\n",
      "Epoch 18/64\n",
      "33/33 [==============================] - 0s 5ms/step - loss: 1.2346 - mean_squared_error: 2.3781 - val_loss: 1.4119 - val_mean_squared_error: 2.8016\n",
      "Epoch 19/64\n",
      "33/33 [==============================] - 0s 6ms/step - loss: 1.2267 - mean_squared_error: 2.3615 - val_loss: 1.4097 - val_mean_squared_error: 2.8008\n",
      "Epoch 20/64\n",
      "33/33 [==============================] - 0s 6ms/step - loss: 1.2191 - mean_squared_error: 2.3475 - val_loss: 1.4103 - val_mean_squared_error: 2.8047\n",
      "Epoch 21/64\n",
      "33/33 [==============================] - 0s 6ms/step - loss: 1.2124 - mean_squared_error: 2.3342 - val_loss: 1.4087 - val_mean_squared_error: 2.8053\n",
      "Epoch 22/64\n",
      "33/33 [==============================] - 0s 7ms/step - loss: 1.2056 - mean_squared_error: 2.3231 - val_loss: 1.4084 - val_mean_squared_error: 2.8061\n",
      "Epoch 23/64\n",
      "33/33 [==============================] - 0s 6ms/step - loss: 1.1996 - mean_squared_error: 2.3105 - val_loss: 1.4080 - val_mean_squared_error: 2.8077\n",
      "Epoch 24/64\n",
      "33/33 [==============================] - 0s 5ms/step - loss: 1.1939 - mean_squared_error: 2.3002 - val_loss: 1.4067 - val_mean_squared_error: 2.8083\n",
      "Epoch 25/64\n",
      "33/33 [==============================] - 0s 5ms/step - loss: 1.1881 - mean_squared_error: 2.2900 - val_loss: 1.4057 - val_mean_squared_error: 2.8089\n",
      "Epoch 26/64\n",
      "33/33 [==============================] - 0s 6ms/step - loss: 1.1829 - mean_squared_error: 2.2798 - val_loss: 1.4066 - val_mean_squared_error: 2.8117\n",
      "Epoch 27/64\n",
      "33/33 [==============================] - 0s 6ms/step - loss: 1.1784 - mean_squared_error: 2.2736 - val_loss: 1.4049 - val_mean_squared_error: 2.8114\n",
      "Epoch 28/64\n",
      "33/33 [==============================] - 0s 6ms/step - loss: 1.1738 - mean_squared_error: 2.2640 - val_loss: 1.4049 - val_mean_squared_error: 2.8125\n",
      "Epoch 29/64\n",
      "33/33 [==============================] - 0s 6ms/step - loss: 1.1690 - mean_squared_error: 2.2576 - val_loss: 1.4053 - val_mean_squared_error: 2.8158\n",
      "Epoch 30/64\n",
      "33/33 [==============================] - 0s 5ms/step - loss: 1.1654 - mean_squared_error: 2.2494 - val_loss: 1.4044 - val_mean_squared_error: 2.8157\n",
      "Epoch 31/64\n",
      "33/33 [==============================] - 0s 3ms/step - loss: 1.1616 - mean_squared_error: 2.2435 - val_loss: 1.4044 - val_mean_squared_error: 2.8197\n",
      "Epoch 32/64\n",
      "33/33 [==============================] - 0s 4ms/step - loss: 1.1577 - mean_squared_error: 2.2373 - val_loss: 1.4034 - val_mean_squared_error: 2.8181\n",
      "Epoch 33/64\n",
      "33/33 [==============================] - 0s 5ms/step - loss: 1.1541 - mean_squared_error: 2.2312 - val_loss: 1.4040 - val_mean_squared_error: 2.8212\n",
      "Epoch 34/64\n",
      "33/33 [==============================] - 0s 5ms/step - loss: 1.1509 - mean_squared_error: 2.2255 - val_loss: 1.4044 - val_mean_squared_error: 2.8225\n",
      "Epoch 35/64\n",
      "33/33 [==============================] - 0s 6ms/step - loss: 1.1479 - mean_squared_error: 2.2204 - val_loss: 1.4044 - val_mean_squared_error: 2.8246\n",
      "Epoch 36/64\n",
      "33/33 [==============================] - 0s 6ms/step - loss: 1.1447 - mean_squared_error: 2.2146 - val_loss: 1.4051 - val_mean_squared_error: 2.8275\n",
      "Epoch 37/64\n",
      "33/33 [==============================] - 0s 6ms/step - loss: 1.1422 - mean_squared_error: 2.2099 - val_loss: 1.4043 - val_mean_squared_error: 2.8264\n",
      "Epoch 38/64\n",
      "33/33 [==============================] - 0s 6ms/step - loss: 1.1389 - mean_squared_error: 2.2061 - val_loss: 1.4059 - val_mean_squared_error: 2.8300\n",
      "Epoch 39/64\n",
      "33/33 [==============================] - 0s 6ms/step - loss: 1.1365 - mean_squared_error: 2.2013 - val_loss: 1.4066 - val_mean_squared_error: 2.8320\n",
      "Epoch 40/64\n",
      "33/33 [==============================] - 0s 4ms/step - loss: 1.1342 - mean_squared_error: 2.1958 - val_loss: 1.4069 - val_mean_squared_error: 2.8323\n",
      "Epoch 41/64\n",
      "33/33 [==============================] - 0s 4ms/step - loss: 1.1319 - mean_squared_error: 2.1950 - val_loss: 1.4068 - val_mean_squared_error: 2.8339\n",
      "Epoch 42/64\n",
      "33/33 [==============================] - 0s 5ms/step - loss: 1.1295 - mean_squared_error: 2.1886 - val_loss: 1.4067 - val_mean_squared_error: 2.8361\n",
      "Epoch 43/64\n",
      "33/33 [==============================] - 0s 6ms/step - loss: 1.1267 - mean_squared_error: 2.1859 - val_loss: 1.4081 - val_mean_squared_error: 2.8371\n",
      "Epoch 44/64\n",
      "33/33 [==============================] - 0s 4ms/step - loss: 1.1259 - mean_squared_error: 2.1823 - val_loss: 1.4094 - val_mean_squared_error: 2.8421\n",
      "Epoch 45/64\n",
      "33/33 [==============================] - 0s 5ms/step - loss: 1.1227 - mean_squared_error: 2.1794 - val_loss: 1.4085 - val_mean_squared_error: 2.8405\n",
      "Epoch 46/64\n",
      "33/33 [==============================] - 0s 5ms/step - loss: 1.1208 - mean_squared_error: 2.1763 - val_loss: 1.4089 - val_mean_squared_error: 2.8418\n",
      "Epoch 47/64\n",
      "33/33 [==============================] - 0s 4ms/step - loss: 1.1196 - mean_squared_error: 2.1732 - val_loss: 1.4093 - val_mean_squared_error: 2.8433\n",
      "Epoch 48/64\n",
      "33/33 [==============================] - 0s 5ms/step - loss: 1.1177 - mean_squared_error: 2.1709 - val_loss: 1.4102 - val_mean_squared_error: 2.8478\n",
      "Epoch 49/64\n",
      "33/33 [==============================] - 0s 4ms/step - loss: 1.1158 - mean_squared_error: 2.1682 - val_loss: 1.4106 - val_mean_squared_error: 2.8478\n",
      "Epoch 50/64\n",
      "33/33 [==============================] - 0s 4ms/step - loss: 1.1138 - mean_squared_error: 2.1655 - val_loss: 1.4107 - val_mean_squared_error: 2.8493\n",
      "Epoch 51/64\n",
      "33/33 [==============================] - 0s 4ms/step - loss: 1.1124 - mean_squared_error: 2.1629 - val_loss: 1.4108 - val_mean_squared_error: 2.8519\n",
      "Epoch 52/64\n",
      "33/33 [==============================] - 0s 5ms/step - loss: 1.1108 - mean_squared_error: 2.1605 - val_loss: 1.4115 - val_mean_squared_error: 2.8537\n",
      "Epoch 53/64\n",
      "33/33 [==============================] - 0s 5ms/step - loss: 1.1100 - mean_squared_error: 2.1607 - val_loss: 1.4121 - val_mean_squared_error: 2.8566\n",
      "Epoch 54/64\n",
      "33/33 [==============================] - 0s 4ms/step - loss: 1.1084 - mean_squared_error: 2.1559 - val_loss: 1.4115 - val_mean_squared_error: 2.8575\n",
      "Epoch 55/64\n",
      "33/33 [==============================] - 0s 5ms/step - loss: 1.1069 - mean_squared_error: 2.1550 - val_loss: 1.4127 - val_mean_squared_error: 2.8585\n",
      "Epoch 56/64\n",
      "33/33 [==============================] - 0s 4ms/step - loss: 1.1054 - mean_squared_error: 2.1521 - val_loss: 1.4126 - val_mean_squared_error: 2.8610\n",
      "Epoch 57/64\n",
      "33/33 [==============================] - 0s 4ms/step - loss: 1.1044 - mean_squared_error: 2.1532 - val_loss: 1.4136 - val_mean_squared_error: 2.8640\n",
      "Epoch 58/64\n",
      "33/33 [==============================] - 0s 3ms/step - loss: 1.1030 - mean_squared_error: 2.1495 - val_loss: 1.4135 - val_mean_squared_error: 2.8632\n",
      "Epoch 59/64\n",
      "33/33 [==============================] - 0s 3ms/step - loss: 1.1015 - mean_squared_error: 2.1469 - val_loss: 1.4133 - val_mean_squared_error: 2.8654\n",
      "Epoch 60/64\n",
      "33/33 [==============================] - 0s 4ms/step - loss: 1.1010 - mean_squared_error: 2.1483 - val_loss: 1.4148 - val_mean_squared_error: 2.8688\n",
      "Epoch 61/64\n",
      "33/33 [==============================] - 0s 6ms/step - loss: 1.0989 - mean_squared_error: 2.1439 - val_loss: 1.4149 - val_mean_squared_error: 2.8694\n",
      "Epoch 62/64\n",
      "33/33 [==============================] - 0s 6ms/step - loss: 1.0983 - mean_squared_error: 2.1423 - val_loss: 1.4157 - val_mean_squared_error: 2.8721\n",
      "Epoch 63/64\n",
      "33/33 [==============================] - 0s 6ms/step - loss: 1.0973 - mean_squared_error: 2.1416 - val_loss: 1.4160 - val_mean_squared_error: 2.8735\n",
      "Epoch 64/64\n",
      "33/33 [==============================] - 0s 5ms/step - loss: 1.0968 - mean_squared_error: 2.1405 - val_loss: 1.4160 - val_mean_squared_error: 2.8739\n"
     ]
    },
    {
     "data": {
      "image/png": "[encoded data removed]",
      "text/plain": [
       "<Figure size 576x576 with 2 Axes>"
      ]
     },
     "metadata": {
      "needs_background": "light"
     },
     "output_type": "display_data"
    },
    {
     "name": "stdout",
     "output_type": "stream",
     "text": [
      "16/16 [==============================] - 0s 1ms/step\n",
      "Correlación de Pearson: 0.22115282243433215\n"
     ]
    }
   ],
   "source": [
    "model = create_and_train_and_evaluate_model(mapped, mapped_val, embedding_size=100)"
   ]
  },
  {
   "cell_type": "markdown",
   "metadata": {
    "collapsed": false,
    "id": "dmfqVPvY8m7n"
   },
   "source": [
    "#### 2. Models de Word2Vec/GloVe pre-entrenats"
   ]
  },
  {
   "cell_type": "markdown",
   "metadata": {
    "collapsed": false,
    "id": "FGELWVb88m7n"
   },
   "source": [
    "##### 2.1.Word2Vec + Mean"
   ]
  },
  {
   "cell_type": "code",
   "execution_count": 64,
   "metadata": {
    "id": "kvjn7pJL8m7o"
   },
   "outputs": [],
   "source": [
    "mapped = map_pairs(input_pairs, w2v_pre_mean=True, dictionary=diccionario )\n",
    "mapped_val = map_pairs(input_pairs_val, w2v_pre_mean=True, dictionary=diccionario)"
   ]
  },
  {
   "cell_type": "code",
   "execution_count": 65,
   "metadata": {
    "id": "rHRxNJ_J8m7o"
   },
   "outputs": [
    {
     "name": "stdout",
     "output_type": "stream",
     "text": [
      "Model: \"model_21\"\n",
      "__________________________________________________________________________________________________\n",
      " Layer (type)                   Output Shape         Param #     Connected to                     \n",
      "==================================================================================================\n",
      " input_43 (InputLayer)          [(None, 100)]        0           []                               \n",
      "                                                                                                  \n",
      " input_44 (InputLayer)          [(None, 100)]        0           []                               \n",
      "                                                                                                  \n",
      " dense_15 (Dense)               (None, 100)          10100       ['input_43[0][0]',               \n",
      "                                                                  'input_44[0][0]']               \n",
      "                                                                                                  \n",
      " tf.math.l2_normalize_42 (TFOpL  (None, 100)         0           ['dense_15[0][0]']               \n",
      " ambda)                                                                                           \n",
      "                                                                                                  \n",
      " tf.math.l2_normalize_43 (TFOpL  (None, 100)         0           ['dense_15[1][0]']               \n",
      " ambda)                                                                                           \n",
      "                                                                                                  \n",
      " tf.math.multiply_42 (TFOpLambd  (None, 100)         0           ['tf.math.l2_normalize_42[0][0]',\n",
      " a)                                                               'tf.math.l2_normalize_43[0][0]']\n",
      "                                                                                                  \n",
      " tf.math.reduce_sum_21 (TFOpLam  (None,)             0           ['tf.math.multiply_42[0][0]']    \n",
      " bda)                                                                                             \n",
      "                                                                                                  \n",
      " tf.__operators__.add_21 (TFOpL  (None,)             0           ['tf.math.reduce_sum_21[0][0]']  \n",
      " ambda)                                                                                           \n",
      "                                                                                                  \n",
      " tf.math.multiply_43 (TFOpLambd  (None,)             0           ['tf.__operators__.add_21[0][0]']\n",
      " a)                                                                                               \n",
      "                                                                                                  \n",
      "==================================================================================================\n",
      "Total params: 10,100\n",
      "Trainable params: 10,100\n",
      "Non-trainable params: 0\n",
      "__________________________________________________________________________________________________\n",
      "None\n",
      "Epoch 1/64\n",
      "33/33 [==============================] - 1s 8ms/step - loss: 2.0923 - mean_squared_error: 4.9515 - val_loss: 1.9562 - val_mean_squared_error: 4.3869\n",
      "Epoch 2/64\n",
      "33/33 [==============================] - 0s 4ms/step - loss: 1.9313 - mean_squared_error: 4.2630 - val_loss: 1.8782 - val_mean_squared_error: 4.0728\n",
      "Epoch 3/64\n",
      "33/33 [==============================] - 0s 3ms/step - loss: 1.8530 - mean_squared_error: 3.9520 - val_loss: 1.8271 - val_mean_squared_error: 3.8767\n",
      "Epoch 4/64\n",
      "33/33 [==============================] - 0s 3ms/step - loss: 1.7970 - mean_squared_error: 3.7477 - val_loss: 1.7908 - val_mean_squared_error: 3.7413\n",
      "Epoch 5/64\n",
      "33/33 [==============================] - 0s 4ms/step - loss: 1.7530 - mean_squared_error: 3.5917 - val_loss: 1.7627 - val_mean_squared_error: 3.6406\n",
      "Epoch 6/64\n",
      "33/33 [==============================] - 0s 3ms/step - loss: 1.7161 - mean_squared_error: 3.4646 - val_loss: 1.7396 - val_mean_squared_error: 3.5603\n",
      "Epoch 7/64\n",
      "33/33 [==============================] - 0s 3ms/step - loss: 1.6843 - mean_squared_error: 3.3538 - val_loss: 1.7199 - val_mean_squared_error: 3.4933\n",
      "Epoch 8/64\n",
      "33/33 [==============================] - 0s 4ms/step - loss: 1.6560 - mean_squared_error: 3.2606 - val_loss: 1.7035 - val_mean_squared_error: 3.4388\n",
      "Epoch 9/64\n",
      "33/33 [==============================] - 0s 4ms/step - loss: 1.6307 - mean_squared_error: 3.1854 - val_loss: 1.6886 - val_mean_squared_error: 3.3879\n",
      "Epoch 10/64\n",
      "33/33 [==============================] - 0s 5ms/step - loss: 1.6069 - mean_squared_error: 3.1045 - val_loss: 1.6775 - val_mean_squared_error: 3.3516\n",
      "Epoch 11/64\n",
      "33/33 [==============================] - 0s 3ms/step - loss: 1.5872 - mean_squared_error: 3.0463 - val_loss: 1.6654 - val_mean_squared_error: 3.3124\n",
      "Epoch 12/64\n",
      "33/33 [==============================] - 0s 3ms/step - loss: 1.5682 - mean_squared_error: 2.9921 - val_loss: 1.6583 - val_mean_squared_error: 3.2935\n",
      "Epoch 13/64\n",
      "33/33 [==============================] - 0s 4ms/step - loss: 1.5528 - mean_squared_error: 2.9537 - val_loss: 1.6497 - val_mean_squared_error: 3.2665\n",
      "Epoch 14/64\n",
      "33/33 [==============================] - 0s 5ms/step - loss: 1.5372 - mean_squared_error: 2.9121 - val_loss: 1.6436 - val_mean_squared_error: 3.2486\n",
      "Epoch 15/64\n",
      "33/33 [==============================] - 0s 4ms/step - loss: 1.5228 - mean_squared_error: 2.8681 - val_loss: 1.6380 - val_mean_squared_error: 3.2336\n",
      "Epoch 16/64\n",
      "33/33 [==============================] - 0s 4ms/step - loss: 1.5095 - mean_squared_error: 2.8401 - val_loss: 1.6320 - val_mean_squared_error: 3.2171\n",
      "Epoch 17/64\n",
      "33/33 [==============================] - 0s 5ms/step - loss: 1.4989 - mean_squared_error: 2.8066 - val_loss: 1.6268 - val_mean_squared_error: 3.2011\n",
      "Epoch 18/64\n",
      "33/33 [==============================] - 0s 3ms/step - loss: 1.4867 - mean_squared_error: 2.7766 - val_loss: 1.6213 - val_mean_squared_error: 3.1860\n",
      "Epoch 19/64\n",
      "33/33 [==============================] - 0s 3ms/step - loss: 1.4764 - mean_squared_error: 2.7498 - val_loss: 1.6190 - val_mean_squared_error: 3.1795\n",
      "Epoch 20/64\n",
      "33/33 [==============================] - 0s 3ms/step - loss: 1.4675 - mean_squared_error: 2.7332 - val_loss: 1.6155 - val_mean_squared_error: 3.1694\n",
      "Epoch 21/64\n",
      "33/33 [==============================] - 0s 3ms/step - loss: 1.4566 - mean_squared_error: 2.6998 - val_loss: 1.6092 - val_mean_squared_error: 3.1517\n",
      "Epoch 22/64\n",
      "33/33 [==============================] - 0s 4ms/step - loss: 1.4491 - mean_squared_error: 2.6873 - val_loss: 1.6089 - val_mean_squared_error: 3.1536\n",
      "Epoch 23/64\n",
      "33/33 [==============================] - 0s 4ms/step - loss: 1.4402 - mean_squared_error: 2.6605 - val_loss: 1.6036 - val_mean_squared_error: 3.1383\n",
      "Epoch 24/64\n",
      "33/33 [==============================] - 0s 4ms/step - loss: 1.4328 - mean_squared_error: 2.6477 - val_loss: 1.6028 - val_mean_squared_error: 3.1369\n",
      "Epoch 25/64\n",
      "33/33 [==============================] - 0s 5ms/step - loss: 1.4264 - mean_squared_error: 2.6257 - val_loss: 1.5987 - val_mean_squared_error: 3.1272\n",
      "Epoch 26/64\n",
      "33/33 [==============================] - 0s 3ms/step - loss: 1.4171 - mean_squared_error: 2.6044 - val_loss: 1.5978 - val_mean_squared_error: 3.1260\n",
      "Epoch 27/64\n",
      "33/33 [==============================] - 0s 4ms/step - loss: 1.4131 - mean_squared_error: 2.5993 - val_loss: 1.5940 - val_mean_squared_error: 3.1166\n",
      "Epoch 28/64\n",
      "33/33 [==============================] - 0s 4ms/step - loss: 1.4053 - mean_squared_error: 2.5785 - val_loss: 1.5930 - val_mean_squared_error: 3.1147\n",
      "Epoch 29/64\n",
      "33/33 [==============================] - 0s 5ms/step - loss: 1.3980 - mean_squared_error: 2.5595 - val_loss: 1.5889 - val_mean_squared_error: 3.1047\n",
      "Epoch 30/64\n",
      "33/33 [==============================] - 0s 4ms/step - loss: 1.3939 - mean_squared_error: 2.5565 - val_loss: 1.5877 - val_mean_squared_error: 3.1042\n",
      "Epoch 31/64\n",
      "33/33 [==============================] - 0s 5ms/step - loss: 1.3875 - mean_squared_error: 2.5361 - val_loss: 1.5859 - val_mean_squared_error: 3.0980\n",
      "Epoch 32/64\n",
      "33/33 [==============================] - 0s 4ms/step - loss: 1.3827 - mean_squared_error: 2.5266 - val_loss: 1.5844 - val_mean_squared_error: 3.0953\n",
      "Epoch 33/64\n",
      "33/33 [==============================] - 0s 3ms/step - loss: 1.3783 - mean_squared_error: 2.5185 - val_loss: 1.5841 - val_mean_squared_error: 3.0976\n",
      "Epoch 34/64\n",
      "33/33 [==============================] - 0s 4ms/step - loss: 1.3729 - mean_squared_error: 2.5024 - val_loss: 1.5800 - val_mean_squared_error: 3.0839\n",
      "Epoch 35/64\n",
      "33/33 [==============================] - 0s 4ms/step - loss: 1.3694 - mean_squared_error: 2.4988 - val_loss: 1.5777 - val_mean_squared_error: 3.0797\n",
      "Epoch 36/64\n",
      "33/33 [==============================] - 0s 5ms/step - loss: 1.3640 - mean_squared_error: 2.4896 - val_loss: 1.5783 - val_mean_squared_error: 3.0830\n",
      "Epoch 37/64\n",
      "33/33 [==============================] - 0s 5ms/step - loss: 1.3603 - mean_squared_error: 2.4771 - val_loss: 1.5764 - val_mean_squared_error: 3.0766\n",
      "Epoch 38/64\n",
      "33/33 [==============================] - 0s 3ms/step - loss: 1.3548 - mean_squared_error: 2.4637 - val_loss: 1.5744 - val_mean_squared_error: 3.0726\n",
      "Epoch 39/64\n",
      "33/33 [==============================] - 0s 4ms/step - loss: 1.3543 - mean_squared_error: 2.4617 - val_loss: 1.5752 - val_mean_squared_error: 3.0757\n",
      "Epoch 40/64\n",
      "33/33 [==============================] - 0s 6ms/step - loss: 1.3492 - mean_squared_error: 2.4505 - val_loss: 1.5726 - val_mean_squared_error: 3.0695\n",
      "Epoch 41/64\n",
      "33/33 [==============================] - 0s 4ms/step - loss: 1.3450 - mean_squared_error: 2.4419 - val_loss: 1.5706 - val_mean_squared_error: 3.0665\n",
      "Epoch 42/64\n",
      "33/33 [==============================] - 0s 4ms/step - loss: 1.3414 - mean_squared_error: 2.4333 - val_loss: 1.5697 - val_mean_squared_error: 3.0603\n",
      "Epoch 43/64\n",
      "33/33 [==============================] - 0s 4ms/step - loss: 1.3383 - mean_squared_error: 2.4327 - val_loss: 1.5704 - val_mean_squared_error: 3.0659\n",
      "Epoch 44/64\n",
      "33/33 [==============================] - 0s 4ms/step - loss: 1.3353 - mean_squared_error: 2.4248 - val_loss: 1.5689 - val_mean_squared_error: 3.0614\n",
      "Epoch 45/64\n",
      "33/33 [==============================] - 0s 3ms/step - loss: 1.3299 - mean_squared_error: 2.4077 - val_loss: 1.5684 - val_mean_squared_error: 3.0621\n",
      "Epoch 46/64\n",
      "33/33 [==============================] - 0s 4ms/step - loss: 1.3275 - mean_squared_error: 2.4046 - val_loss: 1.5663 - val_mean_squared_error: 3.0514\n",
      "Epoch 47/64\n",
      "33/33 [==============================] - 0s 4ms/step - loss: 1.3240 - mean_squared_error: 2.3970 - val_loss: 1.5654 - val_mean_squared_error: 3.0519\n",
      "Epoch 48/64\n",
      "33/33 [==============================] - 0s 4ms/step - loss: 1.3220 - mean_squared_error: 2.3982 - val_loss: 1.5669 - val_mean_squared_error: 3.0599\n",
      "Epoch 49/64\n",
      "33/33 [==============================] - 0s 4ms/step - loss: 1.3196 - mean_squared_error: 2.3913 - val_loss: 1.5645 - val_mean_squared_error: 3.0542\n",
      "Epoch 50/64\n",
      "33/33 [==============================] - 0s 4ms/step - loss: 1.3166 - mean_squared_error: 2.3813 - val_loss: 1.5631 - val_mean_squared_error: 3.0472\n",
      "Epoch 51/64\n",
      "33/33 [==============================] - 0s 4ms/step - loss: 1.3114 - mean_squared_error: 2.3707 - val_loss: 1.5638 - val_mean_squared_error: 3.0488\n",
      "Epoch 52/64\n",
      "33/33 [==============================] - 0s 3ms/step - loss: 1.3097 - mean_squared_error: 2.3662 - val_loss: 1.5659 - val_mean_squared_error: 3.0564\n",
      "Epoch 53/64\n",
      "33/33 [==============================] - 0s 4ms/step - loss: 1.3101 - mean_squared_error: 2.3687 - val_loss: 1.5610 - val_mean_squared_error: 3.0437\n",
      "Epoch 54/64\n",
      "33/33 [==============================] - 0s 4ms/step - loss: 1.3078 - mean_squared_error: 2.3646 - val_loss: 1.5633 - val_mean_squared_error: 3.0509\n",
      "Epoch 55/64\n",
      "33/33 [==============================] - 0s 4ms/step - loss: 1.3040 - mean_squared_error: 2.3543 - val_loss: 1.5605 - val_mean_squared_error: 3.0411\n",
      "Epoch 56/64\n",
      "33/33 [==============================] - 0s 4ms/step - loss: 1.2988 - mean_squared_error: 2.3427 - val_loss: 1.5598 - val_mean_squared_error: 3.0437\n",
      "Epoch 57/64\n",
      "33/33 [==============================] - 0s 4ms/step - loss: 1.2989 - mean_squared_error: 2.3460 - val_loss: 1.5575 - val_mean_squared_error: 3.0365\n",
      "Epoch 58/64\n",
      "33/33 [==============================] - 0s 5ms/step - loss: 1.2952 - mean_squared_error: 2.3398 - val_loss: 1.5605 - val_mean_squared_error: 3.0446\n",
      "Epoch 59/64\n",
      "33/33 [==============================] - 0s 4ms/step - loss: 1.2948 - mean_squared_error: 2.3348 - val_loss: 1.5589 - val_mean_squared_error: 3.0420\n",
      "Epoch 60/64\n",
      "33/33 [==============================] - 0s 4ms/step - loss: 1.2921 - mean_squared_error: 2.3365 - val_loss: 1.5582 - val_mean_squared_error: 3.0423\n",
      "Epoch 61/64\n",
      "33/33 [==============================] - 0s 4ms/step - loss: 1.2900 - mean_squared_error: 2.3290 - val_loss: 1.5593 - val_mean_squared_error: 3.0412\n",
      "Epoch 62/64\n",
      "33/33 [==============================] - 0s 4ms/step - loss: 1.2872 - mean_squared_error: 2.3213 - val_loss: 1.5563 - val_mean_squared_error: 3.0322\n",
      "Epoch 63/64\n",
      "33/33 [==============================] - 0s 4ms/step - loss: 1.2847 - mean_squared_error: 2.3216 - val_loss: 1.5558 - val_mean_squared_error: 3.0324\n",
      "Epoch 64/64\n",
      "33/33 [==============================] - 0s 5ms/step - loss: 1.2837 - mean_squared_error: 2.3181 - val_loss: 1.5585 - val_mean_squared_error: 3.0428\n"
     ]
    },
    {
     "data": {
      "image/png": "[encoded data removed]",
      "text/plain": [
       "<Figure size 576x576 with 2 Axes>"
      ]
     },
     "metadata": {
      "needs_background": "light"
     },
     "output_type": "display_data"
    },
    {
     "name": "stdout",
     "output_type": "stream",
     "text": [
      "16/16 [==============================] - 0s 3ms/step\n",
      "Correlación de Pearson: 0.31672707213798534\n"
     ]
    }
   ],
   "source": [
    "model = create_and_train_and_evaluate_model(mapped, mapped_val, embedding_size=100)"
   ]
  },
  {
   "cell_type": "markdown",
   "metadata": {
    "collapsed": false,
    "id": "oDA0wr-X8m7o"
   },
   "source": [
    "##### 2.2.Word2Vec + Mean ponderada (TF-IDF)"
   ]
  },
  {
   "cell_type": "code",
   "execution_count": 66,
   "metadata": {
    "id": "g8zH2ip08m7o"
   },
   "outputs": [],
   "source": [
    "mapped = map_pairs(input_pairs, tf_idf_model=modelo_tfidf, dictionary=diccionario )\n",
    "mapped_val = map_pairs(input_pairs_val, tf_idf_model=modelo_tfidf, dictionary=diccionario)"
   ]
  },
  {
   "cell_type": "code",
   "execution_count": 67,
   "metadata": {
    "id": "uSMyClBN8m7o"
   },
   "outputs": [
    {
     "name": "stdout",
     "output_type": "stream",
     "text": [
      "Model: \"model_22\"\n",
      "__________________________________________________________________________________________________\n",
      " Layer (type)                   Output Shape         Param #     Connected to                     \n",
      "==================================================================================================\n",
      " input_45 (InputLayer)          [(None, 100)]        0           []                               \n",
      "                                                                                                  \n",
      " input_46 (InputLayer)          [(None, 100)]        0           []                               \n",
      "                                                                                                  \n",
      " dense_16 (Dense)               (None, 100)          10100       ['input_45[0][0]',               \n",
      "                                                                  'input_46[0][0]']               \n",
      "                                                                                                  \n",
      " tf.math.l2_normalize_44 (TFOpL  (None, 100)         0           ['dense_16[0][0]']               \n",
      " ambda)                                                                                           \n",
      "                                                                                                  \n",
      " tf.math.l2_normalize_45 (TFOpL  (None, 100)         0           ['dense_16[1][0]']               \n",
      " ambda)                                                                                           \n",
      "                                                                                                  \n",
      " tf.math.multiply_44 (TFOpLambd  (None, 100)         0           ['tf.math.l2_normalize_44[0][0]',\n",
      " a)                                                               'tf.math.l2_normalize_45[0][0]']\n",
      "                                                                                                  \n",
      " tf.math.reduce_sum_22 (TFOpLam  (None,)             0           ['tf.math.multiply_44[0][0]']    \n",
      " bda)                                                                                             \n",
      "                                                                                                  \n",
      " tf.__operators__.add_22 (TFOpL  (None,)             0           ['tf.math.reduce_sum_22[0][0]']  \n",
      " ambda)                                                                                           \n",
      "                                                                                                  \n",
      " tf.math.multiply_45 (TFOpLambd  (None,)             0           ['tf.__operators__.add_22[0][0]']\n",
      " a)                                                                                               \n",
      "                                                                                                  \n",
      "==================================================================================================\n",
      "Total params: 10,100\n",
      "Trainable params: 10,100\n",
      "Non-trainable params: 0\n",
      "__________________________________________________________________________________________________\n",
      "None\n",
      "Epoch 1/64\n",
      "33/33 [==============================] - 2s 16ms/step - loss: 2.0571 - mean_squared_error: 4.8040 - val_loss: 1.8973 - val_mean_squared_error: 4.1713\n",
      "Epoch 2/64\n",
      "33/33 [==============================] - 0s 5ms/step - loss: 1.8939 - mean_squared_error: 4.1189 - val_loss: 1.8260 - val_mean_squared_error: 3.8979\n",
      "Epoch 3/64\n",
      "33/33 [==============================] - 0s 5ms/step - loss: 1.8148 - mean_squared_error: 3.8160 - val_loss: 1.7818 - val_mean_squared_error: 3.7341\n",
      "Epoch 4/64\n",
      "33/33 [==============================] - 0s 6ms/step - loss: 1.7592 - mean_squared_error: 3.6153 - val_loss: 1.7512 - val_mean_squared_error: 3.6266\n",
      "Epoch 5/64\n",
      "33/33 [==============================] - 0s 4ms/step - loss: 1.7163 - mean_squared_error: 3.4683 - val_loss: 1.7273 - val_mean_squared_error: 3.5460\n",
      "Epoch 6/64\n",
      "33/33 [==============================] - 0s 4ms/step - loss: 1.6813 - mean_squared_error: 3.3574 - val_loss: 1.7080 - val_mean_squared_error: 3.4819\n",
      "Epoch 7/64\n",
      "33/33 [==============================] - 0s 5ms/step - loss: 1.6514 - mean_squared_error: 3.2593 - val_loss: 1.6913 - val_mean_squared_error: 3.4270\n",
      "Epoch 8/64\n",
      "33/33 [==============================] - 0s 3ms/step - loss: 1.6247 - mean_squared_error: 3.1670 - val_loss: 1.6775 - val_mean_squared_error: 3.3828\n",
      "Epoch 9/64\n",
      "33/33 [==============================] - 0s 7ms/step - loss: 1.6008 - mean_squared_error: 3.0949 - val_loss: 1.6659 - val_mean_squared_error: 3.3443\n",
      "Epoch 10/64\n",
      "33/33 [==============================] - 0s 6ms/step - loss: 1.5785 - mean_squared_error: 3.0175 - val_loss: 1.6556 - val_mean_squared_error: 3.3118\n",
      "Epoch 11/64\n",
      "33/33 [==============================] - 0s 6ms/step - loss: 1.5595 - mean_squared_error: 2.9613 - val_loss: 1.6471 - val_mean_squared_error: 3.2853\n",
      "Epoch 12/64\n",
      "33/33 [==============================] - 0s 6ms/step - loss: 1.5424 - mean_squared_error: 2.9112 - val_loss: 1.6409 - val_mean_squared_error: 3.2675\n",
      "Epoch 13/64\n",
      "33/33 [==============================] - 0s 6ms/step - loss: 1.5267 - mean_squared_error: 2.8669 - val_loss: 1.6346 - val_mean_squared_error: 3.2493\n",
      "Epoch 14/64\n",
      "33/33 [==============================] - 0s 7ms/step - loss: 1.5134 - mean_squared_error: 2.8298 - val_loss: 1.6292 - val_mean_squared_error: 3.2341\n",
      "Epoch 15/64\n",
      "33/33 [==============================] - 0s 4ms/step - loss: 1.5005 - mean_squared_error: 2.7938 - val_loss: 1.6254 - val_mean_squared_error: 3.2237\n",
      "Epoch 16/64\n",
      "33/33 [==============================] - 0s 6ms/step - loss: 1.4887 - mean_squared_error: 2.7660 - val_loss: 1.6207 - val_mean_squared_error: 3.2097\n",
      "Epoch 17/64\n",
      "33/33 [==============================] - 0s 5ms/step - loss: 1.4782 - mean_squared_error: 2.7319 - val_loss: 1.6157 - val_mean_squared_error: 3.1961\n",
      "Epoch 18/64\n",
      "33/33 [==============================] - 0s 5ms/step - loss: 1.4680 - mean_squared_error: 2.7090 - val_loss: 1.6152 - val_mean_squared_error: 3.1941\n",
      "Epoch 19/64\n",
      "33/33 [==============================] - 0s 5ms/step - loss: 1.4587 - mean_squared_error: 2.6791 - val_loss: 1.6108 - val_mean_squared_error: 3.1833\n",
      "Epoch 20/64\n",
      "33/33 [==============================] - 0s 6ms/step - loss: 1.4497 - mean_squared_error: 2.6554 - val_loss: 1.6062 - val_mean_squared_error: 3.1697\n",
      "Epoch 21/64\n",
      "33/33 [==============================] - 0s 6ms/step - loss: 1.4407 - mean_squared_error: 2.6308 - val_loss: 1.6059 - val_mean_squared_error: 3.1695\n",
      "Epoch 22/64\n",
      "33/33 [==============================] - 0s 6ms/step - loss: 1.4329 - mean_squared_error: 2.6114 - val_loss: 1.6051 - val_mean_squared_error: 3.1680\n",
      "Epoch 23/64\n",
      "33/33 [==============================] - 0s 6ms/step - loss: 1.4247 - mean_squared_error: 2.5907 - val_loss: 1.5992 - val_mean_squared_error: 3.1529\n",
      "Epoch 24/64\n",
      "33/33 [==============================] - 0s 6ms/step - loss: 1.4169 - mean_squared_error: 2.5710 - val_loss: 1.5981 - val_mean_squared_error: 3.1488\n",
      "Epoch 25/64\n",
      "33/33 [==============================] - 0s 4ms/step - loss: 1.4098 - mean_squared_error: 2.5548 - val_loss: 1.5966 - val_mean_squared_error: 3.1445\n",
      "Epoch 26/64\n",
      "33/33 [==============================] - 0s 5ms/step - loss: 1.4033 - mean_squared_error: 2.5408 - val_loss: 1.5953 - val_mean_squared_error: 3.1446\n",
      "Epoch 27/64\n",
      "33/33 [==============================] - 0s 5ms/step - loss: 1.3962 - mean_squared_error: 2.5218 - val_loss: 1.5941 - val_mean_squared_error: 3.1411\n",
      "Epoch 28/64\n",
      "33/33 [==============================] - 0s 4ms/step - loss: 1.3905 - mean_squared_error: 2.5141 - val_loss: 1.5913 - val_mean_squared_error: 3.1335\n",
      "Epoch 29/64\n",
      "33/33 [==============================] - 0s 5ms/step - loss: 1.3841 - mean_squared_error: 2.4990 - val_loss: 1.5881 - val_mean_squared_error: 3.1263\n",
      "Epoch 30/64\n",
      "33/33 [==============================] - 0s 6ms/step - loss: 1.3780 - mean_squared_error: 2.4808 - val_loss: 1.5898 - val_mean_squared_error: 3.1320\n",
      "Epoch 31/64\n",
      "33/33 [==============================] - 0s 4ms/step - loss: 1.3721 - mean_squared_error: 2.4670 - val_loss: 1.5870 - val_mean_squared_error: 3.1271\n",
      "Epoch 32/64\n",
      "33/33 [==============================] - 0s 5ms/step - loss: 1.3667 - mean_squared_error: 2.4555 - val_loss: 1.5841 - val_mean_squared_error: 3.1205\n",
      "Epoch 33/64\n",
      "33/33 [==============================] - 0s 5ms/step - loss: 1.3631 - mean_squared_error: 2.4469 - val_loss: 1.5851 - val_mean_squared_error: 3.1239\n",
      "Epoch 34/64\n",
      "33/33 [==============================] - 0s 4ms/step - loss: 1.3567 - mean_squared_error: 2.4331 - val_loss: 1.5838 - val_mean_squared_error: 3.1213\n",
      "Epoch 35/64\n",
      "33/33 [==============================] - 0s 6ms/step - loss: 1.3528 - mean_squared_error: 2.4236 - val_loss: 1.5822 - val_mean_squared_error: 3.1177\n",
      "Epoch 36/64\n",
      "33/33 [==============================] - 0s 6ms/step - loss: 1.3474 - mean_squared_error: 2.4140 - val_loss: 1.5839 - val_mean_squared_error: 3.1259\n",
      "Epoch 37/64\n",
      "33/33 [==============================] - 0s 4ms/step - loss: 1.3432 - mean_squared_error: 2.4081 - val_loss: 1.5802 - val_mean_squared_error: 3.1142\n",
      "Epoch 38/64\n",
      "33/33 [==============================] - 0s 5ms/step - loss: 1.3388 - mean_squared_error: 2.3952 - val_loss: 1.5809 - val_mean_squared_error: 3.1194\n",
      "Epoch 39/64\n",
      "33/33 [==============================] - 0s 6ms/step - loss: 1.3349 - mean_squared_error: 2.3859 - val_loss: 1.5777 - val_mean_squared_error: 3.1100\n",
      "Epoch 40/64\n",
      "33/33 [==============================] - 0s 4ms/step - loss: 1.3312 - mean_squared_error: 2.3785 - val_loss: 1.5807 - val_mean_squared_error: 3.1217\n",
      "Epoch 41/64\n",
      "33/33 [==============================] - 0s 5ms/step - loss: 1.3268 - mean_squared_error: 2.3688 - val_loss: 1.5774 - val_mean_squared_error: 3.1123\n",
      "Epoch 42/64\n",
      "33/33 [==============================] - 0s 6ms/step - loss: 1.3242 - mean_squared_error: 2.3640 - val_loss: 1.5823 - val_mean_squared_error: 3.1295\n",
      "Epoch 43/64\n",
      "33/33 [==============================] - 0s 6ms/step - loss: 1.3195 - mean_squared_error: 2.3538 - val_loss: 1.5752 - val_mean_squared_error: 3.1081\n",
      "Epoch 44/64\n",
      "33/33 [==============================] - 0s 5ms/step - loss: 1.3148 - mean_squared_error: 2.3448 - val_loss: 1.5741 - val_mean_squared_error: 3.1061\n",
      "Epoch 45/64\n",
      "33/33 [==============================] - 0s 5ms/step - loss: 1.3132 - mean_squared_error: 2.3403 - val_loss: 1.5759 - val_mean_squared_error: 3.1154\n",
      "Epoch 46/64\n",
      "33/33 [==============================] - 0s 5ms/step - loss: 1.3089 - mean_squared_error: 2.3343 - val_loss: 1.5765 - val_mean_squared_error: 3.1170\n",
      "Epoch 47/64\n",
      "33/33 [==============================] - 0s 6ms/step - loss: 1.3053 - mean_squared_error: 2.3258 - val_loss: 1.5754 - val_mean_squared_error: 3.1139\n",
      "Epoch 48/64\n",
      "33/33 [==============================] - 0s 6ms/step - loss: 1.3045 - mean_squared_error: 2.3272 - val_loss: 1.5742 - val_mean_squared_error: 3.1134\n",
      "Epoch 49/64\n",
      "33/33 [==============================] - 0s 5ms/step - loss: 1.2998 - mean_squared_error: 2.3157 - val_loss: 1.5730 - val_mean_squared_error: 3.1098\n",
      "Epoch 50/64\n",
      "33/33 [==============================] - 0s 5ms/step - loss: 1.2970 - mean_squared_error: 2.3131 - val_loss: 1.5716 - val_mean_squared_error: 3.1091\n",
      "Epoch 51/64\n",
      "33/33 [==============================] - 0s 6ms/step - loss: 1.2940 - mean_squared_error: 2.3035 - val_loss: 1.5699 - val_mean_squared_error: 3.1041\n",
      "Epoch 52/64\n",
      "33/33 [==============================] - 0s 4ms/step - loss: 1.2900 - mean_squared_error: 2.2961 - val_loss: 1.5739 - val_mean_squared_error: 3.1151\n",
      "Epoch 53/64\n",
      "33/33 [==============================] - 0s 6ms/step - loss: 1.2904 - mean_squared_error: 2.2937 - val_loss: 1.5763 - val_mean_squared_error: 3.1267\n",
      "Epoch 54/64\n",
      "33/33 [==============================] - 0s 6ms/step - loss: 1.2848 - mean_squared_error: 2.2848 - val_loss: 1.5704 - val_mean_squared_error: 3.1089\n",
      "Epoch 55/64\n",
      "33/33 [==============================] - 0s 6ms/step - loss: 1.2826 - mean_squared_error: 2.2875 - val_loss: 1.5670 - val_mean_squared_error: 3.0974\n",
      "Epoch 56/64\n",
      "33/33 [==============================] - 0s 6ms/step - loss: 1.2814 - mean_squared_error: 2.2800 - val_loss: 1.5691 - val_mean_squared_error: 3.1074\n",
      "Epoch 57/64\n",
      "33/33 [==============================] - 0s 5ms/step - loss: 1.2778 - mean_squared_error: 2.2719 - val_loss: 1.5716 - val_mean_squared_error: 3.1158\n",
      "Epoch 58/64\n",
      "33/33 [==============================] - 0s 6ms/step - loss: 1.2771 - mean_squared_error: 2.2708 - val_loss: 1.5715 - val_mean_squared_error: 3.1107\n",
      "Epoch 59/64\n",
      "33/33 [==============================] - 0s 6ms/step - loss: 1.2738 - mean_squared_error: 2.2674 - val_loss: 1.5668 - val_mean_squared_error: 3.0976\n",
      "Epoch 60/64\n",
      "33/33 [==============================] - 0s 5ms/step - loss: 1.2710 - mean_squared_error: 2.2628 - val_loss: 1.5651 - val_mean_squared_error: 3.0960\n",
      "Epoch 61/64\n",
      "33/33 [==============================] - 0s 5ms/step - loss: 1.2692 - mean_squared_error: 2.2561 - val_loss: 1.5694 - val_mean_squared_error: 3.1114\n",
      "Epoch 62/64\n",
      "33/33 [==============================] - 0s 6ms/step - loss: 1.2679 - mean_squared_error: 2.2532 - val_loss: 1.5703 - val_mean_squared_error: 3.1132\n",
      "Epoch 63/64\n",
      "33/33 [==============================] - 0s 3ms/step - loss: 1.2640 - mean_squared_error: 2.2463 - val_loss: 1.5696 - val_mean_squared_error: 3.1092\n",
      "Epoch 64/64\n",
      "33/33 [==============================] - 0s 6ms/step - loss: 1.2632 - mean_squared_error: 2.2453 - val_loss: 1.5648 - val_mean_squared_error: 3.0943\n"
     ]
    },
    {
     "data": {
      "image/png": "[encoded data removed]",
      "text/plain": [
       "<Figure size 576x576 with 2 Axes>"
      ]
     },
     "metadata": {
      "needs_background": "light"
     },
     "output_type": "display_data"
    },
    {
     "name": "stdout",
     "output_type": "stream",
     "text": [
      "16/16 [==============================] - 0s 3ms/step\n",
      "Correlación de Pearson: 0.30036529222154734\n"
     ]
    }
   ],
   "source": [
    "model = create_and_train_and_evaluate_model(mapped, mapped_val, embedding_size=100)"
   ]
  },
  {
   "cell_type": "markdown",
   "metadata": {
    "collapsed": false,
    "id": "GsHl1GQD8m72"
   },
   "source": [
    "#### 3.Spacy"
   ]
  },
  {
   "cell_type": "code",
   "execution_count": 68,
   "metadata": {
    "id": "x-Q4cmr38m72"
   },
   "outputs": [],
   "source": [
    "mapped = map_pairs(input_pairs, Spasii=True, dictionary=diccionario )\n",
    "mapped_val = map_pairs(input_pairs_val, Spasii=True, dictionary=diccionario)"
   ]
  },
  {
   "cell_type": "code",
   "execution_count": 70,
   "metadata": {
    "id": "juK2JoYz8m72"
   },
   "outputs": [
    {
     "name": "stdout",
     "output_type": "stream",
     "text": [
      "Model: \"model_24\"\n",
      "__________________________________________________________________________________________________\n",
      " Layer (type)                   Output Shape         Param #     Connected to                     \n",
      "==================================================================================================\n",
      " input_49 (InputLayer)          [(None, 300)]        0           []                               \n",
      "                                                                                                  \n",
      " input_50 (InputLayer)          [(None, 300)]        0           []                               \n",
      "                                                                                                  \n",
      " dense_18 (Dense)               (None, 300)          90300       ['input_49[0][0]',               \n",
      "                                                                  'input_50[0][0]']               \n",
      "                                                                                                  \n",
      " tf.math.l2_normalize_48 (TFOpL  (None, 300)         0           ['dense_18[0][0]']               \n",
      " ambda)                                                                                           \n",
      "                                                                                                  \n",
      " tf.math.l2_normalize_49 (TFOpL  (None, 300)         0           ['dense_18[1][0]']               \n",
      " ambda)                                                                                           \n",
      "                                                                                                  \n",
      " tf.math.multiply_48 (TFOpLambd  (None, 300)         0           ['tf.math.l2_normalize_48[0][0]',\n",
      " a)                                                               'tf.math.l2_normalize_49[0][0]']\n",
      "                                                                                                  \n",
      " tf.math.reduce_sum_24 (TFOpLam  (None,)             0           ['tf.math.multiply_48[0][0]']    \n",
      " bda)                                                                                             \n",
      "                                                                                                  \n",
      " tf.__operators__.add_24 (TFOpL  (None,)             0           ['tf.math.reduce_sum_24[0][0]']  \n",
      " ambda)                                                                                           \n",
      "                                                                                                  \n",
      " tf.math.multiply_49 (TFOpLambd  (None,)             0           ['tf.__operators__.add_24[0][0]']\n",
      " a)                                                                                               \n",
      "                                                                                                  \n",
      "==================================================================================================\n",
      "Total params: 90,300\n",
      "Trainable params: 90,300\n",
      "Non-trainable params: 0\n",
      "__________________________________________________________________________________________________\n",
      "None\n",
      "Epoch 1/64\n",
      "33/33 [==============================] - 1s 11ms/step - loss: 1.8004 - mean_squared_error: 3.9161 - val_loss: 1.5952 - val_mean_squared_error: 3.3923\n",
      "Epoch 2/64\n",
      "33/33 [==============================] - 0s 5ms/step - loss: 1.6013 - mean_squared_error: 3.3003 - val_loss: 1.5378 - val_mean_squared_error: 3.1925\n",
      "Epoch 3/64\n",
      "33/33 [==============================] - 0s 5ms/step - loss: 1.5317 - mean_squared_error: 3.0881 - val_loss: 1.5094 - val_mean_squared_error: 3.0872\n",
      "Epoch 4/64\n",
      "33/33 [==============================] - 0s 5ms/step - loss: 1.4841 - mean_squared_error: 2.9524 - val_loss: 1.4920 - val_mean_squared_error: 3.0381\n",
      "Epoch 5/64\n",
      "33/33 [==============================] - 0s 5ms/step - loss: 1.4473 - mean_squared_error: 2.8490 - val_loss: 1.4759 - val_mean_squared_error: 2.9820\n",
      "Epoch 6/64\n",
      "33/33 [==============================] - 0s 5ms/step - loss: 1.4185 - mean_squared_error: 2.7738 - val_loss: 1.4738 - val_mean_squared_error: 2.9802\n",
      "Epoch 7/64\n",
      "33/33 [==============================] - 0s 5ms/step - loss: 1.3901 - mean_squared_error: 2.6991 - val_loss: 1.4657 - val_mean_squared_error: 2.9485\n",
      "Epoch 8/64\n",
      "33/33 [==============================] - 0s 5ms/step - loss: 1.3693 - mean_squared_error: 2.6396 - val_loss: 1.4527 - val_mean_squared_error: 2.9011\n",
      "Epoch 9/64\n",
      "33/33 [==============================] - 0s 4ms/step - loss: 1.3482 - mean_squared_error: 2.5840 - val_loss: 1.4507 - val_mean_squared_error: 2.8852\n",
      "Epoch 10/64\n",
      "33/33 [==============================] - 0s 6ms/step - loss: 1.3243 - mean_squared_error: 2.5201 - val_loss: 1.4424 - val_mean_squared_error: 2.8655\n",
      "Epoch 11/64\n",
      "33/33 [==============================] - 0s 5ms/step - loss: 1.3072 - mean_squared_error: 2.4740 - val_loss: 1.4399 - val_mean_squared_error: 2.8504\n",
      "Epoch 12/64\n",
      "33/33 [==============================] - 0s 6ms/step - loss: 1.2882 - mean_squared_error: 2.4240 - val_loss: 1.4370 - val_mean_squared_error: 2.8366\n",
      "Epoch 13/64\n",
      "33/33 [==============================] - 0s 8ms/step - loss: 1.2718 - mean_squared_error: 2.3793 - val_loss: 1.4354 - val_mean_squared_error: 2.8239\n",
      "Epoch 14/64\n",
      "33/33 [==============================] - 0s 8ms/step - loss: 1.2612 - mean_squared_error: 2.3443 - val_loss: 1.4328 - val_mean_squared_error: 2.8159\n",
      "Epoch 15/64\n",
      "33/33 [==============================] - 0s 7ms/step - loss: 1.2473 - mean_squared_error: 2.3110 - val_loss: 1.4452 - val_mean_squared_error: 2.8491\n",
      "Epoch 16/64\n",
      "33/33 [==============================] - 0s 8ms/step - loss: 1.2332 - mean_squared_error: 2.2695 - val_loss: 1.4309 - val_mean_squared_error: 2.8034\n",
      "Epoch 17/64\n",
      "33/33 [==============================] - 0s 8ms/step - loss: 1.2197 - mean_squared_error: 2.2373 - val_loss: 1.4252 - val_mean_squared_error: 2.7790\n",
      "Epoch 18/64\n",
      "33/33 [==============================] - 0s 8ms/step - loss: 1.2031 - mean_squared_error: 2.1982 - val_loss: 1.4267 - val_mean_squared_error: 2.7900\n",
      "Epoch 19/64\n",
      "33/33 [==============================] - 0s 7ms/step - loss: 1.1985 - mean_squared_error: 2.1807 - val_loss: 1.4272 - val_mean_squared_error: 2.7769\n",
      "Epoch 20/64\n",
      "33/33 [==============================] - 0s 8ms/step - loss: 1.1856 - mean_squared_error: 2.1499 - val_loss: 1.4254 - val_mean_squared_error: 2.7778\n",
      "Epoch 21/64\n",
      "33/33 [==============================] - 0s 5ms/step - loss: 1.1770 - mean_squared_error: 2.1269 - val_loss: 1.4235 - val_mean_squared_error: 2.7621\n",
      "Epoch 22/64\n",
      "33/33 [==============================] - 0s 8ms/step - loss: 1.1610 - mean_squared_error: 2.0859 - val_loss: 1.4242 - val_mean_squared_error: 2.7739\n",
      "Epoch 23/64\n",
      "33/33 [==============================] - 0s 9ms/step - loss: 1.1614 - mean_squared_error: 2.0829 - val_loss: 1.4151 - val_mean_squared_error: 2.7381\n",
      "Epoch 24/64\n",
      "33/33 [==============================] - 0s 7ms/step - loss: 1.1420 - mean_squared_error: 2.0486 - val_loss: 1.4128 - val_mean_squared_error: 2.7300\n",
      "Epoch 25/64\n",
      "33/33 [==============================] - 0s 8ms/step - loss: 1.1352 - mean_squared_error: 2.0272 - val_loss: 1.4362 - val_mean_squared_error: 2.7884\n",
      "Epoch 26/64\n",
      "33/33 [==============================] - 0s 8ms/step - loss: 1.1352 - mean_squared_error: 2.0178 - val_loss: 1.4101 - val_mean_squared_error: 2.7259\n",
      "Epoch 27/64\n",
      "33/33 [==============================] - 0s 8ms/step - loss: 1.1197 - mean_squared_error: 1.9829 - val_loss: 1.4075 - val_mean_squared_error: 2.7066\n",
      "Epoch 28/64\n",
      "33/33 [==============================] - 0s 8ms/step - loss: 1.1092 - mean_squared_error: 1.9641 - val_loss: 1.4205 - val_mean_squared_error: 2.7455\n",
      "Epoch 29/64\n",
      "33/33 [==============================] - 0s 8ms/step - loss: 1.1133 - mean_squared_error: 1.9655 - val_loss: 1.4112 - val_mean_squared_error: 2.7153\n",
      "Epoch 30/64\n",
      "33/33 [==============================] - 0s 7ms/step - loss: 1.0976 - mean_squared_error: 1.9353 - val_loss: 1.4209 - val_mean_squared_error: 2.7402\n",
      "Epoch 31/64\n",
      "33/33 [==============================] - 0s 7ms/step - loss: 1.0921 - mean_squared_error: 1.9226 - val_loss: 1.4126 - val_mean_squared_error: 2.7176\n",
      "Epoch 32/64\n",
      "33/33 [==============================] - 0s 7ms/step - loss: 1.0853 - mean_squared_error: 1.9052 - val_loss: 1.4068 - val_mean_squared_error: 2.6961\n",
      "Epoch 33/64\n",
      "33/33 [==============================] - 0s 8ms/step - loss: 1.0796 - mean_squared_error: 1.8888 - val_loss: 1.4062 - val_mean_squared_error: 2.6853\n",
      "Epoch 34/64\n",
      "33/33 [==============================] - 0s 8ms/step - loss: 1.0715 - mean_squared_error: 1.8696 - val_loss: 1.4035 - val_mean_squared_error: 2.6820\n",
      "Epoch 35/64\n",
      "33/33 [==============================] - 0s 8ms/step - loss: 1.0674 - mean_squared_error: 1.8560 - val_loss: 1.4171 - val_mean_squared_error: 2.7252\n",
      "Epoch 36/64\n",
      "33/33 [==============================] - 0s 8ms/step - loss: 1.0668 - mean_squared_error: 1.8512 - val_loss: 1.4036 - val_mean_squared_error: 2.6727\n",
      "Epoch 37/64\n",
      "33/33 [==============================] - 0s 7ms/step - loss: 1.0492 - mean_squared_error: 1.8241 - val_loss: 1.4059 - val_mean_squared_error: 2.6863\n",
      "Epoch 38/64\n",
      "33/33 [==============================] - 0s 7ms/step - loss: 1.0498 - mean_squared_error: 1.8235 - val_loss: 1.4082 - val_mean_squared_error: 2.6896\n",
      "Epoch 39/64\n",
      "33/33 [==============================] - 0s 8ms/step - loss: 1.0507 - mean_squared_error: 1.8155 - val_loss: 1.4079 - val_mean_squared_error: 2.6952\n",
      "Epoch 40/64\n",
      "33/33 [==============================] - 0s 6ms/step - loss: 1.0383 - mean_squared_error: 1.7973 - val_loss: 1.4071 - val_mean_squared_error: 2.6828\n",
      "Epoch 41/64\n",
      "33/33 [==============================] - 0s 7ms/step - loss: 1.0309 - mean_squared_error: 1.7851 - val_loss: 1.4040 - val_mean_squared_error: 2.6750\n",
      "Epoch 42/64\n",
      "33/33 [==============================] - 0s 8ms/step - loss: 1.0273 - mean_squared_error: 1.7731 - val_loss: 1.3950 - val_mean_squared_error: 2.6465\n",
      "Epoch 43/64\n",
      "33/33 [==============================] - 0s 7ms/step - loss: 1.0257 - mean_squared_error: 1.7621 - val_loss: 1.4076 - val_mean_squared_error: 2.6850\n",
      "Epoch 44/64\n",
      "33/33 [==============================] - 0s 7ms/step - loss: 1.0198 - mean_squared_error: 1.7548 - val_loss: 1.4097 - val_mean_squared_error: 2.6895\n",
      "Epoch 45/64\n",
      "33/33 [==============================] - 0s 8ms/step - loss: 1.0152 - mean_squared_error: 1.7492 - val_loss: 1.4017 - val_mean_squared_error: 2.6657\n",
      "Epoch 46/64\n",
      "33/33 [==============================] - 0s 7ms/step - loss: 1.0173 - mean_squared_error: 1.7437 - val_loss: 1.4042 - val_mean_squared_error: 2.6662\n",
      "Epoch 47/64\n",
      "33/33 [==============================] - 0s 8ms/step - loss: 1.0100 - mean_squared_error: 1.7342 - val_loss: 1.4114 - val_mean_squared_error: 2.6914\n",
      "Epoch 48/64\n",
      "33/33 [==============================] - 0s 7ms/step - loss: 1.0027 - mean_squared_error: 1.7163 - val_loss: 1.3934 - val_mean_squared_error: 2.6378\n",
      "Epoch 49/64\n",
      "33/33 [==============================] - 0s 6ms/step - loss: 0.9946 - mean_squared_error: 1.7057 - val_loss: 1.4063 - val_mean_squared_error: 2.6742\n",
      "Epoch 50/64\n",
      "33/33 [==============================] - 0s 6ms/step - loss: 1.0036 - mean_squared_error: 1.7087 - val_loss: 1.3973 - val_mean_squared_error: 2.6543\n",
      "Epoch 51/64\n",
      "33/33 [==============================] - 0s 8ms/step - loss: 0.9895 - mean_squared_error: 1.6882 - val_loss: 1.4063 - val_mean_squared_error: 2.6687\n",
      "Epoch 52/64\n",
      "33/33 [==============================] - 0s 8ms/step - loss: 0.9889 - mean_squared_error: 1.6823 - val_loss: 1.4003 - val_mean_squared_error: 2.6604\n",
      "Epoch 53/64\n",
      "33/33 [==============================] - 0s 7ms/step - loss: 0.9847 - mean_squared_error: 1.6796 - val_loss: 1.4035 - val_mean_squared_error: 2.6613\n",
      "Epoch 54/64\n",
      "33/33 [==============================] - 0s 8ms/step - loss: 0.9811 - mean_squared_error: 1.6721 - val_loss: 1.4006 - val_mean_squared_error: 2.6578\n",
      "Epoch 55/64\n",
      "33/33 [==============================] - 0s 8ms/step - loss: 0.9790 - mean_squared_error: 1.6663 - val_loss: 1.4035 - val_mean_squared_error: 2.6741\n",
      "Epoch 56/64\n",
      "33/33 [==============================] - 0s 8ms/step - loss: 0.9771 - mean_squared_error: 1.6632 - val_loss: 1.4010 - val_mean_squared_error: 2.6623\n",
      "Epoch 57/64\n",
      "33/33 [==============================] - 0s 8ms/step - loss: 0.9745 - mean_squared_error: 1.6598 - val_loss: 1.4063 - val_mean_squared_error: 2.6683\n",
      "Epoch 58/64\n",
      "33/33 [==============================] - 0s 8ms/step - loss: 0.9747 - mean_squared_error: 1.6508 - val_loss: 1.3944 - val_mean_squared_error: 2.6419\n",
      "Epoch 59/64\n",
      "33/33 [==============================] - 0s 5ms/step - loss: 0.9702 - mean_squared_error: 1.6438 - val_loss: 1.3936 - val_mean_squared_error: 2.6290\n",
      "Epoch 60/64\n",
      "33/33 [==============================] - 0s 7ms/step - loss: 0.9657 - mean_squared_error: 1.6299 - val_loss: 1.3900 - val_mean_squared_error: 2.6261\n",
      "Epoch 61/64\n",
      "33/33 [==============================] - 0s 6ms/step - loss: 0.9703 - mean_squared_error: 1.6416 - val_loss: 1.4021 - val_mean_squared_error: 2.6638\n",
      "Epoch 62/64\n",
      "33/33 [==============================] - 0s 6ms/step - loss: 0.9595 - mean_squared_error: 1.6208 - val_loss: 1.4081 - val_mean_squared_error: 2.6789\n",
      "Epoch 63/64\n",
      "33/33 [==============================] - 0s 8ms/step - loss: 0.9600 - mean_squared_error: 1.6211 - val_loss: 1.3947 - val_mean_squared_error: 2.6402\n",
      "Epoch 64/64\n",
      "33/33 [==============================] - 0s 8ms/step - loss: 0.9528 - mean_squared_error: 1.6132 - val_loss: 1.4003 - val_mean_squared_error: 2.6495\n"
     ]
    },
    {
     "data": {
      "image/png": "[encoded data removed]",
      "text/plain": [
       "<Figure size 576x576 with 2 Axes>"
      ]
     },
     "metadata": {
      "needs_background": "light"
     },
     "output_type": "display_data"
    },
    {
     "name": "stdout",
     "output_type": "stream",
     "text": [
      "16/16 [==============================] - 0s 2ms/step\n",
      "Correlación de Pearson: 0.27898310913701463\n"
     ]
    }
   ],
   "source": [
    "model = create_and_train_and_evaluate_model(mapped, mapped_val, embedding_size=300)"
   ]
  },
  {
   "cell_type": "markdown",
   "metadata": {
    "collapsed": false,
    "id": "SkeQ57oO8m72"
   },
   "source": [
    "#### 4.RoBERTa"
   ]
  },
  {
   "cell_type": "markdown",
   "metadata": {
    "collapsed": false,
    "id": "CBGLTSu28m73"
   },
   "source": [
    "##### 4.1.CLS"
   ]
  },
  {
   "cell_type": "code",
   "execution_count": 75,
   "metadata": {
    "id": "GjFoNCWB8m73"
   },
   "outputs": [],
   "source": [
    "mapped = map_pairs(input_pairs, RobertA=True, dictionary=diccionario )\n",
    "mapped_val = map_pairs(input_pairs_val, RobertA=True, dictionary=diccionario)"
   ]
  },
  {
   "cell_type": "code",
   "execution_count": 76,
   "metadata": {
    "id": "ClT4pyhg8m73"
   },
   "outputs": [
    {
     "name": "stdout",
     "output_type": "stream",
     "text": [
      "Model: \"model_27\"\n",
      "__________________________________________________________________________________________________\n",
      " Layer (type)                   Output Shape         Param #     Connected to                     \n",
      "==================================================================================================\n",
      " input_55 (InputLayer)          [(None, 768)]        0           []                               \n",
      "                                                                                                  \n",
      " input_56 (InputLayer)          [(None, 768)]        0           []                               \n",
      "                                                                                                  \n",
      " dense_21 (Dense)               (None, 768)          590592      ['input_55[0][0]',               \n",
      "                                                                  'input_56[0][0]']               \n",
      "                                                                                                  \n",
      " tf.math.l2_normalize_54 (TFOpL  (None, 768)         0           ['dense_21[0][0]']               \n",
      " ambda)                                                                                           \n",
      "                                                                                                  \n",
      " tf.math.l2_normalize_55 (TFOpL  (None, 768)         0           ['dense_21[1][0]']               \n",
      " ambda)                                                                                           \n",
      "                                                                                                  \n",
      " tf.math.multiply_54 (TFOpLambd  (None, 768)         0           ['tf.math.l2_normalize_54[0][0]',\n",
      " a)                                                               'tf.math.l2_normalize_55[0][0]']\n",
      "                                                                                                  \n",
      " tf.math.reduce_sum_27 (TFOpLam  (None,)             0           ['tf.math.multiply_54[0][0]']    \n",
      " bda)                                                                                             \n",
      "                                                                                                  \n",
      " tf.__operators__.add_27 (TFOpL  (None,)             0           ['tf.math.reduce_sum_27[0][0]']  \n",
      " ambda)                                                                                           \n",
      "                                                                                                  \n",
      " tf.math.multiply_55 (TFOpLambd  (None,)             0           ['tf.__operators__.add_27[0][0]']\n",
      " a)                                                                                               \n",
      "                                                                                                  \n",
      "==================================================================================================\n",
      "Total params: 590,592\n",
      "Trainable params: 590,592\n",
      "Non-trainable params: 0\n",
      "__________________________________________________________________________________________________\n",
      "None\n",
      "Epoch 1/64\n",
      "33/33 [==============================] - 3s 19ms/step - loss: 1.5080 - mean_squared_error: 3.0656 - val_loss: 1.2705 - val_mean_squared_error: 2.3219\n",
      "Epoch 2/64\n",
      "33/33 [==============================] - 0s 11ms/step - loss: 1.2948 - mean_squared_error: 2.3824 - val_loss: 1.2586 - val_mean_squared_error: 2.2980\n",
      "Epoch 3/64\n",
      "33/33 [==============================] - 0s 9ms/step - loss: 1.2440 - mean_squared_error: 2.2333 - val_loss: 1.2085 - val_mean_squared_error: 2.1392\n",
      "Epoch 4/64\n",
      "33/33 [==============================] - 0s 10ms/step - loss: 1.1839 - mean_squared_error: 2.0671 - val_loss: 1.1955 - val_mean_squared_error: 2.0722\n",
      "Epoch 5/64\n",
      "33/33 [==============================] - 0s 9ms/step - loss: 1.1480 - mean_squared_error: 1.9607 - val_loss: 1.2192 - val_mean_squared_error: 2.1241\n",
      "Epoch 6/64\n",
      "33/33 [==============================] - 0s 10ms/step - loss: 1.1201 - mean_squared_error: 1.8888 - val_loss: 1.1864 - val_mean_squared_error: 2.0223\n",
      "Epoch 7/64\n",
      "33/33 [==============================] - 0s 9ms/step - loss: 1.0852 - mean_squared_error: 1.7975 - val_loss: 1.2163 - val_mean_squared_error: 2.1070\n",
      "Epoch 8/64\n",
      "33/33 [==============================] - 0s 9ms/step - loss: 1.0843 - mean_squared_error: 1.7961 - val_loss: 1.1466 - val_mean_squared_error: 1.9025\n",
      "Epoch 9/64\n",
      "33/33 [==============================] - 0s 9ms/step - loss: 1.0563 - mean_squared_error: 1.7319 - val_loss: 1.2118 - val_mean_squared_error: 2.1000\n",
      "Epoch 10/64\n",
      "33/33 [==============================] - 0s 10ms/step - loss: 1.0499 - mean_squared_error: 1.7200 - val_loss: 1.1828 - val_mean_squared_error: 2.0044\n",
      "Epoch 11/64\n",
      "33/33 [==============================] - 0s 9ms/step - loss: 1.0319 - mean_squared_error: 1.6731 - val_loss: 1.1801 - val_mean_squared_error: 2.0025\n",
      "Epoch 12/64\n",
      "33/33 [==============================] - 0s 11ms/step - loss: 1.0183 - mean_squared_error: 1.6409 - val_loss: 1.1795 - val_mean_squared_error: 2.0083\n",
      "Epoch 13/64\n",
      "33/33 [==============================] - 0s 9ms/step - loss: 1.0062 - mean_squared_error: 1.6185 - val_loss: 1.1759 - val_mean_squared_error: 1.9788\n",
      "Epoch 14/64\n",
      "33/33 [==============================] - 0s 9ms/step - loss: 0.9932 - mean_squared_error: 1.5762 - val_loss: 1.1445 - val_mean_squared_error: 1.8868\n",
      "Epoch 15/64\n",
      "33/33 [==============================] - 0s 9ms/step - loss: 0.9761 - mean_squared_error: 1.5331 - val_loss: 1.1370 - val_mean_squared_error: 1.8867\n",
      "Epoch 16/64\n",
      "33/33 [==============================] - 0s 9ms/step - loss: 0.9686 - mean_squared_error: 1.5187 - val_loss: 1.1375 - val_mean_squared_error: 1.8640\n",
      "Epoch 17/64\n",
      "33/33 [==============================] - 0s 10ms/step - loss: 0.9626 - mean_squared_error: 1.5006 - val_loss: 1.1360 - val_mean_squared_error: 1.8687\n",
      "Epoch 18/64\n",
      "33/33 [==============================] - 0s 9ms/step - loss: 0.9501 - mean_squared_error: 1.4813 - val_loss: 1.1397 - val_mean_squared_error: 1.8856\n",
      "Epoch 19/64\n",
      "33/33 [==============================] - 0s 9ms/step - loss: 0.9310 - mean_squared_error: 1.4358 - val_loss: 1.1184 - val_mean_squared_error: 1.8086\n",
      "Epoch 20/64\n",
      "33/33 [==============================] - 0s 10ms/step - loss: 0.9120 - mean_squared_error: 1.3978 - val_loss: 1.1129 - val_mean_squared_error: 1.7896\n",
      "Epoch 21/64\n",
      "33/33 [==============================] - 0s 10ms/step - loss: 0.9037 - mean_squared_error: 1.3758 - val_loss: 1.1352 - val_mean_squared_error: 1.8536\n",
      "Epoch 22/64\n",
      "33/33 [==============================] - 0s 10ms/step - loss: 0.9088 - mean_squared_error: 1.3880 - val_loss: 1.1214 - val_mean_squared_error: 1.8288\n",
      "Epoch 23/64\n",
      "33/33 [==============================] - 0s 10ms/step - loss: 0.9023 - mean_squared_error: 1.3762 - val_loss: 1.1110 - val_mean_squared_error: 1.7957\n",
      "Epoch 24/64\n",
      "33/33 [==============================] - 0s 10ms/step - loss: 0.8852 - mean_squared_error: 1.3424 - val_loss: 1.1079 - val_mean_squared_error: 1.7857\n",
      "Epoch 25/64\n",
      "33/33 [==============================] - 0s 9ms/step - loss: 0.8706 - mean_squared_error: 1.3105 - val_loss: 1.0991 - val_mean_squared_error: 1.7660\n",
      "Epoch 26/64\n",
      "33/33 [==============================] - 0s 10ms/step - loss: 0.8725 - mean_squared_error: 1.3158 - val_loss: 1.1197 - val_mean_squared_error: 1.8188\n",
      "Epoch 27/64\n",
      "33/33 [==============================] - 0s 10ms/step - loss: 0.8570 - mean_squared_error: 1.2825 - val_loss: 1.1060 - val_mean_squared_error: 1.7763\n",
      "Epoch 28/64\n",
      "33/33 [==============================] - 0s 10ms/step - loss: 0.8564 - mean_squared_error: 1.2836 - val_loss: 1.0982 - val_mean_squared_error: 1.7378\n",
      "Epoch 29/64\n",
      "33/33 [==============================] - 0s 11ms/step - loss: 0.8519 - mean_squared_error: 1.2744 - val_loss: 1.0904 - val_mean_squared_error: 1.7287\n",
      "Epoch 30/64\n",
      "33/33 [==============================] - 0s 9ms/step - loss: 0.8490 - mean_squared_error: 1.2659 - val_loss: 1.0850 - val_mean_squared_error: 1.7266\n",
      "Epoch 31/64\n",
      "33/33 [==============================] - 0s 10ms/step - loss: 0.8411 - mean_squared_error: 1.2527 - val_loss: 1.1281 - val_mean_squared_error: 1.8363\n",
      "Epoch 32/64\n",
      "33/33 [==============================] - 0s 9ms/step - loss: 0.8387 - mean_squared_error: 1.2457 - val_loss: 1.1217 - val_mean_squared_error: 1.8075\n",
      "Epoch 33/64\n",
      "33/33 [==============================] - 0s 9ms/step - loss: 0.8286 - mean_squared_error: 1.2270 - val_loss: 1.1243 - val_mean_squared_error: 1.8276\n",
      "Epoch 34/64\n",
      "33/33 [==============================] - 0s 10ms/step - loss: 0.8295 - mean_squared_error: 1.2248 - val_loss: 1.0979 - val_mean_squared_error: 1.7528\n",
      "Epoch 35/64\n",
      "33/33 [==============================] - 0s 9ms/step - loss: 0.8397 - mean_squared_error: 1.2436 - val_loss: 1.1291 - val_mean_squared_error: 1.8405\n",
      "Epoch 36/64\n",
      "33/33 [==============================] - 0s 9ms/step - loss: 0.8287 - mean_squared_error: 1.2203 - val_loss: 1.0893 - val_mean_squared_error: 1.7210\n",
      "Epoch 37/64\n",
      "33/33 [==============================] - 0s 11ms/step - loss: 0.8135 - mean_squared_error: 1.1974 - val_loss: 1.0917 - val_mean_squared_error: 1.7331\n",
      "Epoch 38/64\n",
      "33/33 [==============================] - 0s 9ms/step - loss: 0.8173 - mean_squared_error: 1.2070 - val_loss: 1.1139 - val_mean_squared_error: 1.7906\n",
      "Epoch 39/64\n",
      "33/33 [==============================] - 0s 9ms/step - loss: 0.8213 - mean_squared_error: 1.2129 - val_loss: 1.1324 - val_mean_squared_error: 1.8441\n",
      "Epoch 40/64\n",
      "33/33 [==============================] - 0s 10ms/step - loss: 0.8133 - mean_squared_error: 1.1933 - val_loss: 1.1411 - val_mean_squared_error: 1.8625\n",
      "Epoch 41/64\n",
      "33/33 [==============================] - 0s 9ms/step - loss: 0.8311 - mean_squared_error: 1.2226 - val_loss: 1.1073 - val_mean_squared_error: 1.7797\n",
      "Epoch 42/64\n",
      "33/33 [==============================] - 0s 9ms/step - loss: 0.8158 - mean_squared_error: 1.2002 - val_loss: 1.1045 - val_mean_squared_error: 1.7760\n",
      "Epoch 43/64\n",
      "33/33 [==============================] - 0s 9ms/step - loss: 0.8038 - mean_squared_error: 1.1794 - val_loss: 1.1159 - val_mean_squared_error: 1.8047\n",
      "Epoch 44/64\n",
      "33/33 [==============================] - 0s 9ms/step - loss: 0.8057 - mean_squared_error: 1.1874 - val_loss: 1.1063 - val_mean_squared_error: 1.7816\n",
      "Epoch 45/64\n",
      "33/33 [==============================] - 0s 10ms/step - loss: 0.8096 - mean_squared_error: 1.1905 - val_loss: 1.1109 - val_mean_squared_error: 1.7892\n",
      "Epoch 46/64\n",
      "33/33 [==============================] - 0s 9ms/step - loss: 0.8094 - mean_squared_error: 1.1910 - val_loss: 1.1016 - val_mean_squared_error: 1.7626\n",
      "Epoch 47/64\n",
      "33/33 [==============================] - 0s 9ms/step - loss: 0.8158 - mean_squared_error: 1.1940 - val_loss: 1.1169 - val_mean_squared_error: 1.8074\n",
      "Epoch 48/64\n",
      "33/33 [==============================] - 0s 9ms/step - loss: 0.8270 - mean_squared_error: 1.2159 - val_loss: 1.1257 - val_mean_squared_error: 1.8318\n",
      "Epoch 49/64\n",
      "33/33 [==============================] - 0s 9ms/step - loss: 0.8198 - mean_squared_error: 1.1976 - val_loss: 1.0872 - val_mean_squared_error: 1.7284\n",
      "Epoch 50/64\n",
      "33/33 [==============================] - 0s 10ms/step - loss: 0.7950 - mean_squared_error: 1.1512 - val_loss: 1.0879 - val_mean_squared_error: 1.7288\n",
      "Epoch 51/64\n",
      "33/33 [==============================] - 0s 9ms/step - loss: 0.7837 - mean_squared_error: 1.1279 - val_loss: 1.0644 - val_mean_squared_error: 1.6851\n",
      "Epoch 52/64\n",
      "33/33 [==============================] - 0s 9ms/step - loss: 0.7872 - mean_squared_error: 1.1310 - val_loss: 1.0634 - val_mean_squared_error: 1.6726\n",
      "Epoch 53/64\n",
      "33/33 [==============================] - 0s 9ms/step - loss: 0.7754 - mean_squared_error: 1.1081 - val_loss: 1.0603 - val_mean_squared_error: 1.6696\n",
      "Epoch 54/64\n",
      "33/33 [==============================] - 0s 9ms/step - loss: 0.7656 - mean_squared_error: 1.0857 - val_loss: 1.0548 - val_mean_squared_error: 1.6489\n",
      "Epoch 55/64\n",
      "33/33 [==============================] - 0s 9ms/step - loss: 0.7438 - mean_squared_error: 1.0417 - val_loss: 1.0516 - val_mean_squared_error: 1.6544\n",
      "Epoch 56/64\n",
      "33/33 [==============================] - 0s 10ms/step - loss: 0.7463 - mean_squared_error: 1.0441 - val_loss: 1.0538 - val_mean_squared_error: 1.6542\n",
      "Epoch 57/64\n",
      "33/33 [==============================] - 0s 10ms/step - loss: 0.7291 - mean_squared_error: 1.0213 - val_loss: 1.0692 - val_mean_squared_error: 1.6870\n",
      "Epoch 58/64\n",
      "33/33 [==============================] - 0s 9ms/step - loss: 0.7244 - mean_squared_error: 1.0081 - val_loss: 1.0467 - val_mean_squared_error: 1.6314\n",
      "Epoch 59/64\n",
      "33/33 [==============================] - 0s 9ms/step - loss: 0.7234 - mean_squared_error: 1.0055 - val_loss: 1.0887 - val_mean_squared_error: 1.7355\n",
      "Epoch 60/64\n",
      "33/33 [==============================] - 0s 11ms/step - loss: 0.7360 - mean_squared_error: 1.0186 - val_loss: 1.0471 - val_mean_squared_error: 1.6367\n",
      "Epoch 61/64\n",
      "33/33 [==============================] - 0s 9ms/step - loss: 0.7065 - mean_squared_error: 0.9809 - val_loss: 1.0623 - val_mean_squared_error: 1.6687\n",
      "Epoch 62/64\n",
      "33/33 [==============================] - 0s 9ms/step - loss: 0.6993 - mean_squared_error: 0.9615 - val_loss: 1.0564 - val_mean_squared_error: 1.6543\n",
      "Epoch 63/64\n",
      "33/33 [==============================] - 0s 9ms/step - loss: 0.6995 - mean_squared_error: 0.9635 - val_loss: 1.0493 - val_mean_squared_error: 1.6332\n",
      "Epoch 64/64\n",
      "33/33 [==============================] - 0s 9ms/step - loss: 0.6930 - mean_squared_error: 0.9486 - val_loss: 1.0511 - val_mean_squared_error: 1.6416\n"
     ]
    },
    {
     "data": {
      "image/png": "[encoded data removed]",
      "text/plain": [
       "<Figure size 576x576 with 2 Axes>"
      ]
     },
     "metadata": {
      "needs_background": "light"
     },
     "output_type": "display_data"
    },
    {
     "name": "stdout",
     "output_type": "stream",
     "text": [
      "16/16 [==============================] - 0s 5ms/step\n",
      "Correlación de Pearson: 0.21085842253443662\n"
     ]
    }
   ],
   "source": [
    "model = create_and_train_and_evaluate_model(mapped, mapped_val, embedding_size=768)"
   ]
  },
  {
   "cell_type": "markdown",
   "metadata": {
    "collapsed": false,
    "id": "d5qL6zGN8m73"
   },
   "source": [
    "##### 4.2.MEAN"
   ]
  },
  {
   "cell_type": "code",
   "execution_count": 80,
   "metadata": {
    "id": "aCxEI7aH8m73"
   },
   "outputs": [],
   "source": [
    "mapped = map_pairs(input_pairs, RobertA_Mean=True, dictionary=diccionario )\n",
    "mapped_val = map_pairs(input_pairs_val, RobertA_Mean=True, dictionary=diccionario)"
   ]
  },
  {
   "cell_type": "code",
   "execution_count": 81,
   "metadata": {
    "id": "AaDmE7D88m73"
   },
   "outputs": [
    {
     "name": "stdout",
     "output_type": "stream",
     "text": [
      "Model: \"model_29\"\n",
      "__________________________________________________________________________________________________\n",
      " Layer (type)                   Output Shape         Param #     Connected to                     \n",
      "==================================================================================================\n",
      " input_59 (InputLayer)          [(None, 768)]        0           []                               \n",
      "                                                                                                  \n",
      " input_60 (InputLayer)          [(None, 768)]        0           []                               \n",
      "                                                                                                  \n",
      " dense_23 (Dense)               (None, 768)          590592      ['input_59[0][0]',               \n",
      "                                                                  'input_60[0][0]']               \n",
      "                                                                                                  \n",
      " tf.math.l2_normalize_58 (TFOpL  (None, 768)         0           ['dense_23[0][0]']               \n",
      " ambda)                                                                                           \n",
      "                                                                                                  \n",
      " tf.math.l2_normalize_59 (TFOpL  (None, 768)         0           ['dense_23[1][0]']               \n",
      " ambda)                                                                                           \n",
      "                                                                                                  \n",
      " tf.math.multiply_58 (TFOpLambd  (None, 768)         0           ['tf.math.l2_normalize_58[0][0]',\n",
      " a)                                                               'tf.math.l2_normalize_59[0][0]']\n",
      "                                                                                                  \n",
      " tf.math.reduce_sum_29 (TFOpLam  (None,)             0           ['tf.math.multiply_58[0][0]']    \n",
      " bda)                                                                                             \n",
      "                                                                                                  \n",
      " tf.__operators__.add_29 (TFOpL  (None,)             0           ['tf.math.reduce_sum_29[0][0]']  \n",
      " ambda)                                                                                           \n",
      "                                                                                                  \n",
      " tf.math.multiply_59 (TFOpLambd  (None,)             0           ['tf.__operators__.add_29[0][0]']\n",
      " a)                                                                                               \n",
      "                                                                                                  \n",
      "==================================================================================================\n",
      "Total params: 590,592\n",
      "Trainable params: 590,592\n",
      "Non-trainable params: 0\n",
      "__________________________________________________________________________________________________\n",
      "None\n",
      "Epoch 1/64\n",
      "33/33 [==============================] - 1s 15ms/step - loss: 1.5120 - mean_squared_error: 3.0757 - val_loss: 1.2715 - val_mean_squared_error: 2.3319\n",
      "Epoch 2/64\n",
      "33/33 [==============================] - 0s 10ms/step - loss: 1.2956 - mean_squared_error: 2.3884 - val_loss: 1.2594 - val_mean_squared_error: 2.2939\n",
      "Epoch 3/64\n",
      "33/33 [==============================] - 0s 12ms/step - loss: 1.2377 - mean_squared_error: 2.2234 - val_loss: 1.2025 - val_mean_squared_error: 2.1185\n",
      "Epoch 4/64\n",
      "33/33 [==============================] - 0s 10ms/step - loss: 1.1893 - mean_squared_error: 2.0711 - val_loss: 1.2230 - val_mean_squared_error: 2.1392\n",
      "Epoch 5/64\n",
      "33/33 [==============================] - 0s 10ms/step - loss: 1.1534 - mean_squared_error: 1.9839 - val_loss: 1.2027 - val_mean_squared_error: 2.0842\n",
      "Epoch 6/64\n",
      "33/33 [==============================] - 0s 10ms/step - loss: 1.1120 - mean_squared_error: 1.8776 - val_loss: 1.2286 - val_mean_squared_error: 2.1509\n",
      "Epoch 7/64\n",
      "33/33 [==============================] - 0s 11ms/step - loss: 1.0988 - mean_squared_error: 1.8337 - val_loss: 1.2082 - val_mean_squared_error: 2.0715\n",
      "Epoch 8/64\n",
      "33/33 [==============================] - 0s 10ms/step - loss: 1.0749 - mean_squared_error: 1.7766 - val_loss: 1.1952 - val_mean_squared_error: 2.0470\n",
      "Epoch 9/64\n",
      "33/33 [==============================] - 0s 9ms/step - loss: 1.0557 - mean_squared_error: 1.7300 - val_loss: 1.1932 - val_mean_squared_error: 2.0303\n",
      "Epoch 10/64\n",
      "33/33 [==============================] - 0s 10ms/step - loss: 1.0438 - mean_squared_error: 1.7063 - val_loss: 1.1604 - val_mean_squared_error: 1.9474\n",
      "Epoch 11/64\n",
      "33/33 [==============================] - 0s 10ms/step - loss: 1.0298 - mean_squared_error: 1.6607 - val_loss: 1.1990 - val_mean_squared_error: 2.0578\n",
      "Epoch 12/64\n",
      "33/33 [==============================] - 0s 9ms/step - loss: 1.0117 - mean_squared_error: 1.6188 - val_loss: 1.1724 - val_mean_squared_error: 1.9749\n",
      "Epoch 13/64\n",
      "33/33 [==============================] - 0s 9ms/step - loss: 0.9925 - mean_squared_error: 1.5790 - val_loss: 1.1508 - val_mean_squared_error: 1.9150\n",
      "Epoch 14/64\n",
      "33/33 [==============================] - 0s 9ms/step - loss: 0.9722 - mean_squared_error: 1.5364 - val_loss: 1.1441 - val_mean_squared_error: 1.9029\n",
      "Epoch 15/64\n",
      "33/33 [==============================] - 0s 10ms/step - loss: 0.9717 - mean_squared_error: 1.5304 - val_loss: 1.1966 - val_mean_squared_error: 2.0478\n",
      "Epoch 16/64\n",
      "33/33 [==============================] - 0s 9ms/step - loss: 0.9743 - mean_squared_error: 1.5401 - val_loss: 1.1419 - val_mean_squared_error: 1.8761\n",
      "Epoch 17/64\n",
      "33/33 [==============================] - 0s 10ms/step - loss: 0.9355 - mean_squared_error: 1.4523 - val_loss: 1.1371 - val_mean_squared_error: 1.8573\n",
      "Epoch 18/64\n",
      "33/33 [==============================] - 0s 9ms/step - loss: 0.9445 - mean_squared_error: 1.4601 - val_loss: 1.1381 - val_mean_squared_error: 1.8687\n",
      "Epoch 19/64\n",
      "33/33 [==============================] - 0s 9ms/step - loss: 0.9171 - mean_squared_error: 1.4110 - val_loss: 1.1298 - val_mean_squared_error: 1.8344\n",
      "Epoch 20/64\n",
      "33/33 [==============================] - 0s 10ms/step - loss: 0.9057 - mean_squared_error: 1.3829 - val_loss: 1.1148 - val_mean_squared_error: 1.8061\n",
      "Epoch 21/64\n",
      "33/33 [==============================] - 0s 9ms/step - loss: 0.8919 - mean_squared_error: 1.3501 - val_loss: 1.0973 - val_mean_squared_error: 1.7524\n",
      "Epoch 22/64\n",
      "33/33 [==============================] - 0s 9ms/step - loss: 0.8899 - mean_squared_error: 1.3446 - val_loss: 1.1084 - val_mean_squared_error: 1.7931\n",
      "Epoch 23/64\n",
      "33/33 [==============================] - 0s 11ms/step - loss: 0.8849 - mean_squared_error: 1.3348 - val_loss: 1.1258 - val_mean_squared_error: 1.8269\n",
      "Epoch 24/64\n",
      "33/33 [==============================] - 0s 9ms/step - loss: 0.8855 - mean_squared_error: 1.3333 - val_loss: 1.1231 - val_mean_squared_error: 1.8338\n",
      "Epoch 25/64\n",
      "33/33 [==============================] - 0s 9ms/step - loss: 0.8616 - mean_squared_error: 1.2913 - val_loss: 1.1111 - val_mean_squared_error: 1.7901\n",
      "Epoch 26/64\n",
      "33/33 [==============================] - 0s 9ms/step - loss: 0.8715 - mean_squared_error: 1.3068 - val_loss: 1.1006 - val_mean_squared_error: 1.7549\n",
      "Epoch 27/64\n",
      "33/33 [==============================] - 0s 10ms/step - loss: 0.8694 - mean_squared_error: 1.3050 - val_loss: 1.1083 - val_mean_squared_error: 1.7806\n",
      "Epoch 28/64\n",
      "33/33 [==============================] - 0s 9ms/step - loss: 0.8563 - mean_squared_error: 1.2782 - val_loss: 1.1105 - val_mean_squared_error: 1.7861\n",
      "Epoch 29/64\n",
      "33/33 [==============================] - 0s 11ms/step - loss: 0.8645 - mean_squared_error: 1.2853 - val_loss: 1.1339 - val_mean_squared_error: 1.8456\n",
      "Epoch 30/64\n",
      "33/33 [==============================] - 0s 11ms/step - loss: 0.8559 - mean_squared_error: 1.2688 - val_loss: 1.1005 - val_mean_squared_error: 1.7394\n",
      "Epoch 31/64\n",
      "33/33 [==============================] - 0s 10ms/step - loss: 0.8346 - mean_squared_error: 1.2288 - val_loss: 1.1066 - val_mean_squared_error: 1.7725\n",
      "Epoch 32/64\n",
      "33/33 [==============================] - 0s 9ms/step - loss: 0.8220 - mean_squared_error: 1.2091 - val_loss: 1.0890 - val_mean_squared_error: 1.7333\n",
      "Epoch 33/64\n",
      "33/33 [==============================] - 0s 10ms/step - loss: 0.8114 - mean_squared_error: 1.1918 - val_loss: 1.1221 - val_mean_squared_error: 1.8238\n",
      "Epoch 34/64\n",
      "33/33 [==============================] - 0s 10ms/step - loss: 0.8126 - mean_squared_error: 1.1886 - val_loss: 1.0882 - val_mean_squared_error: 1.7267\n",
      "Epoch 35/64\n",
      "33/33 [==============================] - 0s 9ms/step - loss: 0.8152 - mean_squared_error: 1.1882 - val_loss: 1.1350 - val_mean_squared_error: 1.8469\n",
      "Epoch 36/64\n",
      "33/33 [==============================] - 0s 10ms/step - loss: 0.8194 - mean_squared_error: 1.2007 - val_loss: 1.1175 - val_mean_squared_error: 1.8035\n",
      "Epoch 37/64\n",
      "33/33 [==============================] - 0s 10ms/step - loss: 0.8055 - mean_squared_error: 1.1737 - val_loss: 1.1181 - val_mean_squared_error: 1.7967\n",
      "Epoch 38/64\n",
      "33/33 [==============================] - 0s 10ms/step - loss: 0.8199 - mean_squared_error: 1.1975 - val_loss: 1.0835 - val_mean_squared_error: 1.7283\n",
      "Epoch 39/64\n",
      "33/33 [==============================] - 0s 9ms/step - loss: 0.8235 - mean_squared_error: 1.2117 - val_loss: 1.0726 - val_mean_squared_error: 1.6818\n",
      "Epoch 40/64\n",
      "33/33 [==============================] - 0s 10ms/step - loss: 0.7999 - mean_squared_error: 1.1662 - val_loss: 1.1210 - val_mean_squared_error: 1.8139\n",
      "Epoch 41/64\n",
      "33/33 [==============================] - 0s 10ms/step - loss: 0.8035 - mean_squared_error: 1.1735 - val_loss: 1.0902 - val_mean_squared_error: 1.7251\n",
      "Epoch 42/64\n",
      "33/33 [==============================] - 0s 10ms/step - loss: 0.8048 - mean_squared_error: 1.1718 - val_loss: 1.0895 - val_mean_squared_error: 1.7233\n",
      "Epoch 43/64\n",
      "33/33 [==============================] - 0s 9ms/step - loss: 0.7989 - mean_squared_error: 1.1642 - val_loss: 1.0950 - val_mean_squared_error: 1.7438\n",
      "Epoch 44/64\n",
      "33/33 [==============================] - 0s 10ms/step - loss: 0.7895 - mean_squared_error: 1.1540 - val_loss: 1.1045 - val_mean_squared_error: 1.7731\n",
      "Epoch 45/64\n",
      "33/33 [==============================] - 0s 10ms/step - loss: 0.7982 - mean_squared_error: 1.1657 - val_loss: 1.1306 - val_mean_squared_error: 1.8412\n",
      "Epoch 46/64\n",
      "33/33 [==============================] - 0s 10ms/step - loss: 0.8065 - mean_squared_error: 1.1750 - val_loss: 1.1185 - val_mean_squared_error: 1.8069\n",
      "Epoch 47/64\n",
      "33/33 [==============================] - 0s 9ms/step - loss: 0.8066 - mean_squared_error: 1.1796 - val_loss: 1.1278 - val_mean_squared_error: 1.8351\n",
      "Epoch 48/64\n",
      "33/33 [==============================] - 0s 9ms/step - loss: 0.8145 - mean_squared_error: 1.1914 - val_loss: 1.1051 - val_mean_squared_error: 1.7842\n",
      "Epoch 49/64\n",
      "33/33 [==============================] - 0s 10ms/step - loss: 0.8097 - mean_squared_error: 1.1810 - val_loss: 1.1149 - val_mean_squared_error: 1.8010\n",
      "Epoch 50/64\n",
      "33/33 [==============================] - 0s 10ms/step - loss: 0.8116 - mean_squared_error: 1.1865 - val_loss: 1.1033 - val_mean_squared_error: 1.7764\n",
      "Epoch 51/64\n",
      "33/33 [==============================] - 0s 9ms/step - loss: 0.8126 - mean_squared_error: 1.1834 - val_loss: 1.0951 - val_mean_squared_error: 1.7454\n",
      "Epoch 52/64\n",
      "33/33 [==============================] - 0s 9ms/step - loss: 0.7900 - mean_squared_error: 1.1415 - val_loss: 1.0879 - val_mean_squared_error: 1.7335\n",
      "Epoch 53/64\n",
      "33/33 [==============================] - 0s 9ms/step - loss: 0.7915 - mean_squared_error: 1.1448 - val_loss: 1.0844 - val_mean_squared_error: 1.7358\n",
      "Epoch 54/64\n",
      "33/33 [==============================] - 0s 11ms/step - loss: 0.7848 - mean_squared_error: 1.1319 - val_loss: 1.0752 - val_mean_squared_error: 1.7134\n",
      "Epoch 55/64\n",
      "33/33 [==============================] - 0s 10ms/step - loss: 0.7684 - mean_squared_error: 1.0973 - val_loss: 1.0909 - val_mean_squared_error: 1.7518\n",
      "Epoch 56/64\n",
      "33/33 [==============================] - 0s 9ms/step - loss: 0.7755 - mean_squared_error: 1.1039 - val_loss: 1.1081 - val_mean_squared_error: 1.8116\n",
      "Epoch 57/64\n",
      "33/33 [==============================] - 0s 10ms/step - loss: 0.7757 - mean_squared_error: 1.1031 - val_loss: 1.0870 - val_mean_squared_error: 1.7670\n",
      "Epoch 58/64\n",
      "33/33 [==============================] - 0s 9ms/step - loss: 0.7635 - mean_squared_error: 1.0836 - val_loss: 1.0937 - val_mean_squared_error: 1.7654\n",
      "Epoch 59/64\n",
      "33/33 [==============================] - 0s 9ms/step - loss: 0.7614 - mean_squared_error: 1.0789 - val_loss: 1.0756 - val_mean_squared_error: 1.7191\n",
      "Epoch 60/64\n",
      "33/33 [==============================] - 0s 10ms/step - loss: 0.7449 - mean_squared_error: 1.0410 - val_loss: 1.0738 - val_mean_squared_error: 1.7114\n",
      "Epoch 61/64\n",
      "33/33 [==============================] - 0s 10ms/step - loss: 0.7393 - mean_squared_error: 1.0366 - val_loss: 1.0870 - val_mean_squared_error: 1.7410\n",
      "Epoch 62/64\n",
      "33/33 [==============================] - 0s 9ms/step - loss: 0.7333 - mean_squared_error: 1.0330 - val_loss: 1.0816 - val_mean_squared_error: 1.7334\n",
      "Epoch 63/64\n",
      "33/33 [==============================] - 0s 9ms/step - loss: 0.7271 - mean_squared_error: 1.0120 - val_loss: 1.0870 - val_mean_squared_error: 1.7449\n",
      "Epoch 64/64\n",
      "33/33 [==============================] - 0s 9ms/step - loss: 0.7340 - mean_squared_error: 1.0247 - val_loss: 1.0758 - val_mean_squared_error: 1.7070\n"
     ]
    },
    {
     "data": {
      "image/png": "[encoded data removed]",
      "text/plain": [
       "<Figure size 576x576 with 2 Axes>"
      ]
     },
     "metadata": {
      "needs_background": "light"
     },
     "output_type": "display_data"
    },
    {
     "name": "stdout",
     "output_type": "stream",
     "text": [
      "16/16 [==============================] - 0s 3ms/step\n",
      "Correlación de Pearson: 0.2195821902305396\n"
     ]
    }
   ],
   "source": [
    "model = create_and_train_and_evaluate_model(mapped, mapped_val,embedding_size=768)"
   ]
  },
  {
   "cell_type": "markdown",
   "metadata": {
    "collapsed": false,
    "id": "9GYDsChM8m73"
   },
   "source": [
    "#### 5.RoBERTa FineTuned"
   ]
  },
  {
   "attachments": {},
   "cell_type": "markdown",
   "metadata": {},
   "source": [
    "Descarreguem el model i fem les prediccions amb la partició del val"
   ]
  },
  {
   "cell_type": "code",
   "execution_count": 5,
   "metadata": {},
   "outputs": [
    {
     "data": {
      "application/vnd.jupyter.widget-view+json": {
       "model_id": "bcd77287882f486ca5fbaa663c3706f4",
       "version_major": 2,
       "version_minor": 0
      },
      "text/plain": [
       "Downloading (…)okenizer_config.json:   0%|          | 0.00/1.13k [00:00<?, ?B/s]"
      ]
     },
     "metadata": {},
     "output_type": "display_data"
    },
    {
     "name": "stderr",
     "output_type": "stream",
     "text": [
      "C:\\Users\\pelot\\AppData\\Local\\Packages\\PythonSoftwareFoundation.Python.3.7_qbz5n2kfra8p0\\LocalCache\\local-packages\\Python37\\site-packages\\huggingface_hub\\file_download.py:133: UserWarning: `huggingface_hub` cache-system uses symlinks by default to efficiently store duplicated files but your machine does not support them in C:\\Users\\pelot\\.cache\\huggingface\\hub. Caching files will still work but in a degraded version that might require more space on your disk. This warning can be disabled by setting the `HF_HUB_DISABLE_SYMLINKS_WARNING` environment variable. For more details, see https://huggingface.co/docs/huggingface_hub/how-to-cache#limitations.\n",
      "To support symlinks on Windows, you either need to activate Developer Mode or to run Python as an administrator. In order to see activate developer mode, see this article: https://docs.microsoft.com/en-us/windows/apps/get-started/enable-your-device-for-development\n",
      "  warnings.warn(message)\n"
     ]
    },
    {
     "data": {
      "application/vnd.jupyter.widget-view+json": {
       "model_id": "6cc51b248bb7452fa86cbc92d238c195",
       "version_major": 2,
       "version_minor": 0
      },
      "text/plain": [
       "Downloading (…)lve/main/config.json:   0%|          | 0.00/837 [00:00<?, ?B/s]"
      ]
     },
     "metadata": {},
     "output_type": "display_data"
    },
    {
     "data": {
      "application/vnd.jupyter.widget-view+json": {
       "model_id": "2d726412e7244cd6a4dc936445948521",
       "version_major": 2,
       "version_minor": 0
      },
      "text/plain": [
       "Downloading (…)olve/main/vocab.json:   0%|          | 0.00/848k [00:00<?, ?B/s]"
      ]
     },
     "metadata": {},
     "output_type": "display_data"
    },
    {
     "data": {
      "application/vnd.jupyter.widget-view+json": {
       "model_id": "6414281daf384729ac70b4daa654706e",
       "version_major": 2,
       "version_minor": 0
      },
      "text/plain": [
       "Downloading (…)olve/main/merges.txt:   0%|          | 0.00/506k [00:00<?, ?B/s]"
      ]
     },
     "metadata": {},
     "output_type": "display_data"
    },
    {
     "data": {
      "application/vnd.jupyter.widget-view+json": {
       "model_id": "718709bf01f54296bef8cf22d75ada02",
       "version_major": 2,
       "version_minor": 0
      },
      "text/plain": [
       "Downloading (…)/main/tokenizer.json:   0%|          | 0.00/1.45M [00:00<?, ?B/s]"
      ]
     },
     "metadata": {},
     "output_type": "display_data"
    },
    {
     "data": {
      "application/vnd.jupyter.widget-view+json": {
       "model_id": "3921daffb1684edd977b98cc7126b800",
       "version_major": 2,
       "version_minor": 0
      },
      "text/plain": [
       "Downloading (…)cial_tokens_map.json:   0%|          | 0.00/772 [00:00<?, ?B/s]"
      ]
     },
     "metadata": {},
     "output_type": "display_data"
    },
    {
     "data": {
      "application/vnd.jupyter.widget-view+json": {
       "model_id": "df545b30b00b4268bfbe2cc0f0357293",
       "version_major": 2,
       "version_minor": 0
      },
      "text/plain": [
       "Downloading pytorch_model.bin:   0%|          | 0.00/499M [00:00<?, ?B/s]"
      ]
     },
     "metadata": {},
     "output_type": "display_data"
    }
   ],
   "source": [
    "model = 'projecte-aina/roberta-base-ca-v2-cased-sts'\n",
    "tokenizer = AutoTokenizer.from_pretrained(model)\n",
    "pipe = pipeline('text-classification', model=model, tokenizer=tokenizer)\n",
    "\n",
    "def prepare(sentence_pairs):\n",
    "    sentence_pairs_prep = []\n",
    "    for s1, s2, _ in sentence_pairs:\n",
    "        sentence_pairs_prep.append(f\"{tokenizer.cls_token} {s1}{tokenizer.sep_token}{tokenizer.sep_token} {s2}{tokenizer.sep_token}\")\n",
    "    return sentence_pairs_prep\n"
   ]
  },
  {
   "cell_type": "code",
   "execution_count": 15,
   "metadata": {},
   "outputs": [
    {
     "name": "stdout",
     "output_type": "stream",
     "text": [
      "Correlación de Pearson: 0.7522604358087148\n"
     ]
    }
   ],
   "source": [
    "predictions = pipe(prepare(input_pairs_val), add_special_tokens=False)\n",
    "\n",
    "# convert back to scores to the original 0 and 5 interval\n",
    "valors_pred = []\n",
    "valors_reals = []\n",
    "for prediction, real in zip(predictions, input_pairs_val):\n",
    "    valors_pred.append(logit(prediction['score']))\n",
    "    valors_reals.append(real[2])\n",
    "\n",
    "correlation, _ = pearsonr(valors_pred, valors_reals)\n",
    "# Imprimir el coeficiente de correlación de Pearson\n",
    "print(f\"Correlación de Pearson: {correlation}\")"
   ]
  },
  {
   "attachments": {},
   "cell_type": "markdown",
   "metadata": {},
   "source": [
    "### Analyze results\n",
    "Taula de correlacions\n",
    "|Nom del embedding|similaritat obtinguda en val|\n",
    "|-|-|\n",
    "|model_100mb|0.45|\n",
    "|model_500mb|0.36|\n",
    "|One-hot| 0.22|\n",
    "|w2v_mean| 0.32|\n",
    "|w2v_tfidf| 0.30|\n",
    "|Spacy| 0.28|\n",
    "|Roberta (CLS)| 0.21|\n",
    "|Roberta_Mean| 0.22|\n",
    "|Roberta Fine tuned| 0.75|"
   ]
  },
  {
   "attachments": {},
   "cell_type": "markdown",
   "metadata": {},
   "source": [
    "Respecte els model que hem creat nosaltres, el model que té l'embedding de 500 mb hauria de ser millor que el de 100 mb però en aquest cas no es cumpleix. Una possible causa es degut a que el vector és de 100 dimensions i per tant, es possible que la compressió de majors característiques en el model de 500 faci una mala jugada.\n",
    "\n",
    "Cal destacar que la mida dels vectors de tots els models són de 100, excepte els de ROBERTA.\n",
    "\n",
    "Per un costat, els embeddings que obtenen menys correlació en la seva predicció són ONE-HOT i els de ROBERTA (CLS i Mean). L'explicació de ONE-HOT és trivial, ja que no ofereix una bona representació de les paraules en forma de vector. A més a més, de que nomès agafem les 100 paraules més comuns i que, per tant, no hi és representat tot el vocabulari. Respecte els de ROBERTA, tot i que tenen unes dimensions superiors (de 768) no aconsegueixen un bon resultat, arribant a obtenir el mateix resultat que amb una codificació ONE-HOT.\n",
    "\n",
    "Per altre costat, respecte els models w2v i de SPACY, observem com fent la mitjana del primer obtenim un millor resultat que en les altres opcions.\n",
    "\n",
    "Finalment, cal destacar com el model de roberta fine tuned aconsegueix una de les millors correlacions en la seva predicció, això és degut a que aquest model transformer ha sigut expressament entrenat per aquesta tasca i per tant, el seu baseline és molt superior que si fessim la mlp a \"mà\".\n"
   ]
  },
  {
   "cell_type": "markdown",
   "metadata": {
    "collapsed": false,
    "id": "uS_EyEA-8m74"
   },
   "source": [
    "## Train the same model with initiated trainable embeddings"
   ]
  },
  {
   "cell_type": "code",
   "execution_count": 36,
   "metadata": {},
   "outputs": [],
   "source": [
    "# Preprocesamiento de las oraciones y creación del diccionario\n",
    "sentences_1_preproc = [simple_preprocess(sentence_1) for sentence_1, _, _ in input_pairs]\n",
    "sentences_2_preproc = [simple_preprocess(sentence_2) for _, sentence_2, _ in input_pairs]\n",
    "sentence_pairs = list(zip(sentences_1_preproc, sentences_2_preproc))\n",
    "# Versión aplanada para poder entrenar el modelo\n",
    "sentences_pairs_flattened = sentences_1_preproc + sentences_2_preproc\n",
    "diccionario = Dictionary(sentences_pairs_flattened)\n",
    "REMAP_EMBEDDINGS = True\n",
    "wv_model = None\n",
    "\n",
    "def map_word_embeddings(\n",
    "        sentence: str,\n",
    "        sequence_len: int = 32,\n",
    "        fixed_dictionary: Optional[Dictionary] = None\n",
    ") -> np.ndarray:\n",
    "    \"\"\"\n",
    "    Map to word-embedding indices\n",
    "    :param sentence:\n",
    "    :param sequence_len:\n",
    "    :param fixed_dictionary:\n",
    "    :return:\n",
    "    \"\"\"\n",
    "    sentence_preproc = simple_preprocess(sentence)\n",
    "    _vectors = np.zeros(sequence_len, dtype=np.int32)\n",
    "    index = 0\n",
    "    for word in sentence_preproc:\n",
    "        if fixed_dictionary is not None:\n",
    "            if word in fixed_dictionary.token2id:\n",
    "                # Sumo 1 porque el valor 0 está reservado a padding\n",
    "                _vectors[index] = fixed_dictionary.token2id[word] + 1\n",
    "                index += 1\n",
    "        else:\n",
    "            if word in wv_model.key_to_index:\n",
    "                _vectors[index] = wv_model.key_to_index[word] + 1\n",
    "                index += 1\n",
    "    return _vectors\n",
    "\n",
    "\n",
    "def map_pairs_2(\n",
    "        sentence_pairs: List[Tuple[str, str, float]],\n",
    "        sequence_len: int = 32,\n",
    "        fixed_dictionary: Optional[Dictionary] = None\n",
    ") -> List[Tuple[Tuple[np.ndarray, np.ndarray], float]]:\n",
    "    \"\"\"\n",
    "    Mapea los tripletes de oraciones a listas de (x, y), (pares de vectores, score)\n",
    "    :param sentence_pairs:\n",
    "    :param sequence_len:\n",
    "    :param fixed_dictionary:\n",
    "    :return:\n",
    "    \"\"\"\n",
    "    # Mapeo de los pares de oraciones a pares de vectores\n",
    "    pares_vectores = []\n",
    "    for i, (sentence_1, sentence_2, similitud) in enumerate(sentence_pairs):\n",
    "        vector1 = map_word_embeddings(sentence_1, sequence_len, fixed_dictionary)\n",
    "        vector2 = map_word_embeddings(sentence_2, sequence_len, fixed_dictionary)\n",
    "        # Añadir a la lista\n",
    "        pares_vectores.append(((vector1, vector2), similitud))\n",
    "    return pares_vectores\n",
    "\n",
    "mapped = map_pairs_2(input_pairs, fixed_dictionary=diccionario if REMAP_EMBEDDINGS else None)\n",
    "mapped_val = map_pairs_2(input_pairs_val, fixed_dictionary=diccionario if REMAP_EMBEDDINGS else None)\n",
    "\n"
   ]
  },
  {
   "cell_type": "code",
   "execution_count": 40,
   "metadata": {},
   "outputs": [],
   "source": [
    "# Definir el Modelo\n",
    "import tensorflow as tf\n",
    "tf.config.set_visible_devices([], 'GPU')\n",
    "# Definir el Modelo\n",
    "import tensorflow as tf\n",
    "def build_and_compile_model(\n",
    "        input_length: int = 32,\n",
    "        dictionary_size: int = 1000,\n",
    "        embedding_size: int = 16,\n",
    "        learning_rate: float = 0.001,\n",
    "        trainable: bool = False,\n",
    "        pretrained_weights:bool = None\n",
    ") -> tf.keras.Model:\n",
    "    \"\"\"\n",
    "    Este es un modelo algo más avanzado. Calcula internamente una media ponderada de los word embeddings. Calcula también la proyección.\n",
    "    :param input_length:\n",
    "    :param hidden_size:\n",
    "    :param dictionary_size:\n",
    "    :param embedding_size:\n",
    "    :param pretrained_weights:\n",
    "    :param learning_rate:\n",
    "    :param trainable:\n",
    "    :return:\n",
    "    \"\"\"\n",
    "    input_1, input_2 = tf.keras.Input((input_length, ), dtype=tf.int32, ), tf.keras.Input((input_length, ), dtype=tf.int32, )\n",
    "    # Define Layers\n",
    "    if pretrained_weights is None:\n",
    "        embedding = tf.keras.layers.Embedding(\n",
    "            dictionary_size, embedding_size, input_length=input_length, mask_zero=True, )\n",
    "    else:\n",
    "        dictionary_size = pretrained_weights.shape[0]\n",
    "        embedding_size = pretrained_weights.shape[1]\n",
    "        initializer = tf.keras.initializers.Constant(pretrained_weights)\n",
    "        embedding = tf.keras.layers.Embedding(\n",
    "            dictionary_size, embedding_size, input_length=input_length, mask_zero=True,\n",
    "            embeddings_initializer=initializer, trainable=trainable, )\n",
    "    # Pass through the layers\n",
    "    _input_mask_1, _input_mask_2 = tf.not_equal(input_1, 0), tf.not_equal(input_2, 0)\n",
    "    _embedded_1, _embedded_2 = embedding(input_1, ), embedding(input_2, )\n",
    "\n",
    "    # Compute custom weights\n",
    "    weights_computation = tf.keras.layers.Dense(1, name=\"weight_computation\")\n",
    "    dropout = tf.keras.layers.Dropout(0.2, name=\"dropout_in\")\n",
    "    _weights_1 = weights_computation(dropout(_embedded_1))\n",
    "    weights_1 = tf.squeeze(_weights_1, axis=[-1])\n",
    "    _weights_2 = weights_computation(dropout(_embedded_2))\n",
    "    weights_2 = tf.squeeze(_weights_2, axis=[-1])\n",
    "    # Define softmax\n",
    "    softmax = tf.keras.layers.Softmax(name=\"weighted_sum_softmax\")\n",
    "    scores_1 = softmax(weights_1, mask=_input_mask_1)\n",
    "    _pooled_1 = tf.math.reduce_sum(_embedded_1 * tf.expand_dims(scores_1, axis=-1), axis=1)\n",
    "    scores_2 = softmax(weights_2, mask=_input_mask_2)\n",
    "    _pooled_2 = tf.math.reduce_sum(_embedded_2 * tf.expand_dims(scores_2, axis=-1) , axis=1)\n",
    "    # Compute the distance\n",
    "    dense_output = tf.keras.layers.Dense(1)\n",
    "    dropout_out = tf.keras.layers.Dropout(0.2, name=\"dropout_out\")\n",
    "    projected_1 = tf.linalg.l2_normalize(_pooled_1, axis=1, )\n",
    "    projected_2 = tf.linalg.l2_normalize(_pooled_2, axis=1, )\n",
    "    output = dense_output(dropout_out(projected_1 * projected_2), )\n",
    "\n",
    "    # Define the model\n",
    "    model = tf.keras.Model(inputs=(input_1, input_2, ), outputs=output,)\n",
    "    model.compile(loss='mean_absolute_error',\n",
    "                optimizer=tf.keras.optimizers.Adam(learning_rate=learning_rate))\n",
    "    return model\n",
    "\n",
    "def create_and_train_and_evaluate_model(mapped, mapped_val,embedding_size:int=300, pretrained_weights = None):\n",
    "    # Obtener las listas de train y test\n",
    "    x_train, y_train = pair_list_to_x_y(mapped)\n",
    "    x_val, y_val = pair_list_to_x_y(mapped_val)\n",
    "\n",
    "    # Preparar los conjuntos de datos de entrenamiento y validación\n",
    "    train_dataset = tf.data.Dataset.from_tensor_slices((x_train, y_train))\n",
    "    train_dataset = train_dataset.shuffle(buffer_size=len(x_train)).batch(batch_size)\n",
    "\n",
    "    val_dataset = tf.data.Dataset.from_tensor_slices((x_val, y_val))\n",
    "    val_dataset = val_dataset.batch(batch_size)\n",
    "\n",
    "    # Construir y compilar el modelo\n",
    "    model = build_and_compile_model(pretrained_weights=pretrained_weights, dictionary_size=len(diccionario.token2id)+1)\n",
    "    # tf.keras.utils.plot_model(model, show_shapes=True, show_layer_activations=True, )\n",
    "    print(model.summary())\n",
    "    # Entrenar el modelo\n",
    "    history = model.fit(train_dataset, epochs=num_epochs, validation_data=val_dataset)\n",
    "\n",
    "    \n",
    "\n",
    "    y_pred: tf.RaggedTensor = model.predict(x_val)\n",
    "    # Calcular la correlación de Pearson entre las predicciones y los datos de prueba\n",
    "    correlation, _ = pearsonr(y_pred.flatten(), y_val.flatten())\n",
    "    # Imprimir el coeficiente de correlación de Pearson\n",
    "    print(f\"Correlación de Pearson: {correlation}\")\n",
    "\n",
    "    return model"
   ]
  },
  {
   "cell_type": "markdown",
   "metadata": {
    "collapsed": false,
    "id": "841agYHG8m74"
   },
   "source": [
    "#### Random Embeddings (uniforme)"
   ]
  },
  {
   "cell_type": "code",
   "execution_count": 41,
   "metadata": {
    "id": "u8E5snLP8m74"
   },
   "outputs": [
    {
     "name": "stdout",
     "output_type": "stream",
     "text": [
      "Model: \"model_4\"\n",
      "__________________________________________________________________________________________________\n",
      " Layer (type)                   Output Shape         Param #     Connected to                     \n",
      "==================================================================================================\n",
      " input_9 (InputLayer)           [(None, 32)]         0           []                               \n",
      "                                                                                                  \n",
      " input_10 (InputLayer)          [(None, 32)]         0           []                               \n",
      "                                                                                                  \n",
      " embedding_4 (Embedding)        (None, 32, 16)       162880      ['input_9[0][0]',                \n",
      "                                                                  'input_10[0][0]']               \n",
      "                                                                                                  \n",
      " dropout_in (Dropout)           (None, 32, 16)       0           ['embedding_4[0][0]',            \n",
      "                                                                  'embedding_4[1][0]']            \n",
      "                                                                                                  \n",
      " weight_computation (Dense)     (None, 32, 1)        17          ['dropout_in[0][0]',             \n",
      "                                                                  'dropout_in[1][0]']             \n",
      "                                                                                                  \n",
      " tf.compat.v1.squeeze (TFOpLamb  (None, 32)          0           ['weight_computation[0][0]']     \n",
      " da)                                                                                              \n",
      "                                                                                                  \n",
      " tf.math.not_equal_8 (TFOpLambd  (None, 32)          0           ['input_9[0][0]']                \n",
      " a)                                                                                               \n",
      "                                                                                                  \n",
      " tf.compat.v1.squeeze_1 (TFOpLa  (None, 32)          0           ['weight_computation[1][0]']     \n",
      " mbda)                                                                                            \n",
      "                                                                                                  \n",
      " tf.math.not_equal_9 (TFOpLambd  (None, 32)          0           ['input_10[0][0]']               \n",
      " a)                                                                                               \n",
      "                                                                                                  \n",
      " weighted_sum_softmax (Softmax)  (None, 32)          0           ['tf.compat.v1.squeeze[0][0]',   \n",
      "                                                                  'tf.math.not_equal_8[0][0]',    \n",
      "                                                                  'tf.compat.v1.squeeze_1[0][0]', \n",
      "                                                                  'tf.math.not_equal_9[0][0]']    \n",
      "                                                                                                  \n",
      " tf.expand_dims (TFOpLambda)    (None, 32, 1)        0           ['weighted_sum_softmax[0][0]']   \n",
      "                                                                                                  \n",
      " tf.expand_dims_1 (TFOpLambda)  (None, 32, 1)        0           ['weighted_sum_softmax[1][0]']   \n",
      "                                                                                                  \n",
      " tf.math.multiply_8 (TFOpLambda  (None, 32, 16)      0           ['embedding_4[0][0]',            \n",
      " )                                                                'tf.expand_dims[0][0]']         \n",
      "                                                                                                  \n",
      " tf.math.multiply_9 (TFOpLambda  (None, 32, 16)      0           ['embedding_4[1][0]',            \n",
      " )                                                                'tf.expand_dims_1[0][0]']       \n",
      "                                                                                                  \n",
      " tf.math.reduce_sum_4 (TFOpLamb  (None, 16)          0           ['tf.math.multiply_8[0][0]']     \n",
      " da)                                                                                              \n",
      "                                                                                                  \n",
      " tf.math.reduce_sum_5 (TFOpLamb  (None, 16)          0           ['tf.math.multiply_9[0][0]']     \n",
      " da)                                                                                              \n",
      "                                                                                                  \n",
      " tf.math.l2_normalize_8 (TFOpLa  (None, 16)          0           ['tf.math.reduce_sum_4[0][0]']   \n",
      " mbda)                                                                                            \n",
      "                                                                                                  \n",
      " tf.math.l2_normalize_9 (TFOpLa  (None, 16)          0           ['tf.math.reduce_sum_5[0][0]']   \n",
      " mbda)                                                                                            \n",
      "                                                                                                  \n",
      " tf.math.multiply_10 (TFOpLambd  (None, 16)          0           ['tf.math.l2_normalize_8[0][0]', \n",
      " a)                                                               'tf.math.l2_normalize_9[0][0]'] \n",
      "                                                                                                  \n",
      " dropout_out (Dropout)          (None, 16)           0           ['tf.math.multiply_10[0][0]']    \n",
      "                                                                                                  \n",
      " dense (Dense)                  (None, 1)            17          ['dropout_out[0][0]']            \n",
      "                                                                                                  \n",
      "==================================================================================================\n",
      "Total params: 162,914\n",
      "Trainable params: 162,914\n",
      "Non-trainable params: 0\n",
      "__________________________________________________________________________________________________\n",
      "None\n",
      "Epoch 1/64\n",
      "33/33 [==============================] - 3s 22ms/step - loss: 2.3969 - val_loss: 2.2208\n",
      "Epoch 2/64\n",
      "33/33 [==============================] - 0s 11ms/step - loss: 2.0818 - val_loss: 2.0185\n",
      "Epoch 3/64\n",
      "33/33 [==============================] - 0s 11ms/step - loss: 1.9128 - val_loss: 1.8972\n",
      "Epoch 4/64\n",
      "33/33 [==============================] - 0s 10ms/step - loss: 1.7992 - val_loss: 1.8020\n",
      "Epoch 5/64\n",
      "33/33 [==============================] - 0s 7ms/step - loss: 1.6900 - val_loss: 1.7171\n",
      "Epoch 6/64\n",
      "33/33 [==============================] - 0s 9ms/step - loss: 1.6172 - val_loss: 1.6379\n",
      "Epoch 7/64\n",
      "33/33 [==============================] - 0s 10ms/step - loss: 1.5374 - val_loss: 1.5631\n",
      "Epoch 8/64\n",
      "33/33 [==============================] - 0s 10ms/step - loss: 1.4761 - val_loss: 1.4914\n",
      "Epoch 9/64\n",
      "33/33 [==============================] - 0s 9ms/step - loss: 1.4075 - val_loss: 1.4233\n",
      "Epoch 10/64\n",
      "33/33 [==============================] - 0s 10ms/step - loss: 1.3431 - val_loss: 1.3585\n",
      "Epoch 11/64\n",
      "33/33 [==============================] - 0s 11ms/step - loss: 1.2798 - val_loss: 1.2998\n",
      "Epoch 12/64\n",
      "33/33 [==============================] - 0s 9ms/step - loss: 1.2189 - val_loss: 1.2422\n",
      "Epoch 13/64\n",
      "33/33 [==============================] - 0s 8ms/step - loss: 1.1779 - val_loss: 1.1851\n",
      "Epoch 14/64\n",
      "33/33 [==============================] - 0s 9ms/step - loss: 1.1270 - val_loss: 1.1363\n",
      "Epoch 15/64\n",
      "33/33 [==============================] - 0s 10ms/step - loss: 1.0602 - val_loss: 1.0937\n",
      "Epoch 16/64\n",
      "33/33 [==============================] - 0s 10ms/step - loss: 1.0243 - val_loss: 1.0527\n",
      "Epoch 17/64\n",
      "33/33 [==============================] - 0s 9ms/step - loss: 0.9969 - val_loss: 1.0198\n",
      "Epoch 18/64\n",
      "33/33 [==============================] - 0s 11ms/step - loss: 0.9546 - val_loss: 0.9877\n",
      "Epoch 19/64\n",
      "33/33 [==============================] - 0s 9ms/step - loss: 0.9135 - val_loss: 0.9567\n",
      "Epoch 20/64\n",
      "33/33 [==============================] - 0s 8ms/step - loss: 0.8677 - val_loss: 0.9312\n",
      "Epoch 21/64\n",
      "33/33 [==============================] - 0s 9ms/step - loss: 0.8219 - val_loss: 0.9027\n",
      "Epoch 22/64\n",
      "33/33 [==============================] - 0s 10ms/step - loss: 0.7923 - val_loss: 0.8781\n",
      "Epoch 23/64\n",
      "33/33 [==============================] - 0s 8ms/step - loss: 0.7677 - val_loss: 0.8631\n",
      "Epoch 24/64\n",
      "33/33 [==============================] - 0s 10ms/step - loss: 0.7438 - val_loss: 0.8406\n",
      "Epoch 25/64\n",
      "33/33 [==============================] - 0s 10ms/step - loss: 0.6871 - val_loss: 0.8258\n",
      "Epoch 26/64\n",
      "33/33 [==============================] - 0s 10ms/step - loss: 0.6804 - val_loss: 0.8103\n",
      "Epoch 27/64\n",
      "33/33 [==============================] - 0s 8ms/step - loss: 0.6590 - val_loss: 0.7979\n",
      "Epoch 28/64\n",
      "33/33 [==============================] - 0s 10ms/step - loss: 0.6134 - val_loss: 0.7822\n",
      "Epoch 29/64\n",
      "33/33 [==============================] - 0s 11ms/step - loss: 0.6168 - val_loss: 0.7752\n",
      "Epoch 30/64\n",
      "33/33 [==============================] - 0s 9ms/step - loss: 0.5962 - val_loss: 0.7686\n",
      "Epoch 31/64\n",
      "33/33 [==============================] - 0s 10ms/step - loss: 0.5384 - val_loss: 0.7622\n",
      "Epoch 32/64\n",
      "33/33 [==============================] - 0s 9ms/step - loss: 0.5167 - val_loss: 0.7505\n",
      "Epoch 33/64\n",
      "33/33 [==============================] - 0s 11ms/step - loss: 0.5062 - val_loss: 0.7420\n",
      "Epoch 34/64\n",
      "33/33 [==============================] - 0s 9ms/step - loss: 0.5038 - val_loss: 0.7446\n",
      "Epoch 35/64\n",
      "33/33 [==============================] - 0s 8ms/step - loss: 0.4831 - val_loss: 0.7400\n",
      "Epoch 36/64\n",
      "33/33 [==============================] - 0s 8ms/step - loss: 0.4669 - val_loss: 0.7467\n",
      "Epoch 37/64\n",
      "33/33 [==============================] - 0s 8ms/step - loss: 0.4772 - val_loss: 0.7350\n",
      "Epoch 38/64\n",
      "33/33 [==============================] - 0s 7ms/step - loss: 0.4456 - val_loss: 0.7339\n",
      "Epoch 39/64\n",
      "33/33 [==============================] - 0s 8ms/step - loss: 0.4499 - val_loss: 0.7282\n",
      "Epoch 40/64\n",
      "33/33 [==============================] - 0s 11ms/step - loss: 0.4587 - val_loss: 0.7327\n",
      "Epoch 41/64\n",
      "33/33 [==============================] - 0s 9ms/step - loss: 0.4467 - val_loss: 0.7298\n",
      "Epoch 42/64\n",
      "33/33 [==============================] - 0s 8ms/step - loss: 0.4382 - val_loss: 0.7266\n",
      "Epoch 43/64\n",
      "33/33 [==============================] - 0s 7ms/step - loss: 0.4394 - val_loss: 0.7213\n",
      "Epoch 44/64\n",
      "33/33 [==============================] - 0s 9ms/step - loss: 0.4306 - val_loss: 0.7175\n",
      "Epoch 45/64\n",
      "33/33 [==============================] - 0s 7ms/step - loss: 0.4216 - val_loss: 0.7157\n",
      "Epoch 46/64\n",
      "33/33 [==============================] - 0s 8ms/step - loss: 0.4376 - val_loss: 0.7217\n",
      "Epoch 47/64\n",
      "33/33 [==============================] - 0s 7ms/step - loss: 0.4110 - val_loss: 0.7195\n",
      "Epoch 48/64\n",
      "33/33 [==============================] - 0s 9ms/step - loss: 0.3960 - val_loss: 0.7138\n",
      "Epoch 49/64\n",
      "33/33 [==============================] - 0s 10ms/step - loss: 0.3938 - val_loss: 0.7070\n",
      "Epoch 50/64\n",
      "33/33 [==============================] - 0s 8ms/step - loss: 0.3788 - val_loss: 0.7058\n",
      "Epoch 51/64\n",
      "33/33 [==============================] - 0s 10ms/step - loss: 0.3849 - val_loss: 0.7124\n",
      "Epoch 52/64\n",
      "33/33 [==============================] - 0s 9ms/step - loss: 0.3890 - val_loss: 0.7119\n",
      "Epoch 53/64\n",
      "33/33 [==============================] - 0s 9ms/step - loss: 0.3569 - val_loss: 0.7084\n",
      "Epoch 54/64\n",
      "33/33 [==============================] - 0s 10ms/step - loss: 0.3653 - val_loss: 0.7087\n",
      "Epoch 55/64\n",
      "33/33 [==============================] - 0s 10ms/step - loss: 0.3440 - val_loss: 0.7139\n",
      "Epoch 56/64\n",
      "33/33 [==============================] - 0s 10ms/step - loss: 0.3477 - val_loss: 0.7050\n",
      "Epoch 57/64\n",
      "33/33 [==============================] - 0s 8ms/step - loss: 0.3360 - val_loss: 0.7043\n",
      "Epoch 58/64\n",
      "33/33 [==============================] - 0s 9ms/step - loss: 0.3512 - val_loss: 0.7016\n",
      "Epoch 59/64\n",
      "33/33 [==============================] - 0s 9ms/step - loss: 0.3507 - val_loss: 0.7074\n",
      "Epoch 60/64\n",
      "33/33 [==============================] - 0s 11ms/step - loss: 0.3343 - val_loss: 0.7062\n",
      "Epoch 61/64\n",
      "33/33 [==============================] - 0s 10ms/step - loss: 0.3208 - val_loss: 0.7026\n",
      "Epoch 62/64\n",
      "33/33 [==============================] - 0s 10ms/step - loss: 0.3197 - val_loss: 0.6975\n",
      "Epoch 63/64\n",
      "33/33 [==============================] - 0s 11ms/step - loss: 0.3335 - val_loss: 0.7013\n",
      "Epoch 64/64\n",
      "33/33 [==============================] - 0s 11ms/step - loss: 0.3219 - val_loss: 0.7036\n",
      "16/16 [==============================] - 0s 2ms/step\n",
      "Correlación de Pearson: 0.23810035249984204\n"
     ]
    },
    {
     "data": {
      "text/plain": [
       "<keras.engine.functional.Functional at 0x1bf02cee508>"
      ]
     },
     "execution_count": 41,
     "metadata": {},
     "output_type": "execute_result"
    }
   ],
   "source": [
    "create_and_train_and_evaluate_model(mapped, mapped_val)"
   ]
  },
  {
   "cell_type": "markdown",
   "metadata": {
    "collapsed": false,
    "id": "kXfQwzz08m74"
   },
   "source": [
    "#### Word2Vec"
   ]
  },
  {
   "attachments": {},
   "cell_type": "markdown",
   "metadata": {},
   "source": [
    "Calculem els pesos pre-entrenats de embeddings"
   ]
  },
  {
   "cell_type": "code",
   "execution_count": 42,
   "metadata": {
    "id": "YiTeFTQe8m75"
   },
   "outputs": [],
   "source": [
    "USE_PRETRAINED = True\n",
    "wv_model = KeyedVectors.load_word2vec_format(\"data/model.bin\", binary = True)\n",
    "\n",
    "\n",
    "pretrained_weights: Optional[np.ndarray] = None\n",
    "if USE_PRETRAINED:\n",
    "    if REMAP_EMBEDDINGS:\n",
    "        pretrained_weights = np.zeros(\n",
    "            (len(diccionario.token2id) + 1, wv_model.vector_size),  dtype=np.float32)\n",
    "        for token, _id in diccionario.token2id.items():\n",
    "            if token in wv_model:\n",
    "                pretrained_weights[_id + 1] = wv_model[token]\n",
    "            else:\n",
    "                # In W2V, OOV will not have a representation. We will use 0.\n",
    "                pass\n",
    "    else:\n",
    "        # Not recommended (this will consume A LOT of RAM)\n",
    "        pretrained_weights = np.zeros((wv_model.vectors.shape[0] + 1, wv_model.vector_size,),  dtype=np.float32)\n",
    "        pretrained_weights[1:, :] = wv_model.vectors\n"
   ]
  },
  {
   "cell_type": "code",
   "execution_count": 43,
   "metadata": {},
   "outputs": [
    {
     "name": "stdout",
     "output_type": "stream",
     "text": [
      "Model: \"model_5\"\n",
      "__________________________________________________________________________________________________\n",
      " Layer (type)                   Output Shape         Param #     Connected to                     \n",
      "==================================================================================================\n",
      " input_11 (InputLayer)          [(None, 32)]         0           []                               \n",
      "                                                                                                  \n",
      " input_12 (InputLayer)          [(None, 32)]         0           []                               \n",
      "                                                                                                  \n",
      " embedding_5 (Embedding)        (None, 32, 100)      1018000     ['input_11[0][0]',               \n",
      "                                                                  'input_12[0][0]']               \n",
      "                                                                                                  \n",
      " dropout_in (Dropout)           (None, 32, 100)      0           ['embedding_5[0][0]',            \n",
      "                                                                  'embedding_5[1][0]']            \n",
      "                                                                                                  \n",
      " weight_computation (Dense)     (None, 32, 1)        101         ['dropout_in[0][0]',             \n",
      "                                                                  'dropout_in[1][0]']             \n",
      "                                                                                                  \n",
      " tf.compat.v1.squeeze_2 (TFOpLa  (None, 32)          0           ['weight_computation[0][0]']     \n",
      " mbda)                                                                                            \n",
      "                                                                                                  \n",
      " tf.math.not_equal_10 (TFOpLamb  (None, 32)          0           ['input_11[0][0]']               \n",
      " da)                                                                                              \n",
      "                                                                                                  \n",
      " tf.compat.v1.squeeze_3 (TFOpLa  (None, 32)          0           ['weight_computation[1][0]']     \n",
      " mbda)                                                                                            \n",
      "                                                                                                  \n",
      " tf.math.not_equal_11 (TFOpLamb  (None, 32)          0           ['input_12[0][0]']               \n",
      " da)                                                                                              \n",
      "                                                                                                  \n",
      " weighted_sum_softmax (Softmax)  (None, 32)          0           ['tf.compat.v1.squeeze_2[0][0]', \n",
      "                                                                  'tf.math.not_equal_10[0][0]',   \n",
      "                                                                  'tf.compat.v1.squeeze_3[0][0]', \n",
      "                                                                  'tf.math.not_equal_11[0][0]']   \n",
      "                                                                                                  \n",
      " tf.expand_dims_2 (TFOpLambda)  (None, 32, 1)        0           ['weighted_sum_softmax[0][0]']   \n",
      "                                                                                                  \n",
      " tf.expand_dims_3 (TFOpLambda)  (None, 32, 1)        0           ['weighted_sum_softmax[1][0]']   \n",
      "                                                                                                  \n",
      " tf.math.multiply_11 (TFOpLambd  (None, 32, 100)     0           ['embedding_5[0][0]',            \n",
      " a)                                                               'tf.expand_dims_2[0][0]']       \n",
      "                                                                                                  \n",
      " tf.math.multiply_12 (TFOpLambd  (None, 32, 100)     0           ['embedding_5[1][0]',            \n",
      " a)                                                               'tf.expand_dims_3[0][0]']       \n",
      "                                                                                                  \n",
      " tf.math.reduce_sum_6 (TFOpLamb  (None, 100)         0           ['tf.math.multiply_11[0][0]']    \n",
      " da)                                                                                              \n",
      "                                                                                                  \n",
      " tf.math.reduce_sum_7 (TFOpLamb  (None, 100)         0           ['tf.math.multiply_12[0][0]']    \n",
      " da)                                                                                              \n",
      "                                                                                                  \n",
      " tf.math.l2_normalize_10 (TFOpL  (None, 100)         0           ['tf.math.reduce_sum_6[0][0]']   \n",
      " ambda)                                                                                           \n",
      "                                                                                                  \n",
      " tf.math.l2_normalize_11 (TFOpL  (None, 100)         0           ['tf.math.reduce_sum_7[0][0]']   \n",
      " ambda)                                                                                           \n",
      "                                                                                                  \n",
      " tf.math.multiply_13 (TFOpLambd  (None, 100)         0           ['tf.math.l2_normalize_10[0][0]',\n",
      " a)                                                               'tf.math.l2_normalize_11[0][0]']\n",
      "                                                                                                  \n",
      " dropout_out (Dropout)          (None, 100)          0           ['tf.math.multiply_13[0][0]']    \n",
      "                                                                                                  \n",
      " dense_1 (Dense)                (None, 1)            101         ['dropout_out[0][0]']            \n",
      "                                                                                                  \n",
      "==================================================================================================\n",
      "Total params: 1,018,202\n",
      "Trainable params: 202\n",
      "Non-trainable params: 1,018,000\n",
      "__________________________________________________________________________________________________\n",
      "None\n",
      "Epoch 1/64\n",
      "33/33 [==============================] - 3s 20ms/step - loss: 2.5350 - val_loss: 2.5159\n",
      "Epoch 2/64\n",
      "33/33 [==============================] - 0s 10ms/step - loss: 2.4702 - val_loss: 2.4515\n",
      "Epoch 3/64\n",
      "33/33 [==============================] - 0s 10ms/step - loss: 2.4062 - val_loss: 2.3871\n",
      "Epoch 4/64\n",
      "33/33 [==============================] - 0s 9ms/step - loss: 2.3409 - val_loss: 2.3225\n",
      "Epoch 5/64\n",
      "33/33 [==============================] - 0s 10ms/step - loss: 2.2768 - val_loss: 2.2581\n",
      "Epoch 6/64\n",
      "33/33 [==============================] - 0s 9ms/step - loss: 2.2128 - val_loss: 2.1944\n",
      "Epoch 7/64\n",
      "33/33 [==============================] - 0s 10ms/step - loss: 2.1483 - val_loss: 2.1306\n",
      "Epoch 8/64\n",
      "33/33 [==============================] - 0s 9ms/step - loss: 2.0843 - val_loss: 2.0670\n",
      "Epoch 9/64\n",
      "33/33 [==============================] - 0s 11ms/step - loss: 2.0206 - val_loss: 2.0035\n",
      "Epoch 10/64\n",
      "33/33 [==============================] - 0s 9ms/step - loss: 1.9566 - val_loss: 1.9400\n",
      "Epoch 11/64\n",
      "33/33 [==============================] - 0s 10ms/step - loss: 1.8921 - val_loss: 1.8764\n",
      "Epoch 12/64\n",
      "33/33 [==============================] - 0s 10ms/step - loss: 1.8297 - val_loss: 1.8131\n",
      "Epoch 13/64\n",
      "33/33 [==============================] - 0s 11ms/step - loss: 1.7661 - val_loss: 1.7499\n",
      "Epoch 14/64\n",
      "33/33 [==============================] - 0s 10ms/step - loss: 1.7029 - val_loss: 1.6867\n",
      "Epoch 15/64\n",
      "33/33 [==============================] - 0s 8ms/step - loss: 1.6403 - val_loss: 1.6238\n",
      "Epoch 16/64\n",
      "33/33 [==============================] - 0s 10ms/step - loss: 1.5761 - val_loss: 1.5620\n",
      "Epoch 17/64\n",
      "33/33 [==============================] - 0s 8ms/step - loss: 1.5170 - val_loss: 1.5012\n",
      "Epoch 18/64\n",
      "33/33 [==============================] - 0s 8ms/step - loss: 1.4563 - val_loss: 1.4417\n",
      "Epoch 19/64\n",
      "33/33 [==============================] - 0s 9ms/step - loss: 1.3977 - val_loss: 1.3832\n",
      "Epoch 20/64\n",
      "33/33 [==============================] - 0s 9ms/step - loss: 1.3398 - val_loss: 1.3272\n",
      "Epoch 21/64\n",
      "33/33 [==============================] - 0s 9ms/step - loss: 1.2866 - val_loss: 1.2737\n",
      "Epoch 22/64\n",
      "33/33 [==============================] - 0s 10ms/step - loss: 1.2347 - val_loss: 1.2220\n",
      "Epoch 23/64\n",
      "33/33 [==============================] - 0s 11ms/step - loss: 1.1867 - val_loss: 1.1721\n",
      "Epoch 24/64\n",
      "33/33 [==============================] - 0s 10ms/step - loss: 1.1405 - val_loss: 1.1283\n",
      "Epoch 25/64\n",
      "33/33 [==============================] - 0s 10ms/step - loss: 1.0960 - val_loss: 1.0873\n",
      "Epoch 26/64\n",
      "33/33 [==============================] - 0s 10ms/step - loss: 1.0542 - val_loss: 1.0477\n",
      "Epoch 27/64\n",
      "33/33 [==============================] - 0s 10ms/step - loss: 1.0193 - val_loss: 1.0109\n",
      "Epoch 28/64\n",
      "33/33 [==============================] - 0s 11ms/step - loss: 0.9793 - val_loss: 0.9774\n",
      "Epoch 29/64\n",
      "33/33 [==============================] - 0s 9ms/step - loss: 0.9482 - val_loss: 0.9474\n",
      "Epoch 30/64\n",
      "33/33 [==============================] - 0s 10ms/step - loss: 0.9201 - val_loss: 0.9186\n",
      "Epoch 31/64\n",
      "33/33 [==============================] - 0s 10ms/step - loss: 0.8914 - val_loss: 0.8909\n",
      "Epoch 32/64\n",
      "33/33 [==============================] - 0s 8ms/step - loss: 0.8624 - val_loss: 0.8649\n",
      "Epoch 33/64\n",
      "33/33 [==============================] - 0s 10ms/step - loss: 0.8395 - val_loss: 0.8428\n",
      "Epoch 34/64\n",
      "33/33 [==============================] - 0s 10ms/step - loss: 0.8208 - val_loss: 0.8250\n",
      "Epoch 35/64\n",
      "33/33 [==============================] - 0s 9ms/step - loss: 0.7986 - val_loss: 0.8086\n",
      "Epoch 36/64\n",
      "33/33 [==============================] - 0s 10ms/step - loss: 0.7834 - val_loss: 0.7934\n",
      "Epoch 37/64\n",
      "33/33 [==============================] - 0s 10ms/step - loss: 0.7703 - val_loss: 0.7791\n",
      "Epoch 38/64\n",
      "33/33 [==============================] - 0s 10ms/step - loss: 0.7562 - val_loss: 0.7658\n",
      "Epoch 39/64\n",
      "33/33 [==============================] - 0s 11ms/step - loss: 0.7472 - val_loss: 0.7531\n",
      "Epoch 40/64\n",
      "33/33 [==============================] - 0s 9ms/step - loss: 0.7316 - val_loss: 0.7419\n",
      "Epoch 41/64\n",
      "33/33 [==============================] - 0s 10ms/step - loss: 0.7242 - val_loss: 0.7323\n",
      "Epoch 42/64\n",
      "33/33 [==============================] - 0s 9ms/step - loss: 0.7152 - val_loss: 0.7236\n",
      "Epoch 43/64\n",
      "33/33 [==============================] - 0s 10ms/step - loss: 0.7102 - val_loss: 0.7162\n",
      "Epoch 44/64\n",
      "33/33 [==============================] - 0s 10ms/step - loss: 0.7030 - val_loss: 0.7093\n",
      "Epoch 45/64\n",
      "33/33 [==============================] - 0s 9ms/step - loss: 0.6965 - val_loss: 0.7026\n",
      "Epoch 46/64\n",
      "33/33 [==============================] - 0s 9ms/step - loss: 0.6881 - val_loss: 0.6964\n",
      "Epoch 47/64\n",
      "33/33 [==============================] - 0s 8ms/step - loss: 0.6856 - val_loss: 0.6906\n",
      "Epoch 48/64\n",
      "33/33 [==============================] - 0s 10ms/step - loss: 0.6759 - val_loss: 0.6851\n",
      "Epoch 49/64\n",
      "33/33 [==============================] - 0s 9ms/step - loss: 0.6797 - val_loss: 0.6803\n",
      "Epoch 50/64\n",
      "33/33 [==============================] - 0s 9ms/step - loss: 0.6719 - val_loss: 0.6761\n",
      "Epoch 51/64\n",
      "33/33 [==============================] - 0s 9ms/step - loss: 0.6699 - val_loss: 0.6730\n",
      "Epoch 52/64\n",
      "33/33 [==============================] - 0s 9ms/step - loss: 0.6656 - val_loss: 0.6703\n",
      "Epoch 53/64\n",
      "33/33 [==============================] - 0s 9ms/step - loss: 0.6649 - val_loss: 0.6679\n",
      "Epoch 54/64\n",
      "33/33 [==============================] - 0s 9ms/step - loss: 0.6655 - val_loss: 0.6660\n",
      "Epoch 55/64\n",
      "33/33 [==============================] - 0s 10ms/step - loss: 0.6610 - val_loss: 0.6644\n",
      "Epoch 56/64\n",
      "33/33 [==============================] - 0s 9ms/step - loss: 0.6629 - val_loss: 0.6629\n",
      "Epoch 57/64\n",
      "33/33 [==============================] - 0s 10ms/step - loss: 0.6545 - val_loss: 0.6615\n",
      "Epoch 58/64\n",
      "33/33 [==============================] - 0s 10ms/step - loss: 0.6529 - val_loss: 0.6604\n",
      "Epoch 59/64\n",
      "33/33 [==============================] - 0s 10ms/step - loss: 0.6518 - val_loss: 0.6592\n",
      "Epoch 60/64\n",
      "33/33 [==============================] - 0s 10ms/step - loss: 0.6535 - val_loss: 0.6583\n",
      "Epoch 61/64\n",
      "33/33 [==============================] - 0s 10ms/step - loss: 0.6527 - val_loss: 0.6573\n",
      "Epoch 62/64\n",
      "33/33 [==============================] - 0s 10ms/step - loss: 0.6495 - val_loss: 0.6564\n",
      "Epoch 63/64\n",
      "33/33 [==============================] - 0s 10ms/step - loss: 0.6515 - val_loss: 0.6558\n",
      "Epoch 64/64\n",
      "33/33 [==============================] - 0s 11ms/step - loss: 0.6506 - val_loss: 0.6552\n",
      "16/16 [==============================] - 0s 4ms/step\n",
      "Correlación de Pearson: 0.07942185352169313\n"
     ]
    },
    {
     "data": {
      "text/plain": [
       "<keras.engine.functional.Functional at 0x1bf27e2c448>"
      ]
     },
     "execution_count": 43,
     "metadata": {},
     "output_type": "execute_result"
    }
   ],
   "source": [
    "create_and_train_and_evaluate_model(mapped, mapped_val, pretrained_weights = pretrained_weights)"
   ]
  },
  {
   "cell_type": "markdown",
   "metadata": {
    "collapsed": false,
    "id": "9QkOR4Q28m75"
   },
   "source": [
    "## Analyze results"
   ]
  },
  {
   "attachments": {},
   "cell_type": "markdown",
   "metadata": {},
   "source": [
    "Taula de correlacions\n",
    "|Nom del embedding|similaritat obtinguda en val|\n",
    "|----|----|\n",
    "|Random embeddings|0.23|\n",
    "|embeddings pre-entrenats|0.07|\n"
   ]
  },
  {
   "attachments": {},
   "cell_type": "markdown",
   "metadata": {},
   "source": [
    "Si ens fixem en la similaritat obtinguda en ambdós models, observem com els embeddings inicialitzats random, obtenen una millor mètrica que si li donem al model els embeddings pre-entrenats. \n",
    "\n",
    "Una possible causa d'aquest mal rendiment és degut a que els embeddings ja entrenats, com més o menys són una bona representació de les paraules, al ficar-los a la xarxa i, per tant, modificar-los a cada epoch, és possible que s'arribi a una pitjor representació que la inicial. En canvi, en la inicialització random la xarxa pot fer convergir aquests valors aleatoris cap a una representació millor a cada epoch, ja que inicialment no és una bona representació, a diferència dels embeddings pre-entrenats. "
   ]
  },
  {
   "attachments": {},
   "cell_type": "markdown",
   "metadata": {},
   "source": [
    "## Opcional: Text classification"
   ]
  },
  {
   "cell_type": "code",
   "execution_count": 44,
   "metadata": {},
   "outputs": [
    {
     "data": {
      "application/vnd.jupyter.widget-view+json": {
       "model_id": "5dfd7fc2fbda445f93ebfd76f5f4a269",
       "version_major": 2,
       "version_minor": 0
      },
      "text/plain": [
       "Downloading builder script:   0%|          | 0.00/5.71k [00:00<?, ?B/s]"
      ]
     },
     "metadata": {},
     "output_type": "display_data"
    },
    {
     "data": {
      "application/vnd.jupyter.widget-view+json": {
       "model_id": "74189e451aed46c9be5218c83aa8be30",
       "version_major": 2,
       "version_minor": 0
      },
      "text/plain": [
       "Downloading readme:   0%|          | 0.00/8.16k [00:00<?, ?B/s]"
      ]
     },
     "metadata": {},
     "output_type": "display_data"
    },
    {
     "name": "stdout",
     "output_type": "stream",
     "text": [
      "Downloading and preparing dataset tecla/tecla to C:/Users/pelot/.cache/huggingface/datasets/projecte-aina___tecla/tecla/1.0.1/a0d9e053f5ad640d0203e50ca4cc4e254bdb7ff825b2ed4d4abc1ca640498ec6...\n"
     ]
    },
    {
     "data": {
      "application/vnd.jupyter.widget-view+json": {
       "model_id": "a4bb662df9234ca79074e1bfd06301c5",
       "version_major": 2,
       "version_minor": 0
      },
      "text/plain": [
       "Downloading data files:   0%|          | 0/3 [00:00<?, ?it/s]"
      ]
     },
     "metadata": {},
     "output_type": "display_data"
    },
    {
     "data": {
      "application/vnd.jupyter.widget-view+json": {
       "model_id": "1e3e7d5dcbbb4e46a5fd27c99b5570a5",
       "version_major": 2,
       "version_minor": 0
      },
      "text/plain": [
       "Downloading data:   0%|          | 0.00/230M [00:00<?, ?B/s]"
      ]
     },
     "metadata": {},
     "output_type": "display_data"
    },
    {
     "data": {
      "application/vnd.jupyter.widget-view+json": {
       "model_id": "2d1600c1314542569613a5f21df4fc68",
       "version_major": 2,
       "version_minor": 0
      },
      "text/plain": [
       "Downloading data:   0%|          | 0.00/14.5M [00:00<?, ?B/s]"
      ]
     },
     "metadata": {},
     "output_type": "display_data"
    },
    {
     "data": {
      "application/vnd.jupyter.widget-view+json": {
       "model_id": "3d9640156bbe435c85cfbfc1aa1e393c",
       "version_major": 2,
       "version_minor": 0
      },
      "text/plain": [
       "Downloading data:   0%|          | 0.00/43.0M [00:00<?, ?B/s]"
      ]
     },
     "metadata": {},
     "output_type": "display_data"
    },
    {
     "data": {
      "application/vnd.jupyter.widget-view+json": {
       "model_id": "99457a1b457146ce994ea412f3424c1c",
       "version_major": 2,
       "version_minor": 0
      },
      "text/plain": [
       "Extracting data files:   0%|          | 0/3 [00:00<?, ?it/s]"
      ]
     },
     "metadata": {},
     "output_type": "display_data"
    },
    {
     "data": {
      "application/vnd.jupyter.widget-view+json": {
       "model_id": "9b74c8d969134090aa08d8c2c5ba1c89",
       "version_major": 2,
       "version_minor": 0
      },
      "text/plain": [
       "Generating train split: 0 examples [00:00, ? examples/s]"
      ]
     },
     "metadata": {},
     "output_type": "display_data"
    },
    {
     "data": {
      "application/vnd.jupyter.widget-view+json": {
       "model_id": "57bd2dfca6e7411296d4ea16036c3e4f",
       "version_major": 2,
       "version_minor": 0
      },
      "text/plain": [
       "Generating validation split: 0 examples [00:00, ? examples/s]"
      ]
     },
     "metadata": {},
     "output_type": "display_data"
    },
    {
     "data": {
      "application/vnd.jupyter.widget-view+json": {
       "model_id": "d2bd7c5c6c8245f8befe33964107460a",
       "version_major": 2,
       "version_minor": 0
      },
      "text/plain": [
       "Generating test split: 0 examples [00:00, ? examples/s]"
      ]
     },
     "metadata": {},
     "output_type": "display_data"
    },
    {
     "name": "stdout",
     "output_type": "stream",
     "text": [
      "Dataset tecla downloaded and prepared to C:/Users/pelot/.cache/huggingface/datasets/projecte-aina___tecla/tecla/1.0.1/a0d9e053f5ad640d0203e50ca4cc4e254bdb7ff825b2ed4d4abc1ca640498ec6. Subsequent calls will reuse this data.\n"
     ]
    },
    {
     "data": {
      "application/vnd.jupyter.widget-view+json": {
       "model_id": "80c36b996359438993d207c814264b39",
       "version_major": 2,
       "version_minor": 0
      },
      "text/plain": [
       "  0%|          | 0/3 [00:00<?, ?it/s]"
      ]
     },
     "metadata": {},
     "output_type": "display_data"
    }
   ],
   "source": [
    "from datasets import load_dataset\n",
    "\n",
    "dataset = load_dataset(\"projecte-aina/tecla\")"
   ]
  },
  {
   "attachments": {},
   "cell_type": "markdown",
   "metadata": {},
   "source": [
    "Creem el diccionari i els input_pairs de trainning i de validació"
   ]
  },
  {
   "cell_type": "code",
   "execution_count": 46,
   "metadata": {},
   "outputs": [],
   "source": [
    "## Introducir los datos de train y de validación\n",
    "input_pairs = list(zip(dataset[\"train\"][\"text\"], dataset[\"train\"][\"label1\"], dataset[\"train\"][\"label2\"]))\n",
    "input_pairs_val = list(zip(dataset[\"validation\"][\"text\"], dataset[\"validation\"][\"label1\"], dataset[\"validation\"][\"label2\"]))\n",
    "\n",
    "\n",
    "# Preprocesamiento de las oraciones y creación del diccionario\n",
    "sentences_1_preproc = [preprocess(sentence_1) for sentence_1, _, _ in input_pairs]\n",
    "# Versión aplanada para poder entrenar el modelo\n",
    "sentences_pairs_flattened = sentences_1_preproc\n",
    "\n",
    "diccionario = Dictionary(sentences_pairs_flattened)"
   ]
  },
  {
   "attachments": {},
   "cell_type": "markdown",
   "metadata": {},
   "source": [
    "Modifiquem la funció de map_pairs per poder fer l'embedding d'aquest nou dataset"
   ]
  },
  {
   "cell_type": "code",
   "execution_count": 69,
   "metadata": {},
   "outputs": [],
   "source": [
    "def creacio_one_hot(sentence, diccionario:Dictionary):\n",
    "    diccionario.filter_extremes(no_below=5, no_above=0.5, keep_n=100)\n",
    "    vector1 = np.zeros(len(diccionario.token2id), dtype=np.float)\n",
    "    bow1 = diccionario.doc2bow(sentence)\n",
    "    for index, count in bow1:\n",
    "        vector1[index] = count\n",
    "\n",
    "    return vector1\n",
    "\n",
    "def map_tf_idf(sentence_preproc: List[str], dictionary: Dictionary, tf_idf_model: TfidfModel, wv_model) -> Tuple[List[np.ndarray], List[float]]:\n",
    "    bow = dictionary.doc2bow(sentence_preproc)\n",
    "    tf_idf = tf_idf_model[bow]\n",
    "    vectors, weights = [], []\n",
    "    for word_index, weight in tf_idf:\n",
    "        word = dictionary.get(word_index)\n",
    "        if word in wv_model:\n",
    "            vectors.append(wv_model[word])\n",
    "            weights.append(weight)\n",
    "    return vectors, weights\n",
    "\n",
    "def map_pairs(\n",
    "        sentence_pairs: List[Tuple[str, str, float]],\n",
    "        dictionary: Dictionary = None,\n",
    "        tf_idf_model: TfidfModel = None,\n",
    "        one_hot: bool = None,\n",
    "        Spasii : bool = None,\n",
    "        RobertA: bool = None,\n",
    "        RobertA_Mean: bool = None,\n",
    "        wv100: bool = None,\n",
    "        wv500: bool = None,\n",
    "        w2v_pre_mean: bool = None,\n",
    "        RobertA_finetuned: bool = None\n",
    ") -> List[Tuple[Tuple[np.ndarray, np.ndarray], float]]:\n",
    "    \"\"\"\n",
    "    Mapea los tripletes de oraciones a listas de (x, y), (pares de vectores, score)\n",
    "    :param sentence_pairs:\n",
    "    :param dictionary:\n",
    "    :param tf_idf_model:\n",
    "    :return:\n",
    "    \"\"\"\n",
    "    if one_hot:\n",
    "        dictionary2 = Dictionary(sentences_pairs_flattened, prune_at=300)\n",
    "\n",
    "    if Spasii:\n",
    "        nlp = spacy.load(\"ca_core_news_md\")\n",
    "    if RobertA or RobertA_Mean:\n",
    "        nlp = spacy.load(\"ca_core_news_trf\")\n",
    "\n",
    "    if wv100:\n",
    "        wv_model = KeyedVectors.load_word2vec_format(\"data/word2vec100.bin\", binary = True)\n",
    "\n",
    "    if wv500:\n",
    "        wv_model = KeyedVectors.load_word2vec_format(\"data/word2vec500.bin\", binary = True)\n",
    "\n",
    "    if w2v_pre_mean or tf_idf_model:\n",
    "        wv_model = KeyedVectors.load_word2vec_format(\"data/model.bin\", binary = True)\n",
    "\n",
    "\n",
    "    # Mapeo de los pares de oraciones a pares de vectores\n",
    "    pares_vectores = []\n",
    "    for i, (sentence_1, label1, label2) in enumerate(sentence_pairs):\n",
    "        sentence_1_preproc = preprocess(sentence_1)\n",
    "        # Si usamos TF-IDF\n",
    "        if tf_idf_model is not None:\n",
    "            # Cálculo del promedio ponderado por TF-IDF de los word embeddings\n",
    "            vectors1, weights1 = map_tf_idf(sentence_1_preproc, dictionary=dictionary, tf_idf_model=tf_idf_model, wv_model=wv_model )\n",
    "            vector1 = np.average(vectors1, weights=weights1, axis=0, )\n",
    "\n",
    "        elif wv100 is not None:\n",
    "            vectors1 = [wv_model[word] for word in sentence_1_preproc if word in wv_model]\n",
    "            vector1 = np.mean(vectors1, axis=0)\n",
    "\n",
    "        elif wv500 is not None:\n",
    "            vectors1 = [wv_model[word] for word in sentence_1_preproc if word in wv_model]\n",
    "            vector1 = np.mean(vectors1, axis=0)\n",
    "\n",
    "        elif one_hot is not None:\n",
    "            vector1 = creacio_one_hot(sentence=sentence_1_preproc, diccionario=dictionary2)\n",
    "            \n",
    "        elif Spasii is not None:\n",
    "            vector1 = nlp(\" \".join(sentence_1_preproc)).vector\n",
    "\n",
    "        elif RobertA is not None:\n",
    "            vector1 = nlp(\" \".join(sentence_1_preproc))._.trf_data.tensors[-1]\n",
    "            vector1 = tf.squeeze(vector1)\n",
    "\n",
    "        elif RobertA_Mean is not None:\n",
    "            vectors1 = nlp(\" \".join(sentence_1_preproc))._.trf_data.tensors[-1]\n",
    "            vector1 = np.average(vectors1, axis=0)\n",
    "            \n",
    "        elif w2v_pre_mean is not None:\n",
    "            # Cálculo del promedio de los word embeddings\n",
    "            vectors1 = [wv_model[word] for word in sentence_1_preproc if word in wv_model]\n",
    "            vector1 = np.mean(vectors1, axis=0)\n",
    "        # Añadir a la lista\n",
    "        pares_vectores.append((vector1, label1, label2))\n",
    "    return pares_vectores"
   ]
  },
  {
   "attachments": {},
   "cell_type": "markdown",
   "metadata": {},
   "source": [
    "Fem mapping de les noves dades. Utilitzarem el model w2v de 100mb creat per nosaltres."
   ]
  },
  {
   "cell_type": "code",
   "execution_count": 70,
   "metadata": {},
   "outputs": [],
   "source": [
    "mapped = map_pairs(input_pairs, diccionario, wv100= True)\n",
    "mapped_val = map_pairs(input_pairs_val, diccionario, wv100 = True)"
   ]
  },
  {
   "attachments": {},
   "cell_type": "markdown",
   "metadata": {},
   "source": [
    "Creem la funció de compilació i validació del model, on s'ha modificat el output de sortida amb una capa densa amb activació softmax. A més s'ha canviat la estructura de la xarxa per adequar la nova entrada."
   ]
  },
  {
   "cell_type": "code",
   "execution_count": 121,
   "metadata": {},
   "outputs": [],
   "source": [
    "def build_and_compile_model(hidden_size: int = 128, embedding_size: int = 300, learning_rate: float = 0.001, sortida:int = 53) -> tf.keras.Model:\n",
    "    # Capa de entrada para los pares de vectores\n",
    "    input_1 = tf.keras.Input(shape=(embedding_size,))\n",
    "\n",
    "    # Capa oculta\n",
    "    first_projection = tf.keras.layers.Dense(\n",
    "        embedding_size,\n",
    "        # activation='tanh',\n",
    "        kernel_initializer=tf.keras.initializers.Identity(),\n",
    "        bias_initializer=tf.keras.initializers.Zeros(),\n",
    "    )\n",
    "    projected_1 = first_projection(input_1)\n",
    "\n",
    "    # Compute the cosine distance\n",
    "    projected_1 = tf.linalg.l2_normalize(projected_1, axis=1, )\n",
    "    output = tf.keras.layers.Dense(sortida, activation='softmax')\n",
    "    output = output(projected_1)\n",
    "\n",
    "    # Definir el modelo con las capas de entrada y salida\n",
    "    model = tf.keras.Model(inputs=[input_1], outputs=output)\n",
    "\n",
    "\n",
    "    # Compilar el modelo\n",
    "    model.compile(loss=\"categorical_crossentropy\", metrics=\"acc\",\n",
    "                  optimizer=tf.keras.optimizers.Adam(learning_rate))\n",
    "\n",
    "    return model\n",
    "\n",
    "def plot_training_curve(history):\n",
    "    # Plot the training and validation loss and accuracy\n",
    "    fig, ax = plt.subplots(2, 1, figsize=(8, 8))\n",
    "    ax[0].plot(history.history['loss'], label='train_loss')\n",
    "    ax[0].plot(history.history['val_loss'], label='val_loss')\n",
    "    ax[0].set_xlabel('Epoch')\n",
    "    ax[0].set_ylabel('Loss')\n",
    "    ax[0].set_title('Training and Validation Loss')\n",
    "    ax[0].grid(True)\n",
    "    ax[0].legend()\n",
    "    ax[1].plot(history.history['acc'], label='acc')\n",
    "    ax[1].plot(history.history['val_acc'], label='val_acc')\n",
    "    ax[1].set_xlabel('Epoch')\n",
    "    ax[1].set_ylabel('Loss')\n",
    "    ax[1].set_title('Training and Validation correlation')\n",
    "    ax[1].grid(True)\n",
    "    ax[1].legend()\n",
    "    plt.show()\n",
    "\n",
    "# Definir constantes de entrenamiento\n",
    "batch_size: int = 64\n",
    "num_epochs: int = 32\n",
    "\n",
    "def pair_list_to_x_y(pair_list: List[Tuple[Tuple[np.ndarray, np.ndarray], int]]) -> Tuple[Tuple[np.ndarray, np.ndarray], np.ndarray]:\n",
    "    \"\"\"\n",
    "    Otiene las matrices X_1 (N x d) , X_2 (N x d), e Y (n) a partir de listas de parejas de vectores de oraciones - Listas de (d, d, 1)\n",
    "    :param pair_list:\n",
    "    :return:\n",
    "    \"\"\"\n",
    "    _x, _y1, _y2 = zip(*pair_list)\n",
    "    return (np.array(_x)), np.array(_y1, dtype=np.int, ) ,np.array(_y2, dtype=np.int, )\n",
    "\n",
    "\n",
    "def create_and_train_and_evaluate_model(mapped, mapped_val,embedding_size:int=100):\n",
    "    # Obtener las listas de train y test\n",
    "    from keras.utils import to_categorical\n",
    "\n",
    "    x_train, y_train1, y_train2 = pair_list_to_x_y(mapped)\n",
    "    x_val, y_val1, y_val2 = pair_list_to_x_y(mapped_val)\n",
    "    y_train1 = to_categorical(y_train1)\n",
    "    y_train2 = to_categorical(y_train2)\n",
    "    y_val1 = to_categorical(y_val1)\n",
    "    y_val2 = to_categorical(y_val2)\n",
    "\n",
    "\n",
    "    # Preparar los conjuntos de datos de entrenamiento y validación\n",
    "    train_dataset = tf.data.Dataset.from_tensor_slices((x_train, y_train1))\n",
    "    train_dataset = train_dataset.shuffle(buffer_size=len(x_train)).batch(batch_size)\n",
    "\n",
    "    train_dataset2 = tf.data.Dataset.from_tensor_slices((x_train, y_train2))\n",
    "    train_dataset2 = train_dataset2.shuffle(buffer_size=len(x_train)).batch(batch_size)\n",
    "\n",
    "    val_dataset = tf.data.Dataset.from_tensor_slices((x_val, y_val1))\n",
    "    val_dataset = val_dataset.batch(batch_size)\n",
    "    val_dataset2 = tf.data.Dataset.from_tensor_slices((x_val, y_val2))\n",
    "    val_dataset2 = val_dataset2.batch(batch_size)\n",
    "\n",
    "    # Construir y compilar el modelo\n",
    "    model = build_and_compile_model(embedding_size=embedding_size, sortida = 4)\n",
    "    # tf.keras.utils.plot_model(model, show_shapes=True, show_layer_activations=True, )\n",
    "    print(model.summary())\n",
    "    # Entrenar el modelo\n",
    "    history = model.fit(train_dataset, epochs=num_epochs, validation_data=val_dataset)\n",
    "\n",
    "    plot_training_curve(history)\n",
    "\n",
    "    y_pred = model.predict(x_val)\n",
    "    y_pred = np.argmax(y_pred, axis=1)\n",
    "    print(\"En la primera label\")\n",
    "    from keras.utils import to_categorical\n",
    "\n",
    "    y_pred = to_categorical(y_pred)\n",
    "    print(classification_report(y_val1, y_pred))\n",
    "\n",
    "    model2 = build_and_compile_model(embedding_size=embedding_size, sortida= 53)\n",
    "\n",
    "    history = model2.fit(train_dataset2, epochs=num_epochs, validation_data=val_dataset2)\n",
    "\n",
    "    plot_training_curve(history)\n",
    "\n",
    "    y_pred = model2.predict(x_val)\n",
    "    y_pred = np.argmax(y_pred, axis=1)\n",
    "    print(\"En la segona label\")\n",
    "    y_pred = to_categorical(y_pred)\n",
    "    print(classification_report(y_val2, y_pred))\n",
    "\n",
    "    return model"
   ]
  },
  {
   "cell_type": "code",
   "execution_count": 122,
   "metadata": {},
   "outputs": [
    {
     "name": "stdout",
     "output_type": "stream",
     "text": [
      "Model: \"model_27\"\n",
      "_________________________________________________________________\n",
      " Layer (type)                Output Shape              Param #   \n",
      "=================================================================\n",
      " input_34 (InputLayer)       [(None, 100)]             0         \n",
      "                                                                 \n",
      " dense_39 (Dense)            (None, 100)               10100     \n",
      "                                                                 \n",
      " tf.math.l2_normalize_33 (TF  (None, 100)              0         \n",
      " OpLambda)                                                       \n",
      "                                                                 \n",
      " dense_40 (Dense)            (None, 4)                 404       \n",
      "                                                                 \n",
      "=================================================================\n",
      "Total params: 10,504\n",
      "Trainable params: 10,504\n",
      "Non-trainable params: 0\n",
      "_________________________________________________________________\n",
      "None\n",
      "Epoch 1/32\n"
     ]
    },
    {
     "name": "stderr",
     "output_type": "stream",
     "text": [
      "C:\\Users\\pelot\\AppData\\Local\\Packages\\PythonSoftwareFoundation.Python.3.7_qbz5n2kfra8p0\\LocalCache\\local-packages\\Python37\\site-packages\\ipykernel_launcher.py:59: DeprecationWarning: `np.int` is a deprecated alias for the builtin `int`. To silence this warning, use `int` by itself. Doing this will not modify any behavior and is safe. When replacing `np.int`, you may wish to use e.g. `np.int64` or `np.int32` to specify the precision. If you wish to review your current use, check the release note link for additional information.\n",
      "Deprecated in NumPy 1.20; for more details and guidance: https://numpy.org/devdocs/release/1.20.0-notes.html#deprecations\n"
     ]
    },
    {
     "name": "stdout",
     "output_type": "stream",
     "text": [
      "1418/1418 [==============================] - 3s 2ms/step - loss: 0.3509 - acc: 0.8861 - val_loss: 0.2503 - val_acc: 0.9146\n",
      "Epoch 2/32\n",
      "1418/1418 [==============================] - 2s 1ms/step - loss: 0.2508 - acc: 0.9094 - val_loss: 0.2374 - val_acc: 0.9178\n",
      "Epoch 3/32\n",
      "1418/1418 [==============================] - 2s 1ms/step - loss: 0.2434 - acc: 0.9116 - val_loss: 0.2371 - val_acc: 0.9204\n",
      "Epoch 4/32\n",
      "1418/1418 [==============================] - 2s 1ms/step - loss: 0.2406 - acc: 0.9135 - val_loss: 0.2448 - val_acc: 0.9162\n",
      "Epoch 5/32\n",
      "1418/1418 [==============================] - 2s 1ms/step - loss: 0.2370 - acc: 0.9142 - val_loss: 0.2324 - val_acc: 0.9201\n",
      "Epoch 6/32\n",
      "1418/1418 [==============================] - 2s 1ms/step - loss: 0.2380 - acc: 0.9131 - val_loss: 0.2545 - val_acc: 0.9130\n",
      "Epoch 7/32\n",
      "1418/1418 [==============================] - 2s 1ms/step - loss: 0.2366 - acc: 0.9138 - val_loss: 0.2311 - val_acc: 0.9215\n",
      "Epoch 8/32\n",
      "1418/1418 [==============================] - 2s 1ms/step - loss: 0.2356 - acc: 0.9141 - val_loss: 0.2360 - val_acc: 0.9197\n",
      "Epoch 9/32\n",
      "1418/1418 [==============================] - 2s 1ms/step - loss: 0.2356 - acc: 0.9142 - val_loss: 0.2296 - val_acc: 0.9190\n",
      "Epoch 10/32\n",
      "1418/1418 [==============================] - 2s 1ms/step - loss: 0.2354 - acc: 0.9138 - val_loss: 0.2317 - val_acc: 0.9197\n",
      "Epoch 11/32\n",
      "1418/1418 [==============================] - 2s 1ms/step - loss: 0.2343 - acc: 0.9144 - val_loss: 0.2447 - val_acc: 0.9136\n",
      "Epoch 12/32\n",
      "1418/1418 [==============================] - 2s 1ms/step - loss: 0.2330 - acc: 0.9144 - val_loss: 0.2320 - val_acc: 0.9187\n",
      "Epoch 13/32\n",
      "1418/1418 [==============================] - 2s 1ms/step - loss: 0.2336 - acc: 0.9142 - val_loss: 0.2345 - val_acc: 0.9169\n",
      "Epoch 14/32\n",
      "1418/1418 [==============================] - 2s 1ms/step - loss: 0.2332 - acc: 0.9144 - val_loss: 0.2386 - val_acc: 0.9183\n",
      "Epoch 15/32\n",
      "1418/1418 [==============================] - 2s 1ms/step - loss: 0.2325 - acc: 0.9156 - val_loss: 0.2269 - val_acc: 0.9222\n",
      "Epoch 16/32\n",
      "1418/1418 [==============================] - 2s 1ms/step - loss: 0.2326 - acc: 0.9153 - val_loss: 0.2305 - val_acc: 0.9196\n",
      "Epoch 17/32\n",
      "1418/1418 [==============================] - 2s 1ms/step - loss: 0.2329 - acc: 0.9150 - val_loss: 0.2366 - val_acc: 0.9185\n",
      "Epoch 18/32\n",
      "1418/1418 [==============================] - 2s 1ms/step - loss: 0.2318 - acc: 0.9154 - val_loss: 0.2302 - val_acc: 0.9199\n",
      "Epoch 19/32\n",
      "1418/1418 [==============================] - 2s 1ms/step - loss: 0.2311 - acc: 0.9152 - val_loss: 0.2302 - val_acc: 0.9215\n",
      "Epoch 20/32\n",
      "1418/1418 [==============================] - 2s 1ms/step - loss: 0.2312 - acc: 0.9146 - val_loss: 0.2296 - val_acc: 0.9204\n",
      "Epoch 21/32\n",
      "1418/1418 [==============================] - 2s 1ms/step - loss: 0.2306 - acc: 0.9156 - val_loss: 0.2263 - val_acc: 0.9224\n",
      "Epoch 22/32\n",
      "1418/1418 [==============================] - 2s 1ms/step - loss: 0.2300 - acc: 0.9153 - val_loss: 0.2260 - val_acc: 0.9206\n",
      "Epoch 23/32\n",
      "1418/1418 [==============================] - 2s 1ms/step - loss: 0.2301 - acc: 0.9157 - val_loss: 0.2251 - val_acc: 0.9215\n",
      "Epoch 24/32\n",
      "1418/1418 [==============================] - 2s 1ms/step - loss: 0.2305 - acc: 0.9158 - val_loss: 0.2340 - val_acc: 0.9178\n",
      "Epoch 25/32\n",
      "1418/1418 [==============================] - 2s 1ms/step - loss: 0.2299 - acc: 0.9151 - val_loss: 0.2298 - val_acc: 0.9201\n",
      "Epoch 26/32\n",
      "1418/1418 [==============================] - 2s 1ms/step - loss: 0.2297 - acc: 0.9150 - val_loss: 0.2261 - val_acc: 0.9213\n",
      "Epoch 27/32\n",
      "1418/1418 [==============================] - 2s 1ms/step - loss: 0.2289 - acc: 0.9161 - val_loss: 0.2324 - val_acc: 0.9178\n",
      "Epoch 28/32\n",
      "1418/1418 [==============================] - 2s 1ms/step - loss: 0.2289 - acc: 0.9160 - val_loss: 0.2277 - val_acc: 0.9203\n",
      "Epoch 29/32\n",
      "1418/1418 [==============================] - 2s 1ms/step - loss: 0.2289 - acc: 0.9160 - val_loss: 0.2256 - val_acc: 0.9217\n",
      "Epoch 30/32\n",
      "1418/1418 [==============================] - 2s 1ms/step - loss: 0.2283 - acc: 0.9161 - val_loss: 0.2314 - val_acc: 0.9210\n",
      "Epoch 31/32\n",
      "1418/1418 [==============================] - 2s 1ms/step - loss: 0.2285 - acc: 0.9163 - val_loss: 0.2311 - val_acc: 0.9206\n",
      "Epoch 32/32\n",
      "1418/1418 [==============================] - 2s 1ms/step - loss: 0.2274 - acc: 0.9169 - val_loss: 0.2291 - val_acc: 0.9192\n"
     ]
    },
    {
     "data": {
      "image/png": "[encoded data removed]",
      "text/plain": [
       "<Figure size 576x576 with 2 Axes>"
      ]
     },
     "metadata": {
      "needs_background": "light"
     },
     "output_type": "display_data"
    },
    {
     "name": "stdout",
     "output_type": "stream",
     "text": [
      "178/178 [==============================] - 0s 756us/step\n",
      "En la primera label\n",
      "              precision    recall  f1-score   support\n",
      "\n",
      "           0       0.93      0.91      0.92      2306\n",
      "           1       0.93      0.93      0.93      1599\n",
      "           2       0.86      0.91      0.88      1018\n",
      "           3       0.94      0.93      0.94       746\n",
      "\n",
      "   micro avg       0.92      0.92      0.92      5669\n",
      "   macro avg       0.92      0.92      0.92      5669\n",
      "weighted avg       0.92      0.92      0.92      5669\n",
      " samples avg       0.92      0.92      0.92      5669\n",
      "\n",
      "Epoch 1/32\n",
      "1418/1418 [==============================] - 3s 1ms/step - loss: 2.0638 - acc: 0.4789 - val_loss: 1.4733 - val_acc: 0.6022\n",
      "Epoch 2/32\n",
      "1418/1418 [==============================] - 2s 1ms/step - loss: 1.3158 - acc: 0.6153 - val_loss: 1.2320 - val_acc: 0.6338\n",
      "Epoch 3/32\n",
      "1418/1418 [==============================] - 2s 1ms/step - loss: 1.1729 - acc: 0.6402 - val_loss: 1.1441 - val_acc: 0.6451\n",
      "Epoch 4/32\n",
      "1418/1418 [==============================] - 2s 1ms/step - loss: 1.1139 - acc: 0.6503 - val_loss: 1.1236 - val_acc: 0.6495\n",
      "Epoch 5/32\n",
      "1418/1418 [==============================] - 2s 1ms/step - loss: 1.0811 - acc: 0.6560 - val_loss: 1.1033 - val_acc: 0.6546\n",
      "Epoch 6/32\n",
      "1418/1418 [==============================] - 2s 1ms/step - loss: 1.0630 - acc: 0.6587 - val_loss: 1.0685 - val_acc: 0.6655\n",
      "Epoch 7/32\n",
      "1418/1418 [==============================] - 2s 1ms/step - loss: 1.0488 - acc: 0.6626 - val_loss: 1.0574 - val_acc: 0.6654\n",
      "Epoch 8/32\n",
      "1418/1418 [==============================] - 2s 1ms/step - loss: 1.0381 - acc: 0.6643 - val_loss: 1.0640 - val_acc: 0.6557\n",
      "Epoch 9/32\n",
      "1418/1418 [==============================] - 2s 1ms/step - loss: 1.0316 - acc: 0.6661 - val_loss: 1.0455 - val_acc: 0.6670\n",
      "Epoch 10/32\n",
      "1418/1418 [==============================] - 2s 1ms/step - loss: 1.0242 - acc: 0.6671 - val_loss: 1.0447 - val_acc: 0.6664\n",
      "Epoch 11/32\n",
      "1418/1418 [==============================] - 2s 1ms/step - loss: 1.0199 - acc: 0.6682 - val_loss: 1.0316 - val_acc: 0.6703\n",
      "Epoch 12/32\n",
      "1418/1418 [==============================] - 2s 1ms/step - loss: 1.0144 - acc: 0.6690 - val_loss: 1.0313 - val_acc: 0.6721\n",
      "Epoch 13/32\n",
      "1418/1418 [==============================] - 2s 1ms/step - loss: 1.0114 - acc: 0.6700 - val_loss: 1.0497 - val_acc: 0.6652\n",
      "Epoch 14/32\n",
      "1418/1418 [==============================] - 2s 1ms/step - loss: 1.0078 - acc: 0.6712 - val_loss: 1.0300 - val_acc: 0.6745\n",
      "Epoch 15/32\n",
      "1418/1418 [==============================] - 2s 1ms/step - loss: 1.0044 - acc: 0.6716 - val_loss: 1.0242 - val_acc: 0.6749\n",
      "Epoch 16/32\n",
      "1418/1418 [==============================] - 2s 1ms/step - loss: 1.0033 - acc: 0.6722 - val_loss: 1.0359 - val_acc: 0.6775\n",
      "Epoch 17/32\n",
      "1418/1418 [==============================] - 2s 1ms/step - loss: 0.9991 - acc: 0.6727 - val_loss: 1.0394 - val_acc: 0.6708\n",
      "Epoch 18/32\n",
      "1418/1418 [==============================] - 2s 1ms/step - loss: 0.9979 - acc: 0.6732 - val_loss: 1.0332 - val_acc: 0.6701\n",
      "Epoch 19/32\n",
      "1418/1418 [==============================] - 2s 1ms/step - loss: 0.9949 - acc: 0.6741 - val_loss: 1.0280 - val_acc: 0.6749\n",
      "Epoch 20/32\n",
      "1418/1418 [==============================] - 2s 1ms/step - loss: 0.9945 - acc: 0.6737 - val_loss: 1.0335 - val_acc: 0.6749\n",
      "Epoch 21/32\n",
      "1418/1418 [==============================] - 2s 1ms/step - loss: 0.9928 - acc: 0.6746 - val_loss: 1.0237 - val_acc: 0.6758\n",
      "Epoch 22/32\n",
      "1418/1418 [==============================] - 2s 1ms/step - loss: 0.9906 - acc: 0.6746 - val_loss: 1.0330 - val_acc: 0.6717\n",
      "Epoch 23/32\n",
      "1418/1418 [==============================] - 2s 1ms/step - loss: 0.9893 - acc: 0.6748 - val_loss: 1.0258 - val_acc: 0.6775\n",
      "Epoch 24/32\n",
      "1418/1418 [==============================] - 2s 1ms/step - loss: 0.9872 - acc: 0.6753 - val_loss: 1.0249 - val_acc: 0.6744\n",
      "Epoch 25/32\n",
      "1418/1418 [==============================] - 2s 1ms/step - loss: 0.9852 - acc: 0.6757 - val_loss: 1.0079 - val_acc: 0.6784\n",
      "Epoch 26/32\n",
      "1418/1418 [==============================] - 2s 1ms/step - loss: 0.9857 - acc: 0.6758 - val_loss: 1.0218 - val_acc: 0.6763\n",
      "Epoch 27/32\n",
      "1418/1418 [==============================] - 2s 1ms/step - loss: 0.9830 - acc: 0.6768 - val_loss: 1.0344 - val_acc: 0.6712\n",
      "Epoch 28/32\n",
      "1418/1418 [==============================] - 2s 1ms/step - loss: 0.9833 - acc: 0.6769 - val_loss: 1.0166 - val_acc: 0.6783\n",
      "Epoch 29/32\n",
      "1418/1418 [==============================] - 2s 1ms/step - loss: 0.9813 - acc: 0.6764 - val_loss: 1.0366 - val_acc: 0.6738\n",
      "Epoch 30/32\n",
      "1418/1418 [==============================] - 2s 1ms/step - loss: 0.9805 - acc: 0.6761 - val_loss: 1.0241 - val_acc: 0.6753\n",
      "Epoch 31/32\n",
      "1418/1418 [==============================] - 2s 1ms/step - loss: 0.9799 - acc: 0.6765 - val_loss: 1.0183 - val_acc: 0.6812\n",
      "Epoch 32/32\n",
      "1418/1418 [==============================] - 2s 1ms/step - loss: 0.9801 - acc: 0.6779 - val_loss: 1.0180 - val_acc: 0.6738\n"
     ]
    },
    {
     "data": {
      "image/png": "[encoded data removed]",
      "text/plain": [
       "<Figure size 576x576 with 2 Axes>"
      ]
     },
     "metadata": {
      "needs_background": "light"
     },
     "output_type": "display_data"
    },
    {
     "name": "stdout",
     "output_type": "stream",
     "text": [
      "178/178 [==============================] - 0s 825us/step\n",
      "En la segona label\n",
      "              precision    recall  f1-score   support\n",
      "\n",
      "           0       0.82      0.50      0.62        18\n",
      "           1       0.66      0.59      0.62       109\n",
      "           2       0.70      0.63      0.66       124\n",
      "           3       0.69      0.57      0.62       261\n",
      "           4       0.43      0.37      0.40        27\n",
      "           5       0.70      0.93      0.80        15\n",
      "           6       0.72      0.67      0.69       492\n",
      "           7       0.57      0.62      0.59       169\n",
      "           8       0.53      0.71      0.60       102\n",
      "           9       0.69      0.73      0.71        93\n",
      "          10       0.70      0.75      0.72       103\n",
      "          11       0.00      0.00      0.00         5\n",
      "          12       0.00      0.00      0.00         5\n",
      "          13       0.60      0.62      0.61       407\n",
      "          14       0.63      0.63      0.63        27\n",
      "          15       0.69      0.56      0.62        48\n",
      "          16       0.41      0.29      0.34        62\n",
      "          17       0.45      0.43      0.44        54\n",
      "          18       0.43      0.20      0.27        15\n",
      "          19       0.50      0.35      0.42        31\n",
      "          20       0.00      0.00      0.00         8\n",
      "          21       0.71      0.67      0.69       189\n",
      "          22       0.79      0.76      0.77        45\n",
      "          23       0.76      0.88      0.82       340\n",
      "          24       0.65      0.48      0.55        77\n",
      "          25       0.73      0.38      0.50        29\n",
      "          26       0.46      0.40      0.43        15\n",
      "          27       0.00      0.00      0.00         7\n",
      "          28       0.76      0.74      0.75       202\n",
      "          29       0.59      0.73      0.65       347\n",
      "          30       0.67      0.40      0.50       105\n",
      "          31       0.90      0.90      0.90        98\n",
      "          32       0.33      0.33      0.33         6\n",
      "          33       0.76      0.75      0.76        77\n",
      "          34       0.50      0.50      0.50       131\n",
      "          35       0.49      0.52      0.51        61\n",
      "          36       0.47      0.36      0.41        47\n",
      "          37       0.00      0.00      0.00         1\n",
      "          38       0.79      0.75      0.77       362\n",
      "          39       0.70      0.75      0.72       629\n",
      "          40       0.86      0.84      0.85       179\n",
      "          41       0.81      0.88      0.84        74\n",
      "          42       0.55      0.60      0.57        20\n",
      "          43       0.55      0.64      0.60        56\n",
      "          44       0.60      0.58      0.59        74\n",
      "          45       0.00      0.00      0.00         3\n",
      "          46       0.14      0.06      0.08        17\n",
      "          47       0.62      0.38      0.48        13\n",
      "          48       1.00      0.25      0.40        12\n",
      "          49       0.65      0.80      0.72       172\n",
      "          50       0.71      0.42      0.53        12\n",
      "          51       0.58      0.87      0.69        68\n",
      "          52       0.56      0.54      0.55        26\n",
      "\n",
      "   micro avg       0.67      0.67      0.67      5669\n",
      "   macro avg       0.56      0.52      0.53      5669\n",
      "weighted avg       0.67      0.67      0.67      5669\n",
      " samples avg       0.67      0.67      0.67      5669\n",
      "\n"
     ]
    },
    {
     "name": "stderr",
     "output_type": "stream",
     "text": [
      "C:\\Users\\pelot\\AppData\\Local\\Packages\\PythonSoftwareFoundation.Python.3.7_qbz5n2kfra8p0\\LocalCache\\local-packages\\Python37\\site-packages\\sklearn\\metrics\\_classification.py:1318: UndefinedMetricWarning: Precision and F-score are ill-defined and being set to 0.0 in labels with no predicted samples. Use `zero_division` parameter to control this behavior.\n",
      "  _warn_prf(average, modifier, msg_start, len(result))\n"
     ]
    },
    {
     "data": {
      "text/plain": [
       "<keras.engine.functional.Functional at 0x1bf85fb92c8>"
      ]
     },
     "execution_count": 122,
     "metadata": {},
     "output_type": "execute_result"
    }
   ],
   "source": [
    "create_and_train_and_evaluate_model(mapped, mapped_val,embedding_size=100)"
   ]
  },
  {
   "attachments": {},
   "cell_type": "markdown",
   "metadata": {},
   "source": [
    "Utilitzant 2 models de la xarxa, un per cada label, hem obtingut els següents resultats:\n",
    "- label 1 => 92% d'accuracy\n",
    "- label 2 => 53% d'accuracy"
   ]
  }
 ],
 "metadata": {
  "colab": {
   "provenance": []
  },
  "kernelspec": {
   "display_name": "Python 3",
   "language": "python",
   "name": "python3"
  },
  "language_info": {
   "codemirror_mode": {
    "name": "ipython",
    "version": 3
   },
   "file_extension": ".py",
   "mimetype": "text/x-python",
   "name": "python",
   "nbconvert_exporter": "python",
   "pygments_lexer": "ipython3",
   "version": "3.7.9"
  },
  "orig_nbformat": 4
 },
 "nbformat": 4,
 "nbformat_minor": 0
}
