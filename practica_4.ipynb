{
 "cells": [
  {
   "cell_type": "markdown",
   "metadata": {
    "id": "_C6R8Swq8m7f"
   },
   "source": [
    "# Pràctica 4\n",
    "### Part I : Entrenament de models Word2vec"
   ]
  },
  {
   "cell_type": "code",
   "execution_count": null,
   "metadata": {
    "ExecuteTime": {
     "end_time": "2023-05-31T17:00:29.701949Z",
     "start_time": "2023-05-31T17:00:23.336155Z"
    },
    "id": "1kdMxSds8m7h",
    "outputId": "7606a961-7a32-46bf-d6ef-d38f7f220e4c"
   },
   "outputs": [
    {
     "name": "stderr",
     "output_type": "stream",
     "text": [
      "\n",
      "[notice] A new release of pip available: 22.3 -> 23.1.2\n",
      "[notice] To update, run: C:\\Users\\adria\\AppData\\Local\\Microsoft\\WindowsApps\\PythonSoftwareFoundation.Python.3.10_qbz5n2kfra8p0\\python.exe -m pip install --upgrade pip\n"
     ]
    },
    {
     "name": "stdout",
     "output_type": "stream",
     "text": [
      "Collecting ca-core-news-sm==3.5.0\n",
      "  Downloading https://github.com/explosion/spacy-models/releases/download/ca_core_news_sm-3.5.0/ca_core_news_sm-3.5.0-py3-none-any.whl (19.6 MB)\n",
      "     --------------------------------------- 19.6/19.6 MB 38.4 MB/s eta 0:00:00\n",
      "Requirement already satisfied: spacy<3.6.0,>=3.5.0 in c:\\users\\adria\\appdata\\local\\packages\\pythonsoftwarefoundation.python.3.10_qbz5n2kfra8p0\\localcache\\local-packages\\python310\\site-packages (from ca-core-news-sm==3.5.0) (3.5.3)\n",
      "Requirement already satisfied: spacy-loggers<2.0.0,>=1.0.0 in c:\\users\\adria\\appdata\\local\\packages\\pythonsoftwarefoundation.python.3.10_qbz5n2kfra8p0\\localcache\\local-packages\\python310\\site-packages (from spacy<3.6.0,>=3.5.0->ca-core-news-sm==3.5.0) (1.0.4)\n",
      "Requirement already satisfied: packaging>=20.0 in c:\\users\\adria\\appdata\\local\\packages\\pythonsoftwarefoundation.python.3.10_qbz5n2kfra8p0\\localcache\\local-packages\\python310\\site-packages (from spacy<3.6.0,>=3.5.0->ca-core-news-sm==3.5.0) (23.1)\n",
      "Requirement already satisfied: thinc<8.2.0,>=8.1.8 in c:\\users\\adria\\appdata\\local\\packages\\pythonsoftwarefoundation.python.3.10_qbz5n2kfra8p0\\localcache\\local-packages\\python310\\site-packages (from spacy<3.6.0,>=3.5.0->ca-core-news-sm==3.5.0) (8.1.10)\n",
      "Requirement already satisfied: jinja2 in c:\\users\\adria\\appdata\\local\\packages\\pythonsoftwarefoundation.python.3.10_qbz5n2kfra8p0\\localcache\\local-packages\\python310\\site-packages (from spacy<3.6.0,>=3.5.0->ca-core-news-sm==3.5.0) (3.1.2)\n",
      "Requirement already satisfied: requests<3.0.0,>=2.13.0 in c:\\users\\adria\\appdata\\local\\packages\\pythonsoftwarefoundation.python.3.10_qbz5n2kfra8p0\\localcache\\local-packages\\python310\\site-packages (from spacy<3.6.0,>=3.5.0->ca-core-news-sm==3.5.0) (2.31.0)\n",
      "Requirement already satisfied: murmurhash<1.1.0,>=0.28.0 in c:\\users\\adria\\appdata\\local\\packages\\pythonsoftwarefoundation.python.3.10_qbz5n2kfra8p0\\localcache\\local-packages\\python310\\site-packages (from spacy<3.6.0,>=3.5.0->ca-core-news-sm==3.5.0) (1.0.9)\n",
      "Requirement already satisfied: catalogue<2.1.0,>=2.0.6 in c:\\users\\adria\\appdata\\local\\packages\\pythonsoftwarefoundation.python.3.10_qbz5n2kfra8p0\\localcache\\local-packages\\python310\\site-packages (from spacy<3.6.0,>=3.5.0->ca-core-news-sm==3.5.0) (2.0.8)\n",
      "Requirement already satisfied: smart-open<7.0.0,>=5.2.1 in c:\\users\\adria\\appdata\\local\\packages\\pythonsoftwarefoundation.python.3.10_qbz5n2kfra8p0\\localcache\\local-packages\\python310\\site-packages (from spacy<3.6.0,>=3.5.0->ca-core-news-sm==3.5.0) (6.3.0)\n",
      "Requirement already satisfied: pathy>=0.10.0 in c:\\users\\adria\\appdata\\local\\packages\\pythonsoftwarefoundation.python.3.10_qbz5n2kfra8p0\\localcache\\local-packages\\python310\\site-packages (from spacy<3.6.0,>=3.5.0->ca-core-news-sm==3.5.0) (0.10.1)\n",
      "Requirement already satisfied: typer<0.8.0,>=0.3.0 in c:\\users\\adria\\appdata\\local\\packages\\pythonsoftwarefoundation.python.3.10_qbz5n2kfra8p0\\localcache\\local-packages\\python310\\site-packages (from spacy<3.6.0,>=3.5.0->ca-core-news-sm==3.5.0) (0.7.0)\n",
      "Requirement already satisfied: pydantic!=1.8,!=1.8.1,<1.11.0,>=1.7.4 in c:\\users\\adria\\appdata\\local\\packages\\pythonsoftwarefoundation.python.3.10_qbz5n2kfra8p0\\localcache\\local-packages\\python310\\site-packages (from spacy<3.6.0,>=3.5.0->ca-core-news-sm==3.5.0) (1.10.8)\n",
      "Requirement already satisfied: langcodes<4.0.0,>=3.2.0 in c:\\users\\adria\\appdata\\local\\packages\\pythonsoftwarefoundation.python.3.10_qbz5n2kfra8p0\\localcache\\local-packages\\python310\\site-packages (from spacy<3.6.0,>=3.5.0->ca-core-news-sm==3.5.0) (3.3.0)\n",
      "Requirement already satisfied: numpy>=1.15.0 in c:\\users\\adria\\appdata\\local\\packages\\pythonsoftwarefoundation.python.3.10_qbz5n2kfra8p0\\localcache\\local-packages\\python310\\site-packages (from spacy<3.6.0,>=3.5.0->ca-core-news-sm==3.5.0) (1.23.3)\n",
      "Requirement already satisfied: preshed<3.1.0,>=3.0.2 in c:\\users\\adria\\appdata\\local\\packages\\pythonsoftwarefoundation.python.3.10_qbz5n2kfra8p0\\localcache\\local-packages\\python310\\site-packages (from spacy<3.6.0,>=3.5.0->ca-core-news-sm==3.5.0) (3.0.8)\n",
      "Requirement already satisfied: spacy-legacy<3.1.0,>=3.0.11 in c:\\users\\adria\\appdata\\local\\packages\\pythonsoftwarefoundation.python.3.10_qbz5n2kfra8p0\\localcache\\local-packages\\python310\\site-packages (from spacy<3.6.0,>=3.5.0->ca-core-news-sm==3.5.0) (3.0.12)\n",
      "Requirement already satisfied: setuptools in c:\\program files\\windowsapps\\pythonsoftwarefoundation.python.3.10_3.10.3056.0_x64__qbz5n2kfra8p0\\lib\\site-packages (from spacy<3.6.0,>=3.5.0->ca-core-news-sm==3.5.0) (65.5.0)\n",
      "Requirement already satisfied: cymem<2.1.0,>=2.0.2 in c:\\users\\adria\\appdata\\local\\packages\\pythonsoftwarefoundation.python.3.10_qbz5n2kfra8p0\\localcache\\local-packages\\python310\\site-packages (from spacy<3.6.0,>=3.5.0->ca-core-news-sm==3.5.0) (2.0.7)\n",
      "Requirement already satisfied: wasabi<1.2.0,>=0.9.1 in c:\\users\\adria\\appdata\\local\\packages\\pythonsoftwarefoundation.python.3.10_qbz5n2kfra8p0\\localcache\\local-packages\\python310\\site-packages (from spacy<3.6.0,>=3.5.0->ca-core-news-sm==3.5.0) (1.1.1)\n",
      "Requirement already satisfied: tqdm<5.0.0,>=4.38.0 in c:\\users\\adria\\appdata\\local\\packages\\pythonsoftwarefoundation.python.3.10_qbz5n2kfra8p0\\localcache\\local-packages\\python310\\site-packages (from spacy<3.6.0,>=3.5.0->ca-core-news-sm==3.5.0) (4.65.0)\n",
      "Requirement already satisfied: srsly<3.0.0,>=2.4.3 in c:\\users\\adria\\appdata\\local\\packages\\pythonsoftwarefoundation.python.3.10_qbz5n2kfra8p0\\localcache\\local-packages\\python310\\site-packages (from spacy<3.6.0,>=3.5.0->ca-core-news-sm==3.5.0) (2.4.6)\n",
      "Requirement already satisfied: typing-extensions>=4.2.0 in c:\\users\\adria\\appdata\\local\\packages\\pythonsoftwarefoundation.python.3.10_qbz5n2kfra8p0\\localcache\\local-packages\\python310\\site-packages (from pydantic!=1.8,!=1.8.1,<1.11.0,>=1.7.4->spacy<3.6.0,>=3.5.0->ca-core-news-sm==3.5.0) (4.6.2)\n",
      "Requirement already satisfied: idna<4,>=2.5 in c:\\users\\adria\\appdata\\local\\packages\\pythonsoftwarefoundation.python.3.10_qbz5n2kfra8p0\\localcache\\local-packages\\python310\\site-packages (from requests<3.0.0,>=2.13.0->spacy<3.6.0,>=3.5.0->ca-core-news-sm==3.5.0) (3.4)\n",
      "Requirement already satisfied: charset-normalizer<4,>=2 in c:\\users\\adria\\appdata\\local\\packages\\pythonsoftwarefoundation.python.3.10_qbz5n2kfra8p0\\localcache\\local-packages\\python310\\site-packages (from requests<3.0.0,>=2.13.0->spacy<3.6.0,>=3.5.0->ca-core-news-sm==3.5.0) (3.1.0)\n",
      "Requirement already satisfied: certifi>=2017.4.17 in c:\\users\\adria\\appdata\\local\\packages\\pythonsoftwarefoundation.python.3.10_qbz5n2kfra8p0\\localcache\\local-packages\\python310\\site-packages (from requests<3.0.0,>=2.13.0->spacy<3.6.0,>=3.5.0->ca-core-news-sm==3.5.0) (2023.5.7)\n",
      "Requirement already satisfied: urllib3<3,>=1.21.1 in c:\\users\\adria\\appdata\\local\\packages\\pythonsoftwarefoundation.python.3.10_qbz5n2kfra8p0\\localcache\\local-packages\\python310\\site-packages (from requests<3.0.0,>=2.13.0->spacy<3.6.0,>=3.5.0->ca-core-news-sm==3.5.0) (2.0.2)\n",
      "Requirement already satisfied: blis<0.8.0,>=0.7.8 in c:\\users\\adria\\appdata\\local\\packages\\pythonsoftwarefoundation.python.3.10_qbz5n2kfra8p0\\localcache\\local-packages\\python310\\site-packages (from thinc<8.2.0,>=8.1.8->spacy<3.6.0,>=3.5.0->ca-core-news-sm==3.5.0) (0.7.9)\n",
      "Requirement already satisfied: confection<1.0.0,>=0.0.1 in c:\\users\\adria\\appdata\\local\\packages\\pythonsoftwarefoundation.python.3.10_qbz5n2kfra8p0\\localcache\\local-packages\\python310\\site-packages (from thinc<8.2.0,>=8.1.8->spacy<3.6.0,>=3.5.0->ca-core-news-sm==3.5.0) (0.0.4)\n",
      "Requirement already satisfied: colorama in c:\\users\\adria\\appdata\\local\\packages\\pythonsoftwarefoundation.python.3.10_qbz5n2kfra8p0\\localcache\\local-packages\\python310\\site-packages (from tqdm<5.0.0,>=4.38.0->spacy<3.6.0,>=3.5.0->ca-core-news-sm==3.5.0) (0.4.6)\n",
      "Requirement already satisfied: click<9.0.0,>=7.1.1 in c:\\users\\adria\\appdata\\local\\packages\\pythonsoftwarefoundation.python.3.10_qbz5n2kfra8p0\\localcache\\local-packages\\python310\\site-packages (from typer<0.8.0,>=0.3.0->spacy<3.6.0,>=3.5.0->ca-core-news-sm==3.5.0) (8.1.3)\n",
      "Requirement already satisfied: MarkupSafe>=2.0 in c:\\users\\adria\\appdata\\local\\packages\\pythonsoftwarefoundation.python.3.10_qbz5n2kfra8p0\\localcache\\local-packages\\python310\\site-packages (from jinja2->spacy<3.6.0,>=3.5.0->ca-core-news-sm==3.5.0) (2.1.1)\n",
      "Installing collected packages: ca-core-news-sm\n",
      "Successfully installed ca-core-news-sm-3.5.0\n",
      "\u001b[38;5;2m[+] Download and installation successful\u001b[0m\n",
      "You can now load the package via spacy.load('ca_core_news_sm')\n"
     ]
    }
   ],
   "source": [
    "!python3 -m spacy download ca_core_news_sm\n",
    "import spacy\n",
    "nlp = spacy.load('ca_core_news_sm')"
   ]
  },
  {
   "cell_type": "code",
   "execution_count": null,
   "metadata": {
    "ExecuteTime": {
     "end_time": "2023-05-31T17:08:44.005084Z",
     "start_time": "2023-05-31T17:00:30.215642Z"
    },
    "colab": {
     "referenced_widgets": [
      "3402ce7ea5f0473f8108e63ba971528e",
      "6318e79f477945a58838d50befe19df4",
      "915c1f7c98f74035983a90dc0e2c0ab7",
      "facac4f52c1045dda49157cbf06c76cf",
      "6031330d7a6c40aea7adbea8c2c2801c"
     ]
    },
    "id": "Q1Hp82XD8m7h",
    "outputId": "298e65da-3ee9-45a8-e8f0-2b53da3612f7"
   },
   "outputs": [
    {
     "data": {
      "application/vnd.jupyter.widget-view+json": {
       "model_id": "3402ce7ea5f0473f8108e63ba971528e",
       "version_major": 2,
       "version_minor": 0
      },
      "text/plain": [
       "Downloading builder script:   0%|          | 0.00/3.45k [00:00<?, ?B/s]"
      ]
     },
     "metadata": {},
     "output_type": "display_data"
    },
    {
     "data": {
      "application/vnd.jupyter.widget-view+json": {
       "model_id": "6318e79f477945a58838d50befe19df4",
       "version_major": 2,
       "version_minor": 0
      },
      "text/plain": [
       "Downloading readme:   0%|          | 0.00/9.93k [00:00<?, ?B/s]"
      ]
     },
     "metadata": {},
     "output_type": "display_data"
    },
    {
     "name": "stdout",
     "output_type": "stream",
     "text": [
      "Downloading and preparing dataset catalan_general_crawling/default to C:/Users/adria/.cache/huggingface/datasets/projecte-aina___catalan_general_crawling/default/1.0.0/fb8a4dbf3849d7aad584ad030c058c67c6a935ee7b8d6e37411514da9376a2fb...\n"
     ]
    },
    {
     "data": {
      "application/vnd.jupyter.widget-view+json": {
       "model_id": "915c1f7c98f74035983a90dc0e2c0ab7",
       "version_major": 2,
       "version_minor": 0
      },
      "text/plain": [
       "Downloading data:   0%|          | 0.00/875M [00:00<?, ?B/s]"
      ]
     },
     "metadata": {},
     "output_type": "display_data"
    },
    {
     "data": {
      "application/vnd.jupyter.widget-view+json": {
       "model_id": "facac4f52c1045dda49157cbf06c76cf",
       "version_major": 2,
       "version_minor": 0
      },
      "text/plain": [
       "Generating train split: 0 examples [00:00, ? examples/s]"
      ]
     },
     "metadata": {},
     "output_type": "display_data"
    },
    {
     "name": "stdout",
     "output_type": "stream",
     "text": [
      "Dataset catalan_general_crawling downloaded and prepared to C:/Users/adria/.cache/huggingface/datasets/projecte-aina___catalan_general_crawling/default/1.0.0/fb8a4dbf3849d7aad584ad030c058c67c6a935ee7b8d6e37411514da9376a2fb. Subsequent calls will reuse this data.\n"
     ]
    },
    {
     "data": {
      "application/vnd.jupyter.widget-view+json": {
       "model_id": "6031330d7a6c40aea7adbea8c2c2801c",
       "version_major": 2,
       "version_minor": 0
      },
      "text/plain": [
       "  0%|          | 0/1 [00:00<?, ?it/s]"
      ]
     },
     "metadata": {},
     "output_type": "display_data"
    }
   ],
   "source": [
    "from datasets import load_dataset\n",
    "from nltk.tokenize import word_tokenize\n",
    "\n",
    "dataset = load_dataset(\"projecte-aina/catalan_general_crawling\")"
   ]
  },
  {
   "cell_type": "code",
   "execution_count": null,
   "metadata": {
    "id": "e1ZN0P-78m7i"
   },
   "outputs": [],
   "source": [
    "with open('data/ca_gen_crwlng.txt','w',encoding='UTF-8') as f:\n",
    "    for i in dataset['train']['text']:\n",
    "        f.write(i)"
   ]
  },
  {
   "cell_type": "code",
   "execution_count": null,
   "metadata": {
    "id": "JibG27ST8m7i"
   },
   "outputs": [],
   "source": [
    "from typing import List\n",
    "from gensim.utils import simple_preprocess\n",
    "STOPWORDS_CA = {\"a\", \"al\", \"el\", \"la\", \"els\", \"les\", \"de\", \"un\", \"una\", \"algun\", \"alguna\", }\n",
    "\n",
    "\n",
    "def preprocess(sentence: str) -> List[str]:\n",
    "    preprocessed = simple_preprocess(sentence)\n",
    "    preprocessed = [token for token in preprocessed if token not in STOPWORDS_CA]\n",
    "    return preprocessed"
   ]
  },
  {
   "cell_type": "code",
   "execution_count": null,
   "metadata": {
    "id": "tAXGuZpa8m7i"
   },
   "outputs": [],
   "source": [
    "def obtain_words(filepath:str) -> list[list[str]]:\n",
    "    if filepath[-4:] != '.txt':\n",
    "        raise Exception('Incorrect file path/name')\n",
    "\n",
    "    txt_crps = []\n",
    "    with open(filepath,'r',encoding='UTF-8') as f:\n",
    "        lines = f.readlines()\n",
    "        for l in lines:\n",
    "            txt_crps.append(preprocess(l))\n",
    "\n",
    "    return txt_crps"
   ]
  },
  {
   "cell_type": "code",
   "execution_count": null,
   "metadata": {
    "id": "1oqMe-N-8m7i"
   },
   "outputs": [],
   "source": [
    "txt_crps100 = obtain_words('data/ca_gen_crwlng100M.txt')\n",
    "txt_crps500 = obtain_words('data/ca_gen_crwlng500M.txt')"
   ]
  },
  {
   "cell_type": "markdown",
   "metadata": {
    "id": "t8W_BLi98m7j"
   },
   "source": [
    "##### Create Word2Vec models with the 2 sizes"
   ]
  },
  {
   "cell_type": "code",
   "execution_count": null,
   "metadata": {
    "id": "RfD2XYGF8m7j"
   },
   "outputs": [],
   "source": [
    "from gensim.models import word2vec\n",
    "model100 = word2vec.Word2Vec(txt_crps100 , vector_size=300, window=5, min_count=10, workers=4, epochs=25, sg=1)\n",
    "model500 = word2vec.Word2Vec(txt_crps500 , vector_size=300, window=5, min_count=10, workers=4, epochs=25, sg=1)"
   ]
  },
  {
   "cell_type": "markdown",
   "metadata": {
    "id": "CJ1y6zRK8m7j"
   },
   "source": [
    "##### Save the models to easy load"
   ]
  },
  {
   "cell_type": "code",
   "execution_count": null,
   "metadata": {
    "id": "sAGj-0Hq8m7j"
   },
   "outputs": [],
   "source": [
    "model100.wv.save_word2vec_format('data/word2vec100.bin', binary=True)\n",
    "model500.wv.save_word2vec_format('data/word2vec500.bin', binary=True)"
   ]
  },
  {
   "cell_type": "code",
   "execution_count": 10,
   "metadata": {
    "id": "w_wGX5HP8m7j"
   },
   "outputs": [],
   "source": [
    "from gensim.models import KeyedVectors\n",
    "wv100 = KeyedVectors.load_word2vec_format('data/word2vec100.bin', binary=True)\n",
    "wv500 = KeyedVectors.load_word2vec_format('data/word2vec500.bin', binary=True)"
   ]
  },
  {
   "cell_type": "markdown",
   "metadata": {
    "collapsed": false,
    "id": "OXa5_sMn8m7k"
   },
   "source": [
    "## Text similarity training and comparison"
   ]
  },
  {
   "cell_type": "markdown",
   "metadata": {
    "id": "zhDnDtW18m7k"
   },
   "source": [
    "### Obtain the corpus"
   ]
  },
  {
   "cell_type": "code",
   "execution_count": 7,
   "metadata": {
    "colab": {
     "referenced_widgets": [
      "d16735db18c34f5ba67e95abe726bf1c"
     ]
    },
    "id": "BgyI7KRR8m7k",
    "outputId": "46280675-b159-42c5-c063-3ec93caff855"
   },
   "outputs": [
    {
     "name": "stderr",
     "output_type": "stream",
     "text": [
      "Found cached dataset sts-ca (C:/Users/pelot/.cache/huggingface/datasets/projecte-aina___sts-ca/StsCa/1.0.2/bad37fb7fb0f06f3d2316e29637293b25160a93a24f36f1974f21313ac2f3342)\n"
     ]
    },
    {
     "data": {
      "application/vnd.jupyter.widget-view+json": {
       "model_id": "1264ae72a7094be5be9d1af258d52444",
       "version_major": 2,
       "version_minor": 0
      },
      "text/plain": [
       "  0%|          | 0/3 [00:00<?, ?it/s]"
      ]
     },
     "metadata": {},
     "output_type": "display_data"
    }
   ],
   "source": [
    "from datasets import load_dataset\n",
    "\n",
    "dataset = load_dataset(\"projecte-aina/sts-ca\")"
   ]
  },
  {
   "cell_type": "markdown",
   "metadata": {
    "collapsed": false,
    "id": "PBlhu8Eg8m7k"
   },
   "source": [
    "### Obtain the Baseline model"
   ]
  },
  {
   "cell_type": "code",
   "execution_count": null,
   "metadata": {
    "id": "wjDhOJAu8m7k",
    "outputId": "9f516150-b25c-40db-a13e-5e08d4bfef77"
   },
   "outputs": [
    {
     "data": {
      "text/plain": [
       "DatasetDict({\n",
       "    train: Dataset({\n",
       "        features: ['sentence1', 'sentence2', 'label'],\n",
       "        num_rows: 2073\n",
       "    })\n",
       "    validation: Dataset({\n",
       "        features: ['sentence1', 'sentence2', 'label'],\n",
       "        num_rows: 500\n",
       "    })\n",
       "    test: Dataset({\n",
       "        features: ['sentence1', 'sentence2', 'label'],\n",
       "        num_rows: 500\n",
       "    })\n",
       "})"
      ]
     },
     "execution_count": 19,
     "metadata": {},
     "output_type": "execute_result"
    }
   ],
   "source": [
    "dataset"
   ]
  },
  {
   "cell_type": "code",
   "execution_count": 1,
   "metadata": {
    "id": "9sOeh8Av8m7k"
   },
   "outputs": [],
   "source": [
    "## Imports necessaris\n",
    "#!py -m spacy download ca_core_news_md\n",
    "#!py -m spacy download ca_core_news_trf\n",
    "\n",
    "##!python3 -m pip install spacy-transformers\n",
    "##!python3 -m pip install sentence_transformers\n",
    "\n",
    "# Requisitos\n",
    "\n",
    "from gensim.models import TfidfModel, KeyedVectors, fasttext\n",
    "from gensim.utils import simple_preprocess\n",
    "from gensim.corpora import Dictionary\n",
    "import numpy as np\n",
    "# Tipado\n",
    "from typing import Tuple, List, Optional\n",
    "import spacy\n",
    "import tensorflow as tf\n",
    "from scipy.stats import pearsonr\n",
    "from sentence_transformers import SentenceTransformer\n",
    "import matplotlib.pyplot as plt\n",
    "from transformers import pipeline, AutoTokenizer\n",
    "from scipy.special import logit\n",
    "\n"
   ]
  },
  {
   "cell_type": "code",
   "execution_count": 8,
   "metadata": {
    "id": "jPqAOO7h8m7l",
    "outputId": "a7b96f2c-6c12-409f-908d-e75c5c31df32"
   },
   "outputs": [],
   "source": [
    "\n",
    "# Cargar stopwords en Catalan\n",
    "# STOPWORDS_CA = {\"a\", \"abans\", \"ací\", \"ah\", \"així\", \"això\", \"al\", \"aleshores\", \"algun\", \"alguna\", \"algunes\", \"alguns\", \"alhora\", \"allà\", \"allí\", \"allò\", \"als\", \"altra\", \"altre\", \"altres\", \"amb\", \"ambdues\", \"ambdós\", \"anar\", \"ans\", \"apa\", \"aquell\", \"aquella\", \"aquelles\", \"aquells\", \"aquest\", \"aquesta\", \"aquestes\", \"aquests\", \"aquí\", \"baix\", \"bastant\", \"bé\", \"cada\", \"cadascuna\", \"cadascunes\", \"cadascuns\", \"cadascú\", \"com\", \"consegueixo\", \"conseguim\", \"conseguir\", \"consigueix\", \"consigueixen\", \"consigueixes\", \"contra\", \"d'un\", \"d'una\", \"d'unes\", \"d'uns\", \"dalt\", \"de\", \"del\", \"dels\", \"des\", \"des de\", \"després\", \"dins\", \"dintre\", \"donat\", \"doncs\", \"durant\", \"e\", \"eh\", \"el\", \"elles\", \"ells\", \"els\", \"em\", \"en\", \"encara\", \"ens\", \"entre\", \"era\", \"erem\", \"eren\", \"eres\", \"es\", \"esta\", \"estan\", \"estat\", \"estava\", \"estaven\", \"estem\", \"esteu\", \"estic\", \"està\", \"estàvem\", \"estàveu\", \"et\", \"etc\", \"ets\", \"fa\", \"faig\", \"fan\", \"fas\", \"fem\", \"fer\", \"feu\", \"fi\", \"fins\", \"fora\", \"gairebé\", \"ha\", \"han\", \"has\", \"haver\", \"havia\", \"he\", \"hem\", \"heu\", \"hi\", \"ho\", \"i\", \"igual\", \"iguals\", \"inclòs\", \"ja\", \"jo\", \"l'hi\", \"la\", \"les\", \"li\", \"li'n\", \"llarg\", \"llavors\", \"m'he\", \"ma\", \"mal\", \"malgrat\", \"mateix\", \"mateixa\", \"mateixes\", \"mateixos\", \"me\", \"mentre\", \"meu\", \"meus\", \"meva\", \"meves\", \"mode\", \"molt\", \"molta\", \"moltes\", \"molts\", \"mon\", \"mons\", \"més\", \"n'he\", \"n'hi\", \"ne\", \"ni\", \"no\", \"nogensmenys\", \"només\", \"nosaltres\", \"nostra\", \"nostre\", \"nostres\", \"o\", \"oh\", \"oi\", \"on\", \"pas\", \"pel\", \"pels\", \"per\", \"per que\", \"perquè\", \"però\", \"poc\", \"poca\", \"pocs\", \"podem\", \"poden\", \"poder\", \"podeu\", \"poques\", \"potser\", \"primer\", \"propi\", \"puc\", \"qual\", \"quals\", \"quan\", \"quant\", \"que\", \"quelcom\", \"qui\", \"quin\", \"quina\", \"quines\", \"quins\", \"què\", \"s'ha\", \"s'han\", \"sa\", \"sabem\", \"saben\", \"saber\", \"sabeu\", \"sap\", \"saps\", \"semblant\", \"semblants\", \"sense\", \"ser\", \"ses\", \"seu\", \"seus\", \"seva\", \"seves\", \"si\", \"sobre\", \"sobretot\", \"soc\", \"solament\", \"sols\", \"som\", \"son\", \"sons\", \"sota\", \"sou\", \"sóc\", \"són\", \"t'ha\", \"t'han\", \"t'he\", \"ta\", \"tal\", \"també\", \"tampoc\", \"tan\", \"tant\", \"tanta\", \"tantes\", \"te\", \"tene\", \"tenim\", \"tenir\", \"teniu\", \"teu\", \"teus\", \"teva\", \"teves\", \"tinc\", \"ton\", \"tons\", \"tot\", \"tota\", \"totes\", \"tots\", \"un\", \"una\", \"unes\", \"uns\", \"us\", \"va\", \"vaig\", \"vam\", \"van\", \"vas\", \"veu\", \"vosaltres\", \"vostra\", \"vostre\", \"vostres\", \"érem\", \"éreu\", \"és\", \"éssent\", \"últim\", \"ús\"}\n",
    "STOPWORDS_CA = {\"a\", \"al\", \"el\", \"la\", \"els\", \"les\", \"de\", \"un\", \"una\", \"algun\", \"alguna\", }\n",
    "\n",
    "# Definir función de pre-procesado\n",
    "def preprocess(sentence: str) -> List[str]:\n",
    "    preprocessed = simple_preprocess(sentence)\n",
    "    preprocessed = [token for token in preprocessed if token not in STOPWORDS_CA]\n",
    "    return preprocessed\n",
    "\n",
    "## Introducir los datos de train y de validación\n",
    "input_pairs = list(zip(dataset[\"train\"][\"sentence1\"], dataset[\"train\"][\"sentence2\"], dataset[\"train\"][\"label\"]))\n",
    "input_pairs_val = list(zip(dataset[\"validation\"][\"sentence1\"], dataset[\"validation\"][\"sentence2\"], dataset[\"validation\"][\"label\"]))\n",
    "\n",
    "\n",
    "# Preprocesamiento de las oraciones y creación del diccionario\n",
    "sentences_1_preproc = [preprocess(sentence_1) for sentence_1, _, _ in input_pairs]\n",
    "sentences_2_preproc = [preprocess(sentence_2) for _, sentence_2, _ in input_pairs]\n",
    "sentence_pairs = list(zip(sentences_1_preproc, sentences_2_preproc))\n",
    "# Versión aplanada para poder entrenar el modelo\n",
    "sentences_pairs_flattened = sentences_1_preproc + sentences_2_preproc\n",
    "\n",
    "diccionario = Dictionary(sentences_pairs_flattened)\n",
    "\n",
    "corpus = [diccionario.doc2bow(sent) for sent in sentences_pairs_flattened]\n",
    "modelo_tfidf = TfidfModel(corpus)\n",
    "\n",
    "def creacio_one_hot(sentence, diccionario:Dictionary):\n",
    "    diccionario.filter_extremes(no_below=5, no_above=0.5, keep_n=100)\n",
    "    vector1 = np.zeros(len(diccionario.token2id), dtype=np.float)\n",
    "    bow1 = diccionario.doc2bow(sentence)\n",
    "    for index, count in bow1:\n",
    "        vector1[index] = count\n",
    "\n",
    "    return vector1\n",
    "\n",
    "def map_tf_idf(sentence_preproc: List[str], dictionary: Dictionary, tf_idf_model: TfidfModel, wv_model) -> Tuple[List[np.ndarray], List[float]]:\n",
    "    bow = dictionary.doc2bow(sentence_preproc)\n",
    "    tf_idf = tf_idf_model[bow]\n",
    "    vectors, weights = [], []\n",
    "    for word_index, weight in tf_idf:\n",
    "        word = dictionary.get(word_index)\n",
    "        if word in wv_model:\n",
    "            vectors.append(wv_model[word])\n",
    "            weights.append(weight)\n",
    "    return vectors, weights\n",
    "\n",
    "def map_pairs(\n",
    "        sentence_pairs: List[Tuple[str, str, float]],\n",
    "        dictionary: Dictionary = None,\n",
    "        tf_idf_model: TfidfModel = None,\n",
    "        one_hot: bool = None,\n",
    "        Spasii : bool = None,\n",
    "        RobertA: bool = None,\n",
    "        RobertA_Mean: bool = None,\n",
    "        wv100: bool = None,\n",
    "        wv500: bool = None,\n",
    "        w2v_pre_mean: bool = None,\n",
    "        RobertA_finetuned: bool = None\n",
    ") -> List[Tuple[Tuple[np.ndarray, np.ndarray], float]]:\n",
    "    \"\"\"\n",
    "    Mapea los tripletes de oraciones a listas de (x, y), (pares de vectores, score)\n",
    "    :param sentence_pairs:\n",
    "    :param dictionary:\n",
    "    :param tf_idf_model:\n",
    "    :return:\n",
    "    \"\"\"\n",
    "    if one_hot:\n",
    "        dictionary2 = Dictionary(sentences_pairs_flattened, prune_at=300)\n",
    "\n",
    "    if Spasii:\n",
    "        nlp = spacy.load(\"ca_core_news_md\")\n",
    "    if RobertA or RobertA_Mean:\n",
    "        nlp = spacy.load(\"ca_core_news_trf\")\n",
    "\n",
    "    if wv100:\n",
    "        wv_model = KeyedVectors.load_word2vec_format(\"data/word2vec100.bin\", binary = True)\n",
    "\n",
    "    if wv500:\n",
    "        wv_model = KeyedVectors.load_word2vec_format(\"data/word2vec500.bin\", binary = True)\n",
    "\n",
    "    if w2v_pre_mean or tf_idf_model:\n",
    "        wv_model = KeyedVectors.load_word2vec_format(\"data/model.bin\", binary = True)\n",
    "\n",
    "    if RobertA_finetuned:\n",
    "        model = 'projecte-aina/roberta-base-ca-cased-sts'\n",
    "        tokenizer = AutoTokenizer.from_pretrained(model)\n",
    "        pipe = pipeline('text-classification', model=model, tokenizer=tokenizer)\n",
    "\n",
    "\n",
    "    # Mapeo de los pares de oraciones a pares de vectores\n",
    "    pares_vectores = []\n",
    "    for i, (sentence_1, sentence_2, similitud) in enumerate(sentence_pairs):\n",
    "        sentence_1_preproc = preprocess(sentence_1)\n",
    "        sentence_2_preproc = preprocess(sentence_2)\n",
    "        # Si usamos TF-IDF\n",
    "        if tf_idf_model is not None:\n",
    "            # Cálculo del promedio ponderado por TF-IDF de los word embeddings\n",
    "            vectors1, weights1 = map_tf_idf(sentence_1_preproc, dictionary=dictionary, tf_idf_model=tf_idf_model, wv_model=wv_model )\n",
    "            vectors2, weights2 = map_tf_idf(sentence_2_preproc, dictionary=dictionary, tf_idf_model=tf_idf_model,wv_model=wv_model )\n",
    "            vector1 = np.average(vectors1, weights=weights1, axis=0, )\n",
    "            vector2 = np.average(vectors2, weights=weights2, axis=0, )\n",
    "\n",
    "        elif wv100 is not None:\n",
    "            vectors1 = [wv_model[word] for word in sentence_1_preproc if word in wv_model]\n",
    "            vectors2 = [wv_model[word] for word in sentence_2_preproc if word in wv_model]\n",
    "            vector1 = np.mean(vectors1, axis=0)\n",
    "            vector2 = np.mean(vectors2, axis=0)\n",
    "\n",
    "        elif wv500 is not None:\n",
    "            vectors1 = [wv_model[word] for word in sentence_1_preproc if word in wv_model]\n",
    "            vectors2 = [wv_model[word] for word in sentence_2_preproc if word in wv_model]\n",
    "            vector1 = np.mean(vectors1, axis=0)\n",
    "            vector2 = np.mean(vectors2, axis=0)\n",
    "\n",
    "        elif one_hot is not None:\n",
    "            vector1 = creacio_one_hot(sentence=sentence_1_preproc, diccionario=dictionary2)\n",
    "            vector2 = creacio_one_hot(sentence=sentence_2_preproc, diccionario= dictionary2)\n",
    "            \n",
    "        elif Spasii is not None:\n",
    "            vector1 = nlp(\" \".join(sentence_1_preproc)).vector\n",
    "            vector2 = nlp(\" \".join(sentence_2_preproc)).vector\n",
    "\n",
    "        elif RobertA is not None:\n",
    "            vector1 = nlp(\" \".join(sentence_1_preproc))._.trf_data.tensors[-1]\n",
    "            vector2 = nlp(\" \".join(sentence_2_preproc))._.trf_data.tensors[-1]\n",
    "            vector1 = tf.squeeze(vector1)\n",
    "            vector2 = tf.squeeze(vector2)\n",
    "\n",
    "        elif RobertA_Mean is not None:\n",
    "            vectors1 = nlp(\" \".join(sentence_1_preproc))._.trf_data.tensors[-1]\n",
    "            vectors2 = nlp(\" \".join(sentence_2_preproc))._.trf_data.tensors[-1]\n",
    "            vector1 = np.average(vectors1, axis=0)\n",
    "            vector2 = np.average(vectors2, axis=0)\n",
    "\n",
    "        elif RobertA_finetuned is not None:\n",
    "            vector1 = model.encode(\" \".join(sentence_1_preproc))\n",
    "            vector2 = model.encode(\" \".join(sentence_2_preproc))\n",
    "            vector1 = tf.squeeze(vector1)\n",
    "            vector2 = tf.squeeze(vector2)\n",
    "\n",
    "            \n",
    "        elif w2v_pre_mean is not None:\n",
    "            # Cálculo del promedio de los word embeddings\n",
    "            vectors1 = [wv_model[word] for word in sentence_1_preproc if word in wv_model]\n",
    "            vectors2 = [wv_model[word] for word in sentence_2_preproc if word in wv_model]\n",
    "            vector1 = np.mean(vectors1, axis=0)\n",
    "            vector2 = np.mean(vectors2, axis=0)\n",
    "        # Añadir a la lista\n",
    "        pares_vectores.append(((vector1, vector2), similitud))\n",
    "    return pares_vectores"
   ]
  },
  {
   "cell_type": "markdown",
   "metadata": {
    "id": "kqBiQ_7R8m7l"
   },
   "source": [
    "Fem la funció de la creació del model y dels hiperparámetres"
   ]
  },
  {
   "cell_type": "code",
   "execution_count": 56,
   "metadata": {
    "id": "KyNL-8mQ8m7m"
   },
   "outputs": [],
   "source": [
    "def build_and_compile_model(hidden_size: int = 128, embedding_size: int = 300, learning_rate: float = 0.001) -> tf.keras.Model:\n",
    "    # Capa de entrada para los pares de vectores\n",
    "    input_1 = tf.keras.Input(shape=(embedding_size,))\n",
    "    input_2 = tf.keras.Input(shape=(embedding_size,))\n",
    "\n",
    "    # Capa oculta\n",
    "    first_projection = tf.keras.layers.Dense(\n",
    "        embedding_size,\n",
    "        # activation='tanh',\n",
    "        kernel_initializer=tf.keras.initializers.Identity(),\n",
    "        bias_initializer=tf.keras.initializers.Zeros(),\n",
    "    )\n",
    "    projected_1 = first_projection(input_1)\n",
    "    projected_2 = first_projection(input_2)\n",
    "\n",
    "    # Compute the cosine distance\n",
    "    projected_1 = tf.linalg.l2_normalize(projected_1, axis=1, )\n",
    "    projected_2 = tf.linalg.l2_normalize(projected_2, axis=1, )\n",
    "    output = 2.5 * (1.0 + tf.reduce_sum(projected_1 * projected_2, axis=1, ))\n",
    "\n",
    "    # Definir el modelo con las capas de entrada y salida\n",
    "    model = tf.keras.Model(inputs=[input_1, input_2], outputs=output)\n",
    "\n",
    "    def pearson_correlation(y_true, y_pred):\n",
    "        print(y_pred, y_true)\n",
    "        # Calcular la correlación de Pearson entre los valores verdaderos y los valores predichos\n",
    "        corr, _ = pearsonr(tf.squeeze(y_true), tf.squeeze(y_pred))\n",
    "        return corr\n",
    "\n",
    "    # Compilar el modelo\n",
    "    model.compile(loss='mean_absolute_error', metrics=tf.keras.metrics.mean_squared_error,\n",
    "                  optimizer=tf.keras.optimizers.Adam(learning_rate))\n",
    "\n",
    "    return model\n",
    "\n",
    "def plot_training_curve(history):\n",
    "    # Plot the training and validation loss and accuracy\n",
    "    fig, ax = plt.subplots(2, 1, figsize=(8, 8))\n",
    "    ax[0].plot(history.history['loss'], label='train_loss')\n",
    "    ax[0].plot(history.history['val_loss'], label='val_loss')\n",
    "    ax[0].set_xlabel('Epoch')\n",
    "    ax[0].set_ylabel('Loss')\n",
    "    ax[0].set_title('Training and Validation Loss')\n",
    "    ax[0].grid(True)\n",
    "    ax[0].legend()\n",
    "    ax[1].plot(history.history['mean_squared_error'], label='mean_squared_error')\n",
    "    ax[1].plot(history.history['val_mean_squared_error'], label='val_mean_squared_error')\n",
    "    ax[1].set_xlabel('Epoch')\n",
    "    ax[1].set_ylabel('Loss')\n",
    "    ax[1].set_title('Training and Validation correlation')\n",
    "    ax[1].grid(True)\n",
    "    ax[1].legend()\n",
    "    plt.show()\n",
    "\n",
    "# Definir constantes de entrenamiento\n",
    "batch_size: int = 64\n",
    "num_epochs: int = 64\n",
    "\n",
    "def pair_list_to_x_y(pair_list: List[Tuple[Tuple[np.ndarray, np.ndarray], int]]) -> Tuple[Tuple[np.ndarray, np.ndarray], np.ndarray]:\n",
    "    \"\"\"\n",
    "    Otiene las matrices X_1 (N x d) , X_2 (N x d), e Y (n) a partir de listas de parejas de vectores de oraciones - Listas de (d, d, 1)\n",
    "    :param pair_list:\n",
    "    :return:\n",
    "    \"\"\"\n",
    "    _x, _y = zip(*pair_list)\n",
    "    _x_1, _x_2 = zip(*_x)\n",
    "    return (np.array(_x_1), np.array(_x_2)), np.array(_y, dtype=np.float32, )\n",
    "\n",
    "\n",
    "def create_and_train_and_evaluate_model(mapped, mapped_val,embedding_size:int=100):\n",
    "    # Obtener las listas de train y test\n",
    "    x_train, y_train = pair_list_to_x_y(mapped)\n",
    "    x_val, y_val = pair_list_to_x_y(mapped_val)\n",
    "\n",
    "    # Preparar los conjuntos de datos de entrenamiento y validación\n",
    "    train_dataset = tf.data.Dataset.from_tensor_slices((x_train, y_train))\n",
    "    train_dataset = train_dataset.shuffle(buffer_size=len(x_train)).batch(batch_size)\n",
    "\n",
    "    val_dataset = tf.data.Dataset.from_tensor_slices((x_val, y_val))\n",
    "    val_dataset = val_dataset.batch(batch_size)\n",
    "\n",
    "    # Construir y compilar el modelo\n",
    "    model = build_and_compile_model(embedding_size=embedding_size)\n",
    "    # tf.keras.utils.plot_model(model, show_shapes=True, show_layer_activations=True, )\n",
    "    print(model.summary())\n",
    "    # Entrenar el modelo\n",
    "    history = model.fit(train_dataset, epochs=num_epochs, validation_data=val_dataset)\n",
    "\n",
    "    plot_training_curve(history)\n",
    "\n",
    "    y_pred: tf.RaggedTensor = model.predict(x_val)\n",
    "    # Calcular la correlación de Pearson entre las predicciones y los datos de prueba\n",
    "    correlation, _ = pearsonr(y_pred.flatten(), y_val.flatten())\n",
    "    # Imprimir el coeficiente de correlación de Pearson\n",
    "    print(f\"Correlación de Pearson: {correlation}\")\n",
    "\n",
    "    return model"
   ]
  },
  {
   "cell_type": "markdown",
   "metadata": {
    "collapsed": false,
    "id": "zvHCfM7_8m7m"
   },
   "source": [
    "### Compare results with different word embeddings"
   ]
  },
  {
   "cell_type": "markdown",
   "metadata": {
    "id": "OqZtqXFR8m7m"
   },
   "source": [
    "#### 0. Model de Word2Vec entrenats per nosaltres"
   ]
  },
  {
   "cell_type": "markdown",
   "metadata": {
    "id": "2A3IweZK8m7m"
   },
   "source": [
    "##### 0.1. Model amb 100 MB"
   ]
  },
  {
   "cell_type": "code",
   "execution_count": 47,
   "metadata": {
    "id": "ZENU8kuc8m7m"
   },
   "outputs": [],
   "source": [
    "mapped = map_pairs(input_pairs, wv100=True, dictionary=diccionario )\n",
    "mapped_val = map_pairs(input_pairs_val, wv100=True, dictionary=diccionario)"
   ]
  },
  {
   "cell_type": "code",
   "execution_count": 50,
   "metadata": {
    "id": "1n7zMRP38m7n"
   },
   "outputs": [
    {
     "name": "stdout",
     "output_type": "stream",
     "text": [
      "Model: \"model_15\"\n",
      "__________________________________________________________________________________________________\n",
      " Layer (type)                   Output Shape         Param #     Connected to                     \n",
      "==================================================================================================\n",
      " input_31 (InputLayer)          [(None, 100)]        0           []                               \n",
      "                                                                                                  \n",
      " input_32 (InputLayer)          [(None, 100)]        0           []                               \n",
      "                                                                                                  \n",
      " dense_9 (Dense)                (None, 100)          10100       ['input_31[0][0]',               \n",
      "                                                                  'input_32[0][0]']               \n",
      "                                                                                                  \n",
      " tf.math.l2_normalize_30 (TFOpL  (None, 100)         0           ['dense_9[0][0]']                \n",
      " ambda)                                                                                           \n",
      "                                                                                                  \n",
      " tf.math.l2_normalize_31 (TFOpL  (None, 100)         0           ['dense_9[1][0]']                \n",
      " ambda)                                                                                           \n",
      "                                                                                                  \n",
      " tf.math.multiply_30 (TFOpLambd  (None, 100)         0           ['tf.math.l2_normalize_30[0][0]',\n",
      " a)                                                               'tf.math.l2_normalize_31[0][0]']\n",
      "                                                                                                  \n",
      " tf.math.reduce_sum_15 (TFOpLam  (None,)             0           ['tf.math.multiply_30[0][0]']    \n",
      " bda)                                                                                             \n",
      "                                                                                                  \n",
      " tf.__operators__.add_15 (TFOpL  (None,)             0           ['tf.math.reduce_sum_15[0][0]']  \n",
      " ambda)                                                                                           \n",
      "                                                                                                  \n",
      " tf.math.multiply_31 (TFOpLambd  (None,)             0           ['tf.__operators__.add_15[0][0]']\n",
      " a)                                                                                               \n",
      "                                                                                                  \n",
      "==================================================================================================\n",
      "Total params: 10,100\n",
      "Trainable params: 10,100\n",
      "Non-trainable params: 0\n",
      "__________________________________________________________________________________________________\n",
      "None\n",
      "Epoch 1/64\n",
      "33/33 [==============================] - 2s 8ms/step - loss: 1.9694 - mean_squared_error: 4.4348 - val_loss: 1.8219 - val_mean_squared_error: 3.8503\n",
      "Epoch 2/64\n",
      "33/33 [==============================] - 0s 5ms/step - loss: 1.7980 - mean_squared_error: 3.7377 - val_loss: 1.7358 - val_mean_squared_error: 3.5260\n",
      "Epoch 3/64\n",
      "33/33 [==============================] - 0s 4ms/step - loss: 1.7127 - mean_squared_error: 3.4257 - val_loss: 1.6808 - val_mean_squared_error: 3.3286\n",
      "Epoch 4/64\n",
      "33/33 [==============================] - 0s 4ms/step - loss: 1.6536 - mean_squared_error: 3.2189 - val_loss: 1.6444 - val_mean_squared_error: 3.2000\n",
      "Epoch 5/64\n",
      "33/33 [==============================] - 0s 4ms/step - loss: 1.6086 - mean_squared_error: 3.0673 - val_loss: 1.6171 - val_mean_squared_error: 3.1052\n",
      "Epoch 6/64\n",
      "33/33 [==============================] - 0s 6ms/step - loss: 1.5715 - mean_squared_error: 2.9498 - val_loss: 1.5952 - val_mean_squared_error: 3.0315\n",
      "Epoch 7/64\n",
      "33/33 [==============================] - 0s 3ms/step - loss: 1.5396 - mean_squared_error: 2.8504 - val_loss: 1.5773 - val_mean_squared_error: 2.9732\n",
      "Epoch 8/64\n",
      "33/33 [==============================] - 0s 4ms/step - loss: 1.5116 - mean_squared_error: 2.7712 - val_loss: 1.5638 - val_mean_squared_error: 2.9292\n",
      "Epoch 9/64\n",
      "33/33 [==============================] - 0s 6ms/step - loss: 1.4874 - mean_squared_error: 2.7025 - val_loss: 1.5520 - val_mean_squared_error: 2.8933\n",
      "Epoch 10/64\n",
      "33/33 [==============================] - 0s 6ms/step - loss: 1.4653 - mean_squared_error: 2.6396 - val_loss: 1.5430 - val_mean_squared_error: 2.8651\n",
      "Epoch 11/64\n",
      "33/33 [==============================] - 0s 6ms/step - loss: 1.4461 - mean_squared_error: 2.5894 - val_loss: 1.5352 - val_mean_squared_error: 2.8417\n",
      "Epoch 12/64\n",
      "33/33 [==============================] - 0s 6ms/step - loss: 1.4276 - mean_squared_error: 2.5430 - val_loss: 1.5284 - val_mean_squared_error: 2.8217\n",
      "Epoch 13/64\n",
      "33/33 [==============================] - 0s 3ms/step - loss: 1.4117 - mean_squared_error: 2.5024 - val_loss: 1.5225 - val_mean_squared_error: 2.8035\n",
      "Epoch 14/64\n",
      "33/33 [==============================] - 0s 5ms/step - loss: 1.3965 - mean_squared_error: 2.4625 - val_loss: 1.5180 - val_mean_squared_error: 2.7916\n",
      "Epoch 15/64\n",
      "33/33 [==============================] - 0s 6ms/step - loss: 1.3820 - mean_squared_error: 2.4283 - val_loss: 1.5130 - val_mean_squared_error: 2.7758\n",
      "Epoch 16/64\n",
      "33/33 [==============================] - 0s 6ms/step - loss: 1.3695 - mean_squared_error: 2.3990 - val_loss: 1.5085 - val_mean_squared_error: 2.7648\n",
      "Epoch 17/64\n",
      "33/33 [==============================] - 0s 6ms/step - loss: 1.3567 - mean_squared_error: 2.3650 - val_loss: 1.5047 - val_mean_squared_error: 2.7530\n",
      "Epoch 18/64\n",
      "33/33 [==============================] - 0s 6ms/step - loss: 1.3445 - mean_squared_error: 2.3373 - val_loss: 1.5018 - val_mean_squared_error: 2.7456\n",
      "Epoch 19/64\n",
      "33/33 [==============================] - 0s 6ms/step - loss: 1.3348 - mean_squared_error: 2.3158 - val_loss: 1.4974 - val_mean_squared_error: 2.7349\n",
      "Epoch 20/64\n",
      "33/33 [==============================] - 0s 6ms/step - loss: 1.3240 - mean_squared_error: 2.2911 - val_loss: 1.4946 - val_mean_squared_error: 2.7262\n",
      "Epoch 21/64\n",
      "33/33 [==============================] - 0s 6ms/step - loss: 1.3143 - mean_squared_error: 2.2673 - val_loss: 1.4920 - val_mean_squared_error: 2.7204\n",
      "Epoch 22/64\n",
      "33/33 [==============================] - 0s 4ms/step - loss: 1.3050 - mean_squared_error: 2.2477 - val_loss: 1.4906 - val_mean_squared_error: 2.7167\n",
      "Epoch 23/64\n",
      "33/33 [==============================] - 0s 5ms/step - loss: 1.2973 - mean_squared_error: 2.2312 - val_loss: 1.4887 - val_mean_squared_error: 2.7144\n",
      "Epoch 24/64\n",
      "33/33 [==============================] - 0s 3ms/step - loss: 1.2874 - mean_squared_error: 2.2089 - val_loss: 1.4839 - val_mean_squared_error: 2.6995\n",
      "Epoch 25/64\n",
      "33/33 [==============================] - 0s 5ms/step - loss: 1.2807 - mean_squared_error: 2.1963 - val_loss: 1.4824 - val_mean_squared_error: 2.6968\n",
      "Epoch 26/64\n",
      "33/33 [==============================] - 0s 3ms/step - loss: 1.2735 - mean_squared_error: 2.1803 - val_loss: 1.4806 - val_mean_squared_error: 2.6926\n",
      "Epoch 27/64\n",
      "33/33 [==============================] - 0s 3ms/step - loss: 1.2668 - mean_squared_error: 2.1683 - val_loss: 1.4797 - val_mean_squared_error: 2.6936\n",
      "Epoch 28/64\n",
      "33/33 [==============================] - 0s 3ms/step - loss: 1.2593 - mean_squared_error: 2.1523 - val_loss: 1.4767 - val_mean_squared_error: 2.6830\n",
      "Epoch 29/64\n",
      "33/33 [==============================] - 0s 3ms/step - loss: 1.2531 - mean_squared_error: 2.1405 - val_loss: 1.4772 - val_mean_squared_error: 2.6899\n",
      "Epoch 30/64\n",
      "33/33 [==============================] - 0s 3ms/step - loss: 1.2471 - mean_squared_error: 2.1324 - val_loss: 1.4746 - val_mean_squared_error: 2.6835\n",
      "Epoch 31/64\n",
      "33/33 [==============================] - 0s 3ms/step - loss: 1.2417 - mean_squared_error: 2.1183 - val_loss: 1.4724 - val_mean_squared_error: 2.6784\n",
      "Epoch 32/64\n",
      "33/33 [==============================] - 0s 4ms/step - loss: 1.2357 - mean_squared_error: 2.1061 - val_loss: 1.4698 - val_mean_squared_error: 2.6725\n",
      "Epoch 33/64\n",
      "33/33 [==============================] - 0s 3ms/step - loss: 1.2308 - mean_squared_error: 2.0961 - val_loss: 1.4715 - val_mean_squared_error: 2.6788\n",
      "Epoch 34/64\n",
      "33/33 [==============================] - 0s 3ms/step - loss: 1.2264 - mean_squared_error: 2.0910 - val_loss: 1.4697 - val_mean_squared_error: 2.6754\n",
      "Epoch 35/64\n",
      "33/33 [==============================] - 0s 3ms/step - loss: 1.2214 - mean_squared_error: 2.0799 - val_loss: 1.4683 - val_mean_squared_error: 2.6756\n",
      "Epoch 36/64\n",
      "33/33 [==============================] - 0s 3ms/step - loss: 1.2177 - mean_squared_error: 2.0748 - val_loss: 1.4648 - val_mean_squared_error: 2.6642\n",
      "Epoch 37/64\n",
      "33/33 [==============================] - 0s 3ms/step - loss: 1.2128 - mean_squared_error: 2.0636 - val_loss: 1.4668 - val_mean_squared_error: 2.6734\n",
      "Epoch 38/64\n",
      "33/33 [==============================] - 0s 3ms/step - loss: 1.2101 - mean_squared_error: 2.0597 - val_loss: 1.4664 - val_mean_squared_error: 2.6745\n",
      "Epoch 39/64\n",
      "33/33 [==============================] - 0s 5ms/step - loss: 1.2058 - mean_squared_error: 2.0536 - val_loss: 1.4629 - val_mean_squared_error: 2.6645\n",
      "Epoch 40/64\n",
      "33/33 [==============================] - 0s 5ms/step - loss: 1.2010 - mean_squared_error: 2.0430 - val_loss: 1.4618 - val_mean_squared_error: 2.6631\n",
      "Epoch 41/64\n",
      "33/33 [==============================] - 0s 4ms/step - loss: 1.1969 - mean_squared_error: 2.0370 - val_loss: 1.4628 - val_mean_squared_error: 2.6682\n",
      "Epoch 42/64\n",
      "33/33 [==============================] - 0s 6ms/step - loss: 1.1946 - mean_squared_error: 2.0323 - val_loss: 1.4633 - val_mean_squared_error: 2.6733\n",
      "Epoch 43/64\n",
      "33/33 [==============================] - 0s 6ms/step - loss: 1.1911 - mean_squared_error: 2.0267 - val_loss: 1.4606 - val_mean_squared_error: 2.6650\n",
      "Epoch 44/64\n",
      "33/33 [==============================] - 0s 6ms/step - loss: 1.1888 - mean_squared_error: 2.0238 - val_loss: 1.4610 - val_mean_squared_error: 2.6667\n",
      "Epoch 45/64\n",
      "33/33 [==============================] - 0s 6ms/step - loss: 1.1846 - mean_squared_error: 2.0136 - val_loss: 1.4625 - val_mean_squared_error: 2.6747\n",
      "Epoch 46/64\n",
      "33/33 [==============================] - 0s 6ms/step - loss: 1.1840 - mean_squared_error: 2.0132 - val_loss: 1.4585 - val_mean_squared_error: 2.6618\n",
      "Epoch 47/64\n",
      "33/33 [==============================] - 0s 6ms/step - loss: 1.1796 - mean_squared_error: 2.0058 - val_loss: 1.4589 - val_mean_squared_error: 2.6649\n",
      "Epoch 48/64\n",
      "33/33 [==============================] - 0s 6ms/step - loss: 1.1765 - mean_squared_error: 2.0021 - val_loss: 1.4597 - val_mean_squared_error: 2.6703\n",
      "Epoch 49/64\n",
      "33/33 [==============================] - 0s 6ms/step - loss: 1.1757 - mean_squared_error: 1.9970 - val_loss: 1.4581 - val_mean_squared_error: 2.6647\n",
      "Epoch 50/64\n",
      "33/33 [==============================] - 0s 6ms/step - loss: 1.1725 - mean_squared_error: 1.9929 - val_loss: 1.4547 - val_mean_squared_error: 2.6572\n",
      "Epoch 51/64\n",
      "33/33 [==============================] - 0s 5ms/step - loss: 1.1683 - mean_squared_error: 1.9865 - val_loss: 1.4579 - val_mean_squared_error: 2.6671\n",
      "Epoch 52/64\n",
      "33/33 [==============================] - 0s 5ms/step - loss: 1.1682 - mean_squared_error: 1.9847 - val_loss: 1.4566 - val_mean_squared_error: 2.6646\n",
      "Epoch 53/64\n",
      "33/33 [==============================] - 0s 4ms/step - loss: 1.1645 - mean_squared_error: 1.9795 - val_loss: 1.4537 - val_mean_squared_error: 2.6580\n",
      "Epoch 54/64\n",
      "33/33 [==============================] - 0s 5ms/step - loss: 1.1628 - mean_squared_error: 1.9773 - val_loss: 1.4553 - val_mean_squared_error: 2.6619\n",
      "Epoch 55/64\n",
      "33/33 [==============================] - 0s 5ms/step - loss: 1.1626 - mean_squared_error: 1.9775 - val_loss: 1.4506 - val_mean_squared_error: 2.6509\n",
      "Epoch 56/64\n",
      "33/33 [==============================] - 0s 5ms/step - loss: 1.1580 - mean_squared_error: 1.9733 - val_loss: 1.4527 - val_mean_squared_error: 2.6575\n",
      "Epoch 57/64\n",
      "33/33 [==============================] - 0s 5ms/step - loss: 1.1563 - mean_squared_error: 1.9661 - val_loss: 1.4557 - val_mean_squared_error: 2.6675\n",
      "Epoch 58/64\n",
      "33/33 [==============================] - 0s 5ms/step - loss: 1.1566 - mean_squared_error: 1.9655 - val_loss: 1.4528 - val_mean_squared_error: 2.6600\n",
      "Epoch 59/64\n",
      "33/33 [==============================] - 0s 6ms/step - loss: 1.1528 - mean_squared_error: 1.9616 - val_loss: 1.4487 - val_mean_squared_error: 2.6478\n",
      "Epoch 60/64\n",
      "33/33 [==============================] - 0s 6ms/step - loss: 1.1513 - mean_squared_error: 1.9582 - val_loss: 1.4528 - val_mean_squared_error: 2.6641\n",
      "Epoch 61/64\n",
      "33/33 [==============================] - 0s 6ms/step - loss: 1.1491 - mean_squared_error: 1.9537 - val_loss: 1.4534 - val_mean_squared_error: 2.6643\n",
      "Epoch 62/64\n",
      "33/33 [==============================] - 0s 6ms/step - loss: 1.1485 - mean_squared_error: 1.9543 - val_loss: 1.4498 - val_mean_squared_error: 2.6555\n",
      "Epoch 63/64\n",
      "33/33 [==============================] - 0s 6ms/step - loss: 1.1462 - mean_squared_error: 1.9518 - val_loss: 1.4507 - val_mean_squared_error: 2.6609\n",
      "Epoch 64/64\n",
      "33/33 [==============================] - 0s 4ms/step - loss: 1.1444 - mean_squared_error: 1.9468 - val_loss: 1.4502 - val_mean_squared_error: 2.6587\n"
     ]
    },
    {
     "data": {
      "image/png": "[encoded data removed]",
      "text/plain": [
       "<Figure size 576x576 with 2 Axes>"
      ]
     },
     "metadata": {
      "needs_background": "light"
     },
     "output_type": "display_data"
    },
    {
     "name": "stdout",
     "output_type": "stream",
     "text": [
      "16/16 [==============================] - 0s 3ms/step\n",
      "Correlación de Pearson: 0.44599953275335824\n"
     ]
    }
   ],
   "source": [
    "model = create_and_train_and_evaluate_model(mapped, mapped_val,embedding_size=100)"
   ]
  },
  {
   "cell_type": "markdown",
   "metadata": {
    "id": "tW-pSYQe8m7n"
   },
   "source": [
    "##### 0.2. Model amb 500 MB"
   ]
  },
  {
   "cell_type": "code",
   "execution_count": 51,
   "metadata": {
    "id": "xxx6u1Ig8m7n"
   },
   "outputs": [],
   "source": [
    "mapped = map_pairs(input_pairs, wv500=True, dictionary=diccionario )\n",
    "mapped_val = map_pairs(input_pairs_val, wv500=True, dictionary=diccionario)"
   ]
  },
  {
   "cell_type": "code",
   "execution_count": 52,
   "metadata": {
    "id": "SmOYMJ048m7n"
   },
   "outputs": [
    {
     "name": "stdout",
     "output_type": "stream",
     "text": [
      "Model: \"model_16\"\n",
      "__________________________________________________________________________________________________\n",
      " Layer (type)                   Output Shape         Param #     Connected to                     \n",
      "==================================================================================================\n",
      " input_33 (InputLayer)          [(None, 100)]        0           []                               \n",
      "                                                                                                  \n",
      " input_34 (InputLayer)          [(None, 100)]        0           []                               \n",
      "                                                                                                  \n",
      " dense_10 (Dense)               (None, 100)          10100       ['input_33[0][0]',               \n",
      "                                                                  'input_34[0][0]']               \n",
      "                                                                                                  \n",
      " tf.math.l2_normalize_32 (TFOpL  (None, 100)         0           ['dense_10[0][0]']               \n",
      " ambda)                                                                                           \n",
      "                                                                                                  \n",
      " tf.math.l2_normalize_33 (TFOpL  (None, 100)         0           ['dense_10[1][0]']               \n",
      " ambda)                                                                                           \n",
      "                                                                                                  \n",
      " tf.math.multiply_32 (TFOpLambd  (None, 100)         0           ['tf.math.l2_normalize_32[0][0]',\n",
      " a)                                                               'tf.math.l2_normalize_33[0][0]']\n",
      "                                                                                                  \n",
      " tf.math.reduce_sum_16 (TFOpLam  (None,)             0           ['tf.math.multiply_32[0][0]']    \n",
      " bda)                                                                                             \n",
      "                                                                                                  \n",
      " tf.__operators__.add_16 (TFOpL  (None,)             0           ['tf.math.reduce_sum_16[0][0]']  \n",
      " ambda)                                                                                           \n",
      "                                                                                                  \n",
      " tf.math.multiply_33 (TFOpLambd  (None,)             0           ['tf.__operators__.add_16[0][0]']\n",
      " a)                                                                                               \n",
      "                                                                                                  \n",
      "==================================================================================================\n",
      "Total params: 10,100\n",
      "Trainable params: 10,100\n",
      "Non-trainable params: 0\n",
      "__________________________________________________________________________________________________\n",
      "None\n",
      "Epoch 1/64\n",
      "33/33 [==============================] - 1s 15ms/step - loss: 2.0263 - mean_squared_error: 4.6504 - val_loss: 1.8946 - val_mean_squared_error: 4.1205\n",
      "Epoch 2/64\n",
      "33/33 [==============================] - 0s 5ms/step - loss: 1.8696 - mean_squared_error: 3.9986 - val_loss: 1.8066 - val_mean_squared_error: 3.7784\n",
      "Epoch 3/64\n",
      "33/33 [==============================] - 0s 4ms/step - loss: 1.7837 - mean_squared_error: 3.6703 - val_loss: 1.7460 - val_mean_squared_error: 3.5579\n",
      "Epoch 4/64\n",
      "33/33 [==============================] - 0s 4ms/step - loss: 1.7201 - mean_squared_error: 3.4422 - val_loss: 1.7020 - val_mean_squared_error: 3.4067\n",
      "Epoch 5/64\n",
      "33/33 [==============================] - 0s 3ms/step - loss: 1.6694 - mean_squared_error: 3.2710 - val_loss: 1.6675 - val_mean_squared_error: 3.2952\n",
      "Epoch 6/64\n",
      "33/33 [==============================] - 0s 5ms/step - loss: 1.6265 - mean_squared_error: 3.1313 - val_loss: 1.6379 - val_mean_squared_error: 3.2062\n",
      "Epoch 7/64\n",
      "33/33 [==============================] - 0s 4ms/step - loss: 1.5902 - mean_squared_error: 3.0195 - val_loss: 1.6145 - val_mean_squared_error: 3.1407\n",
      "Epoch 8/64\n",
      "33/33 [==============================] - 0s 3ms/step - loss: 1.5587 - mean_squared_error: 2.9285 - val_loss: 1.5955 - val_mean_squared_error: 3.0886\n",
      "Epoch 9/64\n",
      "33/33 [==============================] - 0s 4ms/step - loss: 1.5322 - mean_squared_error: 2.8536 - val_loss: 1.5824 - val_mean_squared_error: 3.0524\n",
      "Epoch 10/64\n",
      "33/33 [==============================] - 0s 4ms/step - loss: 1.5084 - mean_squared_error: 2.7907 - val_loss: 1.5714 - val_mean_squared_error: 3.0216\n",
      "Epoch 11/64\n",
      "33/33 [==============================] - 0s 3ms/step - loss: 1.4873 - mean_squared_error: 2.7373 - val_loss: 1.5618 - val_mean_squared_error: 2.9972\n",
      "Epoch 12/64\n",
      "33/33 [==============================] - 0s 5ms/step - loss: 1.4679 - mean_squared_error: 2.6848 - val_loss: 1.5524 - val_mean_squared_error: 2.9711\n",
      "Epoch 13/64\n",
      "33/33 [==============================] - 0s 3ms/step - loss: 1.4508 - mean_squared_error: 2.6450 - val_loss: 1.5457 - val_mean_squared_error: 2.9555\n",
      "Epoch 14/64\n",
      "33/33 [==============================] - 0s 3ms/step - loss: 1.4345 - mean_squared_error: 2.6015 - val_loss: 1.5381 - val_mean_squared_error: 2.9351\n",
      "Epoch 15/64\n",
      "33/33 [==============================] - 0s 3ms/step - loss: 1.4198 - mean_squared_error: 2.5662 - val_loss: 1.5327 - val_mean_squared_error: 2.9238\n",
      "Epoch 16/64\n",
      "33/33 [==============================] - 0s 4ms/step - loss: 1.4059 - mean_squared_error: 2.5362 - val_loss: 1.5267 - val_mean_squared_error: 2.9069\n",
      "Epoch 17/64\n",
      "33/33 [==============================] - 0s 5ms/step - loss: 1.3938 - mean_squared_error: 2.5042 - val_loss: 1.5249 - val_mean_squared_error: 2.9045\n",
      "Epoch 18/64\n",
      "33/33 [==============================] - 0s 6ms/step - loss: 1.3820 - mean_squared_error: 2.4762 - val_loss: 1.5192 - val_mean_squared_error: 2.8874\n",
      "Epoch 19/64\n",
      "33/33 [==============================] - 0s 5ms/step - loss: 1.3714 - mean_squared_error: 2.4554 - val_loss: 1.5166 - val_mean_squared_error: 2.8819\n",
      "Epoch 20/64\n",
      "33/33 [==============================] - 0s 4ms/step - loss: 1.3610 - mean_squared_error: 2.4275 - val_loss: 1.5144 - val_mean_squared_error: 2.8759\n",
      "Epoch 21/64\n",
      "33/33 [==============================] - 0s 3ms/step - loss: 1.3515 - mean_squared_error: 2.4084 - val_loss: 1.5096 - val_mean_squared_error: 2.8612\n",
      "Epoch 22/64\n",
      "33/33 [==============================] - 0s 3ms/step - loss: 1.3425 - mean_squared_error: 2.3869 - val_loss: 1.5086 - val_mean_squared_error: 2.8590\n",
      "Epoch 23/64\n",
      "33/33 [==============================] - 0s 3ms/step - loss: 1.3337 - mean_squared_error: 2.3673 - val_loss: 1.5048 - val_mean_squared_error: 2.8493\n",
      "Epoch 24/64\n",
      "33/33 [==============================] - 0s 4ms/step - loss: 1.3260 - mean_squared_error: 2.3497 - val_loss: 1.5021 - val_mean_squared_error: 2.8394\n",
      "Epoch 25/64\n",
      "33/33 [==============================] - 0s 5ms/step - loss: 1.3190 - mean_squared_error: 2.3345 - val_loss: 1.5013 - val_mean_squared_error: 2.8393\n",
      "Epoch 26/64\n",
      "33/33 [==============================] - 0s 5ms/step - loss: 1.3104 - mean_squared_error: 2.3142 - val_loss: 1.4990 - val_mean_squared_error: 2.8350\n",
      "Epoch 27/64\n",
      "33/33 [==============================] - 0s 3ms/step - loss: 1.3040 - mean_squared_error: 2.2995 - val_loss: 1.4942 - val_mean_squared_error: 2.8219\n",
      "Epoch 28/64\n",
      "33/33 [==============================] - 0s 3ms/step - loss: 1.2979 - mean_squared_error: 2.2850 - val_loss: 1.4923 - val_mean_squared_error: 2.8159\n",
      "Epoch 29/64\n",
      "33/33 [==============================] - 0s 3ms/step - loss: 1.2918 - mean_squared_error: 2.2706 - val_loss: 1.4926 - val_mean_squared_error: 2.8183\n",
      "Epoch 30/64\n",
      "33/33 [==============================] - 0s 4ms/step - loss: 1.2850 - mean_squared_error: 2.2569 - val_loss: 1.4871 - val_mean_squared_error: 2.8054\n",
      "Epoch 31/64\n",
      "33/33 [==============================] - 0s 4ms/step - loss: 1.2792 - mean_squared_error: 2.2439 - val_loss: 1.4876 - val_mean_squared_error: 2.8075\n",
      "Epoch 32/64\n",
      "33/33 [==============================] - 0s 5ms/step - loss: 1.2733 - mean_squared_error: 2.2319 - val_loss: 1.4852 - val_mean_squared_error: 2.8010\n",
      "Epoch 33/64\n",
      "33/33 [==============================] - 0s 5ms/step - loss: 1.2672 - mean_squared_error: 2.2191 - val_loss: 1.4825 - val_mean_squared_error: 2.7958\n",
      "Epoch 34/64\n",
      "33/33 [==============================] - 0s 5ms/step - loss: 1.2628 - mean_squared_error: 2.2098 - val_loss: 1.4806 - val_mean_squared_error: 2.7910\n",
      "Epoch 35/64\n",
      "33/33 [==============================] - 0s 6ms/step - loss: 1.2578 - mean_squared_error: 2.2010 - val_loss: 1.4776 - val_mean_squared_error: 2.7823\n",
      "Epoch 36/64\n",
      "33/33 [==============================] - 0s 6ms/step - loss: 1.2532 - mean_squared_error: 2.1894 - val_loss: 1.4780 - val_mean_squared_error: 2.7856\n",
      "Epoch 37/64\n",
      "33/33 [==============================] - 0s 6ms/step - loss: 1.2477 - mean_squared_error: 2.1775 - val_loss: 1.4753 - val_mean_squared_error: 2.7798\n",
      "Epoch 38/64\n",
      "33/33 [==============================] - 0s 6ms/step - loss: 1.2441 - mean_squared_error: 2.1731 - val_loss: 1.4726 - val_mean_squared_error: 2.7721\n",
      "Epoch 39/64\n",
      "33/33 [==============================] - 0s 6ms/step - loss: 1.2393 - mean_squared_error: 2.1629 - val_loss: 1.4712 - val_mean_squared_error: 2.7684\n",
      "Epoch 40/64\n",
      "33/33 [==============================] - 0s 4ms/step - loss: 1.2345 - mean_squared_error: 2.1516 - val_loss: 1.4720 - val_mean_squared_error: 2.7703\n",
      "Epoch 41/64\n",
      "33/33 [==============================] - 0s 6ms/step - loss: 1.2311 - mean_squared_error: 2.1456 - val_loss: 1.4683 - val_mean_squared_error: 2.7626\n",
      "Epoch 42/64\n",
      "33/33 [==============================] - 0s 6ms/step - loss: 1.2284 - mean_squared_error: 2.1400 - val_loss: 1.4694 - val_mean_squared_error: 2.7682\n",
      "Epoch 43/64\n",
      "33/33 [==============================] - 0s 6ms/step - loss: 1.2225 - mean_squared_error: 2.1267 - val_loss: 1.4664 - val_mean_squared_error: 2.7613\n",
      "Epoch 44/64\n",
      "33/33 [==============================] - 0s 6ms/step - loss: 1.2197 - mean_squared_error: 2.1234 - val_loss: 1.4670 - val_mean_squared_error: 2.7626\n",
      "Epoch 45/64\n",
      "33/33 [==============================] - 0s 6ms/step - loss: 1.2162 - mean_squared_error: 2.1174 - val_loss: 1.4639 - val_mean_squared_error: 2.7566\n",
      "Epoch 46/64\n",
      "33/33 [==============================] - 0s 6ms/step - loss: 1.2146 - mean_squared_error: 2.1130 - val_loss: 1.4638 - val_mean_squared_error: 2.7578\n",
      "Epoch 47/64\n",
      "33/33 [==============================] - 0s 6ms/step - loss: 1.2098 - mean_squared_error: 2.1048 - val_loss: 1.4640 - val_mean_squared_error: 2.7580\n",
      "Epoch 48/64\n",
      "33/33 [==============================] - 0s 5ms/step - loss: 1.2066 - mean_squared_error: 2.0986 - val_loss: 1.4632 - val_mean_squared_error: 2.7544\n",
      "Epoch 49/64\n",
      "33/33 [==============================] - 0s 6ms/step - loss: 1.2057 - mean_squared_error: 2.0960 - val_loss: 1.4602 - val_mean_squared_error: 2.7486\n",
      "Epoch 50/64\n",
      "33/33 [==============================] - 0s 6ms/step - loss: 1.2015 - mean_squared_error: 2.0939 - val_loss: 1.4607 - val_mean_squared_error: 2.7511\n",
      "Epoch 51/64\n",
      "33/33 [==============================] - 0s 6ms/step - loss: 1.1989 - mean_squared_error: 2.0835 - val_loss: 1.4598 - val_mean_squared_error: 2.7505\n",
      "Epoch 52/64\n",
      "33/33 [==============================] - 0s 5ms/step - loss: 1.1970 - mean_squared_error: 2.0819 - val_loss: 1.4591 - val_mean_squared_error: 2.7490\n",
      "Epoch 53/64\n",
      "33/33 [==============================] - 0s 6ms/step - loss: 1.1962 - mean_squared_error: 2.0791 - val_loss: 1.4589 - val_mean_squared_error: 2.7491\n",
      "Epoch 54/64\n",
      "33/33 [==============================] - 0s 6ms/step - loss: 1.1906 - mean_squared_error: 2.0692 - val_loss: 1.4562 - val_mean_squared_error: 2.7408\n",
      "Epoch 55/64\n",
      "33/33 [==============================] - 0s 6ms/step - loss: 1.1899 - mean_squared_error: 2.0683 - val_loss: 1.4571 - val_mean_squared_error: 2.7450\n",
      "Epoch 56/64\n",
      "33/33 [==============================] - 0s 6ms/step - loss: 1.1896 - mean_squared_error: 2.0703 - val_loss: 1.4610 - val_mean_squared_error: 2.7582\n",
      "Epoch 57/64\n",
      "33/33 [==============================] - 0s 6ms/step - loss: 1.1873 - mean_squared_error: 2.0640 - val_loss: 1.4578 - val_mean_squared_error: 2.7470\n",
      "Epoch 58/64\n",
      "33/33 [==============================] - 0s 6ms/step - loss: 1.1835 - mean_squared_error: 2.0561 - val_loss: 1.4547 - val_mean_squared_error: 2.7421\n",
      "Epoch 59/64\n",
      "33/33 [==============================] - 0s 6ms/step - loss: 1.1804 - mean_squared_error: 2.0507 - val_loss: 1.4551 - val_mean_squared_error: 2.7416\n",
      "Epoch 60/64\n",
      "33/33 [==============================] - 0s 6ms/step - loss: 1.1789 - mean_squared_error: 2.0483 - val_loss: 1.4578 - val_mean_squared_error: 2.7496\n",
      "Epoch 61/64\n",
      "33/33 [==============================] - 0s 6ms/step - loss: 1.1800 - mean_squared_error: 2.0501 - val_loss: 1.4564 - val_mean_squared_error: 2.7456\n",
      "Epoch 62/64\n",
      "33/33 [==============================] - 0s 6ms/step - loss: 1.1767 - mean_squared_error: 2.0432 - val_loss: 1.4520 - val_mean_squared_error: 2.7305\n",
      "Epoch 63/64\n",
      "33/33 [==============================] - 0s 4ms/step - loss: 1.1738 - mean_squared_error: 2.0394 - val_loss: 1.4540 - val_mean_squared_error: 2.7393\n",
      "Epoch 64/64\n",
      "33/33 [==============================] - 0s 6ms/step - loss: 1.1731 - mean_squared_error: 2.0392 - val_loss: 1.4577 - val_mean_squared_error: 2.7533\n"
     ]
    },
    {
     "data": {
      "image/png": "[encoded data removed]",
      "text/plain": [
       "<Figure size 576x576 with 2 Axes>"
      ]
     },
     "metadata": {
      "needs_background": "light"
     },
     "output_type": "display_data"
    },
    {
     "name": "stdout",
     "output_type": "stream",
     "text": [
      "16/16 [==============================] - 0s 3ms/step\n",
      "Correlación de Pearson: 0.35885052472452256\n"
     ]
    }
   ],
   "source": [
    "model = create_and_train_and_evaluate_model(mapped, mapped_val,embedding_size=100)"
   ]
  },
  {
   "cell_type": "markdown",
   "metadata": {
    "collapsed": false,
    "id": "QF0EG-AD8m7n"
   },
   "source": [
    "#### 1. One Hot encoding"
   ]
  },
  {
   "cell_type": "code",
   "execution_count": 57,
   "metadata": {
    "id": "7Z55O8jG8m7n"
   },
   "outputs": [
    {
     "name": "stderr",
     "output_type": "stream",
     "text": [
      "C:\\Users\\pelot\\AppData\\Local\\Packages\\PythonSoftwareFoundation.Python.3.7_qbz5n2kfra8p0\\LocalCache\\local-packages\\Python37\\site-packages\\ipykernel_launcher.py:30: DeprecationWarning: `np.float` is a deprecated alias for the builtin `float`. To silence this warning, use `float` by itself. Doing this will not modify any behavior and is safe. If you specifically wanted the numpy scalar type, use `np.float64` here.\n",
      "Deprecated in NumPy 1.20; for more details and guidance: https://numpy.org/devdocs/release/1.20.0-notes.html#deprecations\n"
     ]
    }
   ],
   "source": [
    "mapped = map_pairs(input_pairs, one_hot=True, dictionary=diccionario )\n",
    "mapped_val = map_pairs(input_pairs_val, one_hot=True, dictionary=diccionario)"
   ]
  },
  {
   "cell_type": "code",
   "execution_count": 58,
   "metadata": {
    "id": "JoNQhiIg8m7n"
   },
   "outputs": [
    {
     "name": "stdout",
     "output_type": "stream",
     "text": [
      "Model: \"model_18\"\n",
      "__________________________________________________________________________________________________\n",
      " Layer (type)                   Output Shape         Param #     Connected to                     \n",
      "==================================================================================================\n",
      " input_37 (InputLayer)          [(None, 100)]        0           []                               \n",
      "                                                                                                  \n",
      " input_38 (InputLayer)          [(None, 100)]        0           []                               \n",
      "                                                                                                  \n",
      " dense_12 (Dense)               (None, 100)          10100       ['input_37[0][0]',               \n",
      "                                                                  'input_38[0][0]']               \n",
      "                                                                                                  \n",
      " tf.math.l2_normalize_36 (TFOpL  (None, 100)         0           ['dense_12[0][0]']               \n",
      " ambda)                                                                                           \n",
      "                                                                                                  \n",
      " tf.math.l2_normalize_37 (TFOpL  (None, 100)         0           ['dense_12[1][0]']               \n",
      " ambda)                                                                                           \n",
      "                                                                                                  \n",
      " tf.math.multiply_36 (TFOpLambd  (None, 100)         0           ['tf.math.l2_normalize_36[0][0]',\n",
      " a)                                                               'tf.math.l2_normalize_37[0][0]']\n",
      "                                                                                                  \n",
      " tf.math.reduce_sum_18 (TFOpLam  (None,)             0           ['tf.math.multiply_36[0][0]']    \n",
      " bda)                                                                                             \n",
      "                                                                                                  \n",
      " tf.__operators__.add_18 (TFOpL  (None,)             0           ['tf.math.reduce_sum_18[0][0]']  \n",
      " ambda)                                                                                           \n",
      "                                                                                                  \n",
      " tf.math.multiply_37 (TFOpLambd  (None,)             0           ['tf.__operators__.add_18[0][0]']\n",
      " a)                                                                                               \n",
      "                                                                                                  \n",
      "==================================================================================================\n",
      "Total params: 10,100\n",
      "Trainable params: 10,100\n",
      "Non-trainable params: 0\n",
      "__________________________________________________________________________________________________\n",
      "None\n",
      "Epoch 1/64\n",
      "33/33 [==============================] - 1s 10ms/step - loss: 1.5671 - mean_squared_error: 3.1716 - val_loss: 1.5126 - val_mean_squared_error: 3.0705\n",
      "Epoch 2/64\n",
      "33/33 [==============================] - 0s 6ms/step - loss: 1.5198 - mean_squared_error: 3.0450 - val_loss: 1.4934 - val_mean_squared_error: 3.0126\n",
      "Epoch 3/64\n",
      "33/33 [==============================] - 0s 6ms/step - loss: 1.4851 - mean_squared_error: 2.9566 - val_loss: 1.4799 - val_mean_squared_error: 2.9706\n",
      "Epoch 4/64\n",
      "33/33 [==============================] - 0s 6ms/step - loss: 1.4553 - mean_squared_error: 2.8799 - val_loss: 1.4691 - val_mean_squared_error: 2.9374\n",
      "Epoch 5/64\n",
      "33/33 [==============================] - 0s 4ms/step - loss: 1.4283 - mean_squared_error: 2.8110 - val_loss: 1.4601 - val_mean_squared_error: 2.9113\n",
      "Epoch 6/64\n",
      "33/33 [==============================] - 0s 4ms/step - loss: 1.4045 - mean_squared_error: 2.7525 - val_loss: 1.4521 - val_mean_squared_error: 2.8885\n",
      "Epoch 7/64\n",
      "33/33 [==============================] - 0s 4ms/step - loss: 1.3826 - mean_squared_error: 2.6981 - val_loss: 1.4455 - val_mean_squared_error: 2.8699\n",
      "Epoch 8/64\n",
      "33/33 [==============================] - 0s 4ms/step - loss: 1.3624 - mean_squared_error: 2.6502 - val_loss: 1.4401 - val_mean_squared_error: 2.8546\n",
      "Epoch 9/64\n",
      "33/33 [==============================] - 0s 5ms/step - loss: 1.3437 - mean_squared_error: 2.6050 - val_loss: 1.4342 - val_mean_squared_error: 2.8394\n",
      "Epoch 10/64\n",
      "33/33 [==============================] - 0s 3ms/step - loss: 1.3268 - mean_squared_error: 2.5686 - val_loss: 1.4294 - val_mean_squared_error: 2.8280\n",
      "Epoch 11/64\n",
      "33/33 [==============================] - 0s 5ms/step - loss: 1.3115 - mean_squared_error: 2.5350 - val_loss: 1.4258 - val_mean_squared_error: 2.8188\n",
      "Epoch 12/64\n",
      "33/33 [==============================] - 0s 4ms/step - loss: 1.2977 - mean_squared_error: 2.5047 - val_loss: 1.4224 - val_mean_squared_error: 2.8124\n",
      "Epoch 13/64\n",
      "33/33 [==============================] - 0s 4ms/step - loss: 1.2846 - mean_squared_error: 2.4778 - val_loss: 1.4195 - val_mean_squared_error: 2.8085\n",
      "Epoch 14/64\n",
      "33/33 [==============================] - 0s 5ms/step - loss: 1.2730 - mean_squared_error: 2.4535 - val_loss: 1.4174 - val_mean_squared_error: 2.8043\n",
      "Epoch 15/64\n",
      "33/33 [==============================] - 0s 6ms/step - loss: 1.2624 - mean_squared_error: 2.4325 - val_loss: 1.4160 - val_mean_squared_error: 2.8027\n",
      "Epoch 16/64\n",
      "33/33 [==============================] - 0s 6ms/step - loss: 1.2523 - mean_squared_error: 2.4122 - val_loss: 1.4133 - val_mean_squared_error: 2.8014\n",
      "Epoch 17/64\n",
      "33/33 [==============================] - 0s 6ms/step - loss: 1.2431 - mean_squared_error: 2.3938 - val_loss: 1.4134 - val_mean_squared_error: 2.8035\n",
      "Epoch 18/64\n",
      "33/33 [==============================] - 0s 5ms/step - loss: 1.2346 - mean_squared_error: 2.3781 - val_loss: 1.4119 - val_mean_squared_error: 2.8016\n",
      "Epoch 19/64\n",
      "33/33 [==============================] - 0s 6ms/step - loss: 1.2267 - mean_squared_error: 2.3615 - val_loss: 1.4097 - val_mean_squared_error: 2.8008\n",
      "Epoch 20/64\n",
      "33/33 [==============================] - 0s 6ms/step - loss: 1.2191 - mean_squared_error: 2.3475 - val_loss: 1.4103 - val_mean_squared_error: 2.8047\n",
      "Epoch 21/64\n",
      "33/33 [==============================] - 0s 6ms/step - loss: 1.2124 - mean_squared_error: 2.3342 - val_loss: 1.4087 - val_mean_squared_error: 2.8053\n",
      "Epoch 22/64\n",
      "33/33 [==============================] - 0s 7ms/step - loss: 1.2056 - mean_squared_error: 2.3231 - val_loss: 1.4084 - val_mean_squared_error: 2.8061\n",
      "Epoch 23/64\n",
      "33/33 [==============================] - 0s 6ms/step - loss: 1.1996 - mean_squared_error: 2.3105 - val_loss: 1.4080 - val_mean_squared_error: 2.8077\n",
      "Epoch 24/64\n",
      "33/33 [==============================] - 0s 5ms/step - loss: 1.1939 - mean_squared_error: 2.3002 - val_loss: 1.4067 - val_mean_squared_error: 2.8083\n",
      "Epoch 25/64\n",
      "33/33 [==============================] - 0s 5ms/step - loss: 1.1881 - mean_squared_error: 2.2900 - val_loss: 1.4057 - val_mean_squared_error: 2.8089\n",
      "Epoch 26/64\n",
      "33/33 [==============================] - 0s 6ms/step - loss: 1.1829 - mean_squared_error: 2.2798 - val_loss: 1.4066 - val_mean_squared_error: 2.8117\n",
      "Epoch 27/64\n",
      "33/33 [==============================] - 0s 6ms/step - loss: 1.1784 - mean_squared_error: 2.2736 - val_loss: 1.4049 - val_mean_squared_error: 2.8114\n",
      "Epoch 28/64\n",
      "33/33 [==============================] - 0s 6ms/step - loss: 1.1738 - mean_squared_error: 2.2640 - val_loss: 1.4049 - val_mean_squared_error: 2.8125\n",
      "Epoch 29/64\n",
      "33/33 [==============================] - 0s 6ms/step - loss: 1.1690 - mean_squared_error: 2.2576 - val_loss: 1.4053 - val_mean_squared_error: 2.8158\n",
      "Epoch 30/64\n",
      "33/33 [==============================] - 0s 5ms/step - loss: 1.1654 - mean_squared_error: 2.2494 - val_loss: 1.4044 - val_mean_squared_error: 2.8157\n",
      "Epoch 31/64\n",
      "33/33 [==============================] - 0s 3ms/step - loss: 1.1616 - mean_squared_error: 2.2435 - val_loss: 1.4044 - val_mean_squared_error: 2.8197\n",
      "Epoch 32/64\n",
      "33/33 [==============================] - 0s 4ms/step - loss: 1.1577 - mean_squared_error: 2.2373 - val_loss: 1.4034 - val_mean_squared_error: 2.8181\n",
      "Epoch 33/64\n",
      "33/33 [==============================] - 0s 5ms/step - loss: 1.1541 - mean_squared_error: 2.2312 - val_loss: 1.4040 - val_mean_squared_error: 2.8212\n",
      "Epoch 34/64\n",
      "33/33 [==============================] - 0s 5ms/step - loss: 1.1509 - mean_squared_error: 2.2255 - val_loss: 1.4044 - val_mean_squared_error: 2.8225\n",
      "Epoch 35/64\n",
      "33/33 [==============================] - 0s 6ms/step - loss: 1.1479 - mean_squared_error: 2.2204 - val_loss: 1.4044 - val_mean_squared_error: 2.8246\n",
      "Epoch 36/64\n",
      "33/33 [==============================] - 0s 6ms/step - loss: 1.1447 - mean_squared_error: 2.2146 - val_loss: 1.4051 - val_mean_squared_error: 2.8275\n",
      "Epoch 37/64\n",
      "33/33 [==============================] - 0s 6ms/step - loss: 1.1422 - mean_squared_error: 2.2099 - val_loss: 1.4043 - val_mean_squared_error: 2.8264\n",
      "Epoch 38/64\n",
      "33/33 [==============================] - 0s 6ms/step - loss: 1.1389 - mean_squared_error: 2.2061 - val_loss: 1.4059 - val_mean_squared_error: 2.8300\n",
      "Epoch 39/64\n",
      "33/33 [==============================] - 0s 6ms/step - loss: 1.1365 - mean_squared_error: 2.2013 - val_loss: 1.4066 - val_mean_squared_error: 2.8320\n",
      "Epoch 40/64\n",
      "33/33 [==============================] - 0s 4ms/step - loss: 1.1342 - mean_squared_error: 2.1958 - val_loss: 1.4069 - val_mean_squared_error: 2.8323\n",
      "Epoch 41/64\n",
      "33/33 [==============================] - 0s 4ms/step - loss: 1.1319 - mean_squared_error: 2.1950 - val_loss: 1.4068 - val_mean_squared_error: 2.8339\n",
      "Epoch 42/64\n",
      "33/33 [==============================] - 0s 5ms/step - loss: 1.1295 - mean_squared_error: 2.1886 - val_loss: 1.4067 - val_mean_squared_error: 2.8361\n",
      "Epoch 43/64\n",
      "33/33 [==============================] - 0s 6ms/step - loss: 1.1267 - mean_squared_error: 2.1859 - val_loss: 1.4081 - val_mean_squared_error: 2.8371\n",
      "Epoch 44/64\n",
      "33/33 [==============================] - 0s 4ms/step - loss: 1.1259 - mean_squared_error: 2.1823 - val_loss: 1.4094 - val_mean_squared_error: 2.8421\n",
      "Epoch 45/64\n",
      "33/33 [==============================] - 0s 5ms/step - loss: 1.1227 - mean_squared_error: 2.1794 - val_loss: 1.4085 - val_mean_squared_error: 2.8405\n",
      "Epoch 46/64\n",
      "33/33 [==============================] - 0s 5ms/step - loss: 1.1208 - mean_squared_error: 2.1763 - val_loss: 1.4089 - val_mean_squared_error: 2.8418\n",
      "Epoch 47/64\n",
      "33/33 [==============================] - 0s 4ms/step - loss: 1.1196 - mean_squared_error: 2.1732 - val_loss: 1.4093 - val_mean_squared_error: 2.8433\n",
      "Epoch 48/64\n",
      "33/33 [==============================] - 0s 5ms/step - loss: 1.1177 - mean_squared_error: 2.1709 - val_loss: 1.4102 - val_mean_squared_error: 2.8478\n",
      "Epoch 49/64\n",
      "33/33 [==============================] - 0s 4ms/step - loss: 1.1158 - mean_squared_error: 2.1682 - val_loss: 1.4106 - val_mean_squared_error: 2.8478\n",
      "Epoch 50/64\n",
      "33/33 [==============================] - 0s 4ms/step - loss: 1.1138 - mean_squared_error: 2.1655 - val_loss: 1.4107 - val_mean_squared_error: 2.8493\n",
      "Epoch 51/64\n",
      "33/33 [==============================] - 0s 4ms/step - loss: 1.1124 - mean_squared_error: 2.1629 - val_loss: 1.4108 - val_mean_squared_error: 2.8519\n",
      "Epoch 52/64\n",
      "33/33 [==============================] - 0s 5ms/step - loss: 1.1108 - mean_squared_error: 2.1605 - val_loss: 1.4115 - val_mean_squared_error: 2.8537\n",
      "Epoch 53/64\n",
      "33/33 [==============================] - 0s 5ms/step - loss: 1.1100 - mean_squared_error: 2.1607 - val_loss: 1.4121 - val_mean_squared_error: 2.8566\n",
      "Epoch 54/64\n",
      "33/33 [==============================] - 0s 4ms/step - loss: 1.1084 - mean_squared_error: 2.1559 - val_loss: 1.4115 - val_mean_squared_error: 2.8575\n",
      "Epoch 55/64\n",
      "33/33 [==============================] - 0s 5ms/step - loss: 1.1069 - mean_squared_error: 2.1550 - val_loss: 1.4127 - val_mean_squared_error: 2.8585\n",
      "Epoch 56/64\n",
      "33/33 [==============================] - 0s 4ms/step - loss: 1.1054 - mean_squared_error: 2.1521 - val_loss: 1.4126 - val_mean_squared_error: 2.8610\n",
      "Epoch 57/64\n",
      "33/33 [==============================] - 0s 4ms/step - loss: 1.1044 - mean_squared_error: 2.1532 - val_loss: 1.4136 - val_mean_squared_error: 2.8640\n",
      "Epoch 58/64\n",
      "33/33 [==============================] - 0s 3ms/step - loss: 1.1030 - mean_squared_error: 2.1495 - val_loss: 1.4135 - val_mean_squared_error: 2.8632\n",
      "Epoch 59/64\n",
      "33/33 [==============================] - 0s 3ms/step - loss: 1.1015 - mean_squared_error: 2.1469 - val_loss: 1.4133 - val_mean_squared_error: 2.8654\n",
      "Epoch 60/64\n",
      "33/33 [==============================] - 0s 4ms/step - loss: 1.1010 - mean_squared_error: 2.1483 - val_loss: 1.4148 - val_mean_squared_error: 2.8688\n",
      "Epoch 61/64\n",
      "33/33 [==============================] - 0s 6ms/step - loss: 1.0989 - mean_squared_error: 2.1439 - val_loss: 1.4149 - val_mean_squared_error: 2.8694\n",
      "Epoch 62/64\n",
      "33/33 [==============================] - 0s 6ms/step - loss: 1.0983 - mean_squared_error: 2.1423 - val_loss: 1.4157 - val_mean_squared_error: 2.8721\n",
      "Epoch 63/64\n",
      "33/33 [==============================] - 0s 6ms/step - loss: 1.0973 - mean_squared_error: 2.1416 - val_loss: 1.4160 - val_mean_squared_error: 2.8735\n",
      "Epoch 64/64\n",
      "33/33 [==============================] - 0s 5ms/step - loss: 1.0968 - mean_squared_error: 2.1405 - val_loss: 1.4160 - val_mean_squared_error: 2.8739\n"
     ]
    },
    {
     "data": {
      "image/png": "[encoded data removed]",
      "text/plain": [
       "<Figure size 576x576 with 2 Axes>"
      ]
     },
     "metadata": {
      "needs_background": "light"
     },
     "output_type": "display_data"
    },
    {
     "name": "stdout",
     "output_type": "stream",
     "text": [
      "16/16 [==============================] - 0s 1ms/step\n",
      "Correlación de Pearson: 0.22115282243433215\n"
     ]
    }
   ],
   "source": [
    "model = create_and_train_and_evaluate_model(mapped, mapped_val, embedding_size=100)"
   ]
  },
  {
   "cell_type": "markdown",
   "metadata": {
    "collapsed": false,
    "id": "dmfqVPvY8m7n"
   },
   "source": [
    "#### 2. Models de Word2Vec/GloVe pre-entrenats"
   ]
  },
  {
   "cell_type": "markdown",
   "metadata": {
    "collapsed": false,
    "id": "FGELWVb88m7n"
   },
   "source": [
    "##### 2.1.Word2Vec + Mean"
   ]
  },
  {
   "cell_type": "code",
   "execution_count": 64,
   "metadata": {
    "id": "kvjn7pJL8m7o"
   },
   "outputs": [],
   "source": [
    "mapped = map_pairs(input_pairs, w2v_pre_mean=True, dictionary=diccionario )\n",
    "mapped_val = map_pairs(input_pairs_val, w2v_pre_mean=True, dictionary=diccionario)"
   ]
  },
  {
   "cell_type": "code",
   "execution_count": 65,
   "metadata": {
    "id": "rHRxNJ_J8m7o"
   },
   "outputs": [
    {
     "name": "stdout",
     "output_type": "stream",
     "text": [
      "Model: \"model_21\"\n",
      "__________________________________________________________________________________________________\n",
      " Layer (type)                   Output Shape         Param #     Connected to                     \n",
      "==================================================================================================\n",
      " input_43 (InputLayer)          [(None, 100)]        0           []                               \n",
      "                                                                                                  \n",
      " input_44 (InputLayer)          [(None, 100)]        0           []                               \n",
      "                                                                                                  \n",
      " dense_15 (Dense)               (None, 100)          10100       ['input_43[0][0]',               \n",
      "                                                                  'input_44[0][0]']               \n",
      "                                                                                                  \n",
      " tf.math.l2_normalize_42 (TFOpL  (None, 100)         0           ['dense_15[0][0]']               \n",
      " ambda)                                                                                           \n",
      "                                                                                                  \n",
      " tf.math.l2_normalize_43 (TFOpL  (None, 100)         0           ['dense_15[1][0]']               \n",
      " ambda)                                                                                           \n",
      "                                                                                                  \n",
      " tf.math.multiply_42 (TFOpLambd  (None, 100)         0           ['tf.math.l2_normalize_42[0][0]',\n",
      " a)                                                               'tf.math.l2_normalize_43[0][0]']\n",
      "                                                                                                  \n",
      " tf.math.reduce_sum_21 (TFOpLam  (None,)             0           ['tf.math.multiply_42[0][0]']    \n",
      " bda)                                                                                             \n",
      "                                                                                                  \n",
      " tf.__operators__.add_21 (TFOpL  (None,)             0           ['tf.math.reduce_sum_21[0][0]']  \n",
      " ambda)                                                                                           \n",
      "                                                                                                  \n",
      " tf.math.multiply_43 (TFOpLambd  (None,)             0           ['tf.__operators__.add_21[0][0]']\n",
      " a)                                                                                               \n",
      "                                                                                                  \n",
      "==================================================================================================\n",
      "Total params: 10,100\n",
      "Trainable params: 10,100\n",
      "Non-trainable params: 0\n",
      "__________________________________________________________________________________________________\n",
      "None\n",
      "Epoch 1/64\n",
      "33/33 [==============================] - 1s 8ms/step - loss: 2.0923 - mean_squared_error: 4.9515 - val_loss: 1.9562 - val_mean_squared_error: 4.3869\n",
      "Epoch 2/64\n",
      "33/33 [==============================] - 0s 4ms/step - loss: 1.9313 - mean_squared_error: 4.2630 - val_loss: 1.8782 - val_mean_squared_error: 4.0728\n",
      "Epoch 3/64\n",
      "33/33 [==============================] - 0s 3ms/step - loss: 1.8530 - mean_squared_error: 3.9520 - val_loss: 1.8271 - val_mean_squared_error: 3.8767\n",
      "Epoch 4/64\n",
      "33/33 [==============================] - 0s 3ms/step - loss: 1.7970 - mean_squared_error: 3.7477 - val_loss: 1.7908 - val_mean_squared_error: 3.7413\n",
      "Epoch 5/64\n",
      "33/33 [==============================] - 0s 4ms/step - loss: 1.7530 - mean_squared_error: 3.5917 - val_loss: 1.7627 - val_mean_squared_error: 3.6406\n",
      "Epoch 6/64\n",
      "33/33 [==============================] - 0s 3ms/step - loss: 1.7161 - mean_squared_error: 3.4646 - val_loss: 1.7396 - val_mean_squared_error: 3.5603\n",
      "Epoch 7/64\n",
      "33/33 [==============================] - 0s 3ms/step - loss: 1.6843 - mean_squared_error: 3.3538 - val_loss: 1.7199 - val_mean_squared_error: 3.4933\n",
      "Epoch 8/64\n",
      "33/33 [==============================] - 0s 4ms/step - loss: 1.6560 - mean_squared_error: 3.2606 - val_loss: 1.7035 - val_mean_squared_error: 3.4388\n",
      "Epoch 9/64\n",
      "33/33 [==============================] - 0s 4ms/step - loss: 1.6307 - mean_squared_error: 3.1854 - val_loss: 1.6886 - val_mean_squared_error: 3.3879\n",
      "Epoch 10/64\n",
      "33/33 [==============================] - 0s 5ms/step - loss: 1.6069 - mean_squared_error: 3.1045 - val_loss: 1.6775 - val_mean_squared_error: 3.3516\n",
      "Epoch 11/64\n",
      "33/33 [==============================] - 0s 3ms/step - loss: 1.5872 - mean_squared_error: 3.0463 - val_loss: 1.6654 - val_mean_squared_error: 3.3124\n",
      "Epoch 12/64\n",
      "33/33 [==============================] - 0s 3ms/step - loss: 1.5682 - mean_squared_error: 2.9921 - val_loss: 1.6583 - val_mean_squared_error: 3.2935\n",
      "Epoch 13/64\n",
      "33/33 [==============================] - 0s 4ms/step - loss: 1.5528 - mean_squared_error: 2.9537 - val_loss: 1.6497 - val_mean_squared_error: 3.2665\n",
      "Epoch 14/64\n",
      "33/33 [==============================] - 0s 5ms/step - loss: 1.5372 - mean_squared_error: 2.9121 - val_loss: 1.6436 - val_mean_squared_error: 3.2486\n",
      "Epoch 15/64\n",
      "33/33 [==============================] - 0s 4ms/step - loss: 1.5228 - mean_squared_error: 2.8681 - val_loss: 1.6380 - val_mean_squared_error: 3.2336\n",
      "Epoch 16/64\n",
      "33/33 [==============================] - 0s 4ms/step - loss: 1.5095 - mean_squared_error: 2.8401 - val_loss: 1.6320 - val_mean_squared_error: 3.2171\n",
      "Epoch 17/64\n",
      "33/33 [==============================] - 0s 5ms/step - loss: 1.4989 - mean_squared_error: 2.8066 - val_loss: 1.6268 - val_mean_squared_error: 3.2011\n",
      "Epoch 18/64\n",
      "33/33 [==============================] - 0s 3ms/step - loss: 1.4867 - mean_squared_error: 2.7766 - val_loss: 1.6213 - val_mean_squared_error: 3.1860\n",
      "Epoch 19/64\n",
      "33/33 [==============================] - 0s 3ms/step - loss: 1.4764 - mean_squared_error: 2.7498 - val_loss: 1.6190 - val_mean_squared_error: 3.1795\n",
      "Epoch 20/64\n",
      "33/33 [==============================] - 0s 3ms/step - loss: 1.4675 - mean_squared_error: 2.7332 - val_loss: 1.6155 - val_mean_squared_error: 3.1694\n",
      "Epoch 21/64\n",
      "33/33 [==============================] - 0s 3ms/step - loss: 1.4566 - mean_squared_error: 2.6998 - val_loss: 1.6092 - val_mean_squared_error: 3.1517\n",
      "Epoch 22/64\n",
      "33/33 [==============================] - 0s 4ms/step - loss: 1.4491 - mean_squared_error: 2.6873 - val_loss: 1.6089 - val_mean_squared_error: 3.1536\n",
      "Epoch 23/64\n",
      "33/33 [==============================] - 0s 4ms/step - loss: 1.4402 - mean_squared_error: 2.6605 - val_loss: 1.6036 - val_mean_squared_error: 3.1383\n",
      "Epoch 24/64\n",
      "33/33 [==============================] - 0s 4ms/step - loss: 1.4328 - mean_squared_error: 2.6477 - val_loss: 1.6028 - val_mean_squared_error: 3.1369\n",
      "Epoch 25/64\n",
      "33/33 [==============================] - 0s 5ms/step - loss: 1.4264 - mean_squared_error: 2.6257 - val_loss: 1.5987 - val_mean_squared_error: 3.1272\n",
      "Epoch 26/64\n",
      "33/33 [==============================] - 0s 3ms/step - loss: 1.4171 - mean_squared_error: 2.6044 - val_loss: 1.5978 - val_mean_squared_error: 3.1260\n",
      "Epoch 27/64\n",
      "33/33 [==============================] - 0s 4ms/step - loss: 1.4131 - mean_squared_error: 2.5993 - val_loss: 1.5940 - val_mean_squared_error: 3.1166\n",
      "Epoch 28/64\n",
      "33/33 [==============================] - 0s 4ms/step - loss: 1.4053 - mean_squared_error: 2.5785 - val_loss: 1.5930 - val_mean_squared_error: 3.1147\n",
      "Epoch 29/64\n",
      "33/33 [==============================] - 0s 5ms/step - loss: 1.3980 - mean_squared_error: 2.5595 - val_loss: 1.5889 - val_mean_squared_error: 3.1047\n",
      "Epoch 30/64\n",
      "33/33 [==============================] - 0s 4ms/step - loss: 1.3939 - mean_squared_error: 2.5565 - val_loss: 1.5877 - val_mean_squared_error: 3.1042\n",
      "Epoch 31/64\n",
      "33/33 [==============================] - 0s 5ms/step - loss: 1.3875 - mean_squared_error: 2.5361 - val_loss: 1.5859 - val_mean_squared_error: 3.0980\n",
      "Epoch 32/64\n",
      "33/33 [==============================] - 0s 4ms/step - loss: 1.3827 - mean_squared_error: 2.5266 - val_loss: 1.5844 - val_mean_squared_error: 3.0953\n",
      "Epoch 33/64\n",
      "33/33 [==============================] - 0s 3ms/step - loss: 1.3783 - mean_squared_error: 2.5185 - val_loss: 1.5841 - val_mean_squared_error: 3.0976\n",
      "Epoch 34/64\n",
      "33/33 [==============================] - 0s 4ms/step - loss: 1.3729 - mean_squared_error: 2.5024 - val_loss: 1.5800 - val_mean_squared_error: 3.0839\n",
      "Epoch 35/64\n",
      "33/33 [==============================] - 0s 4ms/step - loss: 1.3694 - mean_squared_error: 2.4988 - val_loss: 1.5777 - val_mean_squared_error: 3.0797\n",
      "Epoch 36/64\n",
      "33/33 [==============================] - 0s 5ms/step - loss: 1.3640 - mean_squared_error: 2.4896 - val_loss: 1.5783 - val_mean_squared_error: 3.0830\n",
      "Epoch 37/64\n",
      "33/33 [==============================] - 0s 5ms/step - loss: 1.3603 - mean_squared_error: 2.4771 - val_loss: 1.5764 - val_mean_squared_error: 3.0766\n",
      "Epoch 38/64\n",
      "33/33 [==============================] - 0s 3ms/step - loss: 1.3548 - mean_squared_error: 2.4637 - val_loss: 1.5744 - val_mean_squared_error: 3.0726\n",
      "Epoch 39/64\n",
      "33/33 [==============================] - 0s 4ms/step - loss: 1.3543 - mean_squared_error: 2.4617 - val_loss: 1.5752 - val_mean_squared_error: 3.0757\n",
      "Epoch 40/64\n",
      "33/33 [==============================] - 0s 6ms/step - loss: 1.3492 - mean_squared_error: 2.4505 - val_loss: 1.5726 - val_mean_squared_error: 3.0695\n",
      "Epoch 41/64\n",
      "33/33 [==============================] - 0s 4ms/step - loss: 1.3450 - mean_squared_error: 2.4419 - val_loss: 1.5706 - val_mean_squared_error: 3.0665\n",
      "Epoch 42/64\n",
      "33/33 [==============================] - 0s 4ms/step - loss: 1.3414 - mean_squared_error: 2.4333 - val_loss: 1.5697 - val_mean_squared_error: 3.0603\n",
      "Epoch 43/64\n",
      "33/33 [==============================] - 0s 4ms/step - loss: 1.3383 - mean_squared_error: 2.4327 - val_loss: 1.5704 - val_mean_squared_error: 3.0659\n",
      "Epoch 44/64\n",
      "33/33 [==============================] - 0s 4ms/step - loss: 1.3353 - mean_squared_error: 2.4248 - val_loss: 1.5689 - val_mean_squared_error: 3.0614\n",
      "Epoch 45/64\n",
      "33/33 [==============================] - 0s 3ms/step - loss: 1.3299 - mean_squared_error: 2.4077 - val_loss: 1.5684 - val_mean_squared_error: 3.0621\n",
      "Epoch 46/64\n",
      "33/33 [==============================] - 0s 4ms/step - loss: 1.3275 - mean_squared_error: 2.4046 - val_loss: 1.5663 - val_mean_squared_error: 3.0514\n",
      "Epoch 47/64\n",
      "33/33 [==============================] - 0s 4ms/step - loss: 1.3240 - mean_squared_error: 2.3970 - val_loss: 1.5654 - val_mean_squared_error: 3.0519\n",
      "Epoch 48/64\n",
      "33/33 [==============================] - 0s 4ms/step - loss: 1.3220 - mean_squared_error: 2.3982 - val_loss: 1.5669 - val_mean_squared_error: 3.0599\n",
      "Epoch 49/64\n",
      "33/33 [==============================] - 0s 4ms/step - loss: 1.3196 - mean_squared_error: 2.3913 - val_loss: 1.5645 - val_mean_squared_error: 3.0542\n",
      "Epoch 50/64\n",
      "33/33 [==============================] - 0s 4ms/step - loss: 1.3166 - mean_squared_error: 2.3813 - val_loss: 1.5631 - val_mean_squared_error: 3.0472\n",
      "Epoch 51/64\n",
      "33/33 [==============================] - 0s 4ms/step - loss: 1.3114 - mean_squared_error: 2.3707 - val_loss: 1.5638 - val_mean_squared_error: 3.0488\n",
      "Epoch 52/64\n",
      "33/33 [==============================] - 0s 3ms/step - loss: 1.3097 - mean_squared_error: 2.3662 - val_loss: 1.5659 - val_mean_squared_error: 3.0564\n",
      "Epoch 53/64\n",
      "33/33 [==============================] - 0s 4ms/step - loss: 1.3101 - mean_squared_error: 2.3687 - val_loss: 1.5610 - val_mean_squared_error: 3.0437\n",
      "Epoch 54/64\n",
      "33/33 [==============================] - 0s 4ms/step - loss: 1.3078 - mean_squared_error: 2.3646 - val_loss: 1.5633 - val_mean_squared_error: 3.0509\n",
      "Epoch 55/64\n",
      "33/33 [==============================] - 0s 4ms/step - loss: 1.3040 - mean_squared_error: 2.3543 - val_loss: 1.5605 - val_mean_squared_error: 3.0411\n",
      "Epoch 56/64\n",
      "33/33 [==============================] - 0s 4ms/step - loss: 1.2988 - mean_squared_error: 2.3427 - val_loss: 1.5598 - val_mean_squared_error: 3.0437\n",
      "Epoch 57/64\n",
      "33/33 [==============================] - 0s 4ms/step - loss: 1.2989 - mean_squared_error: 2.3460 - val_loss: 1.5575 - val_mean_squared_error: 3.0365\n",
      "Epoch 58/64\n",
      "33/33 [==============================] - 0s 5ms/step - loss: 1.2952 - mean_squared_error: 2.3398 - val_loss: 1.5605 - val_mean_squared_error: 3.0446\n",
      "Epoch 59/64\n",
      "33/33 [==============================] - 0s 4ms/step - loss: 1.2948 - mean_squared_error: 2.3348 - val_loss: 1.5589 - val_mean_squared_error: 3.0420\n",
      "Epoch 60/64\n",
      "33/33 [==============================] - 0s 4ms/step - loss: 1.2921 - mean_squared_error: 2.3365 - val_loss: 1.5582 - val_mean_squared_error: 3.0423\n",
      "Epoch 61/64\n",
      "33/33 [==============================] - 0s 4ms/step - loss: 1.2900 - mean_squared_error: 2.3290 - val_loss: 1.5593 - val_mean_squared_error: 3.0412\n",
      "Epoch 62/64\n",
      "33/33 [==============================] - 0s 4ms/step - loss: 1.2872 - mean_squared_error: 2.3213 - val_loss: 1.5563 - val_mean_squared_error: 3.0322\n",
      "Epoch 63/64\n",
      "33/33 [==============================] - 0s 4ms/step - loss: 1.2847 - mean_squared_error: 2.3216 - val_loss: 1.5558 - val_mean_squared_error: 3.0324\n",
      "Epoch 64/64\n",
      "33/33 [==============================] - 0s 5ms/step - loss: 1.2837 - mean_squared_error: 2.3181 - val_loss: 1.5585 - val_mean_squared_error: 3.0428\n"
     ]
    },
    {
     "data": {
      "image/png": "[encoded data removed]",
      "text/plain": [
       "<Figure size 576x576 with 2 Axes>"
      ]
     },
     "metadata": {
      "needs_background": "light"
     },
     "output_type": "display_data"
    },
    {
     "name": "stdout",
     "output_type": "stream",
     "text": [
      "16/16 [==============================] - 0s 3ms/step\n",
      "Correlación de Pearson: 0.31672707213798534\n"
     ]
    }
   ],
   "source": [
    "model = create_and_train_and_evaluate_model(mapped, mapped_val, embedding_size=100)"
   ]
  },
  {
   "cell_type": "markdown",
   "metadata": {
    "collapsed": false,
    "id": "oDA0wr-X8m7o"
   },
   "source": [
    "##### 2.2.Word2Vec + Mean ponderada (TF-IDF)"
   ]
  },
  {
   "cell_type": "code",
   "execution_count": 66,
   "metadata": {
    "id": "g8zH2ip08m7o"
   },
   "outputs": [],
   "source": [
    "mapped = map_pairs(input_pairs, tf_idf_model=modelo_tfidf, dictionary=diccionario )\n",
    "mapped_val = map_pairs(input_pairs_val, tf_idf_model=modelo_tfidf, dictionary=diccionario)"
   ]
  },
  {
   "cell_type": "code",
   "execution_count": 67,
   "metadata": {
    "id": "uSMyClBN8m7o"
   },
   "outputs": [
    {
     "name": "stdout",
     "output_type": "stream",
     "text": [
      "Model: \"model_22\"\n",
      "__________________________________________________________________________________________________\n",
      " Layer (type)                   Output Shape         Param #     Connected to                     \n",
      "==================================================================================================\n",
      " input_45 (InputLayer)          [(None, 100)]        0           []                               \n",
      "                                                                                                  \n",
      " input_46 (InputLayer)          [(None, 100)]        0           []                               \n",
      "                                                                                                  \n",
      " dense_16 (Dense)               (None, 100)          10100       ['input_45[0][0]',               \n",
      "                                                                  'input_46[0][0]']               \n",
      "                                                                                                  \n",
      " tf.math.l2_normalize_44 (TFOpL  (None, 100)         0           ['dense_16[0][0]']               \n",
      " ambda)                                                                                           \n",
      "                                                                                                  \n",
      " tf.math.l2_normalize_45 (TFOpL  (None, 100)         0           ['dense_16[1][0]']               \n",
      " ambda)                                                                                           \n",
      "                                                                                                  \n",
      " tf.math.multiply_44 (TFOpLambd  (None, 100)         0           ['tf.math.l2_normalize_44[0][0]',\n",
      " a)                                                               'tf.math.l2_normalize_45[0][0]']\n",
      "                                                                                                  \n",
      " tf.math.reduce_sum_22 (TFOpLam  (None,)             0           ['tf.math.multiply_44[0][0]']    \n",
      " bda)                                                                                             \n",
      "                                                                                                  \n",
      " tf.__operators__.add_22 (TFOpL  (None,)             0           ['tf.math.reduce_sum_22[0][0]']  \n",
      " ambda)                                                                                           \n",
      "                                                                                                  \n",
      " tf.math.multiply_45 (TFOpLambd  (None,)             0           ['tf.__operators__.add_22[0][0]']\n",
      " a)                                                                                               \n",
      "                                                                                                  \n",
      "==================================================================================================\n",
      "Total params: 10,100\n",
      "Trainable params: 10,100\n",
      "Non-trainable params: 0\n",
      "__________________________________________________________________________________________________\n",
      "None\n",
      "Epoch 1/64\n",
      "33/33 [==============================] - 2s 16ms/step - loss: 2.0571 - mean_squared_error: 4.8040 - val_loss: 1.8973 - val_mean_squared_error: 4.1713\n",
      "Epoch 2/64\n",
      "33/33 [==============================] - 0s 5ms/step - loss: 1.8939 - mean_squared_error: 4.1189 - val_loss: 1.8260 - val_mean_squared_error: 3.8979\n",
      "Epoch 3/64\n",
      "33/33 [==============================] - 0s 5ms/step - loss: 1.8148 - mean_squared_error: 3.8160 - val_loss: 1.7818 - val_mean_squared_error: 3.7341\n",
      "Epoch 4/64\n",
      "33/33 [==============================] - 0s 6ms/step - loss: 1.7592 - mean_squared_error: 3.6153 - val_loss: 1.7512 - val_mean_squared_error: 3.6266\n",
      "Epoch 5/64\n",
      "33/33 [==============================] - 0s 4ms/step - loss: 1.7163 - mean_squared_error: 3.4683 - val_loss: 1.7273 - val_mean_squared_error: 3.5460\n",
      "Epoch 6/64\n",
      "33/33 [==============================] - 0s 4ms/step - loss: 1.6813 - mean_squared_error: 3.3574 - val_loss: 1.7080 - val_mean_squared_error: 3.4819\n",
      "Epoch 7/64\n",
      "33/33 [==============================] - 0s 5ms/step - loss: 1.6514 - mean_squared_error: 3.2593 - val_loss: 1.6913 - val_mean_squared_error: 3.4270\n",
      "Epoch 8/64\n",
      "33/33 [==============================] - 0s 3ms/step - loss: 1.6247 - mean_squared_error: 3.1670 - val_loss: 1.6775 - val_mean_squared_error: 3.3828\n",
      "Epoch 9/64\n",
      "33/33 [==============================] - 0s 7ms/step - loss: 1.6008 - mean_squared_error: 3.0949 - val_loss: 1.6659 - val_mean_squared_error: 3.3443\n",
      "Epoch 10/64\n",
      "33/33 [==============================] - 0s 6ms/step - loss: 1.5785 - mean_squared_error: 3.0175 - val_loss: 1.6556 - val_mean_squared_error: 3.3118\n",
      "Epoch 11/64\n",
      "33/33 [==============================] - 0s 6ms/step - loss: 1.5595 - mean_squared_error: 2.9613 - val_loss: 1.6471 - val_mean_squared_error: 3.2853\n",
      "Epoch 12/64\n",
      "33/33 [==============================] - 0s 6ms/step - loss: 1.5424 - mean_squared_error: 2.9112 - val_loss: 1.6409 - val_mean_squared_error: 3.2675\n",
      "Epoch 13/64\n",
      "33/33 [==============================] - 0s 6ms/step - loss: 1.5267 - mean_squared_error: 2.8669 - val_loss: 1.6346 - val_mean_squared_error: 3.2493\n",
      "Epoch 14/64\n",
      "33/33 [==============================] - 0s 7ms/step - loss: 1.5134 - mean_squared_error: 2.8298 - val_loss: 1.6292 - val_mean_squared_error: 3.2341\n",
      "Epoch 15/64\n",
      "33/33 [==============================] - 0s 4ms/step - loss: 1.5005 - mean_squared_error: 2.7938 - val_loss: 1.6254 - val_mean_squared_error: 3.2237\n",
      "Epoch 16/64\n",
      "33/33 [==============================] - 0s 6ms/step - loss: 1.4887 - mean_squared_error: 2.7660 - val_loss: 1.6207 - val_mean_squared_error: 3.2097\n",
      "Epoch 17/64\n",
      "33/33 [==============================] - 0s 5ms/step - loss: 1.4782 - mean_squared_error: 2.7319 - val_loss: 1.6157 - val_mean_squared_error: 3.1961\n",
      "Epoch 18/64\n",
      "33/33 [==============================] - 0s 5ms/step - loss: 1.4680 - mean_squared_error: 2.7090 - val_loss: 1.6152 - val_mean_squared_error: 3.1941\n",
      "Epoch 19/64\n",
      "33/33 [==============================] - 0s 5ms/step - loss: 1.4587 - mean_squared_error: 2.6791 - val_loss: 1.6108 - val_mean_squared_error: 3.1833\n",
      "Epoch 20/64\n",
      "33/33 [==============================] - 0s 6ms/step - loss: 1.4497 - mean_squared_error: 2.6554 - val_loss: 1.6062 - val_mean_squared_error: 3.1697\n",
      "Epoch 21/64\n",
      "33/33 [==============================] - 0s 6ms/step - loss: 1.4407 - mean_squared_error: 2.6308 - val_loss: 1.6059 - val_mean_squared_error: 3.1695\n",
      "Epoch 22/64\n",
      "33/33 [==============================] - 0s 6ms/step - loss: 1.4329 - mean_squared_error: 2.6114 - val_loss: 1.6051 - val_mean_squared_error: 3.1680\n",
      "Epoch 23/64\n",
      "33/33 [==============================] - 0s 6ms/step - loss: 1.4247 - mean_squared_error: 2.5907 - val_loss: 1.5992 - val_mean_squared_error: 3.1529\n",
      "Epoch 24/64\n",
      "33/33 [==============================] - 0s 6ms/step - loss: 1.4169 - mean_squared_error: 2.5710 - val_loss: 1.5981 - val_mean_squared_error: 3.1488\n",
      "Epoch 25/64\n",
      "33/33 [==============================] - 0s 4ms/step - loss: 1.4098 - mean_squared_error: 2.5548 - val_loss: 1.5966 - val_mean_squared_error: 3.1445\n",
      "Epoch 26/64\n",
      "33/33 [==============================] - 0s 5ms/step - loss: 1.4033 - mean_squared_error: 2.5408 - val_loss: 1.5953 - val_mean_squared_error: 3.1446\n",
      "Epoch 27/64\n",
      "33/33 [==============================] - 0s 5ms/step - loss: 1.3962 - mean_squared_error: 2.5218 - val_loss: 1.5941 - val_mean_squared_error: 3.1411\n",
      "Epoch 28/64\n",
      "33/33 [==============================] - 0s 4ms/step - loss: 1.3905 - mean_squared_error: 2.5141 - val_loss: 1.5913 - val_mean_squared_error: 3.1335\n",
      "Epoch 29/64\n",
      "33/33 [==============================] - 0s 5ms/step - loss: 1.3841 - mean_squared_error: 2.4990 - val_loss: 1.5881 - val_mean_squared_error: 3.1263\n",
      "Epoch 30/64\n",
      "33/33 [==============================] - 0s 6ms/step - loss: 1.3780 - mean_squared_error: 2.4808 - val_loss: 1.5898 - val_mean_squared_error: 3.1320\n",
      "Epoch 31/64\n",
      "33/33 [==============================] - 0s 4ms/step - loss: 1.3721 - mean_squared_error: 2.4670 - val_loss: 1.5870 - val_mean_squared_error: 3.1271\n",
      "Epoch 32/64\n",
      "33/33 [==============================] - 0s 5ms/step - loss: 1.3667 - mean_squared_error: 2.4555 - val_loss: 1.5841 - val_mean_squared_error: 3.1205\n",
      "Epoch 33/64\n",
      "33/33 [==============================] - 0s 5ms/step - loss: 1.3631 - mean_squared_error: 2.4469 - val_loss: 1.5851 - val_mean_squared_error: 3.1239\n",
      "Epoch 34/64\n",
      "33/33 [==============================] - 0s 4ms/step - loss: 1.3567 - mean_squared_error: 2.4331 - val_loss: 1.5838 - val_mean_squared_error: 3.1213\n",
      "Epoch 35/64\n",
      "33/33 [==============================] - 0s 6ms/step - loss: 1.3528 - mean_squared_error: 2.4236 - val_loss: 1.5822 - val_mean_squared_error: 3.1177\n",
      "Epoch 36/64\n",
      "33/33 [==============================] - 0s 6ms/step - loss: 1.3474 - mean_squared_error: 2.4140 - val_loss: 1.5839 - val_mean_squared_error: 3.1259\n",
      "Epoch 37/64\n",
      "33/33 [==============================] - 0s 4ms/step - loss: 1.3432 - mean_squared_error: 2.4081 - val_loss: 1.5802 - val_mean_squared_error: 3.1142\n",
      "Epoch 38/64\n",
      "33/33 [==============================] - 0s 5ms/step - loss: 1.3388 - mean_squared_error: 2.3952 - val_loss: 1.5809 - val_mean_squared_error: 3.1194\n",
      "Epoch 39/64\n",
      "33/33 [==============================] - 0s 6ms/step - loss: 1.3349 - mean_squared_error: 2.3859 - val_loss: 1.5777 - val_mean_squared_error: 3.1100\n",
      "Epoch 40/64\n",
      "33/33 [==============================] - 0s 4ms/step - loss: 1.3312 - mean_squared_error: 2.3785 - val_loss: 1.5807 - val_mean_squared_error: 3.1217\n",
      "Epoch 41/64\n",
      "33/33 [==============================] - 0s 5ms/step - loss: 1.3268 - mean_squared_error: 2.3688 - val_loss: 1.5774 - val_mean_squared_error: 3.1123\n",
      "Epoch 42/64\n",
      "33/33 [==============================] - 0s 6ms/step - loss: 1.3242 - mean_squared_error: 2.3640 - val_loss: 1.5823 - val_mean_squared_error: 3.1295\n",
      "Epoch 43/64\n",
      "33/33 [==============================] - 0s 6ms/step - loss: 1.3195 - mean_squared_error: 2.3538 - val_loss: 1.5752 - val_mean_squared_error: 3.1081\n",
      "Epoch 44/64\n",
      "33/33 [==============================] - 0s 5ms/step - loss: 1.3148 - mean_squared_error: 2.3448 - val_loss: 1.5741 - val_mean_squared_error: 3.1061\n",
      "Epoch 45/64\n",
      "33/33 [==============================] - 0s 5ms/step - loss: 1.3132 - mean_squared_error: 2.3403 - val_loss: 1.5759 - val_mean_squared_error: 3.1154\n",
      "Epoch 46/64\n",
      "33/33 [==============================] - 0s 5ms/step - loss: 1.3089 - mean_squared_error: 2.3343 - val_loss: 1.5765 - val_mean_squared_error: 3.1170\n",
      "Epoch 47/64\n",
      "33/33 [==============================] - 0s 6ms/step - loss: 1.3053 - mean_squared_error: 2.3258 - val_loss: 1.5754 - val_mean_squared_error: 3.1139\n",
      "Epoch 48/64\n",
      "33/33 [==============================] - 0s 6ms/step - loss: 1.3045 - mean_squared_error: 2.3272 - val_loss: 1.5742 - val_mean_squared_error: 3.1134\n",
      "Epoch 49/64\n",
      "33/33 [==============================] - 0s 5ms/step - loss: 1.2998 - mean_squared_error: 2.3157 - val_loss: 1.5730 - val_mean_squared_error: 3.1098\n",
      "Epoch 50/64\n",
      "33/33 [==============================] - 0s 5ms/step - loss: 1.2970 - mean_squared_error: 2.3131 - val_loss: 1.5716 - val_mean_squared_error: 3.1091\n",
      "Epoch 51/64\n",
      "33/33 [==============================] - 0s 6ms/step - loss: 1.2940 - mean_squared_error: 2.3035 - val_loss: 1.5699 - val_mean_squared_error: 3.1041\n",
      "Epoch 52/64\n",
      "33/33 [==============================] - 0s 4ms/step - loss: 1.2900 - mean_squared_error: 2.2961 - val_loss: 1.5739 - val_mean_squared_error: 3.1151\n",
      "Epoch 53/64\n",
      "33/33 [==============================] - 0s 6ms/step - loss: 1.2904 - mean_squared_error: 2.2937 - val_loss: 1.5763 - val_mean_squared_error: 3.1267\n",
      "Epoch 54/64\n",
      "33/33 [==============================] - 0s 6ms/step - loss: 1.2848 - mean_squared_error: 2.2848 - val_loss: 1.5704 - val_mean_squared_error: 3.1089\n",
      "Epoch 55/64\n",
      "33/33 [==============================] - 0s 6ms/step - loss: 1.2826 - mean_squared_error: 2.2875 - val_loss: 1.5670 - val_mean_squared_error: 3.0974\n",
      "Epoch 56/64\n",
      "33/33 [==============================] - 0s 6ms/step - loss: 1.2814 - mean_squared_error: 2.2800 - val_loss: 1.5691 - val_mean_squared_error: 3.1074\n",
      "Epoch 57/64\n",
      "33/33 [==============================] - 0s 5ms/step - loss: 1.2778 - mean_squared_error: 2.2719 - val_loss: 1.5716 - val_mean_squared_error: 3.1158\n",
      "Epoch 58/64\n",
      "33/33 [==============================] - 0s 6ms/step - loss: 1.2771 - mean_squared_error: 2.2708 - val_loss: 1.5715 - val_mean_squared_error: 3.1107\n",
      "Epoch 59/64\n",
      "33/33 [==============================] - 0s 6ms/step - loss: 1.2738 - mean_squared_error: 2.2674 - val_loss: 1.5668 - val_mean_squared_error: 3.0976\n",
      "Epoch 60/64\n",
      "33/33 [==============================] - 0s 5ms/step - loss: 1.2710 - mean_squared_error: 2.2628 - val_loss: 1.5651 - val_mean_squared_error: 3.0960\n",
      "Epoch 61/64\n",
      "33/33 [==============================] - 0s 5ms/step - loss: 1.2692 - mean_squared_error: 2.2561 - val_loss: 1.5694 - val_mean_squared_error: 3.1114\n",
      "Epoch 62/64\n",
      "33/33 [==============================] - 0s 6ms/step - loss: 1.2679 - mean_squared_error: 2.2532 - val_loss: 1.5703 - val_mean_squared_error: 3.1132\n",
      "Epoch 63/64\n",
      "33/33 [==============================] - 0s 3ms/step - loss: 1.2640 - mean_squared_error: 2.2463 - val_loss: 1.5696 - val_mean_squared_error: 3.1092\n",
      "Epoch 64/64\n",
      "33/33 [==============================] - 0s 6ms/step - loss: 1.2632 - mean_squared_error: 2.2453 - val_loss: 1.5648 - val_mean_squared_error: 3.0943\n"
     ]
    },
    {
     "data": {
      "image/png": "[encoded data removed]",
      "text/plain": [
       "<Figure size 576x576 with 2 Axes>"
      ]
     },
     "metadata": {
      "needs_background": "light"
     },
     "output_type": "display_data"
    },
    {
     "name": "stdout",
     "output_type": "stream",
     "text": [
      "16/16 [==============================] - 0s 3ms/step\n",
      "Correlación de Pearson: 0.30036529222154734\n"
     ]
    }
   ],
   "source": [
    "model = create_and_train_and_evaluate_model(mapped, mapped_val, embedding_size=100)"
   ]
  },
  {
   "cell_type": "markdown",
   "metadata": {
    "collapsed": false,
    "id": "GsHl1GQD8m72"
   },
   "source": [
    "#### 3.Spacy"
   ]
  },
  {
   "cell_type": "markdown",
   "metadata": {
    "id": "Asd1Oecv8m72"
   },
   "source": [
    "Primer definim els embeddings amb el model de Spacy"
   ]
  },
  {
   "cell_type": "code",
   "execution_count": 68,
   "metadata": {
    "id": "x-Q4cmr38m72"
   },
   "outputs": [],
   "source": [
    "mapped = map_pairs(input_pairs, Spasii=True, dictionary=diccionario )\n",
    "mapped_val = map_pairs(input_pairs_val, Spasii=True, dictionary=diccionario)"
   ]
  },
  {
   "cell_type": "code",
   "execution_count": 70,
   "metadata": {
    "id": "juK2JoYz8m72"
   },
   "outputs": [
    {
     "name": "stdout",
     "output_type": "stream",
     "text": [
      "Model: \"model_24\"\n",
      "__________________________________________________________________________________________________\n",
      " Layer (type)                   Output Shape         Param #     Connected to                     \n",
      "==================================================================================================\n",
      " input_49 (InputLayer)          [(None, 300)]        0           []                               \n",
      "                                                                                                  \n",
      " input_50 (InputLayer)          [(None, 300)]        0           []                               \n",
      "                                                                                                  \n",
      " dense_18 (Dense)               (None, 300)          90300       ['input_49[0][0]',               \n",
      "                                                                  'input_50[0][0]']               \n",
      "                                                                                                  \n",
      " tf.math.l2_normalize_48 (TFOpL  (None, 300)         0           ['dense_18[0][0]']               \n",
      " ambda)                                                                                           \n",
      "                                                                                                  \n",
      " tf.math.l2_normalize_49 (TFOpL  (None, 300)         0           ['dense_18[1][0]']               \n",
      " ambda)                                                                                           \n",
      "                                                                                                  \n",
      " tf.math.multiply_48 (TFOpLambd  (None, 300)         0           ['tf.math.l2_normalize_48[0][0]',\n",
      " a)                                                               'tf.math.l2_normalize_49[0][0]']\n",
      "                                                                                                  \n",
      " tf.math.reduce_sum_24 (TFOpLam  (None,)             0           ['tf.math.multiply_48[0][0]']    \n",
      " bda)                                                                                             \n",
      "                                                                                                  \n",
      " tf.__operators__.add_24 (TFOpL  (None,)             0           ['tf.math.reduce_sum_24[0][0]']  \n",
      " ambda)                                                                                           \n",
      "                                                                                                  \n",
      " tf.math.multiply_49 (TFOpLambd  (None,)             0           ['tf.__operators__.add_24[0][0]']\n",
      " a)                                                                                               \n",
      "                                                                                                  \n",
      "==================================================================================================\n",
      "Total params: 90,300\n",
      "Trainable params: 90,300\n",
      "Non-trainable params: 0\n",
      "__________________________________________________________________________________________________\n",
      "None\n",
      "Epoch 1/64\n",
      "33/33 [==============================] - 1s 11ms/step - loss: 1.8004 - mean_squared_error: 3.9161 - val_loss: 1.5952 - val_mean_squared_error: 3.3923\n",
      "Epoch 2/64\n",
      "33/33 [==============================] - 0s 5ms/step - loss: 1.6013 - mean_squared_error: 3.3003 - val_loss: 1.5378 - val_mean_squared_error: 3.1925\n",
      "Epoch 3/64\n",
      "33/33 [==============================] - 0s 5ms/step - loss: 1.5317 - mean_squared_error: 3.0881 - val_loss: 1.5094 - val_mean_squared_error: 3.0872\n",
      "Epoch 4/64\n",
      "33/33 [==============================] - 0s 5ms/step - loss: 1.4841 - mean_squared_error: 2.9524 - val_loss: 1.4920 - val_mean_squared_error: 3.0381\n",
      "Epoch 5/64\n",
      "33/33 [==============================] - 0s 5ms/step - loss: 1.4473 - mean_squared_error: 2.8490 - val_loss: 1.4759 - val_mean_squared_error: 2.9820\n",
      "Epoch 6/64\n",
      "33/33 [==============================] - 0s 5ms/step - loss: 1.4185 - mean_squared_error: 2.7738 - val_loss: 1.4738 - val_mean_squared_error: 2.9802\n",
      "Epoch 7/64\n",
      "33/33 [==============================] - 0s 5ms/step - loss: 1.3901 - mean_squared_error: 2.6991 - val_loss: 1.4657 - val_mean_squared_error: 2.9485\n",
      "Epoch 8/64\n",
      "33/33 [==============================] - 0s 5ms/step - loss: 1.3693 - mean_squared_error: 2.6396 - val_loss: 1.4527 - val_mean_squared_error: 2.9011\n",
      "Epoch 9/64\n",
      "33/33 [==============================] - 0s 4ms/step - loss: 1.3482 - mean_squared_error: 2.5840 - val_loss: 1.4507 - val_mean_squared_error: 2.8852\n",
      "Epoch 10/64\n",
      "33/33 [==============================] - 0s 6ms/step - loss: 1.3243 - mean_squared_error: 2.5201 - val_loss: 1.4424 - val_mean_squared_error: 2.8655\n",
      "Epoch 11/64\n",
      "33/33 [==============================] - 0s 5ms/step - loss: 1.3072 - mean_squared_error: 2.4740 - val_loss: 1.4399 - val_mean_squared_error: 2.8504\n",
      "Epoch 12/64\n",
      "33/33 [==============================] - 0s 6ms/step - loss: 1.2882 - mean_squared_error: 2.4240 - val_loss: 1.4370 - val_mean_squared_error: 2.8366\n",
      "Epoch 13/64\n",
      "33/33 [==============================] - 0s 8ms/step - loss: 1.2718 - mean_squared_error: 2.3793 - val_loss: 1.4354 - val_mean_squared_error: 2.8239\n",
      "Epoch 14/64\n",
      "33/33 [==============================] - 0s 8ms/step - loss: 1.2612 - mean_squared_error: 2.3443 - val_loss: 1.4328 - val_mean_squared_error: 2.8159\n",
      "Epoch 15/64\n",
      "33/33 [==============================] - 0s 7ms/step - loss: 1.2473 - mean_squared_error: 2.3110 - val_loss: 1.4452 - val_mean_squared_error: 2.8491\n",
      "Epoch 16/64\n",
      "33/33 [==============================] - 0s 8ms/step - loss: 1.2332 - mean_squared_error: 2.2695 - val_loss: 1.4309 - val_mean_squared_error: 2.8034\n",
      "Epoch 17/64\n",
      "33/33 [==============================] - 0s 8ms/step - loss: 1.2197 - mean_squared_error: 2.2373 - val_loss: 1.4252 - val_mean_squared_error: 2.7790\n",
      "Epoch 18/64\n",
      "33/33 [==============================] - 0s 8ms/step - loss: 1.2031 - mean_squared_error: 2.1982 - val_loss: 1.4267 - val_mean_squared_error: 2.7900\n",
      "Epoch 19/64\n",
      "33/33 [==============================] - 0s 7ms/step - loss: 1.1985 - mean_squared_error: 2.1807 - val_loss: 1.4272 - val_mean_squared_error: 2.7769\n",
      "Epoch 20/64\n",
      "33/33 [==============================] - 0s 8ms/step - loss: 1.1856 - mean_squared_error: 2.1499 - val_loss: 1.4254 - val_mean_squared_error: 2.7778\n",
      "Epoch 21/64\n",
      "33/33 [==============================] - 0s 5ms/step - loss: 1.1770 - mean_squared_error: 2.1269 - val_loss: 1.4235 - val_mean_squared_error: 2.7621\n",
      "Epoch 22/64\n",
      "33/33 [==============================] - 0s 8ms/step - loss: 1.1610 - mean_squared_error: 2.0859 - val_loss: 1.4242 - val_mean_squared_error: 2.7739\n",
      "Epoch 23/64\n",
      "33/33 [==============================] - 0s 9ms/step - loss: 1.1614 - mean_squared_error: 2.0829 - val_loss: 1.4151 - val_mean_squared_error: 2.7381\n",
      "Epoch 24/64\n",
      "33/33 [==============================] - 0s 7ms/step - loss: 1.1420 - mean_squared_error: 2.0486 - val_loss: 1.4128 - val_mean_squared_error: 2.7300\n",
      "Epoch 25/64\n",
      "33/33 [==============================] - 0s 8ms/step - loss: 1.1352 - mean_squared_error: 2.0272 - val_loss: 1.4362 - val_mean_squared_error: 2.7884\n",
      "Epoch 26/64\n",
      "33/33 [==============================] - 0s 8ms/step - loss: 1.1352 - mean_squared_error: 2.0178 - val_loss: 1.4101 - val_mean_squared_error: 2.7259\n",
      "Epoch 27/64\n",
      "33/33 [==============================] - 0s 8ms/step - loss: 1.1197 - mean_squared_error: 1.9829 - val_loss: 1.4075 - val_mean_squared_error: 2.7066\n",
      "Epoch 28/64\n",
      "33/33 [==============================] - 0s 8ms/step - loss: 1.1092 - mean_squared_error: 1.9641 - val_loss: 1.4205 - val_mean_squared_error: 2.7455\n",
      "Epoch 29/64\n",
      "33/33 [==============================] - 0s 8ms/step - loss: 1.1133 - mean_squared_error: 1.9655 - val_loss: 1.4112 - val_mean_squared_error: 2.7153\n",
      "Epoch 30/64\n",
      "33/33 [==============================] - 0s 7ms/step - loss: 1.0976 - mean_squared_error: 1.9353 - val_loss: 1.4209 - val_mean_squared_error: 2.7402\n",
      "Epoch 31/64\n",
      "33/33 [==============================] - 0s 7ms/step - loss: 1.0921 - mean_squared_error: 1.9226 - val_loss: 1.4126 - val_mean_squared_error: 2.7176\n",
      "Epoch 32/64\n",
      "33/33 [==============================] - 0s 7ms/step - loss: 1.0853 - mean_squared_error: 1.9052 - val_loss: 1.4068 - val_mean_squared_error: 2.6961\n",
      "Epoch 33/64\n",
      "33/33 [==============================] - 0s 8ms/step - loss: 1.0796 - mean_squared_error: 1.8888 - val_loss: 1.4062 - val_mean_squared_error: 2.6853\n",
      "Epoch 34/64\n",
      "33/33 [==============================] - 0s 8ms/step - loss: 1.0715 - mean_squared_error: 1.8696 - val_loss: 1.4035 - val_mean_squared_error: 2.6820\n",
      "Epoch 35/64\n",
      "33/33 [==============================] - 0s 8ms/step - loss: 1.0674 - mean_squared_error: 1.8560 - val_loss: 1.4171 - val_mean_squared_error: 2.7252\n",
      "Epoch 36/64\n",
      "33/33 [==============================] - 0s 8ms/step - loss: 1.0668 - mean_squared_error: 1.8512 - val_loss: 1.4036 - val_mean_squared_error: 2.6727\n",
      "Epoch 37/64\n",
      "33/33 [==============================] - 0s 7ms/step - loss: 1.0492 - mean_squared_error: 1.8241 - val_loss: 1.4059 - val_mean_squared_error: 2.6863\n",
      "Epoch 38/64\n",
      "33/33 [==============================] - 0s 7ms/step - loss: 1.0498 - mean_squared_error: 1.8235 - val_loss: 1.4082 - val_mean_squared_error: 2.6896\n",
      "Epoch 39/64\n",
      "33/33 [==============================] - 0s 8ms/step - loss: 1.0507 - mean_squared_error: 1.8155 - val_loss: 1.4079 - val_mean_squared_error: 2.6952\n",
      "Epoch 40/64\n",
      "33/33 [==============================] - 0s 6ms/step - loss: 1.0383 - mean_squared_error: 1.7973 - val_loss: 1.4071 - val_mean_squared_error: 2.6828\n",
      "Epoch 41/64\n",
      "33/33 [==============================] - 0s 7ms/step - loss: 1.0309 - mean_squared_error: 1.7851 - val_loss: 1.4040 - val_mean_squared_error: 2.6750\n",
      "Epoch 42/64\n",
      "33/33 [==============================] - 0s 8ms/step - loss: 1.0273 - mean_squared_error: 1.7731 - val_loss: 1.3950 - val_mean_squared_error: 2.6465\n",
      "Epoch 43/64\n",
      "33/33 [==============================] - 0s 7ms/step - loss: 1.0257 - mean_squared_error: 1.7621 - val_loss: 1.4076 - val_mean_squared_error: 2.6850\n",
      "Epoch 44/64\n",
      "33/33 [==============================] - 0s 7ms/step - loss: 1.0198 - mean_squared_error: 1.7548 - val_loss: 1.4097 - val_mean_squared_error: 2.6895\n",
      "Epoch 45/64\n",
      "33/33 [==============================] - 0s 8ms/step - loss: 1.0152 - mean_squared_error: 1.7492 - val_loss: 1.4017 - val_mean_squared_error: 2.6657\n",
      "Epoch 46/64\n",
      "33/33 [==============================] - 0s 7ms/step - loss: 1.0173 - mean_squared_error: 1.7437 - val_loss: 1.4042 - val_mean_squared_error: 2.6662\n",
      "Epoch 47/64\n",
      "33/33 [==============================] - 0s 8ms/step - loss: 1.0100 - mean_squared_error: 1.7342 - val_loss: 1.4114 - val_mean_squared_error: 2.6914\n",
      "Epoch 48/64\n",
      "33/33 [==============================] - 0s 7ms/step - loss: 1.0027 - mean_squared_error: 1.7163 - val_loss: 1.3934 - val_mean_squared_error: 2.6378\n",
      "Epoch 49/64\n",
      "33/33 [==============================] - 0s 6ms/step - loss: 0.9946 - mean_squared_error: 1.7057 - val_loss: 1.4063 - val_mean_squared_error: 2.6742\n",
      "Epoch 50/64\n",
      "33/33 [==============================] - 0s 6ms/step - loss: 1.0036 - mean_squared_error: 1.7087 - val_loss: 1.3973 - val_mean_squared_error: 2.6543\n",
      "Epoch 51/64\n",
      "33/33 [==============================] - 0s 8ms/step - loss: 0.9895 - mean_squared_error: 1.6882 - val_loss: 1.4063 - val_mean_squared_error: 2.6687\n",
      "Epoch 52/64\n",
      "33/33 [==============================] - 0s 8ms/step - loss: 0.9889 - mean_squared_error: 1.6823 - val_loss: 1.4003 - val_mean_squared_error: 2.6604\n",
      "Epoch 53/64\n",
      "33/33 [==============================] - 0s 7ms/step - loss: 0.9847 - mean_squared_error: 1.6796 - val_loss: 1.4035 - val_mean_squared_error: 2.6613\n",
      "Epoch 54/64\n",
      "33/33 [==============================] - 0s 8ms/step - loss: 0.9811 - mean_squared_error: 1.6721 - val_loss: 1.4006 - val_mean_squared_error: 2.6578\n",
      "Epoch 55/64\n",
      "33/33 [==============================] - 0s 8ms/step - loss: 0.9790 - mean_squared_error: 1.6663 - val_loss: 1.4035 - val_mean_squared_error: 2.6741\n",
      "Epoch 56/64\n",
      "33/33 [==============================] - 0s 8ms/step - loss: 0.9771 - mean_squared_error: 1.6632 - val_loss: 1.4010 - val_mean_squared_error: 2.6623\n",
      "Epoch 57/64\n",
      "33/33 [==============================] - 0s 8ms/step - loss: 0.9745 - mean_squared_error: 1.6598 - val_loss: 1.4063 - val_mean_squared_error: 2.6683\n",
      "Epoch 58/64\n",
      "33/33 [==============================] - 0s 8ms/step - loss: 0.9747 - mean_squared_error: 1.6508 - val_loss: 1.3944 - val_mean_squared_error: 2.6419\n",
      "Epoch 59/64\n",
      "33/33 [==============================] - 0s 5ms/step - loss: 0.9702 - mean_squared_error: 1.6438 - val_loss: 1.3936 - val_mean_squared_error: 2.6290\n",
      "Epoch 60/64\n",
      "33/33 [==============================] - 0s 7ms/step - loss: 0.9657 - mean_squared_error: 1.6299 - val_loss: 1.3900 - val_mean_squared_error: 2.6261\n",
      "Epoch 61/64\n",
      "33/33 [==============================] - 0s 6ms/step - loss: 0.9703 - mean_squared_error: 1.6416 - val_loss: 1.4021 - val_mean_squared_error: 2.6638\n",
      "Epoch 62/64\n",
      "33/33 [==============================] - 0s 6ms/step - loss: 0.9595 - mean_squared_error: 1.6208 - val_loss: 1.4081 - val_mean_squared_error: 2.6789\n",
      "Epoch 63/64\n",
      "33/33 [==============================] - 0s 8ms/step - loss: 0.9600 - mean_squared_error: 1.6211 - val_loss: 1.3947 - val_mean_squared_error: 2.6402\n",
      "Epoch 64/64\n",
      "33/33 [==============================] - 0s 8ms/step - loss: 0.9528 - mean_squared_error: 1.6132 - val_loss: 1.4003 - val_mean_squared_error: 2.6495\n"
     ]
    },
    {
     "data": {
      "image/png": "[encoded data removed]",
      "text/plain": [
       "<Figure size 576x576 with 2 Axes>"
      ]
     },
     "metadata": {
      "needs_background": "light"
     },
     "output_type": "display_data"
    },
    {
     "name": "stdout",
     "output_type": "stream",
     "text": [
      "16/16 [==============================] - 0s 2ms/step\n",
      "Correlación de Pearson: 0.27898310913701463\n"
     ]
    }
   ],
   "source": [
    "model = create_and_train_and_evaluate_model(mapped, mapped_val, embedding_size=300)"
   ]
  },
  {
   "cell_type": "markdown",
   "metadata": {
    "collapsed": false,
    "id": "SkeQ57oO8m72"
   },
   "source": [
    "#### 4.RoBERTa"
   ]
  },
  {
   "cell_type": "markdown",
   "metadata": {
    "collapsed": false,
    "id": "CBGLTSu28m73"
   },
   "source": [
    "##### 4.1.CLS"
   ]
  },
  {
   "cell_type": "code",
   "execution_count": 75,
   "metadata": {
    "id": "GjFoNCWB8m73"
   },
   "outputs": [],
   "source": [
    "# (Amb spaCy, doc._.trf_data.tensors[-1])\n",
    "mapped = map_pairs(input_pairs, RobertA=True, dictionary=diccionario )\n",
    "mapped_val = map_pairs(input_pairs_val, RobertA=True, dictionary=diccionario)"
   ]
  },
  {
   "cell_type": "code",
   "execution_count": 76,
   "metadata": {
    "id": "ClT4pyhg8m73"
   },
   "outputs": [
    {
     "name": "stdout",
     "output_type": "stream",
     "text": [
      "Model: \"model_27\"\n",
      "__________________________________________________________________________________________________\n",
      " Layer (type)                   Output Shape         Param #     Connected to                     \n",
      "==================================================================================================\n",
      " input_55 (InputLayer)          [(None, 768)]        0           []                               \n",
      "                                                                                                  \n",
      " input_56 (InputLayer)          [(None, 768)]        0           []                               \n",
      "                                                                                                  \n",
      " dense_21 (Dense)               (None, 768)          590592      ['input_55[0][0]',               \n",
      "                                                                  'input_56[0][0]']               \n",
      "                                                                                                  \n",
      " tf.math.l2_normalize_54 (TFOpL  (None, 768)         0           ['dense_21[0][0]']               \n",
      " ambda)                                                                                           \n",
      "                                                                                                  \n",
      " tf.math.l2_normalize_55 (TFOpL  (None, 768)         0           ['dense_21[1][0]']               \n",
      " ambda)                                                                                           \n",
      "                                                                                                  \n",
      " tf.math.multiply_54 (TFOpLambd  (None, 768)         0           ['tf.math.l2_normalize_54[0][0]',\n",
      " a)                                                               'tf.math.l2_normalize_55[0][0]']\n",
      "                                                                                                  \n",
      " tf.math.reduce_sum_27 (TFOpLam  (None,)             0           ['tf.math.multiply_54[0][0]']    \n",
      " bda)                                                                                             \n",
      "                                                                                                  \n",
      " tf.__operators__.add_27 (TFOpL  (None,)             0           ['tf.math.reduce_sum_27[0][0]']  \n",
      " ambda)                                                                                           \n",
      "                                                                                                  \n",
      " tf.math.multiply_55 (TFOpLambd  (None,)             0           ['tf.__operators__.add_27[0][0]']\n",
      " a)                                                                                               \n",
      "                                                                                                  \n",
      "==================================================================================================\n",
      "Total params: 590,592\n",
      "Trainable params: 590,592\n",
      "Non-trainable params: 0\n",
      "__________________________________________________________________________________________________\n",
      "None\n",
      "Epoch 1/64\n",
      "33/33 [==============================] - 3s 19ms/step - loss: 1.5080 - mean_squared_error: 3.0656 - val_loss: 1.2705 - val_mean_squared_error: 2.3219\n",
      "Epoch 2/64\n",
      "33/33 [==============================] - 0s 11ms/step - loss: 1.2948 - mean_squared_error: 2.3824 - val_loss: 1.2586 - val_mean_squared_error: 2.2980\n",
      "Epoch 3/64\n",
      "33/33 [==============================] - 0s 9ms/step - loss: 1.2440 - mean_squared_error: 2.2333 - val_loss: 1.2085 - val_mean_squared_error: 2.1392\n",
      "Epoch 4/64\n",
      "33/33 [==============================] - 0s 10ms/step - loss: 1.1839 - mean_squared_error: 2.0671 - val_loss: 1.1955 - val_mean_squared_error: 2.0722\n",
      "Epoch 5/64\n",
      "33/33 [==============================] - 0s 9ms/step - loss: 1.1480 - mean_squared_error: 1.9607 - val_loss: 1.2192 - val_mean_squared_error: 2.1241\n",
      "Epoch 6/64\n",
      "33/33 [==============================] - 0s 10ms/step - loss: 1.1201 - mean_squared_error: 1.8888 - val_loss: 1.1864 - val_mean_squared_error: 2.0223\n",
      "Epoch 7/64\n",
      "33/33 [==============================] - 0s 9ms/step - loss: 1.0852 - mean_squared_error: 1.7975 - val_loss: 1.2163 - val_mean_squared_error: 2.1070\n",
      "Epoch 8/64\n",
      "33/33 [==============================] - 0s 9ms/step - loss: 1.0843 - mean_squared_error: 1.7961 - val_loss: 1.1466 - val_mean_squared_error: 1.9025\n",
      "Epoch 9/64\n",
      "33/33 [==============================] - 0s 9ms/step - loss: 1.0563 - mean_squared_error: 1.7319 - val_loss: 1.2118 - val_mean_squared_error: 2.1000\n",
      "Epoch 10/64\n",
      "33/33 [==============================] - 0s 10ms/step - loss: 1.0499 - mean_squared_error: 1.7200 - val_loss: 1.1828 - val_mean_squared_error: 2.0044\n",
      "Epoch 11/64\n",
      "33/33 [==============================] - 0s 9ms/step - loss: 1.0319 - mean_squared_error: 1.6731 - val_loss: 1.1801 - val_mean_squared_error: 2.0025\n",
      "Epoch 12/64\n",
      "33/33 [==============================] - 0s 11ms/step - loss: 1.0183 - mean_squared_error: 1.6409 - val_loss: 1.1795 - val_mean_squared_error: 2.0083\n",
      "Epoch 13/64\n",
      "33/33 [==============================] - 0s 9ms/step - loss: 1.0062 - mean_squared_error: 1.6185 - val_loss: 1.1759 - val_mean_squared_error: 1.9788\n",
      "Epoch 14/64\n",
      "33/33 [==============================] - 0s 9ms/step - loss: 0.9932 - mean_squared_error: 1.5762 - val_loss: 1.1445 - val_mean_squared_error: 1.8868\n",
      "Epoch 15/64\n",
      "33/33 [==============================] - 0s 9ms/step - loss: 0.9761 - mean_squared_error: 1.5331 - val_loss: 1.1370 - val_mean_squared_error: 1.8867\n",
      "Epoch 16/64\n",
      "33/33 [==============================] - 0s 9ms/step - loss: 0.9686 - mean_squared_error: 1.5187 - val_loss: 1.1375 - val_mean_squared_error: 1.8640\n",
      "Epoch 17/64\n",
      "33/33 [==============================] - 0s 10ms/step - loss: 0.9626 - mean_squared_error: 1.5006 - val_loss: 1.1360 - val_mean_squared_error: 1.8687\n",
      "Epoch 18/64\n",
      "33/33 [==============================] - 0s 9ms/step - loss: 0.9501 - mean_squared_error: 1.4813 - val_loss: 1.1397 - val_mean_squared_error: 1.8856\n",
      "Epoch 19/64\n",
      "33/33 [==============================] - 0s 9ms/step - loss: 0.9310 - mean_squared_error: 1.4358 - val_loss: 1.1184 - val_mean_squared_error: 1.8086\n",
      "Epoch 20/64\n",
      "33/33 [==============================] - 0s 10ms/step - loss: 0.9120 - mean_squared_error: 1.3978 - val_loss: 1.1129 - val_mean_squared_error: 1.7896\n",
      "Epoch 21/64\n",
      "33/33 [==============================] - 0s 10ms/step - loss: 0.9037 - mean_squared_error: 1.3758 - val_loss: 1.1352 - val_mean_squared_error: 1.8536\n",
      "Epoch 22/64\n",
      "33/33 [==============================] - 0s 10ms/step - loss: 0.9088 - mean_squared_error: 1.3880 - val_loss: 1.1214 - val_mean_squared_error: 1.8288\n",
      "Epoch 23/64\n",
      "33/33 [==============================] - 0s 10ms/step - loss: 0.9023 - mean_squared_error: 1.3762 - val_loss: 1.1110 - val_mean_squared_error: 1.7957\n",
      "Epoch 24/64\n",
      "33/33 [==============================] - 0s 10ms/step - loss: 0.8852 - mean_squared_error: 1.3424 - val_loss: 1.1079 - val_mean_squared_error: 1.7857\n",
      "Epoch 25/64\n",
      "33/33 [==============================] - 0s 9ms/step - loss: 0.8706 - mean_squared_error: 1.3105 - val_loss: 1.0991 - val_mean_squared_error: 1.7660\n",
      "Epoch 26/64\n",
      "33/33 [==============================] - 0s 10ms/step - loss: 0.8725 - mean_squared_error: 1.3158 - val_loss: 1.1197 - val_mean_squared_error: 1.8188\n",
      "Epoch 27/64\n",
      "33/33 [==============================] - 0s 10ms/step - loss: 0.8570 - mean_squared_error: 1.2825 - val_loss: 1.1060 - val_mean_squared_error: 1.7763\n",
      "Epoch 28/64\n",
      "33/33 [==============================] - 0s 10ms/step - loss: 0.8564 - mean_squared_error: 1.2836 - val_loss: 1.0982 - val_mean_squared_error: 1.7378\n",
      "Epoch 29/64\n",
      "33/33 [==============================] - 0s 11ms/step - loss: 0.8519 - mean_squared_error: 1.2744 - val_loss: 1.0904 - val_mean_squared_error: 1.7287\n",
      "Epoch 30/64\n",
      "33/33 [==============================] - 0s 9ms/step - loss: 0.8490 - mean_squared_error: 1.2659 - val_loss: 1.0850 - val_mean_squared_error: 1.7266\n",
      "Epoch 31/64\n",
      "33/33 [==============================] - 0s 10ms/step - loss: 0.8411 - mean_squared_error: 1.2527 - val_loss: 1.1281 - val_mean_squared_error: 1.8363\n",
      "Epoch 32/64\n",
      "33/33 [==============================] - 0s 9ms/step - loss: 0.8387 - mean_squared_error: 1.2457 - val_loss: 1.1217 - val_mean_squared_error: 1.8075\n",
      "Epoch 33/64\n",
      "33/33 [==============================] - 0s 9ms/step - loss: 0.8286 - mean_squared_error: 1.2270 - val_loss: 1.1243 - val_mean_squared_error: 1.8276\n",
      "Epoch 34/64\n",
      "33/33 [==============================] - 0s 10ms/step - loss: 0.8295 - mean_squared_error: 1.2248 - val_loss: 1.0979 - val_mean_squared_error: 1.7528\n",
      "Epoch 35/64\n",
      "33/33 [==============================] - 0s 9ms/step - loss: 0.8397 - mean_squared_error: 1.2436 - val_loss: 1.1291 - val_mean_squared_error: 1.8405\n",
      "Epoch 36/64\n",
      "33/33 [==============================] - 0s 9ms/step - loss: 0.8287 - mean_squared_error: 1.2203 - val_loss: 1.0893 - val_mean_squared_error: 1.7210\n",
      "Epoch 37/64\n",
      "33/33 [==============================] - 0s 11ms/step - loss: 0.8135 - mean_squared_error: 1.1974 - val_loss: 1.0917 - val_mean_squared_error: 1.7331\n",
      "Epoch 38/64\n",
      "33/33 [==============================] - 0s 9ms/step - loss: 0.8173 - mean_squared_error: 1.2070 - val_loss: 1.1139 - val_mean_squared_error: 1.7906\n",
      "Epoch 39/64\n",
      "33/33 [==============================] - 0s 9ms/step - loss: 0.8213 - mean_squared_error: 1.2129 - val_loss: 1.1324 - val_mean_squared_error: 1.8441\n",
      "Epoch 40/64\n",
      "33/33 [==============================] - 0s 10ms/step - loss: 0.8133 - mean_squared_error: 1.1933 - val_loss: 1.1411 - val_mean_squared_error: 1.8625\n",
      "Epoch 41/64\n",
      "33/33 [==============================] - 0s 9ms/step - loss: 0.8311 - mean_squared_error: 1.2226 - val_loss: 1.1073 - val_mean_squared_error: 1.7797\n",
      "Epoch 42/64\n",
      "33/33 [==============================] - 0s 9ms/step - loss: 0.8158 - mean_squared_error: 1.2002 - val_loss: 1.1045 - val_mean_squared_error: 1.7760\n",
      "Epoch 43/64\n",
      "33/33 [==============================] - 0s 9ms/step - loss: 0.8038 - mean_squared_error: 1.1794 - val_loss: 1.1159 - val_mean_squared_error: 1.8047\n",
      "Epoch 44/64\n",
      "33/33 [==============================] - 0s 9ms/step - loss: 0.8057 - mean_squared_error: 1.1874 - val_loss: 1.1063 - val_mean_squared_error: 1.7816\n",
      "Epoch 45/64\n",
      "33/33 [==============================] - 0s 10ms/step - loss: 0.8096 - mean_squared_error: 1.1905 - val_loss: 1.1109 - val_mean_squared_error: 1.7892\n",
      "Epoch 46/64\n",
      "33/33 [==============================] - 0s 9ms/step - loss: 0.8094 - mean_squared_error: 1.1910 - val_loss: 1.1016 - val_mean_squared_error: 1.7626\n",
      "Epoch 47/64\n",
      "33/33 [==============================] - 0s 9ms/step - loss: 0.8158 - mean_squared_error: 1.1940 - val_loss: 1.1169 - val_mean_squared_error: 1.8074\n",
      "Epoch 48/64\n",
      "33/33 [==============================] - 0s 9ms/step - loss: 0.8270 - mean_squared_error: 1.2159 - val_loss: 1.1257 - val_mean_squared_error: 1.8318\n",
      "Epoch 49/64\n",
      "33/33 [==============================] - 0s 9ms/step - loss: 0.8198 - mean_squared_error: 1.1976 - val_loss: 1.0872 - val_mean_squared_error: 1.7284\n",
      "Epoch 50/64\n",
      "33/33 [==============================] - 0s 10ms/step - loss: 0.7950 - mean_squared_error: 1.1512 - val_loss: 1.0879 - val_mean_squared_error: 1.7288\n",
      "Epoch 51/64\n",
      "33/33 [==============================] - 0s 9ms/step - loss: 0.7837 - mean_squared_error: 1.1279 - val_loss: 1.0644 - val_mean_squared_error: 1.6851\n",
      "Epoch 52/64\n",
      "33/33 [==============================] - 0s 9ms/step - loss: 0.7872 - mean_squared_error: 1.1310 - val_loss: 1.0634 - val_mean_squared_error: 1.6726\n",
      "Epoch 53/64\n",
      "33/33 [==============================] - 0s 9ms/step - loss: 0.7754 - mean_squared_error: 1.1081 - val_loss: 1.0603 - val_mean_squared_error: 1.6696\n",
      "Epoch 54/64\n",
      "33/33 [==============================] - 0s 9ms/step - loss: 0.7656 - mean_squared_error: 1.0857 - val_loss: 1.0548 - val_mean_squared_error: 1.6489\n",
      "Epoch 55/64\n",
      "33/33 [==============================] - 0s 9ms/step - loss: 0.7438 - mean_squared_error: 1.0417 - val_loss: 1.0516 - val_mean_squared_error: 1.6544\n",
      "Epoch 56/64\n",
      "33/33 [==============================] - 0s 10ms/step - loss: 0.7463 - mean_squared_error: 1.0441 - val_loss: 1.0538 - val_mean_squared_error: 1.6542\n",
      "Epoch 57/64\n",
      "33/33 [==============================] - 0s 10ms/step - loss: 0.7291 - mean_squared_error: 1.0213 - val_loss: 1.0692 - val_mean_squared_error: 1.6870\n",
      "Epoch 58/64\n",
      "33/33 [==============================] - 0s 9ms/step - loss: 0.7244 - mean_squared_error: 1.0081 - val_loss: 1.0467 - val_mean_squared_error: 1.6314\n",
      "Epoch 59/64\n",
      "33/33 [==============================] - 0s 9ms/step - loss: 0.7234 - mean_squared_error: 1.0055 - val_loss: 1.0887 - val_mean_squared_error: 1.7355\n",
      "Epoch 60/64\n",
      "33/33 [==============================] - 0s 11ms/step - loss: 0.7360 - mean_squared_error: 1.0186 - val_loss: 1.0471 - val_mean_squared_error: 1.6367\n",
      "Epoch 61/64\n",
      "33/33 [==============================] - 0s 9ms/step - loss: 0.7065 - mean_squared_error: 0.9809 - val_loss: 1.0623 - val_mean_squared_error: 1.6687\n",
      "Epoch 62/64\n",
      "33/33 [==============================] - 0s 9ms/step - loss: 0.6993 - mean_squared_error: 0.9615 - val_loss: 1.0564 - val_mean_squared_error: 1.6543\n",
      "Epoch 63/64\n",
      "33/33 [==============================] - 0s 9ms/step - loss: 0.6995 - mean_squared_error: 0.9635 - val_loss: 1.0493 - val_mean_squared_error: 1.6332\n",
      "Epoch 64/64\n",
      "33/33 [==============================] - 0s 9ms/step - loss: 0.6930 - mean_squared_error: 0.9486 - val_loss: 1.0511 - val_mean_squared_error: 1.6416\n"
     ]
    },
    {
     "data": {
      "image/png": "[encoded data removed]",
      "text/plain": [
       "<Figure size 576x576 with 2 Axes>"
      ]
     },
     "metadata": {
      "needs_background": "light"
     },
     "output_type": "display_data"
    },
    {
     "name": "stdout",
     "output_type": "stream",
     "text": [
      "16/16 [==============================] - 0s 5ms/step\n",
      "Correlación de Pearson: 0.21085842253443662\n"
     ]
    }
   ],
   "source": [
    "model = create_and_train_and_evaluate_model(mapped, mapped_val, embedding_size=768)"
   ]
  },
  {
   "cell_type": "markdown",
   "metadata": {
    "collapsed": false,
    "id": "d5qL6zGN8m73"
   },
   "source": [
    "##### 4.2.MEAN"
   ]
  },
  {
   "cell_type": "code",
   "execution_count": 80,
   "metadata": {
    "id": "aCxEI7aH8m73"
   },
   "outputs": [],
   "source": [
    "# (Amb spaCy, doc._.trf_data.tensors[-1])\n",
    "mapped = map_pairs(input_pairs, RobertA_Mean=True, dictionary=diccionario )\n",
    "mapped_val = map_pairs(input_pairs_val, RobertA_Mean=True, dictionary=diccionario)"
   ]
  },
  {
   "cell_type": "code",
   "execution_count": 81,
   "metadata": {
    "id": "AaDmE7D88m73"
   },
   "outputs": [
    {
     "name": "stdout",
     "output_type": "stream",
     "text": [
      "Model: \"model_29\"\n",
      "__________________________________________________________________________________________________\n",
      " Layer (type)                   Output Shape         Param #     Connected to                     \n",
      "==================================================================================================\n",
      " input_59 (InputLayer)          [(None, 768)]        0           []                               \n",
      "                                                                                                  \n",
      " input_60 (InputLayer)          [(None, 768)]        0           []                               \n",
      "                                                                                                  \n",
      " dense_23 (Dense)               (None, 768)          590592      ['input_59[0][0]',               \n",
      "                                                                  'input_60[0][0]']               \n",
      "                                                                                                  \n",
      " tf.math.l2_normalize_58 (TFOpL  (None, 768)         0           ['dense_23[0][0]']               \n",
      " ambda)                                                                                           \n",
      "                                                                                                  \n",
      " tf.math.l2_normalize_59 (TFOpL  (None, 768)         0           ['dense_23[1][0]']               \n",
      " ambda)                                                                                           \n",
      "                                                                                                  \n",
      " tf.math.multiply_58 (TFOpLambd  (None, 768)         0           ['tf.math.l2_normalize_58[0][0]',\n",
      " a)                                                               'tf.math.l2_normalize_59[0][0]']\n",
      "                                                                                                  \n",
      " tf.math.reduce_sum_29 (TFOpLam  (None,)             0           ['tf.math.multiply_58[0][0]']    \n",
      " bda)                                                                                             \n",
      "                                                                                                  \n",
      " tf.__operators__.add_29 (TFOpL  (None,)             0           ['tf.math.reduce_sum_29[0][0]']  \n",
      " ambda)                                                                                           \n",
      "                                                                                                  \n",
      " tf.math.multiply_59 (TFOpLambd  (None,)             0           ['tf.__operators__.add_29[0][0]']\n",
      " a)                                                                                               \n",
      "                                                                                                  \n",
      "==================================================================================================\n",
      "Total params: 590,592\n",
      "Trainable params: 590,592\n",
      "Non-trainable params: 0\n",
      "__________________________________________________________________________________________________\n",
      "None\n",
      "Epoch 1/64\n",
      "33/33 [==============================] - 1s 15ms/step - loss: 1.5120 - mean_squared_error: 3.0757 - val_loss: 1.2715 - val_mean_squared_error: 2.3319\n",
      "Epoch 2/64\n",
      "33/33 [==============================] - 0s 10ms/step - loss: 1.2956 - mean_squared_error: 2.3884 - val_loss: 1.2594 - val_mean_squared_error: 2.2939\n",
      "Epoch 3/64\n",
      "33/33 [==============================] - 0s 12ms/step - loss: 1.2377 - mean_squared_error: 2.2234 - val_loss: 1.2025 - val_mean_squared_error: 2.1185\n",
      "Epoch 4/64\n",
      "33/33 [==============================] - 0s 10ms/step - loss: 1.1893 - mean_squared_error: 2.0711 - val_loss: 1.2230 - val_mean_squared_error: 2.1392\n",
      "Epoch 5/64\n",
      "33/33 [==============================] - 0s 10ms/step - loss: 1.1534 - mean_squared_error: 1.9839 - val_loss: 1.2027 - val_mean_squared_error: 2.0842\n",
      "Epoch 6/64\n",
      "33/33 [==============================] - 0s 10ms/step - loss: 1.1120 - mean_squared_error: 1.8776 - val_loss: 1.2286 - val_mean_squared_error: 2.1509\n",
      "Epoch 7/64\n",
      "33/33 [==============================] - 0s 11ms/step - loss: 1.0988 - mean_squared_error: 1.8337 - val_loss: 1.2082 - val_mean_squared_error: 2.0715\n",
      "Epoch 8/64\n",
      "33/33 [==============================] - 0s 10ms/step - loss: 1.0749 - mean_squared_error: 1.7766 - val_loss: 1.1952 - val_mean_squared_error: 2.0470\n",
      "Epoch 9/64\n",
      "33/33 [==============================] - 0s 9ms/step - loss: 1.0557 - mean_squared_error: 1.7300 - val_loss: 1.1932 - val_mean_squared_error: 2.0303\n",
      "Epoch 10/64\n",
      "33/33 [==============================] - 0s 10ms/step - loss: 1.0438 - mean_squared_error: 1.7063 - val_loss: 1.1604 - val_mean_squared_error: 1.9474\n",
      "Epoch 11/64\n",
      "33/33 [==============================] - 0s 10ms/step - loss: 1.0298 - mean_squared_error: 1.6607 - val_loss: 1.1990 - val_mean_squared_error: 2.0578\n",
      "Epoch 12/64\n",
      "33/33 [==============================] - 0s 9ms/step - loss: 1.0117 - mean_squared_error: 1.6188 - val_loss: 1.1724 - val_mean_squared_error: 1.9749\n",
      "Epoch 13/64\n",
      "33/33 [==============================] - 0s 9ms/step - loss: 0.9925 - mean_squared_error: 1.5790 - val_loss: 1.1508 - val_mean_squared_error: 1.9150\n",
      "Epoch 14/64\n",
      "33/33 [==============================] - 0s 9ms/step - loss: 0.9722 - mean_squared_error: 1.5364 - val_loss: 1.1441 - val_mean_squared_error: 1.9029\n",
      "Epoch 15/64\n",
      "33/33 [==============================] - 0s 10ms/step - loss: 0.9717 - mean_squared_error: 1.5304 - val_loss: 1.1966 - val_mean_squared_error: 2.0478\n",
      "Epoch 16/64\n",
      "33/33 [==============================] - 0s 9ms/step - loss: 0.9743 - mean_squared_error: 1.5401 - val_loss: 1.1419 - val_mean_squared_error: 1.8761\n",
      "Epoch 17/64\n",
      "33/33 [==============================] - 0s 10ms/step - loss: 0.9355 - mean_squared_error: 1.4523 - val_loss: 1.1371 - val_mean_squared_error: 1.8573\n",
      "Epoch 18/64\n",
      "33/33 [==============================] - 0s 9ms/step - loss: 0.9445 - mean_squared_error: 1.4601 - val_loss: 1.1381 - val_mean_squared_error: 1.8687\n",
      "Epoch 19/64\n",
      "33/33 [==============================] - 0s 9ms/step - loss: 0.9171 - mean_squared_error: 1.4110 - val_loss: 1.1298 - val_mean_squared_error: 1.8344\n",
      "Epoch 20/64\n",
      "33/33 [==============================] - 0s 10ms/step - loss: 0.9057 - mean_squared_error: 1.3829 - val_loss: 1.1148 - val_mean_squared_error: 1.8061\n",
      "Epoch 21/64\n",
      "33/33 [==============================] - 0s 9ms/step - loss: 0.8919 - mean_squared_error: 1.3501 - val_loss: 1.0973 - val_mean_squared_error: 1.7524\n",
      "Epoch 22/64\n",
      "33/33 [==============================] - 0s 9ms/step - loss: 0.8899 - mean_squared_error: 1.3446 - val_loss: 1.1084 - val_mean_squared_error: 1.7931\n",
      "Epoch 23/64\n",
      "33/33 [==============================] - 0s 11ms/step - loss: 0.8849 - mean_squared_error: 1.3348 - val_loss: 1.1258 - val_mean_squared_error: 1.8269\n",
      "Epoch 24/64\n",
      "33/33 [==============================] - 0s 9ms/step - loss: 0.8855 - mean_squared_error: 1.3333 - val_loss: 1.1231 - val_mean_squared_error: 1.8338\n",
      "Epoch 25/64\n",
      "33/33 [==============================] - 0s 9ms/step - loss: 0.8616 - mean_squared_error: 1.2913 - val_loss: 1.1111 - val_mean_squared_error: 1.7901\n",
      "Epoch 26/64\n",
      "33/33 [==============================] - 0s 9ms/step - loss: 0.8715 - mean_squared_error: 1.3068 - val_loss: 1.1006 - val_mean_squared_error: 1.7549\n",
      "Epoch 27/64\n",
      "33/33 [==============================] - 0s 10ms/step - loss: 0.8694 - mean_squared_error: 1.3050 - val_loss: 1.1083 - val_mean_squared_error: 1.7806\n",
      "Epoch 28/64\n",
      "33/33 [==============================] - 0s 9ms/step - loss: 0.8563 - mean_squared_error: 1.2782 - val_loss: 1.1105 - val_mean_squared_error: 1.7861\n",
      "Epoch 29/64\n",
      "33/33 [==============================] - 0s 11ms/step - loss: 0.8645 - mean_squared_error: 1.2853 - val_loss: 1.1339 - val_mean_squared_error: 1.8456\n",
      "Epoch 30/64\n",
      "33/33 [==============================] - 0s 11ms/step - loss: 0.8559 - mean_squared_error: 1.2688 - val_loss: 1.1005 - val_mean_squared_error: 1.7394\n",
      "Epoch 31/64\n",
      "33/33 [==============================] - 0s 10ms/step - loss: 0.8346 - mean_squared_error: 1.2288 - val_loss: 1.1066 - val_mean_squared_error: 1.7725\n",
      "Epoch 32/64\n",
      "33/33 [==============================] - 0s 9ms/step - loss: 0.8220 - mean_squared_error: 1.2091 - val_loss: 1.0890 - val_mean_squared_error: 1.7333\n",
      "Epoch 33/64\n",
      "33/33 [==============================] - 0s 10ms/step - loss: 0.8114 - mean_squared_error: 1.1918 - val_loss: 1.1221 - val_mean_squared_error: 1.8238\n",
      "Epoch 34/64\n",
      "33/33 [==============================] - 0s 10ms/step - loss: 0.8126 - mean_squared_error: 1.1886 - val_loss: 1.0882 - val_mean_squared_error: 1.7267\n",
      "Epoch 35/64\n",
      "33/33 [==============================] - 0s 9ms/step - loss: 0.8152 - mean_squared_error: 1.1882 - val_loss: 1.1350 - val_mean_squared_error: 1.8469\n",
      "Epoch 36/64\n",
      "33/33 [==============================] - 0s 10ms/step - loss: 0.8194 - mean_squared_error: 1.2007 - val_loss: 1.1175 - val_mean_squared_error: 1.8035\n",
      "Epoch 37/64\n",
      "33/33 [==============================] - 0s 10ms/step - loss: 0.8055 - mean_squared_error: 1.1737 - val_loss: 1.1181 - val_mean_squared_error: 1.7967\n",
      "Epoch 38/64\n",
      "33/33 [==============================] - 0s 10ms/step - loss: 0.8199 - mean_squared_error: 1.1975 - val_loss: 1.0835 - val_mean_squared_error: 1.7283\n",
      "Epoch 39/64\n",
      "33/33 [==============================] - 0s 9ms/step - loss: 0.8235 - mean_squared_error: 1.2117 - val_loss: 1.0726 - val_mean_squared_error: 1.6818\n",
      "Epoch 40/64\n",
      "33/33 [==============================] - 0s 10ms/step - loss: 0.7999 - mean_squared_error: 1.1662 - val_loss: 1.1210 - val_mean_squared_error: 1.8139\n",
      "Epoch 41/64\n",
      "33/33 [==============================] - 0s 10ms/step - loss: 0.8035 - mean_squared_error: 1.1735 - val_loss: 1.0902 - val_mean_squared_error: 1.7251\n",
      "Epoch 42/64\n",
      "33/33 [==============================] - 0s 10ms/step - loss: 0.8048 - mean_squared_error: 1.1718 - val_loss: 1.0895 - val_mean_squared_error: 1.7233\n",
      "Epoch 43/64\n",
      "33/33 [==============================] - 0s 9ms/step - loss: 0.7989 - mean_squared_error: 1.1642 - val_loss: 1.0950 - val_mean_squared_error: 1.7438\n",
      "Epoch 44/64\n",
      "33/33 [==============================] - 0s 10ms/step - loss: 0.7895 - mean_squared_error: 1.1540 - val_loss: 1.1045 - val_mean_squared_error: 1.7731\n",
      "Epoch 45/64\n",
      "33/33 [==============================] - 0s 10ms/step - loss: 0.7982 - mean_squared_error: 1.1657 - val_loss: 1.1306 - val_mean_squared_error: 1.8412\n",
      "Epoch 46/64\n",
      "33/33 [==============================] - 0s 10ms/step - loss: 0.8065 - mean_squared_error: 1.1750 - val_loss: 1.1185 - val_mean_squared_error: 1.8069\n",
      "Epoch 47/64\n",
      "33/33 [==============================] - 0s 9ms/step - loss: 0.8066 - mean_squared_error: 1.1796 - val_loss: 1.1278 - val_mean_squared_error: 1.8351\n",
      "Epoch 48/64\n",
      "33/33 [==============================] - 0s 9ms/step - loss: 0.8145 - mean_squared_error: 1.1914 - val_loss: 1.1051 - val_mean_squared_error: 1.7842\n",
      "Epoch 49/64\n",
      "33/33 [==============================] - 0s 10ms/step - loss: 0.8097 - mean_squared_error: 1.1810 - val_loss: 1.1149 - val_mean_squared_error: 1.8010\n",
      "Epoch 50/64\n",
      "33/33 [==============================] - 0s 10ms/step - loss: 0.8116 - mean_squared_error: 1.1865 - val_loss: 1.1033 - val_mean_squared_error: 1.7764\n",
      "Epoch 51/64\n",
      "33/33 [==============================] - 0s 9ms/step - loss: 0.8126 - mean_squared_error: 1.1834 - val_loss: 1.0951 - val_mean_squared_error: 1.7454\n",
      "Epoch 52/64\n",
      "33/33 [==============================] - 0s 9ms/step - loss: 0.7900 - mean_squared_error: 1.1415 - val_loss: 1.0879 - val_mean_squared_error: 1.7335\n",
      "Epoch 53/64\n",
      "33/33 [==============================] - 0s 9ms/step - loss: 0.7915 - mean_squared_error: 1.1448 - val_loss: 1.0844 - val_mean_squared_error: 1.7358\n",
      "Epoch 54/64\n",
      "33/33 [==============================] - 0s 11ms/step - loss: 0.7848 - mean_squared_error: 1.1319 - val_loss: 1.0752 - val_mean_squared_error: 1.7134\n",
      "Epoch 55/64\n",
      "33/33 [==============================] - 0s 10ms/step - loss: 0.7684 - mean_squared_error: 1.0973 - val_loss: 1.0909 - val_mean_squared_error: 1.7518\n",
      "Epoch 56/64\n",
      "33/33 [==============================] - 0s 9ms/step - loss: 0.7755 - mean_squared_error: 1.1039 - val_loss: 1.1081 - val_mean_squared_error: 1.8116\n",
      "Epoch 57/64\n",
      "33/33 [==============================] - 0s 10ms/step - loss: 0.7757 - mean_squared_error: 1.1031 - val_loss: 1.0870 - val_mean_squared_error: 1.7670\n",
      "Epoch 58/64\n",
      "33/33 [==============================] - 0s 9ms/step - loss: 0.7635 - mean_squared_error: 1.0836 - val_loss: 1.0937 - val_mean_squared_error: 1.7654\n",
      "Epoch 59/64\n",
      "33/33 [==============================] - 0s 9ms/step - loss: 0.7614 - mean_squared_error: 1.0789 - val_loss: 1.0756 - val_mean_squared_error: 1.7191\n",
      "Epoch 60/64\n",
      "33/33 [==============================] - 0s 10ms/step - loss: 0.7449 - mean_squared_error: 1.0410 - val_loss: 1.0738 - val_mean_squared_error: 1.7114\n",
      "Epoch 61/64\n",
      "33/33 [==============================] - 0s 10ms/step - loss: 0.7393 - mean_squared_error: 1.0366 - val_loss: 1.0870 - val_mean_squared_error: 1.7410\n",
      "Epoch 62/64\n",
      "33/33 [==============================] - 0s 9ms/step - loss: 0.7333 - mean_squared_error: 1.0330 - val_loss: 1.0816 - val_mean_squared_error: 1.7334\n",
      "Epoch 63/64\n",
      "33/33 [==============================] - 0s 9ms/step - loss: 0.7271 - mean_squared_error: 1.0120 - val_loss: 1.0870 - val_mean_squared_error: 1.7449\n",
      "Epoch 64/64\n",
      "33/33 [==============================] - 0s 9ms/step - loss: 0.7340 - mean_squared_error: 1.0247 - val_loss: 1.0758 - val_mean_squared_error: 1.7070\n"
     ]
    },
    {
     "data": {
      "image/png": "[encoded data removed]",
      "text/plain": [
       "<Figure size 576x576 with 2 Axes>"
      ]
     },
     "metadata": {
      "needs_background": "light"
     },
     "output_type": "display_data"
    },
    {
     "name": "stdout",
     "output_type": "stream",
     "text": [
      "16/16 [==============================] - 0s 3ms/step\n",
      "Correlación de Pearson: 0.2195821902305396\n"
     ]
    }
   ],
   "source": [
    "model = create_and_train_and_evaluate_model(mapped, mapped_val,embedding_size=768)"
   ]
  },
  {
   "cell_type": "markdown",
   "metadata": {
    "collapsed": false,
    "id": "9GYDsChM8m73"
   },
   "source": [
    "#### 5.RoBERTa FineTuned"
   ]
  },
  {
   "cell_type": "code",
   "execution_count": 5,
   "metadata": {},
   "outputs": [
    {
     "data": {
      "application/vnd.jupyter.widget-view+json": {
       "model_id": "bcd77287882f486ca5fbaa663c3706f4",
       "version_major": 2,
       "version_minor": 0
      },
      "text/plain": [
       "Downloading (…)okenizer_config.json:   0%|          | 0.00/1.13k [00:00<?, ?B/s]"
      ]
     },
     "metadata": {},
     "output_type": "display_data"
    },
    {
     "name": "stderr",
     "output_type": "stream",
     "text": [
      "C:\\Users\\pelot\\AppData\\Local\\Packages\\PythonSoftwareFoundation.Python.3.7_qbz5n2kfra8p0\\LocalCache\\local-packages\\Python37\\site-packages\\huggingface_hub\\file_download.py:133: UserWarning: `huggingface_hub` cache-system uses symlinks by default to efficiently store duplicated files but your machine does not support them in C:\\Users\\pelot\\.cache\\huggingface\\hub. Caching files will still work but in a degraded version that might require more space on your disk. This warning can be disabled by setting the `HF_HUB_DISABLE_SYMLINKS_WARNING` environment variable. For more details, see https://huggingface.co/docs/huggingface_hub/how-to-cache#limitations.\n",
      "To support symlinks on Windows, you either need to activate Developer Mode or to run Python as an administrator. In order to see activate developer mode, see this article: https://docs.microsoft.com/en-us/windows/apps/get-started/enable-your-device-for-development\n",
      "  warnings.warn(message)\n"
     ]
    },
    {
     "data": {
      "application/vnd.jupyter.widget-view+json": {
       "model_id": "6cc51b248bb7452fa86cbc92d238c195",
       "version_major": 2,
       "version_minor": 0
      },
      "text/plain": [
       "Downloading (…)lve/main/config.json:   0%|          | 0.00/837 [00:00<?, ?B/s]"
      ]
     },
     "metadata": {},
     "output_type": "display_data"
    },
    {
     "data": {
      "application/vnd.jupyter.widget-view+json": {
       "model_id": "2d726412e7244cd6a4dc936445948521",
       "version_major": 2,
       "version_minor": 0
      },
      "text/plain": [
       "Downloading (…)olve/main/vocab.json:   0%|          | 0.00/848k [00:00<?, ?B/s]"
      ]
     },
     "metadata": {},
     "output_type": "display_data"
    },
    {
     "data": {
      "application/vnd.jupyter.widget-view+json": {
       "model_id": "6414281daf384729ac70b4daa654706e",
       "version_major": 2,
       "version_minor": 0
      },
      "text/plain": [
       "Downloading (…)olve/main/merges.txt:   0%|          | 0.00/506k [00:00<?, ?B/s]"
      ]
     },
     "metadata": {},
     "output_type": "display_data"
    },
    {
     "data": {
      "application/vnd.jupyter.widget-view+json": {
       "model_id": "718709bf01f54296bef8cf22d75ada02",
       "version_major": 2,
       "version_minor": 0
      },
      "text/plain": [
       "Downloading (…)/main/tokenizer.json:   0%|          | 0.00/1.45M [00:00<?, ?B/s]"
      ]
     },
     "metadata": {},
     "output_type": "display_data"
    },
    {
     "data": {
      "application/vnd.jupyter.widget-view+json": {
       "model_id": "3921daffb1684edd977b98cc7126b800",
       "version_major": 2,
       "version_minor": 0
      },
      "text/plain": [
       "Downloading (…)cial_tokens_map.json:   0%|          | 0.00/772 [00:00<?, ?B/s]"
      ]
     },
     "metadata": {},
     "output_type": "display_data"
    },
    {
     "data": {
      "application/vnd.jupyter.widget-view+json": {
       "model_id": "df545b30b00b4268bfbe2cc0f0357293",
       "version_major": 2,
       "version_minor": 0
      },
      "text/plain": [
       "Downloading pytorch_model.bin:   0%|          | 0.00/499M [00:00<?, ?B/s]"
      ]
     },
     "metadata": {},
     "output_type": "display_data"
    }
   ],
   "source": [
    "from transformers import pipeline, AutoTokenizer\n",
    "from scipy.special import logit\n",
    "\n",
    "model = 'projecte-aina/roberta-base-ca-v2-cased-sts'\n",
    "tokenizer = AutoTokenizer.from_pretrained(model)\n",
    "pipe = pipeline('text-classification', model=model, tokenizer=tokenizer)\n",
    "\n",
    "def prepare(sentence_pairs):\n",
    "    sentence_pairs_prep = []\n",
    "    for s1, s2, _ in sentence_pairs:\n",
    "        sentence_pairs_prep.append(f\"{tokenizer.cls_token} {s1}{tokenizer.sep_token}{tokenizer.sep_token} {s2}{tokenizer.sep_token}\")\n",
    "    return sentence_pairs_prep\n"
   ]
  },
  {
   "cell_type": "code",
   "execution_count": 15,
   "metadata": {},
   "outputs": [
    {
     "name": "stdout",
     "output_type": "stream",
     "text": [
      "Correlación de Pearson: 0.7522604358087148\n"
     ]
    }
   ],
   "source": [
    "predictions = pipe(prepare(input_pairs_val), add_special_tokens=False)\n",
    "\n",
    "# convert back to scores to the original 0 and 5 interval\n",
    "valors_pred = []\n",
    "valors_reals = []\n",
    "for prediction, real in zip(predictions, input_pairs_val):\n",
    "    valors_pred.append(logit(prediction['score']))\n",
    "    valors_reals.append(real[2])\n",
    "\n",
    "correlation, _ = pearsonr(valors_pred, valors_reals)\n",
    "# Imprimir el coeficiente de correlación de Pearson\n",
    "print(f\"Correlación de Pearson: {correlation}\")"
   ]
  },
  {
   "cell_type": "markdown",
   "metadata": {
    "collapsed": false,
    "id": "uS_EyEA-8m74"
   },
   "source": [
    "## Train the same model with initiated trainable embeddings"
   ]
  },
  {
   "cell_type": "code",
   "execution_count": 24,
   "metadata": {},
   "outputs": [],
   "source": [
    "# Preprocesamiento de las oraciones y creación del diccionario\n",
    "sentences_1_preproc = [simple_preprocess(sentence_1) for sentence_1, _, _ in input_pairs]\n",
    "sentences_2_preproc = [simple_preprocess(sentence_2) for _, sentence_2, _ in input_pairs]\n",
    "sentence_pairs = list(zip(sentences_1_preproc, sentences_2_preproc))\n",
    "# Versión aplanada para poder entrenar el modelo\n",
    "sentences_pairs_flattened = sentences_1_preproc + sentences_2_preproc\n",
    "diccionario = Dictionary(sentences_pairs_flattened)\n",
    "REMAP_EMBEDDINGS = True\n",
    "wv_model = None\n",
    "\n",
    "def map_word_embeddings(\n",
    "        sentence: str,\n",
    "        sequence_len: int = 32,\n",
    "        fixed_dictionary: Optional[Dictionary] = None\n",
    ") -> np.ndarray:\n",
    "    \"\"\"\n",
    "    Map to word-embedding indices\n",
    "    :param sentence:\n",
    "    :param sequence_len:\n",
    "    :param fixed_dictionary:\n",
    "    :return:\n",
    "    \"\"\"\n",
    "    sentence_preproc = simple_preprocess(sentence)\n",
    "    _vectors = np.zeros(sequence_len, dtype=np.int32)\n",
    "    index = 0\n",
    "    for word in sentence_preproc:\n",
    "        if fixed_dictionary is not None:\n",
    "            if word in fixed_dictionary.token2id:\n",
    "                # Sumo 1 porque el valor 0 está reservado a padding\n",
    "                _vectors[index] = fixed_dictionary.token2id[word] + 1\n",
    "                index += 1\n",
    "        else:\n",
    "            if word in wv_model.key_to_index:\n",
    "                _vectors[index] = wv_model.key_to_index[word] + 1\n",
    "                index += 1\n",
    "    return _vectors\n",
    "\n",
    "\n",
    "def map_pairs(\n",
    "        sentence_pairs: List[Tuple[str, str, float]],\n",
    "        sequence_len: int = 32,\n",
    "        fixed_dictionary: Optional[Dictionary] = None\n",
    ") -> List[Tuple[Tuple[np.ndarray, np.ndarray], float]]:\n",
    "    \"\"\"\n",
    "    Mapea los tripletes de oraciones a listas de (x, y), (pares de vectores, score)\n",
    "    :param sentence_pairs:\n",
    "    :param sequence_len:\n",
    "    :param fixed_dictionary:\n",
    "    :return:\n",
    "    \"\"\"\n",
    "    # Mapeo de los pares de oraciones a pares de vectores\n",
    "    pares_vectores = []\n",
    "    for i, (sentence_1, sentence_2, similitud) in enumerate(sentence_pairs):\n",
    "        vector1 = map_word_embeddings(sentence_1, sequence_len, fixed_dictionary)\n",
    "        vector2 = map_word_embeddings(sentence_2, sequence_len, fixed_dictionary)\n",
    "        # Añadir a la lista\n",
    "        pares_vectores.append(((vector1, vector2), similitud))\n",
    "    return pares_vectores\n",
    "\n",
    "mapped = map_pairs(input_pairs, fixed_dictionary=diccionario if REMAP_EMBEDDINGS else None)\n",
    "mapped_val = map_pairs(input_pairs_val, fixed_dictionary=diccionario if REMAP_EMBEDDINGS else None)\n",
    "\n"
   ]
  },
  {
   "cell_type": "code",
   "execution_count": 25,
   "metadata": {},
   "outputs": [],
   "source": [
    "# Definir el Modelo\n",
    "import tensorflow as tf\n",
    "tf.config.set_visible_devices([], 'GPU')\n",
    "def build_and_compile_model(\n",
    "        input_length: int = 32,\n",
    "        hidden_size: int = 64,\n",
    "        dictionary_size: int = 1000,\n",
    "        embedding_size: int = 16,\n",
    "        pretrained_weights: Optional[np.ndarray] = None,\n",
    "        learning_rate: float = 0.001,\n",
    "        trainable: bool = False,\n",
    ") -> tf.keras.Model:\n",
    "    \"\"\"\n",
    "    Este es un modelo muy básico. Hace lo mismo que el modelo single_vector. La puntuación es mejor por no eliminar stopwords.\n",
    "    :param input_length:\n",
    "    :param hidden_size:\n",
    "    :param dictionary_size:\n",
    "    :param embedding_size:\n",
    "    :param pretrained_weights:\n",
    "    :param learning_rate:\n",
    "    :param trainable:\n",
    "    :return:\n",
    "    \"\"\"\n",
    "    input_1, input_2 = tf.keras.Input((input_length, ), dtype=tf.int32, ), tf.keras.Input((input_length, ), dtype=tf.int32, )\n",
    "    # Define Layers\n",
    "    if pretrained_weights is None:\n",
    "        embedding = tf.keras.layers.Embedding(\n",
    "            dictionary_size, embedding_size, input_length=input_length, mask_zero=True, )\n",
    "    else:\n",
    "        dictionary_size = pretrained_weights.shape[0]\n",
    "        embedding_size = pretrained_weights.shape[1]\n",
    "        initializer = tf.keras.initializers.Constant(pretrained_weights)\n",
    "        embedding = tf.keras.layers.Embedding(\n",
    "            dictionary_size, embedding_size, input_length=input_length, mask_zero=True,\n",
    "            embeddings_initializer=initializer, trainable=trainable, )\n",
    "    pooling = tf.keras.layers.GlobalAveragePooling1D()\n",
    "    # Pass through the layers\n",
    "    _input_mask_1, _input_mask_2 = tf.not_equal(input_1, 0), tf.not_equal(input_2, 0)\n",
    "    _embedded_1, _embedded_2 = embedding(input_1, ), embedding(input_2, )\n",
    "    _pooled_1, _pooled_2 = pooling(_embedded_1, mask=_input_mask_1), pooling(_embedded_2, mask=_input_mask_2)\n",
    "\n",
    "    # Compute the cosine distance\n",
    "    projected_1 = tf.linalg.l2_normalize(_pooled_1, axis=1, )\n",
    "    projected_2 = tf.linalg.l2_normalize(_pooled_2, axis=1, )\n",
    "    output = 2.5 * (1.0 + tf.reduce_sum(projected_1 * projected_2, axis=1, ))\n",
    "\n",
    "    # Define the model\n",
    "    model = tf.keras.Model(inputs=(input_1, input_2, ), outputs=output,)\n",
    "    model.compile(loss='mean_squared_error',\n",
    "                optimizer=tf.keras.optimizers.Adam(learning_rate=learning_rate))\n",
    "    return model\n",
    "\n",
    "def create_and_train_and_evaluate_model(mapped, mapped_val,embedding_size:int=300):\n",
    "    # Obtener las listas de train y test\n",
    "    x_train, y_train = pair_list_to_x_y(mapped)\n",
    "    x_val, y_val = pair_list_to_x_y(mapped_val)\n",
    "\n",
    "    # Preparar los conjuntos de datos de entrenamiento y validación\n",
    "    train_dataset = tf.data.Dataset.from_tensor_slices((x_train, y_train))\n",
    "    train_dataset = train_dataset.shuffle(buffer_size=len(x_train)).batch(batch_size)\n",
    "\n",
    "    val_dataset = tf.data.Dataset.from_tensor_slices((x_val, y_val))\n",
    "    val_dataset = val_dataset.batch(batch_size)\n",
    "\n",
    "    # Construir y compilar el modelo\n",
    "    model = build_and_compile_model(pretrained_weights=None, dictionary_size=len(diccionario.token2id)+1)\n",
    "    # tf.keras.utils.plot_model(model, show_shapes=True, show_layer_activations=True, )\n",
    "    print(model.summary())\n",
    "    # Entrenar el modelo\n",
    "    history = model.fit(train_dataset, epochs=num_epochs, validation_data=val_dataset)\n",
    "\n",
    "    plot_training_curve(history)\n",
    "\n",
    "    y_pred: tf.RaggedTensor = model.predict(x_val)\n",
    "    # Calcular la correlación de Pearson entre las predicciones y los datos de prueba\n",
    "    correlation, _ = pearsonr(y_pred.flatten(), y_val.flatten())\n",
    "    # Imprimir el coeficiente de correlación de Pearson\n",
    "    print(f\"Correlación de Pearson: {correlation}\")\n",
    "\n",
    "    return model"
   ]
  },
  {
   "cell_type": "markdown",
   "metadata": {
    "collapsed": false,
    "id": "841agYHG8m74"
   },
   "source": [
    "#### Random Embeddings (uniforme)"
   ]
  },
  {
   "cell_type": "code",
   "execution_count": 26,
   "metadata": {
    "id": "u8E5snLP8m74"
   },
   "outputs": [
    {
     "name": "stdout",
     "output_type": "stream",
     "text": [
      "Model: \"model_5\"\n",
      "__________________________________________________________________________________________________\n",
      " Layer (type)                   Output Shape         Param #     Connected to                     \n",
      "==================================================================================================\n",
      " input_11 (InputLayer)          [(None, 32)]         0           []                               \n",
      "                                                                                                  \n",
      " input_12 (InputLayer)          [(None, 32)]         0           []                               \n",
      "                                                                                                  \n",
      " embedding_5 (Embedding)        (None, 32, 16)       162880      ['input_11[0][0]',               \n",
      "                                                                  'input_12[0][0]']               \n",
      "                                                                                                  \n",
      " tf.math.not_equal_10 (TFOpLamb  (None, 32)          0           ['input_11[0][0]']               \n",
      " da)                                                                                              \n",
      "                                                                                                  \n",
      " tf.math.not_equal_11 (TFOpLamb  (None, 32)          0           ['input_12[0][0]']               \n",
      " da)                                                                                              \n",
      "                                                                                                  \n",
      " global_average_pooling1d_5 (Gl  (None, 16)          0           ['embedding_5[0][0]',            \n",
      " obalAveragePooling1D)                                            'tf.math.not_equal_10[0][0]',   \n",
      "                                                                  'embedding_5[1][0]',            \n",
      "                                                                  'tf.math.not_equal_11[0][0]']   \n",
      "                                                                                                  \n",
      " tf.math.l2_normalize_10 (TFOpL  (None, 16)          0           ['global_average_pooling1d_5[0][0\n",
      " ambda)                                                          ]']                              \n",
      "                                                                                                  \n",
      " tf.math.l2_normalize_11 (TFOpL  (None, 16)          0           ['global_average_pooling1d_5[1][0\n",
      " ambda)                                                          ]']                              \n",
      "                                                                                                  \n",
      " tf.math.multiply_10 (TFOpLambd  (None, 16)          0           ['tf.math.l2_normalize_10[0][0]',\n",
      " a)                                                               'tf.math.l2_normalize_11[0][0]']\n",
      "                                                                                                  \n",
      " tf.math.reduce_sum_5 (TFOpLamb  (None,)             0           ['tf.math.multiply_10[0][0]']    \n",
      " da)                                                                                              \n",
      "                                                                                                  \n",
      " tf.__operators__.add_5 (TFOpLa  (None,)             0           ['tf.math.reduce_sum_5[0][0]']   \n",
      " mbda)                                                                                            \n",
      "                                                                                                  \n",
      " tf.math.multiply_11 (TFOpLambd  (None,)             0           ['tf.__operators__.add_5[0][0]'] \n",
      " a)                                                                                               \n",
      "                                                                                                  \n",
      "==================================================================================================\n",
      "Total params: 162,880\n",
      "Trainable params: 162,880\n",
      "Non-trainable params: 0\n",
      "__________________________________________________________________________________________________\n",
      "None\n",
      "Epoch 1/64\n",
      "33/33 [==============================] - 1s 8ms/step - loss: 2.4397 - val_loss: 2.4210\n",
      "Epoch 2/64\n",
      "33/33 [==============================] - 0s 5ms/step - loss: 0.9252 - val_loss: 2.2934\n",
      "Epoch 3/64\n",
      "33/33 [==============================] - 0s 5ms/step - loss: 0.3666 - val_loss: 2.2912\n",
      "Epoch 4/64\n",
      "33/33 [==============================] - 0s 6ms/step - loss: 0.2385 - val_loss: 2.2893\n",
      "Epoch 5/64\n",
      "33/33 [==============================] - 0s 7ms/step - loss: 0.2166 - val_loss: 2.2972\n",
      "Epoch 6/64\n",
      "33/33 [==============================] - 0s 6ms/step - loss: 0.2146 - val_loss: 2.2991\n",
      "Epoch 7/64\n",
      "33/33 [==============================] - 0s 4ms/step - loss: 0.2031 - val_loss: 2.3219\n",
      "Epoch 8/64\n",
      "33/33 [==============================] - 0s 6ms/step - loss: 0.1929 - val_loss: 2.3232\n",
      "Epoch 9/64\n",
      "33/33 [==============================] - 0s 8ms/step - loss: 0.1813 - val_loss: 2.3092\n",
      "Epoch 10/64\n",
      "33/33 [==============================] - 0s 4ms/step - loss: 0.1710 - val_loss: 2.3385\n",
      "Epoch 11/64\n",
      "33/33 [==============================] - 0s 4ms/step - loss: 0.1671 - val_loss: 2.3279\n",
      "Epoch 12/64\n",
      "33/33 [==============================] - 0s 4ms/step - loss: 0.1717 - val_loss: 2.3384\n",
      "Epoch 13/64\n",
      "33/33 [==============================] - 0s 5ms/step - loss: 0.1766 - val_loss: 2.3427\n",
      "Epoch 14/64\n",
      "33/33 [==============================] - 0s 4ms/step - loss: 0.1704 - val_loss: 2.3048\n",
      "Epoch 15/64\n",
      "33/33 [==============================] - 0s 4ms/step - loss: 0.1606 - val_loss: 2.3529\n",
      "Epoch 16/64\n",
      "33/33 [==============================] - 0s 4ms/step - loss: 0.1560 - val_loss: 2.3435\n",
      "Epoch 17/64\n",
      "33/33 [==============================] - 0s 5ms/step - loss: 0.1505 - val_loss: 2.3331\n",
      "Epoch 18/64\n",
      "33/33 [==============================] - 0s 4ms/step - loss: 0.1458 - val_loss: 2.3547\n",
      "Epoch 19/64\n",
      "33/33 [==============================] - 0s 7ms/step - loss: 0.1398 - val_loss: 2.3462\n",
      "Epoch 20/64\n",
      "33/33 [==============================] - 0s 5ms/step - loss: 0.1330 - val_loss: 2.3609\n",
      "Epoch 21/64\n",
      "33/33 [==============================] - 0s 4ms/step - loss: 0.1340 - val_loss: 2.3449\n",
      "Epoch 22/64\n",
      "33/33 [==============================] - 0s 5ms/step - loss: 0.1337 - val_loss: 2.3941\n",
      "Epoch 23/64\n",
      "33/33 [==============================] - 0s 5ms/step - loss: 0.1334 - val_loss: 2.3437\n",
      "Epoch 24/64\n",
      "33/33 [==============================] - 0s 5ms/step - loss: 0.1317 - val_loss: 2.3728\n",
      "Epoch 25/64\n",
      "33/33 [==============================] - 0s 5ms/step - loss: 0.1331 - val_loss: 2.3665\n",
      "Epoch 26/64\n",
      "33/33 [==============================] - 0s 5ms/step - loss: 0.1323 - val_loss: 2.3648\n",
      "Epoch 27/64\n",
      "33/33 [==============================] - 0s 5ms/step - loss: 0.1389 - val_loss: 2.3775\n",
      "Epoch 28/64\n",
      "33/33 [==============================] - 0s 4ms/step - loss: 0.1398 - val_loss: 2.3661\n",
      "Epoch 29/64\n",
      "33/33 [==============================] - 0s 5ms/step - loss: 0.1242 - val_loss: 2.3769\n",
      "Epoch 30/64\n",
      "33/33 [==============================] - 0s 4ms/step - loss: 0.1199 - val_loss: 2.3633\n",
      "Epoch 31/64\n",
      "33/33 [==============================] - 0s 4ms/step - loss: 0.1219 - val_loss: 2.3844\n",
      "Epoch 32/64\n",
      "33/33 [==============================] - 0s 4ms/step - loss: 0.1164 - val_loss: 2.3506\n",
      "Epoch 33/64\n",
      "33/33 [==============================] - 0s 4ms/step - loss: 0.1089 - val_loss: 2.3585\n",
      "Epoch 34/64\n",
      "33/33 [==============================] - 0s 5ms/step - loss: 0.0983 - val_loss: 2.3754\n",
      "Epoch 35/64\n",
      "33/33 [==============================] - 0s 4ms/step - loss: 0.0965 - val_loss: 2.3791\n",
      "Epoch 36/64\n",
      "33/33 [==============================] - 0s 5ms/step - loss: 0.1023 - val_loss: 2.3618\n",
      "Epoch 37/64\n",
      "33/33 [==============================] - 0s 4ms/step - loss: 0.0968 - val_loss: 2.4059\n",
      "Epoch 38/64\n",
      "33/33 [==============================] - 0s 8ms/step - loss: 0.0960 - val_loss: 2.3608\n",
      "Epoch 39/64\n",
      "33/33 [==============================] - 0s 10ms/step - loss: 0.1014 - val_loss: 2.3796\n",
      "Epoch 40/64\n",
      "33/33 [==============================] - 0s 10ms/step - loss: 0.0998 - val_loss: 2.3985\n",
      "Epoch 41/64\n",
      "33/33 [==============================] - 0s 10ms/step - loss: 0.1029 - val_loss: 2.3746\n",
      "Epoch 42/64\n",
      "33/33 [==============================] - 0s 10ms/step - loss: 0.1037 - val_loss: 2.3785\n",
      "Epoch 43/64\n",
      "33/33 [==============================] - 0s 13ms/step - loss: 0.0947 - val_loss: 2.3849\n",
      "Epoch 44/64\n",
      "33/33 [==============================] - 0s 10ms/step - loss: 0.0905 - val_loss: 2.3762\n",
      "Epoch 45/64\n",
      "33/33 [==============================] - 0s 10ms/step - loss: 0.0912 - val_loss: 2.3929\n",
      "Epoch 46/64\n",
      "33/33 [==============================] - 0s 10ms/step - loss: 0.0932 - val_loss: 2.4045\n",
      "Epoch 47/64\n",
      "33/33 [==============================] - 0s 10ms/step - loss: 0.0924 - val_loss: 2.3586\n",
      "Epoch 48/64\n",
      "33/33 [==============================] - 0s 10ms/step - loss: 0.0955 - val_loss: 2.4106\n",
      "Epoch 49/64\n",
      "33/33 [==============================] - 0s 10ms/step - loss: 0.0968 - val_loss: 2.3862\n",
      "Epoch 50/64\n",
      "33/33 [==============================] - 0s 11ms/step - loss: 0.0976 - val_loss: 2.3778\n",
      "Epoch 51/64\n",
      "33/33 [==============================] - 0s 12ms/step - loss: 0.0974 - val_loss: 2.4180\n",
      "Epoch 52/64\n",
      "33/33 [==============================] - 0s 9ms/step - loss: 0.0998 - val_loss: 2.3735\n",
      "Epoch 53/64\n",
      "33/33 [==============================] - 0s 9ms/step - loss: 0.0971 - val_loss: 2.3853\n",
      "Epoch 54/64\n",
      "33/33 [==============================] - 0s 9ms/step - loss: 0.0905 - val_loss: 2.3927\n",
      "Epoch 55/64\n",
      "33/33 [==============================] - 0s 8ms/step - loss: 0.0869 - val_loss: 2.3782\n",
      "Epoch 56/64\n",
      "33/33 [==============================] - 0s 8ms/step - loss: 0.0861 - val_loss: 2.3853\n",
      "Epoch 57/64\n",
      "33/33 [==============================] - 0s 9ms/step - loss: 0.0865 - val_loss: 2.3892\n",
      "Epoch 58/64\n",
      "33/33 [==============================] - 0s 9ms/step - loss: 0.0842 - val_loss: 2.3897\n",
      "Epoch 59/64\n",
      "33/33 [==============================] - 0s 10ms/step - loss: 0.0819 - val_loss: 2.3893\n",
      "Epoch 60/64\n",
      "33/33 [==============================] - 0s 8ms/step - loss: 0.0845 - val_loss: 2.3936\n",
      "Epoch 61/64\n",
      "33/33 [==============================] - 0s 9ms/step - loss: 0.0856 - val_loss: 2.3918\n",
      "Epoch 62/64\n",
      "33/33 [==============================] - 0s 9ms/step - loss: 0.0815 - val_loss: 2.3976\n",
      "Epoch 63/64\n",
      "33/33 [==============================] - 0s 10ms/step - loss: 0.0812 - val_loss: 2.3833\n",
      "Epoch 64/64\n",
      "33/33 [==============================] - 0s 9ms/step - loss: 0.0821 - val_loss: 2.4067\n"
     ]
    },
    {
     "data": {
      "image/png": "[encoded data removed]",
      "text/plain": [
       "<Figure size 576x576 with 1 Axes>"
      ]
     },
     "metadata": {
      "needs_background": "light"
     },
     "output_type": "display_data"
    },
    {
     "name": "stdout",
     "output_type": "stream",
     "text": [
      "16/16 [==============================] - 0s 4ms/step\n",
      "Correlación de Pearson: 0.3110238613906671\n"
     ]
    },
    {
     "data": {
      "text/plain": [
       "<keras.engine.functional.Functional at 0x1b5542d2ac8>"
      ]
     },
     "execution_count": 26,
     "metadata": {},
     "output_type": "execute_result"
    }
   ],
   "source": [
    "create_and_train_and_evaluate_model(mapped, mapped_val)"
   ]
  },
  {
   "cell_type": "markdown",
   "metadata": {
    "collapsed": false,
    "id": "kXfQwzz08m74"
   },
   "source": [
    "#### Word2Vec"
   ]
  },
  {
   "cell_type": "code",
   "execution_count": null,
   "metadata": {
    "id": "YiTeFTQe8m75"
   },
   "outputs": [],
   "source": []
  },
  {
   "cell_type": "markdown",
   "metadata": {
    "collapsed": false,
    "id": "9QkOR4Q28m75"
   },
   "source": [
    "## Analyze results"
   ]
  }
 ],
 "metadata": {
  "colab": {
   "provenance": []
  },
  "kernelspec": {
   "display_name": "Python 3",
   "language": "python",
   "name": "python3"
  },
  "language_info": {
   "codemirror_mode": {
    "name": "ipython",
    "version": 3
   },
   "file_extension": ".py",
   "mimetype": "text/x-python",
   "name": "python",
   "nbconvert_exporter": "python",
   "pygments_lexer": "ipython3",
   "version": "3.7.9"
  },
  "orig_nbformat": 4
 },
 "nbformat": 4,
 "nbformat_minor": 0
}
